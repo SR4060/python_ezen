{
 "cells": [
  {
   "cell_type": "code",
   "execution_count": 32,
   "metadata": {},
   "outputs": [],
   "source": [
    "import pandas as pd"
   ]
  },
  {
   "cell_type": "markdown",
   "metadata": {},
   "source": [
    "#### Sales Records 샘플\n",
    "- csv 폴더 안에 있는 \"Sales Records.csv\" 파일을 로드\n",
    "- 데이터프레임의 정보 확인\n",
    "- 특정 컬럼 제거: Order ID, Total Revenue, Total Cost, Total Profit, Order Priority\n",
    "- 컬럼의 이름 변경: 대륙, 국가, 상품종류, 채널, 주문일자, 방송일자, 판매개수, 단가, 원가\n",
    "- 대륙, 국가를 기준으로 데이터를 오름차순으로 정렬\n",
    "- 기존의 인덱스는 제거하고, 인덱스를 재지정 (초기화)\n",
    "- 새로운 파생변수 생성\n",
    "    - 총단가: 판매개수 * 단가\n",
    "    - 총원가: 판매개수 * 원가\n",
    "    - 총이윤: 총단가 - 총원가"
   ]
  },
  {
   "cell_type": "code",
   "execution_count": 33,
   "metadata": {},
   "outputs": [],
   "source": [
    "sales=pd.read_csv(\"csv/Sales Records.csv\")"
   ]
  },
  {
   "cell_type": "code",
   "execution_count": 34,
   "metadata": {},
   "outputs": [
    {
     "name": "stdout",
     "output_type": "stream",
     "text": [
      "<class 'pandas.core.frame.DataFrame'>\n",
      "RangeIndex: 10000 entries, 0 to 9999\n",
      "Data columns (total 14 columns):\n",
      " #   Column          Non-Null Count  Dtype  \n",
      "---  ------          --------------  -----  \n",
      " 0   Region          10000 non-null  object \n",
      " 1   Country         10000 non-null  object \n",
      " 2   Item Type       10000 non-null  object \n",
      " 3   Sales Channel   10000 non-null  object \n",
      " 4   Order Priority  10000 non-null  object \n",
      " 5   Order Date      10000 non-null  object \n",
      " 6   Order ID        10000 non-null  int64  \n",
      " 7   Ship Date       10000 non-null  object \n",
      " 8   Units Sold      10000 non-null  int64  \n",
      " 9   Unit Price      10000 non-null  float64\n",
      " 10  Unit Cost       10000 non-null  float64\n",
      " 11  Total Revenue   10000 non-null  float64\n",
      " 12  Total Cost      10000 non-null  float64\n",
      " 13  Total Profit    10000 non-null  float64\n",
      "dtypes: float64(5), int64(2), object(7)\n",
      "memory usage: 1.1+ MB\n"
     ]
    }
   ],
   "source": [
    "sales.info()"
   ]
  },
  {
   "cell_type": "code",
   "execution_count": 35,
   "metadata": {},
   "outputs": [],
   "source": [
    "sales.drop([\"Order ID\", \"Total Revenue\", \"Total Cost\", \"Total Profit\", \"Order Priority\"], axis=1, inplace=True)"
   ]
  },
  {
   "cell_type": "code",
   "execution_count": 36,
   "metadata": {},
   "outputs": [],
   "source": [
    "sales.columns=[\"대륙\", \"국가\", \"상품종류\", \"채널\", \"주문일자\", \"방송일자\", \"판매개수\", \"단가\", \"원가\"]\n",
    "# 컬럼의 이름 변경\n",
    "# case1 변수에 데이터를 대입: 컬럼 전체를 변경할 때 사용\n",
    "# case2 rename(): 특정한 값만 변경할 때 사용\n",
    "# sales.rename([\"Region\":\"대륙\"], axis=1, inplace=True)"
   ]
  },
  {
   "cell_type": "code",
   "execution_count": 37,
   "metadata": {},
   "outputs": [
    {
     "data": {
      "text/html": [
       "<div>\n",
       "<style scoped>\n",
       "    .dataframe tbody tr th:only-of-type {\n",
       "        vertical-align: middle;\n",
       "    }\n",
       "\n",
       "    .dataframe tbody tr th {\n",
       "        vertical-align: top;\n",
       "    }\n",
       "\n",
       "    .dataframe thead th {\n",
       "        text-align: right;\n",
       "    }\n",
       "</style>\n",
       "<table border=\"1\" class=\"dataframe\">\n",
       "  <thead>\n",
       "    <tr style=\"text-align: right;\">\n",
       "      <th></th>\n",
       "      <th>대륙</th>\n",
       "      <th>국가</th>\n",
       "      <th>상품종류</th>\n",
       "      <th>채널</th>\n",
       "      <th>주문일자</th>\n",
       "      <th>방송일자</th>\n",
       "      <th>판매개수</th>\n",
       "      <th>단가</th>\n",
       "      <th>원가</th>\n",
       "    </tr>\n",
       "  </thead>\n",
       "  <tbody>\n",
       "    <tr>\n",
       "      <th>0</th>\n",
       "      <td>Sub-Saharan Africa</td>\n",
       "      <td>Chad</td>\n",
       "      <td>Office Supplies</td>\n",
       "      <td>Online</td>\n",
       "      <td>1/27/2011</td>\n",
       "      <td>2/12/2011</td>\n",
       "      <td>4484</td>\n",
       "      <td>651.21</td>\n",
       "      <td>524.96</td>\n",
       "    </tr>\n",
       "  </tbody>\n",
       "</table>\n",
       "</div>"
      ],
      "text/plain": [
       "                   대륙    국가             상품종류      채널       주문일자       방송일자  \\\n",
       "0  Sub-Saharan Africa  Chad  Office Supplies  Online  1/27/2011  2/12/2011   \n",
       "\n",
       "   판매개수      단가      원가  \n",
       "0  4484  651.21  524.96  "
      ]
     },
     "execution_count": 37,
     "metadata": {},
     "output_type": "execute_result"
    }
   ],
   "source": [
    "sales.head(1)"
   ]
  },
  {
   "cell_type": "code",
   "execution_count": 38,
   "metadata": {},
   "outputs": [],
   "source": [
    "sales.sort_values([\"대륙\",\"국가\"], inplace=True)"
   ]
  },
  {
   "cell_type": "code",
   "execution_count": 39,
   "metadata": {},
   "outputs": [],
   "source": [
    "sales.reset_index(drop=True, inplace=True)"
   ]
  },
  {
   "cell_type": "code",
   "execution_count": 40,
   "metadata": {},
   "outputs": [],
   "source": [
    "sales[\"총단가\"]=sales[\"판매개수\"]*sales[\"단가\"]\n",
    "sales[\"총원가\"]=sales[\"판매개수\"]*sales[\"원가\"]\n",
    "sales[\"총이윤\"]=sales[\"총단가\"]-sales[\"총원가\"]"
   ]
  },
  {
   "cell_type": "code",
   "execution_count": 41,
   "metadata": {},
   "outputs": [
    {
     "data": {
      "text/html": [
       "<div>\n",
       "<style scoped>\n",
       "    .dataframe tbody tr th:only-of-type {\n",
       "        vertical-align: middle;\n",
       "    }\n",
       "\n",
       "    .dataframe tbody tr th {\n",
       "        vertical-align: top;\n",
       "    }\n",
       "\n",
       "    .dataframe thead th {\n",
       "        text-align: right;\n",
       "    }\n",
       "</style>\n",
       "<table border=\"1\" class=\"dataframe\">\n",
       "  <thead>\n",
       "    <tr style=\"text-align: right;\">\n",
       "      <th></th>\n",
       "      <th>대륙</th>\n",
       "      <th>국가</th>\n",
       "      <th>상품종류</th>\n",
       "      <th>채널</th>\n",
       "      <th>주문일자</th>\n",
       "      <th>방송일자</th>\n",
       "      <th>판매개수</th>\n",
       "      <th>단가</th>\n",
       "      <th>원가</th>\n",
       "      <th>총단가</th>\n",
       "      <th>총원가</th>\n",
       "      <th>총이윤</th>\n",
       "    </tr>\n",
       "  </thead>\n",
       "  <tbody>\n",
       "    <tr>\n",
       "      <th>0</th>\n",
       "      <td>Asia</td>\n",
       "      <td>Bangladesh</td>\n",
       "      <td>Personal Care</td>\n",
       "      <td>Online</td>\n",
       "      <td>12/11/2016</td>\n",
       "      <td>1/13/2017</td>\n",
       "      <td>9420</td>\n",
       "      <td>81.73</td>\n",
       "      <td>56.67</td>\n",
       "      <td>769896.60</td>\n",
       "      <td>533831.40</td>\n",
       "      <td>236065.20</td>\n",
       "    </tr>\n",
       "    <tr>\n",
       "      <th>1</th>\n",
       "      <td>Asia</td>\n",
       "      <td>Bangladesh</td>\n",
       "      <td>Cosmetics</td>\n",
       "      <td>Offline</td>\n",
       "      <td>7/29/2010</td>\n",
       "      <td>9/11/2010</td>\n",
       "      <td>577</td>\n",
       "      <td>437.20</td>\n",
       "      <td>263.33</td>\n",
       "      <td>252264.40</td>\n",
       "      <td>151941.41</td>\n",
       "      <td>100322.99</td>\n",
       "    </tr>\n",
       "    <tr>\n",
       "      <th>2</th>\n",
       "      <td>Asia</td>\n",
       "      <td>Bangladesh</td>\n",
       "      <td>Vegetables</td>\n",
       "      <td>Offline</td>\n",
       "      <td>4/28/2014</td>\n",
       "      <td>5/5/2014</td>\n",
       "      <td>34</td>\n",
       "      <td>154.06</td>\n",
       "      <td>90.93</td>\n",
       "      <td>5238.04</td>\n",
       "      <td>3091.62</td>\n",
       "      <td>2146.42</td>\n",
       "    </tr>\n",
       "    <tr>\n",
       "      <th>3</th>\n",
       "      <td>Asia</td>\n",
       "      <td>Bangladesh</td>\n",
       "      <td>Cereal</td>\n",
       "      <td>Offline</td>\n",
       "      <td>6/22/2010</td>\n",
       "      <td>6/28/2010</td>\n",
       "      <td>9768</td>\n",
       "      <td>205.70</td>\n",
       "      <td>117.11</td>\n",
       "      <td>2009277.60</td>\n",
       "      <td>1143930.48</td>\n",
       "      <td>865347.12</td>\n",
       "    </tr>\n",
       "    <tr>\n",
       "      <th>4</th>\n",
       "      <td>Asia</td>\n",
       "      <td>Bangladesh</td>\n",
       "      <td>Office Supplies</td>\n",
       "      <td>Online</td>\n",
       "      <td>3/20/2013</td>\n",
       "      <td>4/11/2013</td>\n",
       "      <td>7731</td>\n",
       "      <td>651.21</td>\n",
       "      <td>524.96</td>\n",
       "      <td>5034504.51</td>\n",
       "      <td>4058465.76</td>\n",
       "      <td>976038.75</td>\n",
       "    </tr>\n",
       "  </tbody>\n",
       "</table>\n",
       "</div>"
      ],
      "text/plain": [
       "     대륙          국가             상품종류       채널        주문일자       방송일자  판매개수  \\\n",
       "0  Asia  Bangladesh    Personal Care   Online  12/11/2016  1/13/2017  9420   \n",
       "1  Asia  Bangladesh        Cosmetics  Offline   7/29/2010  9/11/2010   577   \n",
       "2  Asia  Bangladesh       Vegetables  Offline   4/28/2014   5/5/2014    34   \n",
       "3  Asia  Bangladesh           Cereal  Offline   6/22/2010  6/28/2010  9768   \n",
       "4  Asia  Bangladesh  Office Supplies   Online   3/20/2013  4/11/2013  7731   \n",
       "\n",
       "       단가      원가         총단가         총원가        총이윤  \n",
       "0   81.73   56.67   769896.60   533831.40  236065.20  \n",
       "1  437.20  263.33   252264.40   151941.41  100322.99  \n",
       "2  154.06   90.93     5238.04     3091.62    2146.42  \n",
       "3  205.70  117.11  2009277.60  1143930.48  865347.12  \n",
       "4  651.21  524.96  5034504.51  4058465.76  976038.75  "
      ]
     },
     "execution_count": 41,
     "metadata": {},
     "output_type": "execute_result"
    }
   ],
   "source": [
    "sales.head()"
   ]
  },
  {
   "cell_type": "code",
   "execution_count": 42,
   "metadata": {},
   "outputs": [
    {
     "name": "stdout",
     "output_type": "stream",
     "text": [
      "[np.float64(533831.4), np.float64(151941.41), np.float64(3091.6200000000003), np.float64(1143930.48), np.float64(4058465.7600000002), np.float64(1859900.54), np.float64(315143.01), np.float64(566109.74), np.float64(209984.0), np.float64(561856.4700000001), np.float64(67140.48), np.float64(2763914.4000000004), np.float64(28370.160000000003), np.float64(1039626.84), np.float64(4933.96), np.float64(5192904.32), np.float64(3610066.31), np.float64(7874.96), np.float64(358551.09), np.float64(532509.6), np.float64(2927731.32), np.float64(3226777.12), np.float64(843709.32), np.float64(1164658.95), np.float64(568312.5), np.float64(187192.32), np.float64(1156344.14), np.float64(175506.99000000002), np.float64(1121913.8), np.float64(1582086.64), np.float64(4627388.32), np.float64(46564.68), np.float64(225505.28000000003), np.float64(4698749.0), np.float64(153323.52000000002), np.float64(682611.51), np.float64(138462.24), np.float64(499708.37), np.float64(1545.8100000000002), np.float64(585589.2000000001), np.float64(543520.32), np.float64(452137.61), np.float64(344079.12000000005), np.float64(154822.44), np.float64(183950.82), np.float64(40108.32), np.float64(1009606.8599999999), np.float64(896545.44), np.float64(250141.38), np.float64(2732941.7600000002), np.float64(901278.5599999999), np.float64(4529393.0200000005), np.float64(58716.13), np.float64(1037845.92), np.float64(1676844.6199999999), np.float64(2566150.8499999996), np.float64(28647.36), np.float64(217510.58), np.float64(63719.36), np.float64(840907.2), np.float64(2051018.7200000002), np.float64(15782.579999999998), np.float64(1074132.92), np.float64(167372.80000000002), np.float64(4002228.56), np.float64(77880.32), np.float64(294067.2), np.float64(462710.55), np.float64(107933.91), np.float64(575112.72), np.float64(1526605.92), np.float64(12421.4), np.float64(294533.12000000005), np.float64(249016.32000000004), np.float64(1246983.24), np.float64(44855.44), np.float64(711800.04), np.float64(1319813.11), np.float64(279463.25999999995), np.float64(272454.24), np.float64(186224.64), np.float64(21617.2), np.float64(4512031.2), np.float64(2454498.9299999997), np.float64(104738.93999999999), np.float64(90550.56), np.float64(992155.92), np.float64(47678.8), np.float64(245874.72000000003), np.float64(207.6), np.float64(349547.52), np.float64(41710.82), np.float64(1389855.74), np.float64(579378.24), np.float64(685430.3400000001), np.float64(1898082.64), np.float64(462547.68), np.float64(852502.5599999999), np.float64(53429.32), np.float64(17812.480000000003), np.float64(815369.31), np.float64(580045.83), np.float64(193607.68000000002), np.float64(31624.4), np.float64(33474.560000000005), np.float64(3130134.27), np.float64(1060548.16), np.float64(2556923.52), np.float64(322792.32), np.float64(4385164.04), np.float64(1082302.38), np.float64(3592658.46), np.float64(1207488.59), np.float64(109025.07), np.float64(590987.04), np.float64(275894.46), np.float64(197988.12), np.float64(258301.86000000002), np.float64(1061953.48), np.float64(61990.5), np.float64(346897.95), np.float64(16275.84), np.float64(637842.8099999999), np.float64(336896.00000000006), np.float64(1383995.1600000001), np.float64(44939.310000000005), np.float64(8314.880000000001), np.float64(10518.4), np.float64(502970.1), np.float64(1517570.7899999998), np.float64(658245.1799999999), np.float64(4494707.5200000005), np.float64(99894.83), np.float64(2900744.26), np.float64(926362.08), np.float64(2549887.96), np.float64(114544.64000000001), np.float64(860290.0599999999), np.float64(648672.29), np.float64(744650.82), np.float64(3942974.56), np.float64(2182258.72), np.float64(405456.87000000005), np.float64(1072493.38), np.float64(1830010.56), np.float64(1325076.5599999998), np.float64(710045.28), np.float64(651741.75), np.float64(75049.04999999999), np.float64(820916.04), np.float64(5023389.84), np.float64(71898.42), np.float64(1107969.0), np.float64(4919364.0600000005), np.float64(150138.56), np.float64(1831108.49), np.float64(222260.63999999998), np.float64(57649.62), np.float64(3023644.79), np.float64(333276.16000000003), np.float64(912360.6599999999), np.float64(239728.38999999998), np.float64(585198.67), np.float64(114571.8), np.float64(226758.07), np.float64(3598600.8000000003), np.float64(472627.8), np.float64(433189.89), np.float64(88718.24), np.float64(2350770.8800000004), np.float64(99348.48000000001), np.float64(299670.96), np.float64(1867282.7200000002), np.float64(14649.64), np.float64(232829.96), np.float64(3450696.78), np.float64(385764.95999999996), np.float64(210237.44000000003), np.float64(3443767.67), np.float64(1148118.8), np.float64(486111.78), np.float64(27668.480000000003), np.float64(269862.54), np.float64(2983579.98), np.float64(1609736.2899999998), np.float64(404680.47000000003), np.float64(164131.77), np.float64(162211.84000000003), np.float64(384693.12), np.float64(506025.45), np.float64(2998656.18), np.float64(404057.10000000003), np.float64(4089438.4000000004), np.float64(745756.48), np.float64(967.6800000000001), np.float64(1878882.88), np.float64(3553979.2), np.float64(21504.000000000004), np.float64(147036.96), np.float64(561765.54), np.float64(239662.08000000002), np.float64(231203.84000000003), np.float64(2058977.2699999998), np.float64(571426.1), np.float64(241131.52000000002), np.float64(22822.16), np.float64(14280.84), np.float64(952056.2399999999), np.float64(505095.65), np.float64(3194319.71), np.float64(855822.5), np.float64(913228.44), np.float64(1586036.81), np.float64(947701.44), np.float64(784505.82), np.float64(215685.96000000002), np.float64(273711.89999999997), np.float64(11953.039999999999), np.float64(18433.1), np.float64(123504.64000000001), np.float64(195624.84), np.float64(115266.78), np.float64(834760.08), np.float64(3714616.9600000004), np.float64(2111170.54), np.float64(104455.68), np.float64(212614.27), np.float64(210302.37), np.float64(944140.82), np.float64(99216.59), np.float64(777013.08), np.float64(12324.52), np.float64(530868.6), np.float64(27984.48), np.float64(2649473.12), np.float64(148475.4), np.float64(226645.44), np.float64(944828.0399999999), np.float64(34142.46), np.float64(88008.51000000001), np.float64(2151142.77), np.float64(184719.36000000002), np.float64(1999606.6600000001), np.float64(477728.10000000003), np.float64(1061418.3599999999), np.float64(1461562.5599999998), np.float64(726636.36), np.float64(66459.68), np.float64(532834.4), np.float64(698742.24), np.float64(86691.33), np.float64(1994198.0899999999), np.float64(451943.25), np.float64(220304.69999999998), np.float64(266273.04), np.float64(798183.54), np.float64(260569.75), np.float64(378912.91), np.float64(668129.22), np.float64(367941.36), np.float64(4612814.66), np.float64(1621322.8099999998), np.float64(164539.55), np.float64(537917.75), np.float64(2440542.44), np.float64(1122030.91), np.float64(5240675.680000001), np.float64(37416.96), np.float64(398818.98000000004), np.float64(167946.24000000002), np.float64(5504.17), np.float64(916664.9999999999), np.float64(183682.62), np.float64(2571779.04), np.float64(2045546.21), np.float64(390682.98000000004), np.float64(840812.69), np.float64(172641.28000000003), np.float64(330367.31), np.float64(1393809.0599999998), np.float64(5032266.5600000005), np.float64(197034.41999999998), np.float64(26664.960000000003), np.float64(2594063.83), np.float64(476028.0), np.float64(377359.5), np.float64(2682558.52), np.float64(96395.67), np.float64(298253.77999999997), np.float64(59023.44), np.float64(169935.36), np.float64(2577628.92), np.float64(63041.2), np.float64(341748.96), np.float64(876862.5599999999), np.float64(703889.13), np.float64(88745.22), np.float64(8500.5), np.float64(1331118.5), np.float64(5210228.0), np.float64(771432.48), np.float64(31917.16), np.float64(315069.44), np.float64(4336169.600000001), np.float64(98202.71999999999), np.float64(1074649.73), np.float64(1679255.41), np.float64(2986811.1), np.float64(30828.48), np.float64(270089.22000000003), np.float64(2105323.35), np.float64(34549.76), np.float64(878439.92), np.float64(3080067.66), np.float64(150716.38999999998), np.float64(2338.96), np.float64(59117.56), np.float64(347670.45), np.float64(4186660.74), np.float64(3133486.24), np.float64(206977.37999999998), np.float64(1217151.8800000001), np.float64(556942.95), np.float64(257976.32000000004), np.float64(67323.96), np.float64(123265.22), np.float64(528071.12), np.float64(50514.31), np.float64(1582876.63), np.float64(1571084.0999999999), np.float64(181041.63), np.float64(1202075.68), np.float64(202021.08000000002), np.float64(327205.34), np.float64(1496475.5399999998), np.float64(1165549.24), np.float64(210608.75), np.float64(350491.68), np.float64(27673.079999999998), np.float64(3499383.3600000003), np.float64(4290183.98), np.float64(40168.73), np.float64(1831255.76), np.float64(61318.12), np.float64(433922.19), np.float64(284225.97), np.float64(33491.97), np.float64(789181.4700000001), np.float64(1860905.62), np.float64(2173859.3600000003), np.float64(942358.96), np.float64(534138.71), np.float64(879613.21), np.float64(140118.72), np.float64(225263.25), np.float64(2554827.6599999997), np.float64(18206.52), np.float64(53339.36), np.float64(315023.52), np.float64(691726.5599999999), np.float64(356365.73), np.float64(3355019.3600000003), np.float64(323463.18), np.float64(583910.46), np.float64(5093686.88), np.float64(218814.0), np.float64(277512.99), np.float64(3327431.56), np.float64(773266.0800000001), np.float64(88796.93999999999), np.float64(226283.31), np.float64(6177.03), np.float64(111923.25), np.float64(9902.52), np.float64(159999.07), np.float64(453096.0), np.float64(452169.93), np.float64(254.32), np.float64(4259525.44), np.float64(7494.36), np.float64(42142.8), np.float64(234330.45), np.float64(162211.84000000003), np.float64(139740.16), np.float64(113830.92), np.float64(2278947.81), np.float64(341160.96), np.float64(1487518.4000000001), np.float64(2289888.51), np.float64(622870.5), np.float64(249348.0), np.float64(765534.84), np.float64(473199.72000000003), np.float64(312197.76), np.float64(200883.2), np.float64(703479.77), np.float64(2336933.52), np.float64(185525.76), np.float64(663566.4), np.float64(222977.44), np.float64(35391.24), np.float64(49907.04), np.float64(190914.25), np.float64(260452.63999999998), np.float64(289017.0), np.float64(1426490.16), np.float64(393403.14), np.float64(18988.48), np.float64(62397.44), np.float64(165477.96), np.float64(2385072.6), np.float64(1660448.4800000002), np.float64(825012.8899999999), np.float64(252467.04), np.float64(188387.54), np.float64(4266874.88), np.float64(124579.84000000001), np.float64(505011.52), np.float64(721347.6900000001), np.float64(1385040.96), np.float64(735896.4900000001), np.float64(2543431.2), np.float64(272788.12), np.float64(402368.24), np.float64(968499.7), np.float64(44373.840000000004), np.float64(58334.65), np.float64(259724.3), np.float64(1287316.5), np.float64(928780.9199999999), np.float64(3980619.3400000003), np.float64(68125.97), np.float64(337062.39999999997), np.float64(27887.6), np.float64(315038.89999999997), np.float64(1353871.84), np.float64(1773852.16), np.float64(491725.59), np.float64(1386169.1199999999), np.float64(51830.8), np.float64(1708937.34), np.float64(1294530.28), np.float64(137370.03), np.float64(97925.76000000001), np.float64(596430.24), np.float64(498600.48), np.float64(212788.87), np.float64(599027.68), np.float64(276632.16), np.float64(28313.600000000002), np.float64(123937.59000000001), np.float64(33250.6), np.float64(29388.800000000003), np.float64(451831.17000000004), np.float64(131077.71), np.float64(4870617.680000001), np.float64(1054107.11), np.float64(1170939.9), np.float64(17731.350000000002), np.float64(2794624.94), np.float64(1196287.68), np.float64(142392.32), np.float64(787510.08), np.float64(738624.39), np.float64(4097837.7600000002), np.float64(8297.08), np.float64(973419.9800000001), np.float64(802663.8400000001), np.float64(3362368.8000000003), np.float64(2702494.08), np.float64(1345823.64), np.float64(3738240.16), np.float64(280197.06), np.float64(872928.0000000001), np.float64(50591.52), np.float64(1014708.2999999999), np.float64(564675.3), np.float64(2551898.12), np.float64(882021.0000000001), np.float64(500933.37000000005), np.float64(309753.06), np.float64(871064.18), np.float64(3247927.52), np.float64(68715.6), np.float64(56787.020000000004), np.float64(491373.77999999997), np.float64(730883.51), np.float64(28600.36), np.float64(238694.40000000002), np.float64(561158.3999999999), np.float64(172111.06), np.float64(962414.88), np.float64(217707.49), np.float64(188800.81), np.float64(1770894.25), np.float64(12428.32), np.float64(463872.71), np.float64(65013.76000000001), np.float64(3937400.9000000004), np.float64(419605.13), np.float64(3468531.08), np.float64(673700.37), np.float64(38406.0), np.float64(900107.46), np.float64(2880321.62), np.float64(186869.76), np.float64(350586.88), np.float64(1375610.68), np.float64(2824274.8000000003), np.float64(3532980.8000000003), np.float64(1005940.2), np.float64(2934526.4000000004), np.float64(3645927.7), np.float64(50032.7), np.float64(350277.27), np.float64(145188.54), np.float64(3990167.6), np.float64(14255.2), np.float64(378996.24000000005), np.float64(845486.88), np.float64(501933.46), np.float64(52929.329999999994), np.float64(2572887.95), np.float64(188419.33), np.float64(237583.36000000002), np.float64(422907.98), np.float64(98326.47), np.float64(302160.39), np.float64(237786.99), np.float64(996534.4199999999), np.float64(4214378.88), np.float64(486384.57000000007), np.float64(570325.7), np.float64(111957.16), np.float64(135507.0), np.float64(1506510.93), np.float64(1059025.73), np.float64(3233342.3600000003), np.float64(3123788.64), np.float64(37790.12), np.float64(767340.0), np.float64(2302030.86), np.float64(706342.5599999999), np.float64(563849.88), np.float64(76984.32), np.float64(206030.99), np.float64(1446789.76), np.float64(595260.96), np.float64(81249.28000000001), np.float64(130995.20000000001), np.float64(672473.76), np.float64(108693.06), np.float64(59340.96), np.float64(626839.44), np.float64(1208403.5999999999), np.float64(31853.92), np.float64(42156.64), np.float64(35174.36), np.float64(2705675.3600000003), np.float64(773088.96), np.float64(1040095.88), np.float64(3425168.48), np.float64(57110.76), np.float64(438737.25000000006), np.float64(1011597.92), np.float64(673882.2300000001), np.float64(422311.02), np.float64(50426.880000000005), np.float64(163946.79), np.float64(40786.57), np.float64(342060.12), np.float64(437391.12999999995), np.float64(2099885.02), np.float64(1027694.3), np.float64(1591041.6400000001), np.float64(742737.7799999999), np.float64(2632510.01), np.float64(3617282.92), np.float64(29525.07), np.float64(238313.65), np.float64(947888.34), np.float64(3364.4100000000003), np.float64(773745.77), np.float64(1848844.6600000001), np.float64(2237373.15), np.float64(3281480.62), np.float64(42094.08), np.float64(2151306.31), np.float64(53343.619999999995), np.float64(842255.12), np.float64(320225.60000000003), np.float64(288975.54000000004), np.float64(230917.12000000002), np.float64(647384.08), np.float64(8820.210000000001), np.float64(160812.80000000002), np.float64(3604960.65), np.float64(502542.82), np.float64(818013.35), np.float64(55567.6), np.float64(3204697.58), np.float64(160204.80000000002), np.float64(962099.7), np.float64(48312.32000000001), np.float64(860875.61), np.float64(753123.7999999999), np.float64(214545.52), np.float64(283089.95), np.float64(3341370.4000000004), np.float64(4820182.720000001), np.float64(122497.06), np.float64(197136.24000000002), np.float64(97468.14), np.float64(273298.63), np.float64(303098.88), np.float64(288090.6), np.float64(426594.6), np.float64(15290.99), np.float64(67013.28), np.float64(153968.64), np.float64(216811.19999999998), np.float64(180167.68000000002), np.float64(111392.16), np.float64(17389.96), np.float64(2039711.17), np.float64(721295.04), np.float64(615505.17), np.float64(314101.76), np.float64(192564.66), np.float64(541738.12), np.float64(520937.97000000003), np.float64(315456.85), np.float64(49420.2), np.float64(1057503.3), np.float64(104832.00000000001), np.float64(2216221.13), np.float64(3543912.08), np.float64(877057.44), np.float64(829008.81), np.float64(388586.19), np.float64(1079842.72), np.float64(990003.8), np.float64(798547.26), np.float64(2352.8), np.float64(113720.32), np.float64(52466.61), np.float64(9826.4), np.float64(196531.56), np.float64(2086890.2499999998), np.float64(25188.8), np.float64(405638.73000000004), np.float64(318073.14), np.float64(240332.4), np.float64(138589.44), np.float64(195793.92), np.float64(710981.67), np.float64(221353.77), np.float64(264556.38), np.float64(4553.36), np.float64(892932.6000000001), np.float64(2441332.4299999997), np.float64(1545191.53), np.float64(270695.16), np.float64(551512.4400000001), np.float64(160742.40000000002), np.float64(358854.96), np.float64(310721.61), np.float64(4079117.18), np.float64(4467078.0600000005), np.float64(720347.4600000001), np.float64(656806.69), np.float64(496145.85000000003), np.float64(786908.2200000001), np.float64(119920.64000000001), np.float64(1255273.0799999998), np.float64(120143.52), np.float64(4421738.08), np.float64(10362.3), np.float64(1308838.2), np.float64(943901.28), np.float64(14788.039999999999), np.float64(1226896.3199999998), np.float64(2141322.94), np.float64(949552.7999999999), np.float64(1602626.38), np.float64(473266.08), np.float64(449619.78), np.float64(3625898.72), np.float64(1433596.39), np.float64(144753.36), np.float64(865656.96), np.float64(339267.67), np.float64(74439.68000000001), np.float64(316874.88), np.float64(751749.6), np.float64(41765.79), np.float64(282337.65), np.float64(9023.68), np.float64(49540.28), np.float64(521817.36000000004), np.float64(90615.33), np.float64(250603.08000000002), np.float64(1859919.0), np.float64(59299.72), np.float64(887749.5900000001), np.float64(233533.44000000003), np.float64(613408.58), np.float64(911161.44), np.float64(2160622.65), np.float64(271370.39999999997), np.float64(49304.64), np.float64(1530113.16), np.float64(5104186.08), np.float64(184289.28000000003), np.float64(1154679.0599999998), np.float64(173895.68000000002), np.float64(234508.47000000003), np.float64(874583.3600000001), np.float64(246022.81), np.float64(760083.8700000001), np.float64(228336.64), np.float64(1141272.22), np.float64(253398.09), np.float64(2486065.38), np.float64(4267924.800000001), np.float64(549951.36), np.float64(628195.6799999999), np.float64(334530.56000000006), np.float64(1274591.55), np.float64(375144.0), np.float64(151657.45), np.float64(1120742.7), np.float64(4698392.0), np.float64(1492808.88), np.float64(4183931.2), np.float64(852560.8), np.float64(491838.93), np.float64(325569.15), np.float64(445419.48), np.float64(43682.03), np.float64(20151.04), np.float64(45678.92), np.float64(58017.28), np.float64(653877.63), np.float64(744393.28), np.float64(1962825.4400000002), np.float64(248569.44), np.float64(968791.07), np.float64(747614.5), np.float64(88348.53), np.float64(2216703.94), np.float64(2215491.75), np.float64(3771562.7), np.float64(1236780.3599999999), np.float64(14094.150000000001), np.float64(1432.44), np.float64(462701.61), np.float64(4079619.72), np.float64(327885.6), np.float64(2175959.2), np.float64(156391.02), np.float64(912819.07), np.float64(9646.48), np.float64(2010261.22), np.float64(3834.8800000000006), np.float64(511843.44), np.float64(334924.80000000005), np.float64(1114939.22), np.float64(2441069.0999999996), np.float64(555706.02), np.float64(303499.13), np.float64(3551450.18), np.float64(35175.84), np.float64(788971.6799999999), np.float64(1789898.52), np.float64(945265.44), np.float64(4196209.0), np.float64(484569.12), np.float64(411524.54), np.float64(77952.0), np.float64(1779322.51), np.float64(7701.96), np.float64(27848.04), np.float64(796462.32), np.float64(38942.75), np.float64(37639.36), np.float64(19010.42), np.float64(37319.56), np.float64(2671502.64), np.float64(1060693.24), np.float64(725051.04), np.float64(91465.38), np.float64(523404.12), np.float64(231213.46), np.float64(42615.840000000004), np.float64(895569.5700000001), np.float64(732441.15), np.float64(1157526.06), np.float64(474529.72), np.float64(1525133.58), np.float64(3119312.3200000003), np.float64(236167.91), np.float64(416186.61000000004), np.float64(118322.37999999999), np.float64(201700.8), np.float64(664716.36), np.float64(562223.0700000001), np.float64(562716.0), np.float64(4184981.12), np.float64(344806.56), np.float64(980562.03), np.float64(218686.65000000002), np.float64(338448.66), np.float64(278191.2), np.float64(740442.9900000001), np.float64(4276112.86), np.float64(472797.81), np.float64(558557.4400000001), np.float64(145669.86000000002), np.float64(816905.6), np.float64(352245.6), np.float64(153932.80000000002), np.float64(546146.4199999999), np.float64(32870.0), np.float64(4436436.96), np.float64(142198.19999999998), np.float64(2924813.8), np.float64(936294.45), np.float64(513486.87), np.float64(66813.93000000001), np.float64(671069.28), np.float64(1230541.0899999999), np.float64(126228.48000000001), np.float64(68457.36), np.float64(653919.84), np.float64(223053.12), np.float64(64286.8), np.float64(4811783.36), np.float64(544882.05), np.float64(261727.07), np.float64(2859982.08), np.float64(460613.76), np.float64(62626.299999999996), np.float64(302059.52), np.float64(235277.79), np.float64(268689.08), np.float64(139811.84000000003), np.float64(47430.68), np.float64(4574.12), np.float64(2951071.48), np.float64(4942498.4), np.float64(198410.24000000002), np.float64(139780.63), np.float64(266178.99), np.float64(4774511.2), np.float64(324101.12000000005), np.float64(14620.86), np.float64(76844.52), np.float64(39450.92), np.float64(266542.08), np.float64(1647849.4400000002), np.float64(980432.9999999999), np.float64(3671570.24), np.float64(123981.0), np.float64(2369476.1), np.float64(24072.42), np.float64(9067.52), np.float64(1318403.4), np.float64(3035843.68), np.float64(1870956.4200000002), np.float64(4852205.28), np.float64(219709.59), np.float64(42357.32), np.float64(3003951.53), np.float64(758839.2), np.float64(461573.27999999997), np.float64(630412.02), np.float64(925988.77), np.float64(1591871.85), np.float64(575586.9), np.float64(936788.16), np.float64(637964.88), np.float64(283136.0), np.float64(943608.96), np.float64(524227.2), np.float64(660337.56), np.float64(271732.65), np.float64(699229.44), np.float64(50211.840000000004), np.float64(1332713.13), np.float64(3608739.74), np.float64(9611.88), np.float64(226376.4), np.float64(482844.52999999997), np.float64(3430274.14), np.float64(2509534.9), np.float64(818429.6399999999), np.float64(152857.6), np.float64(438002.43), np.float64(826592.7), np.float64(885475.48), np.float64(875835.58), np.float64(464399.04), np.float64(275132.85000000003), np.float64(223197.59), np.float64(177404.43000000002), np.float64(854196.42), np.float64(1727.67), np.float64(1679255.41), np.float64(246061.14), np.float64(175196.56), np.float64(536941.65), np.float64(975490.98), np.float64(67380.63), np.float64(1250171.64), np.float64(540931.09), np.float64(192556.32), np.float64(13189.12), np.float64(905824.44), np.float64(571404.12), np.float64(2493100.94), np.float64(146075.05), np.float64(134205.92), np.float64(38212.24), np.float64(154880.88), np.float64(729687.4299999999), np.float64(121533.17), np.float64(3072027.02), np.float64(764709.12), np.float64(1299568.44), np.float64(546582.15), np.float64(317250.99), np.float64(736042.1399999999), np.float64(682449.3200000001), np.float64(211117.38999999998), np.float64(847954.98), np.float64(2134552.98), np.float64(57809.68), np.float64(4375541.600000001), np.float64(2277801.44), np.float64(22060.96), np.float64(2658922.4000000004), np.float64(2392242.72), np.float64(1957068.5599999998), np.float64(4285773.44), np.float64(1576556.71), np.float64(526175.23), np.float64(2445282.38), np.float64(2299134.23), np.float64(1173650.0399999998), np.float64(2036793.65), np.float64(586134.78), np.float64(3147408.02), np.float64(331950.08), np.float64(394090.62000000005), np.float64(924954.84), np.float64(522554.07), np.float64(194427.63999999998), np.float64(184448.93999999997), np.float64(63691.68), np.float64(73193.75), np.float64(475920.45), np.float64(1471987.84), np.float64(433736.10000000003), np.float64(93936.64000000001), np.float64(183074.38), np.float64(777668.64), np.float64(119526.40000000001), np.float64(124.56), np.float64(1213186.2), np.float64(696771.1799999999), np.float64(1061746.5599999998), np.float64(562492.9800000001), np.float64(534823.23), np.float64(3404.8), np.float64(280579.19999999995), np.float64(118983.76), np.float64(615295.94), np.float64(3693618.56), np.float64(2882874.45), np.float64(270056.05), np.float64(335543.07), np.float64(359684.49), np.float64(784196.74), np.float64(28810.51), np.float64(622375.6799999999), np.float64(1059377.06), np.float64(871927.77), np.float64(254597.13999999998), np.float64(56912.939999999995), np.float64(398560.11), np.float64(62266.159999999996), np.float64(314254.08), np.float64(245681.28000000003), np.float64(161079.93), np.float64(306339.6), np.float64(1942322.0799999998), np.float64(2618026.86), np.float64(3631856.58), np.float64(258332.13000000003), np.float64(1232157.18), np.float64(34779.92), np.float64(400203.54000000004), np.float64(1120327.68), np.float64(582679.4400000001), np.float64(180041.40000000002), np.float64(342379.52), np.float64(116408.32), np.float64(620502.7200000001), np.float64(115550.13), np.float64(2807748.31), np.float64(2867331.52), np.float64(391854.36), np.float64(1647304.73), np.float64(432281.22000000003), np.float64(41962.88), np.float64(215233.6), np.float64(259266.56000000003), np.float64(442309.35000000003), np.float64(684394.6699999999), np.float64(131202.66), np.float64(318239.04), np.float64(5359.2), np.float64(24192.32), np.float64(129604.29000000001), np.float64(493852.87), np.float64(1644310.8800000001), np.float64(45015.04), np.float64(1669372.8), np.float64(2316206.86), np.float64(357075.48), np.float64(48924.4), np.float64(4566627.04), np.float64(272608.19999999995), np.float64(1163370.74), np.float64(1981012.6800000002), np.float64(510766.71), np.float64(2785137.53), np.float64(2449258.04), np.float64(753536.91), np.float64(168836.69), np.float64(476407.92000000004), np.float64(1252244.0999999999), np.float64(1009498.0800000001), np.float64(2735566.56), np.float64(538305.6000000001), np.float64(1028460.02), np.float64(305888.52), np.float64(757401.12), np.float64(1114492.64), np.float64(1371012.0), np.float64(4128366.1), np.float64(828824.58), np.float64(1295378.88), np.float64(291603.9), np.float64(32551.68), np.float64(31319.92), np.float64(3164050.44), np.float64(652027.7999999999), np.float64(868927.0800000001), np.float64(11953.039999999999), np.float64(742945.84), np.float64(168555.52000000002), np.float64(328062.63), np.float64(445554.36), np.float64(164971.52000000002), np.float64(472150.68999999994), np.float64(381867.36), np.float64(101068.8), np.float64(161849.52000000002), np.float64(548489.76), np.float64(208828.50999999998), np.float64(362914.68), np.float64(555408.0), np.float64(882549.1199999999), np.float64(2464456.16), np.float64(681946.78), np.float64(431917.50000000006), np.float64(1182.72), np.float64(59920.28), np.float64(60930.6), np.float64(4122838.16), np.float64(4474234.08), np.float64(498355.98000000004), np.float64(850066.5599999999), np.float64(97537.44), np.float64(4343519.04), np.float64(3128236.64), np.float64(2437914.24), np.float64(909027.2100000001), np.float64(23914.74), np.float64(653822.4), np.float64(2701655.04), np.float64(85864.79), np.float64(675139.15), np.float64(629390.1599999999), np.float64(529677.16), np.float64(163466.24000000002), np.float64(691141.92), np.float64(47716.14), np.float64(1491501.1199999999), np.float64(1188157.26), np.float64(222505.71000000002), np.float64(1246077.5599999998), np.float64(167050.24000000002), np.float64(122073.59999999999), np.float64(1515200.8199999998), np.float64(41776.04), np.float64(198274.22999999998), np.float64(551512.4400000001), np.float64(329026.02), np.float64(229877.76), np.float64(3324302.1), np.float64(1401939.48), np.float64(2816736.7), np.float64(1403285.5699999998), np.float64(24704.4), np.float64(121139.20000000001), np.float64(33478.2), np.float64(3633364.2), np.float64(17625.24), np.float64(250732.51), np.float64(719154.23), np.float64(7217.5599999999995), np.float64(688521.9600000001), np.float64(1150693.5599999998), np.float64(482564.33999999997), np.float64(92955.48999999999), np.float64(414996.95999999996), np.float64(1504140.96), np.float64(117972.69), np.float64(842648.31), np.float64(104401.92000000001), np.float64(249710.44999999998), np.float64(2210.13), np.float64(693967.6799999999), np.float64(32060.36), np.float64(2130812.64), np.float64(207493.33), np.float64(622415.8500000001), np.float64(1472804.69), np.float64(181854.03), np.float64(34155.520000000004), np.float64(55378.18), np.float64(2068521.68), np.float64(547602.21), np.float64(3718291.68), np.float64(729187.08), np.float64(2126872.08), np.float64(297045.76), np.float64(21362.04), np.float64(538851.18), np.float64(2510324.8899999997), np.float64(58653.92), np.float64(184858.85), np.float64(1223167.8499999999), np.float64(559765.0800000001), np.float64(546489.3), np.float64(5004968.640000001), np.float64(596969.11), np.float64(957954.7799999999), np.float64(146710.85), np.float64(3173383.2), np.float64(287508.48000000004), np.float64(2818244.3200000003), np.float64(3287315.66), np.float64(53477.76), np.float64(1810920.41), np.float64(32593.2), np.float64(366314.88), np.float64(1157548.6199999999), np.float64(232881.6), np.float64(218619.83), np.float64(1229765.88), np.float64(271902.66000000003), np.float64(140577.78), np.float64(2599601.9200000004), np.float64(4983689.180000001), np.float64(412366.08), np.float64(181107.63), np.float64(1534895.7599999998), np.float64(4499432.16), np.float64(257803.02000000002), np.float64(692603.52), np.float64(846119.75), np.float64(3330713.77), np.float64(48121.68), np.float64(45014.64), np.float64(1226831.52), np.float64(2921927.3600000003), np.float64(122137.18), np.float64(3175355.83), np.float64(721893.27), np.float64(2547877.8000000003), np.float64(295170.14999999997), np.float64(209320.86000000002), np.float64(98113.47), np.float64(108353.04000000001), np.float64(3012220.48), np.float64(236145.21000000002), np.float64(3106429.42), np.float64(2087416.91), np.float64(301750.68), np.float64(2595907.1399999997), np.float64(127110.81), np.float64(3500191.1), np.float64(262514.91000000003), np.float64(2829265.02), np.float64(1020447.4199999999), np.float64(11447.34), np.float64(326502.68), np.float64(1203681.43), np.float64(2436313.92), np.float64(265573.66), np.float64(1642928.45), np.float64(116513.52), np.float64(267992.43), np.float64(279914.78), np.float64(396838.31), np.float64(170457.97999999998), np.float64(16558.08), np.float64(273381.76), np.float64(584043.39), np.float64(4092.48), np.float64(101176.32), np.float64(601320.0900000001), np.float64(542852.1000000001), np.float64(3641647.5200000005), np.float64(587775.09), np.float64(1857793.15), np.float64(955404.0599999999), np.float64(259565.35), np.float64(139303.78), np.float64(606512.69), np.float64(655375.62), np.float64(925273.6799999999), np.float64(140770.34), np.float64(426300.0), np.float64(1049656.93), np.float64(930259.6799999999), np.float64(175782.11), np.float64(457968.0), np.float64(709363.2), np.float64(907754.1900000001), np.float64(312683.7), np.float64(331632.84), np.float64(152580.54), np.float64(97084.19), np.float64(194782.56), np.float64(201743.36000000002), np.float64(2298276.38), np.float64(244715.52000000002), np.float64(8643.08), np.float64(222064.64), np.float64(13376.36), np.float64(1786438.8800000001), np.float64(523144.14), np.float64(274856.33999999997), np.float64(2885082.14), np.float64(1543113.7999999998), np.float64(249210.08), np.float64(301273.83), np.float64(453071.63999999996), np.float64(404547.57), np.float64(2245151.58), np.float64(88769.38), np.float64(265096.81), np.float64(3336120.8000000003), np.float64(834046.03), np.float64(331530.78), np.float64(2480041.94), np.float64(1021047.2000000001), np.float64(157950.24), np.float64(547488.87), np.float64(695432.64), np.float64(61581.08), np.float64(334069.65), np.float64(126282.23999999999), np.float64(487985.37), np.float64(2629524.64), np.float64(461413.4), np.float64(52066.08), np.float64(430011.96), np.float64(1439562.5999999999), np.float64(54999.899999999994), np.float64(60148.64), np.float64(236326.86), np.float64(330046.08), np.float64(761902.4700000001), np.float64(1650025.7799999998), np.float64(676100.22), np.float64(107866.08), np.float64(2855432.2800000003), np.float64(1495611.04), np.float64(1645315.96), np.float64(166043.1), np.float64(791195.16), np.float64(290703.21), np.float64(176529.87), np.float64(1588143.23), np.float64(1162550.97), np.float64(180848.64), np.float64(2527178.01), np.float64(322526.39999999997), np.float64(2737837.92), np.float64(36367.76), np.float64(50822.689999999995), np.float64(112056.0), np.float64(19640.320000000003), np.float64(42800.2), np.float64(4734429.34), np.float64(2808842.38), np.float64(790725.6), np.float64(453246.66000000003), np.float64(1460287.2), np.float64(299120.64), np.float64(673063.8600000001), np.float64(4831206.88), np.float64(317163.84), np.float64(460696.32), np.float64(849633.05), np.float64(785621.7599999999), np.float64(363934.74), np.float64(2317173.44), np.float64(127.16), np.float64(87362.15999999999), np.float64(30669.44), np.float64(1311707.76), np.float64(614504.9400000001), np.float64(816278.6100000001), np.float64(187224.87000000002), np.float64(589694.58), np.float64(66796.98), np.float64(1365432.2999999998), np.float64(680057.77), np.float64(1185606.5399999998), np.float64(62847.03), np.float64(40881.94), np.float64(512703.50999999995), np.float64(254788.32), np.float64(696244.5199999999), np.float64(67234.72), np.float64(164577.28000000003), np.float64(63587.88), np.float64(1063071.35), np.float64(3395966.24), np.float64(3508.44), np.float64(651581.28), np.float64(2774.92), np.float64(82897.92000000001), np.float64(1008817.23), np.float64(604291.33), np.float64(57603.479999999996), np.float64(631001.92), np.float64(1709794.7200000002), np.float64(1080339.75), np.float64(3327721.4400000004), np.float64(422462.99999999994), np.float64(4608098.88), np.float64(726550.44), np.float64(286396.11), np.float64(5052215.04), np.float64(1075643.04), np.float64(669911.5199999999), np.float64(406714.56), np.float64(1091.16), np.float64(2803372.03), np.float64(4630906.100000001), np.float64(4396722.46), np.float64(236263.28), np.float64(765098.88), np.float64(2292806.03), np.float64(982.64), np.float64(1100269.73), np.float64(514464.23), np.float64(2533806.68), np.float64(353337.45), np.float64(7847.28), np.float64(17729.04), np.float64(674284.7999999999), np.float64(24192.32), np.float64(379745.67), np.float64(1553866.74), np.float64(603957.06), np.float64(3823826.8600000003), np.float64(548338.92), np.float64(669986.3099999999), np.float64(261440.96), np.float64(912915.36), np.float64(1125505.2), np.float64(355461.12), np.float64(734129.1), np.float64(746277.22), np.float64(1006677.5599999999), np.float64(886749.3600000001), np.float64(4217528.640000001), np.float64(639537.71), np.float64(512117.76), np.float64(260067.36), np.float64(56335.72), np.float64(269100.95999999996), np.float64(213475.89), np.float64(2882555.3600000003), np.float64(1553707.3199999998), np.float64(222096.21), np.float64(60928.00000000001), np.float64(1046592.2999999999), np.float64(486458.72000000003), np.float64(1933952.6400000001), np.float64(1964968.46), np.float64(532967.61), np.float64(2111379.94), np.float64(92282.68), np.float64(40260.56), np.float64(156190.72), np.float64(309585.92000000004), np.float64(565493.67), np.float64(759544.7999999999), np.float64(941534.5199999999), np.float64(196366.83), np.float64(4813883.2), np.float64(2499949.95), np.float64(49360.36), np.float64(874621.44), np.float64(280244.23), np.float64(1111139.68), np.float64(782540.64), np.float64(890750.28), np.float64(891750.51), np.float64(930229.1200000001), np.float64(214757.76), np.float64(757830.3200000001), np.float64(3415321.85), np.float64(33797.28), np.float64(3203.96), np.float64(3027291.69), np.float64(127535.99999999999), np.float64(5167181.28), np.float64(1296900.25), np.float64(6644.11), np.float64(274126.52999999997), np.float64(175042.56000000003), np.float64(275416.2), np.float64(449702.4), np.float64(16524.96), np.float64(140654.94), np.float64(492235.62), np.float64(2467857.23), np.float64(2246353.8000000003), np.float64(3573927.68), np.float64(562274.34), np.float64(430011.96), np.float64(3317769.08), np.float64(311320.8), np.float64(50705.049999999996), np.float64(250651.41), np.float64(147342.0), np.float64(430964.8), np.float64(2849401.8000000003), np.float64(3234800.3), np.float64(461697.54), np.float64(4219325.84), np.float64(974375.0399999999), np.float64(781036.7799999999), np.float64(1484917.8699999999), np.float64(1926078.2400000002), np.float64(2106449.44), np.float64(90105.3), np.float64(1451519.0999999999), np.float64(394536.54000000004), np.float64(1520757.3), np.float64(49567.96), np.float64(29347.72), np.float64(859592.6399999999), np.float64(719289.62), np.float64(1792086.66), np.float64(168311.43000000002), np.float64(256227.4), np.float64(1003398.48), np.float64(314280.96), np.float64(851272.59), np.float64(670971.84), np.float64(2009021.9200000002), np.float64(772177.56), np.float64(504589.68), np.float64(324265.74), np.float64(2257791.42), np.float64(2878.72), np.float64(3662008.98), np.float64(321054.72000000003), np.float64(76661.76000000001), np.float64(229416.39), np.float64(2537447.88), np.float64(588609.66), np.float64(780520.32), np.float64(3588135.6), np.float64(444122.79000000004), np.float64(526409.45), np.float64(167623.68000000002), np.float64(16926.32), np.float64(295250.7), np.float64(1039418.3999999999), np.float64(105859.56), np.float64(224788.48), np.float64(22974.4), np.float64(41077.12), np.float64(505839.66), np.float64(296219.22), np.float64(853282.08), np.float64(109025.28000000001), np.float64(56806.40000000001), np.float64(4990724.74), np.float64(1156929.69), np.float64(754991.79), np.float64(42191.52), np.float64(287884.38), np.float64(979156.71), np.float64(1830143.5), np.float64(283816.96), np.float64(282770.88), np.float64(316874.88), np.float64(135031.05000000002), np.float64(268941.54), np.float64(1321680.2), np.float64(643051.86), np.float64(177049.6), np.float64(2073460.42), np.float64(31646.720000000005), np.float64(251883.52000000002), np.float64(9917.25), np.float64(34098.75), np.float64(158846.01), np.float64(425081.67), np.float64(207449.76), np.float64(208572.91), np.float64(193126.08), np.float64(859821.62), np.float64(120833.79), np.float64(2378143.4899999998), np.float64(199641.19999999998), np.float64(1450158.3099999998), np.float64(96990.22), np.float64(191997.96), np.float64(113963.37000000001), np.float64(2472668.6999999997), np.float64(13275.78), np.float64(61588.0), np.float64(49256.56), np.float64(129989.31), np.float64(277703.84), np.float64(335677.44000000006), np.float64(1104669.3499999999), np.float64(123301.08000000002), np.float64(3516705.67), np.float64(440555.85000000003), np.float64(699342.63), np.float64(4330889.72), np.float64(110619.84), np.float64(38226.08), np.float64(77155.69), np.float64(1434358.51), np.float64(846869.2799999999), np.float64(400770.72), np.float64(69144.64), np.float64(849398.83), np.float64(260241.66000000003), np.float64(455803.78), np.float64(332071.86), np.float64(143531.85), np.float64(427159.0), np.float64(342442.38), np.float64(184496.97), np.float64(1791052.56), np.float64(706071.2000000001), np.float64(81888.15000000001), np.float64(692977.53), np.float64(2211708.67), np.float64(237691.02000000002), np.float64(220729.65), np.float64(145331.2), np.float64(199291.50999999998), np.float64(1083896.5799999998), np.float64(362222.4), np.float64(46924.52), np.float64(648852.96), np.float64(769412.7), np.float64(3370033.24), np.float64(297064.14), np.float64(277145.22), np.float64(764865.88), np.float64(1121421.75), np.float64(102359.04000000001), np.float64(56245.76), np.float64(1153884.83), np.float64(245506.8), np.float64(305894.4), np.float64(239877.12000000002), np.float64(737987.88), np.float64(1174335.52), np.float64(662334.12), np.float64(1669248.8699999999), np.float64(939034.7799999999), np.float64(2429780.9), np.float64(519851.29), np.float64(3229824.58), np.float64(3384104.3600000003), np.float64(4300737.32), np.float64(58074.24), np.float64(2026345.6), np.float64(2180899.06), np.float64(1661875.63), np.float64(274699.53), np.float64(53884.32), np.float64(439356.95999999996), np.float64(775427.52), np.float64(620800.11), np.float64(254640.11), np.float64(457870.56), np.float64(4446411.2), np.float64(213248.00000000003), np.float64(75819.15), np.float64(254220.96), np.float64(4616332.44), np.float64(290115.54), np.float64(1264838.2799999998), np.float64(392041.75), np.float64(1482995.54), np.float64(852535.04), np.float64(854743.6799999999), np.float64(331576.17), np.float64(977634.28), np.float64(1695095.84), np.float64(82177.15), np.float64(19569.76), np.float64(2663462.0), np.float64(1081979.29), np.float64(864857.35), np.float64(53884.049999999996), np.float64(326256.84), np.float64(1013838.2), np.float64(2770914.62), np.float64(6167.26), np.float64(1315070.02), np.float64(506200.8), np.float64(189228.47999999998), np.float64(665515.2), np.float64(226695.24), np.float64(719758.0599999999), np.float64(4551002.24), np.float64(640825.92), np.float64(4206259.8), np.float64(898661.1900000001), np.float64(78275.21999999999), np.float64(159314.4), np.float64(3316764.0), np.float64(618414.93), np.float64(1642563.76), np.float64(340408.32), np.float64(213678.08000000002), np.float64(3470541.24), np.float64(135246.72), np.float64(1372770.4000000001), np.float64(325821.44), np.float64(892425.37), np.float64(634334.4), np.float64(854434.5599999999), np.float64(618230.76), np.float64(132309.98), np.float64(25334.399999999998), np.float64(771398.9), np.float64(22220.800000000003), np.float64(41646.08), np.float64(54695.68), np.float64(900693.01), np.float64(237447.30000000002), np.float64(169341.06), np.float64(41457.72), np.float64(348519.36), np.float64(354924.21), np.float64(2092074.02), np.float64(699375.5399999999), np.float64(1071917.82), np.float64(28939.44), np.float64(4418331.680000001), np.float64(1078700.21), np.float64(964969.2599999999), np.float64(19138.56), np.float64(274411.27999999997), np.float64(4776642.7), np.float64(528394.2300000001), np.float64(162287.05), np.float64(995099.6399999999), np.float64(140994.56000000003), np.float64(772403.98), np.float64(54308.159999999996), np.float64(488934.25), np.float64(97472.40000000001), np.float64(720958.5599999999), np.float64(254141.44000000003), np.float64(859359.52), np.float64(1871224.39), np.float64(2622700.16), np.float64(777863.52), np.float64(300124.32), np.float64(1466738.24), np.float64(1714804.96), np.float64(1442785.0699999998), np.float64(1600087.36), np.float64(193156.04), np.float64(827389.7999999999), np.float64(252062.72000000003), np.float64(2782220.01), np.float64(1077809.69), np.float64(1146548.64), np.float64(1923625.65), np.float64(1155954.42), np.float64(261954.56000000003), np.float64(1492808.88), np.float64(168649.92), np.float64(214212.6), np.float64(1753777.7999999998), np.float64(1589196.5499999998), np.float64(224243.19), np.float64(114938.88), np.float64(529174.62), np.float64(2161149.31), np.float64(1039258.9799999999), np.float64(819275.52), np.float64(668972.01), np.float64(802053.8400000001), np.float64(709569.49), np.float64(139829.34), np.float64(713942.88), np.float64(4931425.0200000005), np.float64(235719.68000000002), np.float64(843343.2), np.float64(1273.02), np.float64(85118.34), np.float64(357173.04000000004), np.float64(2501434.4000000004), np.float64(579460.28), np.float64(86019.78000000001), np.float64(265385.61), np.float64(156190.72), np.float64(271581.97), np.float64(1107012.48), np.float64(143431.68), np.float64(612897.6), np.float64(1301578.61), np.float64(604322.88), np.float64(25514.04), np.float64(661437.28), np.float64(1123102.45), np.float64(4652720.48), np.float64(416061.39999999997), np.float64(88312.62), np.float64(1947601.6), np.float64(84179.92), np.float64(1323759.91), np.float64(601399.6799999999), np.float64(198159.36000000002), np.float64(78848.00000000001), np.float64(2175740.54), np.float64(1695808.5), np.float64(678535.34), np.float64(96588.8), np.float64(266869.07999999996), np.float64(1244680.1600000001), np.float64(279529.47), np.float64(125637.39), np.float64(3942.4000000000005), np.float64(502039.53), np.float64(56912.939999999995), np.float64(474894.60000000003), np.float64(2963470.94), np.float64(3303195.42), np.float64(24478.72), np.float64(971824.32), np.float64(858651.9900000001), np.float64(4116807.68), np.float64(1333671.33), np.float64(180848.64), np.float64(704934.4099999999), np.float64(1271309.34), np.float64(743853.72), np.float64(373928.6), np.float64(157950.24), np.float64(2438172.4699999997), np.float64(196474.88), np.float64(1110116.36), np.float64(853476.96), np.float64(464549.87999999995), np.float64(108466.38), np.float64(485056.32), np.float64(1222805.57), np.float64(691495.04), np.float64(520665.72), np.float64(434243.88), np.float64(4317321.140000001), np.float64(61075.92), np.float64(2427112.61), np.float64(4202829.760000001), np.float64(61996.98), np.float64(396818.52), np.float64(752197.53), np.float64(2380.14), np.float64(229067.16), np.float64(550853.9400000001), np.float64(149603.74), np.float64(1126162.72), np.float64(54211.28), np.float64(13542.539999999999), np.float64(3865280.4800000004), np.float64(1960911.08), np.float64(1896585.96), np.float64(1577460.9), np.float64(264025.53), np.float64(672211.4), np.float64(346983.83999999997), np.float64(3011722.22), np.float64(855032.5099999999), np.float64(172371.22), np.float64(226060.8), np.float64(65838.08), np.float64(181961.03), np.float64(497165.91000000003), np.float64(183936.94), np.float64(732375.48), np.float64(512208.69000000006), np.float64(812186.76), np.float64(1849959.04), np.float64(351482.88), np.float64(219240.0), np.float64(822766.6199999999), np.float64(43187.200000000004), np.float64(116655.18999999999), np.float64(532119.84), np.float64(1215794.6099999999), np.float64(529894.57), np.float64(44329.52), np.float64(73006.08), np.float64(166330.08), np.float64(1826335.84), np.float64(51626.96), np.float64(499602.72000000003), np.float64(3053692.3200000003), np.float64(1072922.9000000001), np.float64(4712317.58), np.float64(347332.26999999996), np.float64(51900.0), np.float64(4714665.760000001), np.float64(989039.28), np.float64(338330.79), np.float64(285071.36000000004), np.float64(200118.05), np.float64(255845.91999999998), np.float64(202352.64), np.float64(1771.52), np.float64(848433.24), np.float64(532122.36), np.float64(957257.14), np.float64(31596.72), np.float64(5722.2), np.float64(123567.73), np.float64(128118.34), np.float64(145450.62), np.float64(2272383.39), np.float64(690129.1799999999), np.float64(279193.60000000003), np.float64(310051.84), np.float64(549399.06), np.float64(5207603.2), np.float64(464346.96), np.float64(786259.44), np.float64(476538.03), np.float64(335680.8), np.float64(1839861.05), np.float64(358676.64), np.float64(492292.29000000004), np.float64(2371486.2600000002), np.float64(24732.079999999998), np.float64(843810.0599999999), np.float64(343715.4), np.float64(1150722.86), np.float64(574677.6000000001), np.float64(330046.08), np.float64(1819803.1), np.float64(983372.67), np.float64(914863.32), np.float64(283860.03), np.float64(4417538.4), np.float64(1143115.53), np.float64(1654765.72), np.float64(51717.12), np.float64(2365230.06), np.float64(274386.84), np.float64(53699.2), np.float64(643875.3300000001), np.float64(2035540.9), np.float64(157852.8), np.float64(4547728.48), np.float64(157301.76), np.float64(42971.04), np.float64(3192496.26), np.float64(24822.04), np.float64(803366.55), np.float64(109732.06999999999), np.float64(4210704.16), np.float64(114007.04000000001), np.float64(3209220.44), np.float64(1997094.72), np.float64(781165.98), np.float64(873746.3700000001), np.float64(2435539.17), np.float64(3293150.7), np.float64(1705118.22), np.float64(17052.0), np.float64(1193411.5599999998), np.float64(346680.32), np.float64(747535.53), np.float64(39045.630000000005), np.float64(588226.17), np.float64(186274.29), np.float64(132128.63999999998), np.float64(292306.56), np.float64(180848.64), np.float64(344156.91000000003), np.float64(372610.56), np.float64(179773.44000000003), np.float64(4045447.0), np.float64(3981296.64), np.float64(440646.78), np.float64(332167.29000000004), np.float64(351375.36000000004), np.float64(1058349.24), np.float64(3268017.62), np.float64(73530.27), np.float64(189952.42), np.float64(403456.41000000003), np.float64(1167586.7), np.float64(266659.47), np.float64(670245.03), np.float64(4033792.64), np.float64(454615.36000000004), np.float64(1197881.88), np.float64(367629.99000000005), np.float64(2341674.4899999998), np.float64(282273.27), np.float64(1755372.22), np.float64(127337.49), np.float64(995317.89), np.float64(523057.01999999996), np.float64(121342.43), np.float64(801151.6799999999), np.float64(62880.619999999995), np.float64(15590.4), np.float64(124044.58), np.float64(30676.36), np.float64(1420832.24), np.float64(678074.75), np.float64(228984.0), np.float64(447636.33), np.float64(22384.65), np.float64(35532.090000000004), np.float64(870745.68), np.float64(327608.1), np.float64(3897700.24), np.float64(797363.24), np.float64(29469.329999999998), np.float64(1865931.02), np.float64(1337374.38), np.float64(124616.8), np.float64(891023.0700000001), np.float64(2407626.19), np.float64(109263.63), np.float64(32556.579999999998), np.float64(489636.0), np.float64(2314196.7), np.float64(133505.4), np.float64(3842707.2), np.float64(532622.22), np.float64(205040.64), np.float64(817999.67), np.float64(1232954.2799999998), np.float64(3420789.7800000003), np.float64(2039490.8499999999), np.float64(1468241.94), np.float64(4211754.08), np.float64(142228.46), np.float64(59616.840000000004), np.float64(6771.2699999999995), np.float64(1085969.0399999998), np.float64(226257.76), np.float64(4794231.600000001), np.float64(29866.72), np.float64(1083970.16), np.float64(14711.92), np.float64(660350.88), np.float64(2327310.54), np.float64(1138543.42), np.float64(170901.16999999998), np.float64(762766.88), np.float64(1367913.8800000001), np.float64(643897.38), np.float64(190310.40000000002), np.float64(1367520.8), np.float64(2562200.9), np.float64(96705.18), np.float64(743625.54), np.float64(28006.989999999998), np.float64(6644.11), np.float64(952570.28), np.float64(1028099.58), np.float64(971409.8200000001), np.float64(2820877.15), np.float64(29264.68), np.float64(306244.68), np.float64(1412142.3599999999), np.float64(1153337.12), np.float64(1072376.27), np.float64(1152713.73), np.float64(118099.84999999999), np.float64(548307.9), np.float64(766876.04), np.float64(650695.0800000001), np.float64(832429.9199999999), np.float64(1798651.08), np.float64(831011.68), np.float64(210129.92), np.float64(330122.24000000005), np.float64(228061.46), np.float64(864974.46), np.float64(761103.84), np.float64(183724.14), np.float64(55325.4), np.float64(140759.64), np.float64(794038.5599999999), np.float64(140354.88999999998), np.float64(900588.6), np.float64(196590.66), np.float64(1989748.64), np.float64(1792086.66), np.float64(1174765.98), np.float64(6629.36), np.float64(991570.37), np.float64(249805.82), np.float64(722149.98), np.float64(381672.48), np.float64(43720.56), np.float64(707617.26), np.float64(1784850.74), np.float64(42904.0), np.float64(154217.28), np.float64(1231857.74), np.float64(55858.24), np.float64(51681.280000000006), np.float64(56840.88), np.float64(315311.88), np.float64(744716.7000000001), np.float64(223563.15), np.float64(188840.96000000002), np.float64(130180.05), np.float64(48675.28), np.float64(92282.68), np.float64(414595.5), np.float64(530549.76), np.float64(37451.04), np.float64(59730.18), np.float64(2520238.1), np.float64(167910.40000000002), np.float64(3187390.6), np.float64(42332.49), np.float64(44717.04), np.float64(17140.84), np.float64(830578.2), np.float64(2916425.93), np.float64(129449.04), np.float64(551172.42), np.float64(218050.56000000003), np.float64(1449827.9000000001), np.float64(1154973.23), np.float64(257402.88000000003), np.float64(30213.120000000003), np.float64(2519278.11), np.float64(116003.49), np.float64(417145.82), np.float64(3444787.52), np.float64(2369970.0), np.float64(60677.12), np.float64(44426.4), np.float64(39725.67), np.float64(1463136.28), np.float64(399693.51), np.float64(417997.92), np.float64(67753.72), np.float64(2357917.68), np.float64(775451.04), np.float64(688694.3999999999), np.float64(205776.66999999998), np.float64(2576170.16), np.float64(1756.65), np.float64(2203821.67), np.float64(1554344.9999999998), np.float64(1123245.2), np.float64(42308.88), np.float64(1142244.2999999998), np.float64(897955.2999999999), np.float64(3161497.61), np.float64(660158.22), np.float64(28863.32), np.float64(156438.08000000002), np.float64(791545.65), np.float64(554164.52), np.float64(234578.41), np.float64(300840.96), np.float64(1611143.24), np.float64(496944.0), np.float64(119347.02), np.float64(149212.11000000002), np.float64(252578.19), np.float64(163889.64), np.float64(207119.36000000002), np.float64(562593.1799999999), np.float64(507954.72), np.float64(3289626.8400000003), np.float64(282329.94), np.float64(1049302.44), np.float64(1893342.7), np.float64(32415.24), np.float64(2436858.58), np.float64(1328606.2799999998), np.float64(286296.84), np.float64(178769.92), np.float64(446957.27999999997), np.float64(527824.38), np.float64(113231.9), np.float64(2865483.08), np.float64(51215.36000000001), np.float64(4345965.92), np.float64(41282.22), np.float64(512966.83999999997), np.float64(328975.36000000004), np.float64(66796.98), np.float64(2020210.8), np.float64(209664.00000000003), np.float64(385696.02), np.float64(703616.3400000001), np.float64(831163.2), np.float64(1680856.21), np.float64(182212.8), np.float64(951476.21), np.float64(337276.8), np.float64(109814.88), np.float64(51913.84), np.float64(3851631.5200000005), np.float64(4173956.9600000004), np.float64(537245.3999999999), np.float64(147464.8), np.float64(716784.26), np.float64(411391.68), np.float64(984663.0), np.float64(17251.56), np.float64(2646848.3200000003), np.float64(760592.82), np.float64(1839360.0499999998), np.float64(1389185.88), np.float64(368810.39999999997), np.float64(403694.24000000005), np.float64(418918.08), np.float64(81321.45), np.float64(583043.16), np.float64(3503708.8800000004), np.float64(426884.64), np.float64(200658.47999999998), np.float64(1676473.4400000002), np.float64(1440040.8599999999), np.float64(713333.64), np.float64(828962.84), np.float64(1155228.71), np.float64(386489.4), np.float64(64840.4), np.float64(465016.02), np.float64(1046729.18), np.float64(151767.08000000002), np.float64(88688.55), np.float64(4494182.5600000005), np.float64(936888.61), np.float64(3062091.68), np.float64(151710.72), np.float64(49566.72), np.float64(48986.68), np.float64(1300867.2), np.float64(1468971.32), np.float64(317200.62), np.float64(2650931.61), np.float64(466357.12), np.float64(272412.69), np.float64(1497294.38), np.float64(49886.28), np.float64(279155.10000000003), np.float64(497951.72), np.float64(1909881.53), np.float64(744344.16), np.float64(361667.94), np.float64(532217.28), np.float64(508273.23000000004), np.float64(241059.84000000003), np.float64(41395.44), np.float64(3254951.58), np.float64(735567.91), np.float64(214359.04), np.float64(285680.64), np.float64(111662.04000000001), np.float64(32198.76), np.float64(832332.48), np.float64(282455.04000000004), np.float64(862509.28), np.float64(1428828.5799999998), np.float64(966020.16), np.float64(2215921.9499999997), np.float64(1361387.77), np.float64(171104.63999999998), np.float64(549201.8999999999), np.float64(179867.82), np.float64(409993.76), np.float64(1495837.8599999999), np.float64(1297163.5799999998), np.float64(724947.49), np.float64(96768.00000000001), np.float64(99534.48999999999), np.float64(48746.380000000005), np.float64(3608972.2399999998), np.float64(1224026.76), np.float64(35554.96), np.float64(2565229.46), np.float64(1870696.3199999998), np.float64(2087048.62), np.float64(284343.08), np.float64(1633255.0), np.float64(1096149.6), np.float64(738351.6000000001), np.float64(1639646.24), np.float64(850101.49), np.float64(192579.36), np.float64(3331807.84), np.float64(697069.38), np.float64(647528.47), np.float64(384823.46), np.float64(4203879.680000001), np.float64(233781.03000000003), np.float64(29603.76), np.float64(439828.41000000003), np.float64(328610.66), np.float64(3000.69), np.float64(149667.32), np.float64(271505.97000000003), np.float64(17867.44), np.float64(55982.08), np.float64(4507783.8), np.float64(4166082.5600000005), np.float64(36304.1), np.float64(461860.5), np.float64(309588.21), np.float64(381672.48), np.float64(855036.0), np.float64(806053.13), np.float64(252840.11999999997), np.float64(629417.4600000001), np.float64(753795.84), np.float64(674427.81), np.float64(191761.91999999998), np.float64(373928.6), np.float64(202979.15), np.float64(4498738.08), np.float64(220143.87999999998), np.float64(512440.18), np.float64(2499859.52), np.float64(28062.72), np.float64(27846.079999999998), np.float64(302328.01), np.float64(1136786.77), np.float64(15424.68), np.float64(643875.3300000001), np.float64(295925.27999999997), np.float64(907361.28), np.float64(67415.04000000001), np.float64(144421.97), np.float64(211671.04), np.float64(740135.2), np.float64(718074.2100000001), np.float64(1060196.83), np.float64(226623.33000000002), np.float64(1554185.5799999998), np.float64(4344960.84), np.float64(558915.84), np.float64(310651.88), np.float64(438455.79000000004), np.float64(64405.67999999999), np.float64(352990.26), np.float64(23306.56), np.float64(30987.76), np.float64(64433.79), np.float64(838787.0), np.float64(189665.28000000003), np.float64(2496618.72), np.float64(1052544.8), np.float64(606866.8200000001), np.float64(406380.57), np.float64(413749.63), np.float64(84080.64000000001), np.float64(747535.53), np.float64(388816.68000000005), np.float64(819470.4), np.float64(3796187.16), np.float64(42873.6), np.float64(625416.54), np.float64(623828.77), np.float64(4103239.1), np.float64(80358.06), np.float64(3355459.58), np.float64(116057.76), np.float64(364446.32), np.float64(32607.04), np.float64(1253838.2999999998), np.float64(381332.63999999996), np.float64(207229.47), np.float64(3363171.18), np.float64(57775.08), np.float64(168268.80000000002), np.float64(687703.5900000001), np.float64(301576.8), np.float64(524435.04), np.float64(1578136.69), np.float64(6695.639999999999), np.float64(1108619.3), np.float64(423642.87000000005), np.float64(82969.6), np.float64(3068916.16), np.float64(281913.72), np.float64(166424.56), np.float64(20539.739999999998), np.float64(38683.68), np.float64(2563959.08), np.float64(1393015.7), np.float64(854820.54), np.float64(725262.23), np.float64(1164307.6199999999), np.float64(124818.42), np.float64(1058070.5399999998), np.float64(1801103.36), np.float64(30804.51), np.float64(408951.49), np.float64(3694171.54), np.float64(54456.27), np.float64(392999.46), np.float64(1888000.13), np.float64(53719.96), np.float64(2416071.25), np.float64(940159.08), np.float64(20469.36), np.float64(403791.36), np.float64(187729.92), np.float64(213319.68000000002), np.float64(424751.29), np.float64(285865.51), np.float64(7275.52), np.float64(58740.780000000006), np.float64(4213797.9), np.float64(2858075.53), np.float64(687552.8099999999), np.float64(13417.88), np.float64(707133.91), np.float64(367902.78), np.float64(2057398.76), np.float64(65233.08), np.float64(117590.25), np.float64(905577.0800000001), np.float64(1101246.0599999998), np.float64(2033146.75), np.float64(4317823.680000001), np.float64(234069.77), np.float64(847285.4400000001), np.float64(470814.36), np.float64(40094.48), np.float64(60072.52), np.float64(207656.96000000002), np.float64(890855.77), np.float64(3282088.74), np.float64(385526.01), np.float64(1315147.1800000002), np.float64(16547.64), np.float64(623226.24), np.float64(1161369.94), np.float64(435338.94), np.float64(2440014.08), np.float64(259095.24000000002), np.float64(55733.68), np.float64(79851.52), np.float64(81891.04), np.float64(875108.64), np.float64(242964.96000000002), np.float64(1359121.4400000002), np.float64(52924.159999999996), np.float64(230986.92), np.float64(683054.4), np.float64(4224878.08), np.float64(264302.06), np.float64(148135.38), np.float64(196928.25), np.float64(2959960.6), np.float64(433092.00000000006), np.float64(2566150.8499999996), np.float64(634205.48), np.float64(408817.49), np.float64(960664.9199999999), np.float64(648998.82), np.float64(860379.66), np.float64(30102.0), np.float64(431597.87), np.float64(102629.37000000001), np.float64(492681.77), np.float64(334189.10000000003), np.float64(347373.6), np.float64(59463.56), np.float64(2580911.13), np.float64(343183.68), np.float64(42509.56), np.float64(5152482.4), np.float64(939224.16), np.float64(264939.36), np.float64(99566.28), np.float64(3722816.3200000003), np.float64(888295.17), np.float64(3866855.3600000003), np.float64(930552.0), np.float64(869457.12), np.float64(358655.45999999996), np.float64(154792.96000000002), np.float64(843445.99), np.float64(336358.4), np.float64(28254.36), np.float64(7874.96), np.float64(91182.03), np.float64(1039585.47), np.float64(683911.7999999999), np.float64(39065.600000000006), np.float64(42717.159999999996), np.float64(435112.26), np.float64(43294.72), np.float64(35326.6), np.float64(127695.41999999998), np.float64(1172374.68), np.float64(332167.29000000004), np.float64(1911379.36), np.float64(181260.53999999998), np.float64(978445.38), np.float64(431172.0), np.float64(902662.1100000001), np.float64(96624.64000000001), np.float64(560839.5599999999), np.float64(43393.35), np.float64(25016.35), np.float64(3660021.12), np.float64(1397492.3099999998), np.float64(4345965.92), np.float64(961201.76), np.float64(3926175.8400000003), np.float64(781079.04), np.float64(1298751.04), np.float64(68383.44), np.float64(9216.55), np.float64(1761452.7), np.float64(6007.02), np.float64(345712.64), np.float64(198136.47), np.float64(398273.4), np.float64(4840131.2), np.float64(1159389.0), np.float64(382949.7), np.float64(491.32), np.float64(510566.0), np.float64(638876.3200000001), np.float64(146548.62), np.float64(1023147.04), np.float64(1422116.6400000001), np.float64(1797921.7), np.float64(738595.2), np.float64(56536.4), np.float64(824103.07), np.float64(265160.39), np.float64(295572.48000000004), np.float64(296384.10000000003), np.float64(21368.550000000003), np.float64(202470.50999999998), np.float64(675373.37), np.float64(1104815.74), np.float64(22919.04), np.float64(155628.03), np.float64(956086.04), np.float64(688853.82), np.float64(783348.79), np.float64(269865.31), np.float64(235803.87), np.float64(548564.22), np.float64(288203.04000000004), np.float64(1319448.42), np.float64(898007.04), np.float64(355210.24000000005), np.float64(68926.41), np.float64(573136.34), np.float64(203487.79), np.float64(105511.01), np.float64(89202.33), np.float64(593279.26), np.float64(90997.76000000001), np.float64(4127361.02), np.float64(3181580.74), np.float64(6753.92), np.float64(526294.29), np.float64(4342469.12), np.float64(12511.36), np.float64(707027.7), np.float64(438739.14), np.float64(145534.62), np.float64(338329.60000000003), np.float64(177006.72), np.float64(3608972.2399999998), np.float64(822814.86), np.float64(133739.62), np.float64(350717.01), np.float64(272289.36), np.float64(686237.98), np.float64(34587.52), np.float64(1214136.6400000001), np.float64(3077840.48), np.float64(453972.95999999996), np.float64(1104582.9200000002), np.float64(2510883.68), np.float64(872505.6599999999), np.float64(2157989.35), np.float64(553556.64), np.float64(692998.74), np.float64(863610.72), np.float64(176657.03), np.float64(4051641.2800000003), np.float64(7113.12), np.float64(717047.59), np.float64(20962.69), np.float64(119975.45999999999), np.float64(1176489.94), np.float64(4763487.04), np.float64(353337.45), np.float64(14049.28), np.float64(164002.98), np.float64(132532.51), np.float64(1528367.3199999998), np.float64(16234.32), np.float64(687703.5900000001), np.float64(10903.97), np.float64(708164.17), np.float64(1229212.84), np.float64(940685.76), np.float64(857010.98), np.float64(141245.44), np.float64(385862.39999999997), np.float64(357288.96), np.float64(282992.64), np.float64(470307.37999999995), np.float64(171426.75), np.float64(309729.97), np.float64(49574.88), np.float64(604907.52), np.float64(788817.7500000001), np.float64(1407519.18), np.float64(91182.03), np.float64(37070.44), np.float64(151678.08), np.float64(310443.83999999997), np.float64(885476.3400000001), np.float64(698547.36), np.float64(441119.28), np.float64(4318326.22), np.float64(171093.78), np.float64(292150.1), np.float64(541564.65), np.float64(4105187.2), np.float64(340555.88), np.float64(672433.5599999999), np.float64(1559.04), np.float64(247644.1), np.float64(101473.68), np.float64(1322374.24), np.float64(3217763.62), np.float64(1051740.02), np.float64(1997472.8), np.float64(44378.84), np.float64(59941.92), np.float64(2472.96), np.float64(509836.62), np.float64(1096149.6), np.float64(496655.88), np.float64(1499579.36), np.float64(65397.18), np.float64(668062.7100000001), np.float64(4923074.88), np.float64(68412.08), np.float64(1047070.5599999999), np.float64(4303097.12), np.float64(1858895.46), np.float64(434290.08), np.float64(2159306.0), np.float64(358871.52), np.float64(29071.71), np.float64(462450.24), np.float64(256513.53000000003), np.float64(2696629.64), np.float64(4195480.32), np.float64(2535077.9099999997), np.float64(3607000.16), np.float64(539727.9600000001), np.float64(1067223.43), np.float64(1333548.2999999998), np.float64(1149099.3599999999), np.float64(789653.76), np.float64(165867.52000000002), np.float64(19891.2), np.float64(164765.16), np.float64(326854.01), np.float64(3364002.7600000002), np.float64(8781.48), np.float64(1147026.9), np.float64(706407.52), np.float64(97724.45999999999), np.float64(3577079.72), np.float64(192738.78), np.float64(178375.68000000002), np.float64(80142.59), np.float64(3577608.9), np.float64(161638.40000000002), np.float64(2869380.92), np.float64(61518.8), np.float64(1713313.6199999999), np.float64(44010.12), np.float64(26669.68), np.float64(223426.56000000003), np.float64(389719.59), np.float64(2880559.2800000003), np.float64(159898.25999999998), np.float64(90961.92000000001), np.float64(432825.3), np.float64(906314.29), np.float64(273100.80000000005), np.float64(431269.44), np.float64(313152.14), np.float64(2342039.18), np.float64(184683.52000000002), np.float64(583324.91), np.float64(562947.63), np.float64(1140651.4), np.float64(25642.260000000002), np.float64(3910.17), np.float64(952572.74), np.float64(2490468.01), np.float64(2051018.7200000002), np.float64(2591851.83), np.float64(38682.8), np.float64(979060.94), np.float64(46647.72), np.float64(63110.4), np.float64(2400024.89), np.float64(3306723.04), np.float64(191680.44), np.float64(195226.71000000002), np.float64(162701.22), np.float64(622688.64), np.float64(276827.32), np.float64(1757076.42), np.float64(31098.48), np.float64(4394965.12), np.float64(3195149.3200000003), np.float64(92191.0), np.float64(2357720.85), np.float64(72258.67), np.float64(1623599.88), np.float64(179020.53), np.float64(712871.04), np.float64(543715.2), np.float64(4933435.180000001), np.float64(70667.49), np.float64(311192.31), np.float64(36765.96), np.float64(1520730.75), np.float64(4875140.54), np.float64(1158505.14), np.float64(928992.96), np.float64(570636.11), np.float64(4373441.760000001), np.float64(240600.78000000003), np.float64(8061.8), np.float64(620142.6000000001), np.float64(660448.32), np.float64(1844184.4800000002), np.float64(956203.15), np.float64(372378.57), np.float64(782088.93), np.float64(307077.12000000005), np.float64(3481695.43), np.float64(1846331.96), np.float64(1152068.75), np.float64(544488.8400000001), np.float64(2159569.33), np.float64(5070588.640000001), np.float64(155514.24), np.float64(4062030.8200000003), np.float64(434372.61000000004), np.float64(1720293.9200000002), np.float64(814317.36), np.float64(1582876.63), np.float64(345290.31), np.float64(2885062.59), np.float64(222021.36), np.float64(85729.28000000001), np.float64(467652.99000000005), np.float64(672114.72), np.float64(98222.09), np.float64(197447.69), np.float64(4376118.32), np.float64(248407.04000000004), np.float64(1098552.44), np.float64(239124.48), np.float64(183070.72000000003), np.float64(776905.92), np.float64(737060.6699999999), np.float64(783465.9), np.float64(1156273.26), np.float64(452736.63), np.float64(106648.65), np.float64(8816.640000000001), np.float64(265859.01), np.float64(672245.4900000001), np.float64(17459.16), np.float64(222860.33), np.float64(158986.24000000002), np.float64(892355.52), np.float64(304568.32), np.float64(2098061.57), np.float64(822007.2000000001), np.float64(283637.76), np.float64(151173.12000000002), np.float64(44550.96), np.float64(157137.97), np.float64(41803.72), np.float64(2542381.2800000003), np.float64(633101.76), np.float64(2672448.32), np.float64(328686.0), np.float64(1383269.17), np.float64(4172087.08), np.float64(87838.5), np.float64(1606902.56), np.float64(56915.46), np.float64(4234852.32), np.float64(520319.73), np.float64(3768547.46), np.float64(518118.74000000005), np.float64(1383995.1600000001), np.float64(350978.67), np.float64(856378.7400000001), np.float64(2198716.01), np.float64(102701.76), np.float64(2771788.8000000003), np.float64(3544786.8), np.float64(662606.91), np.float64(2923502.24), np.float64(1040943.49), np.float64(167310.77), np.float64(412274.25), np.float64(4451499.32), np.float64(342666.24000000005), np.float64(248056.86), np.float64(4764012.0), np.float64(227548.16000000003), np.float64(135775.09), np.float64(3283624.8000000003), np.float64(254108.28), np.float64(33670.18), np.float64(263030.46), np.float64(18974.64), np.float64(443974.37999999995), np.float64(409911.56), np.float64(886632.11), np.float64(320577.6), np.float64(3253177.12), np.float64(739624.6200000001), np.float64(2862606.8800000004), np.float64(30102.0), np.float64(2037297.1600000001), np.float64(500719.37), np.float64(3182083.2800000003), np.float64(572731.36), np.float64(799982.4), np.float64(3017445.06), np.float64(60404.68), np.float64(2395648.61), np.float64(118289.63999999998), np.float64(31520.6), np.float64(1097352.21), np.float64(1278993.8099999998), np.float64(148206.24), np.float64(1156344.14), np.float64(46844.0), np.float64(238045.91999999998), np.float64(3220212.7), np.float64(239767.68), np.float64(1943797.7), np.float64(38585.92), np.float64(106178.59999999999), np.float64(11062.92), np.float64(746626.2300000001), np.float64(460273.74), np.float64(783817.23), np.float64(188985.6), np.float64(4728398.86), np.float64(759575.46), np.float64(1120508.48), np.float64(232783.71999999997), np.float64(355150.89), np.float64(60210.259999999995), np.float64(207684.07), np.float64(3871065.62), np.float64(334243.84), np.float64(3093636.24), np.float64(207692.80000000002), np.float64(836399.62), np.float64(152714.24000000002), np.float64(361837.95), np.float64(2487785.44), np.float64(1678465.42), np.float64(5774.56), np.float64(29887.48), np.float64(140672.0), np.float64(208732.16000000003), np.float64(994799.2000000001), np.float64(2543241.1399999997), np.float64(377422.2), np.float64(1534098.66), np.float64(584454.02), np.float64(2443423.0), np.float64(616232.6100000001), np.float64(595911.96), np.float64(228493.44), np.float64(381645.92000000004), np.float64(3232703.68), np.float64(2310311.15), np.float64(350586.88), np.float64(1193759.04), np.float64(1963388.48), np.float64(289884.84), np.float64(92467.36), np.float64(2272485.88), np.float64(3901720.56), np.float64(373631.37000000005), np.float64(394632.0), np.float64(1373787.23), np.float64(21617.2), np.float64(207.6), np.float64(295608.32), np.float64(572317.7999999999), np.float64(2215127.06), np.float64(281649.9), np.float64(1828036.8599999999), np.float64(486633.83999999997), np.float64(1599553.12), np.float64(1498347.7), np.float64(2166509.92), np.float64(3108617.56), np.float64(240716.66), np.float64(269012.49), np.float64(368712.95999999996), np.float64(290304.0), np.float64(198798.36000000002), np.float64(84577.92), np.float64(141338.34), np.float64(54951.72), np.float64(317741.05), np.float64(1307675.36), np.float64(3541901.92), np.float64(949293.66), np.float64(229174.11), np.float64(510078.10000000003), np.float64(484601.18), np.float64(285608.96), np.float64(609776.5800000001), np.float64(129984.95999999999), np.float64(199761.75), np.float64(1889550.4000000001), np.float64(30925.48), np.float64(3263975.5), np.float64(4397589.92), np.float64(130086.71999999999), np.float64(896418.6599999999), np.float64(16260.839999999998), np.float64(1277509.07), np.float64(175703.33), np.float64(53242.479999999996), np.float64(232386.56000000003), np.float64(1628169.39), np.float64(2213756.3200000003), np.float64(184145.92), np.float64(20962.69), np.float64(915070.7999999999), np.float64(275706.51), np.float64(877934.4), np.float64(313384.96), np.float64(2963399.2), np.float64(2543767.8), np.float64(2033146.75), np.float64(1559656.1600000001), np.float64(307252.47000000003), np.float64(2175495.66), np.float64(3086098.14), np.float64(2013453.49), np.float64(510117.30000000005), np.float64(258260.4), np.float64(4619850.22), np.float64(233720.08), np.float64(3007963.12), np.float64(147378.44), np.float64(263402.16000000003), np.float64(183070.72000000003), np.float64(265102.26), np.float64(150968.88), np.float64(224597.1), np.float64(1745492.0000000002), np.float64(863380.3500000001), np.float64(55159.32), np.float64(173478.03), np.float64(13452.48), np.float64(3679597.8800000004), np.float64(963346.86), np.float64(303027.2), np.float64(618514.24), np.float64(453801.25), np.float64(959348.86), np.float64(496612.16000000003), np.float64(68888.6), np.float64(1184331.18), np.float64(342003.45), np.float64(20898.4), np.float64(3137859.7600000002), np.float64(1145921.35), np.float64(636492.85), np.float64(38592.84), np.float64(1633757.54), np.float64(1416091.27), np.float64(512410.14), np.float64(281627.61), np.float64(396576.66000000003), np.float64(87549.66), np.float64(890318.73), np.float64(4288676.36), np.float64(488325.39), np.float64(1463953.8599999999), np.float64(45367.52), np.float64(3428815.38), np.float64(607332.46), np.float64(2416800.63), np.float64(2117201.02), np.float64(3146402.94), np.float64(1808641.46), np.float64(187402.05), np.float64(276233.17), np.float64(619231.2), np.float64(25763.16), np.float64(232006.98), np.float64(528051.06), np.float64(558822.87), np.float64(34260.92), np.float64(5056414.720000001), np.float64(418054.59), np.float64(386725.29000000004), np.float64(283432.56), np.float64(52633.52), np.float64(103649.43000000001), np.float64(623491.62), np.float64(896545.44), np.float64(56065.84), np.float64(247475.2), np.float64(3516707.04), np.float64(3132436.3200000003), np.float64(1829090.18), np.float64(237547.52000000002), np.float64(951167.42), np.float64(2664696.96), np.float64(277908.18), np.float64(3512252.06), np.float64(4719390.4), np.float64(1863586.41), np.float64(190498.35), np.float64(134535.28), np.float64(725166.75), np.float64(12082.56), np.float64(1042766.22), np.float64(67020.8), np.float64(844830.6300000001), np.float64(232279.04), np.float64(744433.9099999999), np.float64(18995.4), np.float64(4517332.0600000005), np.float64(674700.6000000001), np.float64(311344.32), np.float64(89768.16), np.float64(27077.96), np.float64(578111.52), np.float64(283350.0), np.float64(10414.6), np.float64(932403.36), np.float64(727253.1), np.float64(49215.04), np.float64(797092.38), np.float64(463115.1), np.float64(1266903.34), np.float64(275078.87), np.float64(400524.38), np.float64(4735139.2), np.float64(688158.2400000001), np.float64(248583.52), np.float64(27575.52), np.float64(1089474.33), np.float64(125009.92000000001), np.float64(228130.28), np.float64(522183.38999999996), np.float64(1578257.9999999998), np.float64(897933.7500000001), np.float64(458415.33), np.float64(3063986.3800000004), np.float64(1121519.7), np.float64(1446789.76), np.float64(142822.40000000002), np.float64(1578098.5799999998), np.float64(180950.7), np.float64(177222.57), np.float64(814114.8), np.float64(3086098.14), np.float64(1839798.9400000002), np.float64(726795.7799999999), np.float64(2148861.04), np.float64(65651.46), np.float64(456986.88), np.float64(199514.04), np.float64(490195.5), np.float64(291252.57), np.float64(151767.08000000002), np.float64(887182.4), np.float64(72107.49), np.float64(581723.58), np.float64(48098.27), np.float64(646876.02), np.float64(218916.21000000002), np.float64(728708.82), np.float64(178222.80000000002), np.float64(2047654.0799999998), np.float64(1486513.32), np.float64(371733.6), np.float64(49556.850000000006), np.float64(2955437.74), np.float64(807781.1399999999), np.float64(335696.72000000003), np.float64(750536.2200000001), np.float64(168531.19999999998), np.float64(2483201.9), np.float64(891088.7999999999), np.float64(210990.22999999998), np.float64(4055.12), np.float64(38080.76), np.float64(13445.56), np.float64(309871.56), np.float64(16469.6), np.float64(259423.29), np.float64(290566.08), np.float64(363158.88), np.float64(4051116.3200000003), np.float64(40329.76), np.float64(115118.08000000002), np.float64(3920926.24), np.float64(399863.52), np.float64(439645.86), np.float64(236136.12), np.float64(2317240.26), np.float64(1550661.88), np.float64(765683.52), np.float64(1948903.36), np.float64(2120596.4899999998), np.float64(4113061.6), np.float64(3322690.59), np.float64(1156431.99), np.float64(275523.93), np.float64(532499.17), np.float64(1239955.52), np.float64(1421192.01), np.float64(1159968.65), np.float64(211249.91999999998), np.float64(7600.32), np.float64(444011.19000000006), np.float64(63055.04), np.float64(840127.6799999999), np.float64(289447.95), np.float64(1283207.0899999999), np.float64(612312.96), np.float64(4796034.5600000005), np.float64(10999.34), np.float64(863559.2000000001), np.float64(3193331.68), np.float64(250441.62), np.float64(3146180.63), np.float64(458856.99), np.float64(1071205.17), np.float64(1475900.43), np.float64(4949516.46), np.float64(857015.2500000001), np.float64(898350.8099999999), np.float64(741713.28), np.float64(402741.29), np.float64(25813.48), np.float64(14264.320000000002), np.float64(1485636.8), np.float64(282283.68), np.float64(364912.8), np.float64(675143.7), np.float64(108206.70000000001), np.float64(4650095.680000001), np.float64(511844.97000000003), np.float64(37478.72), np.float64(1185359.6800000002), np.float64(879445.0), np.float64(896935.2), np.float64(2589102.72), np.float64(730940.7), np.float64(2784772.84), np.float64(2379186.55), np.float64(308701.96), np.float64(61539.56), np.float64(2369390.93), np.float64(810172.44), np.float64(3719298.54), np.float64(63007.78), np.float64(204136.8), np.float64(3366515.46), np.float64(359072.64), np.float64(4761063.96), np.float64(281181.11), np.float64(292360.53), np.float64(1555753.64), np.float64(137332.8), np.float64(201600.00000000003), np.float64(151225.03), np.float64(3115181.98), np.float64(431756.64), np.float64(165219.81000000003), np.float64(234705.57), np.float64(1772961.12), np.float64(164128.65000000002), np.float64(249195.52000000002), np.float64(219202.49999999997), np.float64(768996.48), np.float64(691563.96), np.float64(529212.6000000001), np.float64(2440279.11), np.float64(300523.65), np.float64(559902.91), np.float64(487200.0), np.float64(482658.39), np.float64(38847.38), np.float64(307154.98), np.float64(607928.16), np.float64(364914.76), np.float64(277294.08), np.float64(31036.2), np.float64(199648.41), np.float64(226150.40000000002), np.float64(4143442.3000000003), np.float64(94725.12000000001), np.float64(3476069.18), np.float64(1715137.07), np.float64(111373.92), np.float64(288296.96), np.float64(23304.89), np.float64(346473.60000000003), np.float64(3502482.76), np.float64(1472721.96), np.float64(3773412.4800000004), np.float64(426101.73000000004), np.float64(151066.08), np.float64(508046.55), np.float64(239138.62), np.float64(2500384.48), np.float64(407797.32), np.float64(213821.44000000003), np.float64(1586547.8399999999), np.float64(1297519.38), np.float64(469368.48), np.float64(77808.64000000001), np.float64(515209.38000000006), np.float64(128629.76000000001), np.float64(1153329.3), np.float64(953060.64), np.float64(329999.39999999997), np.float64(721153.44), np.float64(1319546.63), np.float64(22178.6), np.float64(431882.07), np.float64(1468241.94), np.float64(1689525.2799999998), np.float64(651071.2799999999), np.float64(142609.94), np.float64(805244.16), np.float64(12472.320000000002), np.float64(60979.04), np.float64(263969.79000000004), np.float64(624196.3), np.float64(9918.48), np.float64(2048393.9200000002), np.float64(14815.72), np.float64(88757.68), np.float64(1478817.95), np.float64(86500.59), np.float64(728541.3099999999), np.float64(880202.4), np.float64(2180481.51), np.float64(255369.07), np.float64(69347.7), np.float64(117623.0), np.float64(300415.5), np.float64(98517.20999999999), np.float64(272922.72000000003), np.float64(1593243.48), np.float64(881752.0199999999), np.float64(349289.22), np.float64(1929251.06), np.float64(282576.0), np.float64(459188.31), np.float64(172333.02), np.float64(398993.77), np.float64(243989.75999999998), np.float64(657249.92), np.float64(565339.92), np.float64(66598.08), np.float64(4716840.44), np.float64(423376.8), np.float64(4980673.94), np.float64(1266903.34), np.float64(295996.69), np.float64(1573475.4), np.float64(657455.54), np.float64(177377.1), np.float64(643147.89), np.float64(6379.52), np.float64(2586690.59), np.float64(42647.96), np.float64(79792.9), np.float64(215219.2), np.float64(212452.57), np.float64(1569934.96), np.float64(522863.04), np.float64(1436465.15), np.float64(558219.27), np.float64(10629.119999999999), np.float64(731774.4), np.float64(628195.6799999999), np.float64(44887.479999999996), np.float64(193177.6), np.float64(42213.36), np.float64(313926.08), np.float64(157015.04), np.float64(27244.03), np.float64(624713.97), np.float64(121088.11), np.float64(137878.11000000002), np.float64(537983.19), np.float64(103082.73), np.float64(14192.640000000001), np.float64(2182742.3699999996), np.float64(4628393.4), np.float64(704343.78), np.float64(48903.64), np.float64(54043.38), np.float64(1459968.3599999999), np.float64(58461.81), np.float64(234326.61000000002), np.float64(138222.91999999998), np.float64(1427127.8399999999), np.float64(106655.45), np.float64(134298.3), np.float64(2945965.82), np.float64(262850.56), np.float64(2177009.12), np.float64(163946.79), np.float64(375571.77), np.float64(1891430.8800000001), np.float64(184177.5), np.float64(265446.5), np.float64(59525.84), np.float64(63248.8), np.float64(632159.78), np.float64(256002.46), np.float64(280919.52), np.float64(110566.40000000001), np.float64(2269830.56), np.float64(212495.36000000002), np.float64(672123.67), np.float64(134058.43), np.float64(223498.24000000002), np.float64(35880.2), np.float64(2558130.08), np.float64(559492.29), np.float64(26697.36), np.float64(338115.72), np.float64(2360490.1199999996), np.float64(3036408.94), np.float64(294173.97000000003), np.float64(108919.74), np.float64(1152324.22), np.float64(4035396.2), np.float64(227303.37), np.float64(1567866.8199999998), np.float64(84473.97), np.float64(912169.79), np.float64(2324247.5), np.float64(611046.24), np.float64(4400742.78), np.float64(413294.31), np.float64(1428126.04), np.float64(964577.7899999999), np.float64(201575.19), np.float64(21002.24), np.float64(1201389.1199999999), np.float64(352090.71), np.float64(257055.12), np.float64(168053.76), np.float64(83865.6), np.float64(8399.36), np.float64(444941.22), np.float64(46184.08), np.float64(890572.98), np.float64(4758762.4), np.float64(689650.9199999999), np.float64(165276.21), np.float64(2045020.7799999998), np.float64(256640.66999999998), np.float64(427098.21), np.float64(17548.079999999998), np.float64(96385.8), np.float64(752236.7999999999), np.float64(111299.88), np.float64(666121.68), np.float64(51747.76), np.float64(49304.64), np.float64(130472.16), np.float64(366258.21), np.float64(1826230.36), np.float64(49687.77), np.float64(768899.04), np.float64(59013.76), np.float64(266859.03), np.float64(6193.4), np.float64(481354.98000000004), np.float64(890153.11), np.float64(1289867.22), np.float64(127451.52), np.float64(62985.84), np.float64(3026919.3600000003), np.float64(225648.64), np.float64(150118.83000000002), np.float64(2113486.58), np.float64(1444299.96), np.float64(380057.27999999997), np.float64(2698639.8000000003), np.float64(319052.10000000003), np.float64(60120.96), np.float64(95852.12), np.float64(1824236.0000000002), np.float64(318088.71), np.float64(2719817.7600000002), np.float64(482940.94), np.float64(214423.55), np.float64(2744292.25), np.float64(79200.03), np.float64(384279.27), np.float64(3303048.3200000003), np.float64(1743218.2), np.float64(836868.0599999999), np.float64(255651.13), np.float64(44485.950000000004), np.float64(645501.3), np.float64(63068.88), np.float64(945838.8599999999), np.float64(419096.37000000005), np.float64(247579.25999999998), np.float64(142808.4), np.float64(364115.27999999997), np.float64(669881.31), np.float64(228760.84), np.float64(631808.45), np.float64(892162.0399999999), np.float64(58204.12), np.float64(1224689.98), np.float64(999600.6799999999), np.float64(1011613.02), np.float64(957204.5499999999), np.float64(522863.04), np.float64(1801933.29), np.float64(42447.28), np.float64(1578013.63), np.float64(208813.91999999998), np.float64(134477.91), np.float64(2298870.9), np.float64(548338.92), np.float64(151829.04), np.float64(955399.2), np.float64(3565521.3000000003), np.float64(39498.99), np.float64(220463.65), np.float64(6199.73), np.float64(754694.2799999999), np.float64(2301193.9), np.float64(942969.72), np.float64(145488.0), np.float64(385997.85000000003), np.float64(1299751.26), np.float64(651058.8), np.float64(204144.64), np.float64(737533.2300000001), np.float64(850164.0), np.float64(49138.92), np.float64(50453.72), np.float64(177753.3), np.float64(326645.76), np.float64(1379069.9200000002), np.float64(786544.5000000001), np.float64(2195118.88), np.float64(207525.54), np.float64(123629.91), np.float64(264079.52999999997), np.float64(635211.36), np.float64(241789.47), np.float64(339189.76), np.float64(238977.39), np.float64(198582.72), np.float64(139578.21), np.float64(64946.97), np.float64(60903.23), np.float64(214708.64), np.float64(827265.6), np.float64(269158.4), np.float64(837010.65), np.float64(260736.00000000003), np.float64(1284523.74), np.float64(1061367.93), np.float64(661547.66), np.float64(55491.479999999996), np.float64(16150.95), np.float64(87676.81999999999), np.float64(4175102.3200000003), np.float64(1848844.6600000001), np.float64(1150215.2999999998), np.float64(188544.28), np.float64(982552.9), np.float64(2244888.25), np.float64(55467.3), np.float64(21943.32), np.float64(169738.24000000002), np.float64(2735325.22), np.float64(2820610.08), np.float64(4313803.36), np.float64(453740.7), np.float64(3263676.3200000003), np.float64(106910.72000000002), np.float64(492802.32), np.float64(1086897.91), np.float64(1167737.38), np.float64(1451335.52), np.float64(1273606.38), np.float64(3293144.62), np.float64(846342.62), np.float64(287731.29), np.float64(361752.79), np.float64(3192636.62), np.float64(720100.1399999999), np.float64(676494.7699999999), np.float64(1003626.88), np.float64(460196.73000000004), np.float64(95872.00000000001), np.float64(846649.2300000001), np.float64(911121.7999999999), np.float64(578757.62), np.float64(2628474.72), np.float64(11548.11), np.float64(263798.85000000003), np.float64(250844.16000000003), np.float64(150398.49), np.float64(1401780.0599999998), np.float64(4805483.840000001), np.float64(5158256.96), np.float64(371176.26), np.float64(1694045.9200000002), np.float64(255877.02000000002), np.float64(68646.4), np.float64(271105.12), np.float64(668112.55), np.float64(246881.13999999998), np.float64(921187.26), np.float64(24697.48), np.float64(30136.92), np.float64(1695569.96), np.float64(1069916.96), np.float64(192106.97), np.float64(15590.76), np.float64(26004.219999999998), np.float64(575768.76), np.float64(536032.3500000001), np.float64(62935.04000000001), np.float64(79242.24), np.float64(221002.13999999998), np.float64(58705.920000000006), np.float64(105907.20000000001), np.float64(180090.35), np.float64(440225.04000000004), np.float64(233497.60000000003), np.float64(2961.7599999999998), np.float64(2078733.0), np.float64(559987.6799999999), np.float64(13987.6), np.float64(2560884.25), np.float64(182340.27), np.float64(936411.5599999999), np.float64(57879.36), np.float64(1403022.24), np.float64(680813.28), np.float64(414996.95999999996), np.float64(529433.82), np.float64(287434.25999999995), np.float64(755317.62), np.float64(52703.1), np.float64(1100248.45), np.float64(2274496.04), np.float64(3065996.54), np.float64(640692.78), np.float64(191622.84), np.float64(409384.08), np.float64(153132.43), np.float64(5877.76), np.float64(659329.3), np.float64(44190.72), np.float64(3261422.67), np.float64(1093573.18), np.float64(307399.68000000005), np.float64(1363893.56), np.float64(1362562.74), np.float64(861344.05), np.float64(884525.47), np.float64(121215.26999999999), np.float64(756881.93), np.float64(608269.34), np.float64(42217.119999999995), np.float64(189334.47), np.float64(131521.5), np.float64(1996088.8800000001), np.float64(3207083.86), np.float64(1716619.2000000002), np.float64(78261.27), np.float64(1085375.48), np.float64(200141.76), np.float64(2200107.3600000003), np.float64(1395649.0), np.float64(225773.28), np.float64(60401.0), np.float64(3550947.64), np.float64(244655.84), np.float64(2473501.88), np.float64(1445418.3699999999), np.float64(3005045.6), np.float64(200594.9), np.float64(2559180.0), np.float64(899607.0599999999), np.float64(2361016.78), np.float64(848104.1100000001), np.float64(2699142.3400000003), np.float64(522544.82), np.float64(987925.7399999999), np.float64(219090.56), np.float64(435190.98000000004), np.float64(1457895.9), np.float64(1910985.8099999998), np.float64(8783.85), np.float64(806912.8200000001), np.float64(3189132.0), np.float64(245647.36000000002), np.float64(1399548.18), np.float64(2618026.86), np.float64(901417.44), np.float64(58171.68), np.float64(180069.12), np.float64(3627936.12), np.float64(148588.74), np.float64(62176.2), np.float64(3908327.2), np.float64(2400633.58), np.float64(92475.81000000001), np.float64(443846.9), np.float64(552257.92), np.float64(200318.79), np.float64(761811.54), np.float64(156217.74000000002), np.float64(734164.0399999999), np.float64(1819083.64), np.float64(817824.6), np.float64(101922.23999999999), np.float64(1834271.0), np.float64(2919757.4), np.float64(1922718.04), np.float64(786475.1), np.float64(661752.4199999999), np.float64(376904.85000000003), np.float64(14102.96), np.float64(16919.4), np.float64(47436.6), np.float64(2503214.98), np.float64(965220.62), np.float64(348973.86), np.float64(161962.86000000002), np.float64(3850964.02), np.float64(87988.31999999999), np.float64(110064.64000000001), np.float64(285156.48000000004), np.float64(2117163.68), np.float64(131419.86), np.float64(800859.24), np.float64(457404.20999999996), np.float64(3486119.98), np.float64(358041.06), np.float64(1210406.11), np.float64(390734.39999999997), np.float64(114782.4), np.float64(999864.0099999999), np.float64(2430272.57), np.float64(469794.3), np.float64(9252.039999999999), np.float64(331376.64), np.float64(184396.80000000002), np.float64(2302820.85), np.float64(2680836.19), np.float64(5011793.12), np.float64(1045954.6199999999), np.float64(4154498.18), np.float64(238997.22), np.float64(1557031.36), np.float64(887809.98), np.float64(267085.71), np.float64(1310856.74), np.float64(3127711.68), np.float64(147001.98), np.float64(2312689.08), np.float64(438866.56000000006), np.float64(1072917.98), np.float64(172503.03), np.float64(696696.0), np.float64(207582.21), np.float64(243316.91999999998), np.float64(289563.86), np.float64(976937.76), np.float64(150922.24000000002), np.float64(692704.7400000001), np.float64(4584475.680000001), np.float64(1772474.23), np.float64(32686.08), np.float64(87525.6), np.float64(25295.76), np.float64(594317.76), np.float64(215856.03), np.float64(110691.84), np.float64(136576.86000000002), np.float64(563767.54), np.float64(545788.77), np.float64(772212.0), np.float64(673390.08), np.float64(147338.24000000002), np.float64(41100.36), np.float64(154112.00000000003), np.float64(622544.16), np.float64(2242254.9499999997), np.float64(1870956.4200000002), np.float64(526883.1), np.float64(230988.80000000002), np.float64(187974.27), np.float64(310231.31999999995), np.float64(4222778.24), np.float64(237806.88), np.float64(452513.04), np.float64(134686.72), np.float64(266112.0), np.float64(1548924.72), np.float64(1038046.86), np.float64(2036428.96), np.float64(900575.9), np.float64(130943.01), np.float64(278427.66000000003), np.float64(608665.5599999999), np.float64(1558081.28), np.float64(68051.28), np.float64(944547.1), np.float64(262778.79), np.float64(1526716.52), np.float64(1768524.2799999998), np.float64(92826.8), np.float64(502039.53), np.float64(173767.23), np.float64(4601.8), np.float64(787899.84), np.float64(81895.62999999999), np.float64(793818.9), np.float64(853739.29), np.float64(1057432.8599999999), np.float64(572131.56), np.float64(391147.4), np.float64(111696.57), np.float64(60363.159999999996), np.float64(721802.3400000001), np.float64(277245.57), np.float64(169499.97), np.float64(88235.19), np.float64(1879499.6), np.float64(91578.72), np.float64(760447.5900000001), np.float64(3600949.06), np.float64(1467512.56), np.float64(358149.12000000005), np.float64(850505.7), np.float64(49747.88), np.float64(377932.23000000004), np.float64(3213648.28), np.float64(895526.28), np.float64(651513.4500000001), np.float64(466250.39999999997), np.float64(238107.1), np.float64(3457911.52), np.float64(155404.97), np.float64(206832.64), np.float64(3067341.2800000003), np.float64(53581.56), np.float64(37690.5), np.float64(4974140.92), np.float64(274857.17), np.float64(630508.62), np.float64(33637.619999999995), np.float64(826553.7000000001), np.float64(915071.75), np.float64(104437.76000000001), np.float64(2541397.83), np.float64(388586.19), np.float64(184290.84), np.float64(139812.41999999998), np.float64(160440.7), np.float64(510935.67000000004), np.float64(1648374.4000000001), np.float64(4177631.68), np.float64(2019214.44), np.float64(658158.2), np.float64(218410.15), np.float64(211133.44000000003), np.float64(507819.87), np.float64(134726.02), np.float64(1267548.42), np.float64(564001.76), np.float64(252421.12000000002), np.float64(8124.08), np.float64(3250552.3200000003), np.float64(1956561.85), np.float64(227457.44999999998), np.float64(3515769.8400000003), np.float64(765001.44), np.float64(46128.72), np.float64(1008809.7599999999), np.float64(2174646.47), np.float64(187658.24000000002), np.float64(434243.88), np.float64(6594.56), np.float64(59968.72), np.float64(3399640.18), np.float64(258063.4), np.float64(1722178.2), np.float64(41388.52), np.float64(350881.44), np.float64(1023892.73), np.float64(2350791.7399999998), np.float64(4820363.680000001), np.float64(4837506.4), np.float64(2286241.61), np.float64(268672.47000000003), np.float64(464013.96), np.float64(2691.88), np.float64(135647.93), np.float64(149381.12000000002), np.float64(62196.12), np.float64(146062.56), np.float64(284963.84), np.float64(154477.97999999998), np.float64(1264390.6400000001), np.float64(2061347.24), np.float64(1477017.97), np.float64(110978.89), np.float64(693642.53), np.float64(4391815.36), np.float64(32773.12), np.float64(157301.76), np.float64(283781.12000000005), np.float64(28928.899999999998), np.float64(1746141.23), np.float64(477928.08), np.float64(190898.94999999998), np.float64(1065433.18), np.float64(508067.94), np.float64(1503614.2999999998), np.float64(4652720.48), np.float64(288655.36000000004), np.float64(2092683.5099999998), np.float64(322028.39999999997), np.float64(4631911.180000001), np.float64(262776.14), np.float64(100792.32), np.float64(444972.84), np.float64(500549.27999999997), np.float64(753600.96), np.float64(903748.5599999999), np.float64(30654.940000000002), np.float64(32868.6), np.float64(28574.84), np.float64(481747.14), np.float64(756446.67), np.float64(112824.32), np.float64(25876.480000000003), np.float64(283630.38), np.float64(711145.5), np.float64(281139.87), np.float64(1858392.9200000002), np.float64(615413.05), np.float64(834828.3300000001), np.float64(511276.74), np.float64(530317.86), np.float64(4569251.84), np.float64(123504.15), np.float64(5229126.5600000005), np.float64(250219.09), np.float64(957022.92), np.float64(175002.24), np.float64(838057.62), np.float64(62674.44), np.float64(12716.0), np.float64(701766.84), np.float64(798221.76), np.float64(2595380.48), np.float64(62203.88), np.float64(153502.72), np.float64(28461.96), np.float64(371721.84), np.float64(91862.07), np.float64(1141822.5), np.float64(2137083.4), np.float64(354130.83), np.float64(1211581.3299999998), np.float64(36335.97), np.float64(71743.77), np.float64(489839.91000000003), np.float64(111480.18000000001), np.float64(4399689.760000001), np.float64(1105869.73), np.float64(286863.54000000004), np.float64(2559029.73), np.float64(239034.06), np.float64(1521185.64), np.float64(120064.00000000001), np.float64(4570301.760000001), np.float64(115260.65999999999), np.float64(393573.15), np.float64(72573.31), np.float64(408362.57), np.float64(1668985.5399999998), np.float64(5143033.12), np.float64(92692.15999999999), np.float64(167584.41), np.float64(1175031.18), np.float64(54515.76), np.float64(223959.84), np.float64(571485.6), np.float64(639601.62), np.float64(31271.48), np.float64(1520284.1600000001), np.float64(4284723.5200000005), np.float64(556516.94), np.float64(260262.24), np.float64(293421.7), np.float64(159416.32), np.float64(233942.61), np.float64(3080171.7399999998), np.float64(574677.6000000001), np.float64(1027346.7200000001), np.float64(814890.72), np.float64(4315696.16), np.float64(829554.39), np.float64(736805.79), np.float64(1477185.72), np.float64(644078.4), np.float64(118950.33), np.float64(530039.86), np.float64(2121401.73), np.float64(77127.68000000001), np.float64(934335.78), np.float64(64411.36), np.float64(211719.12), np.float64(3779100.8000000003), np.float64(75120.64000000001), np.float64(33908.0), np.float64(91555.2), np.float64(466445.27999999997), np.float64(402617.76), np.float64(1165041.3599999999), np.float64(668799.04), np.float64(760395.23), np.float64(316025.92000000004), np.float64(3452136.9600000004), np.float64(262212.09), np.float64(832951.96), np.float64(337077.51), np.float64(297108.07), np.float64(783089.16), np.float64(122384.64), np.float64(1221056.9600000002), np.float64(3431368.21), np.float64(4806533.760000001), np.float64(298475.52), np.float64(27260.819999999996), np.float64(32076.11), np.float64(74017.02), np.float64(706549.44), np.float64(3321421.9200000004), np.float64(1470011.8199999998), np.float64(1601594.98), np.float64(1227907.79), np.float64(297386.88), np.float64(79413.59999999999), np.float64(477845.76), np.float64(331621.71), np.float64(39531.520000000004), np.float64(68867.84), np.float64(559013.28), np.float64(306969.60000000003), np.float64(1020037.93), np.float64(239877.12000000002), np.float64(134328.32), np.float64(1500191.01), np.float64(403773.75), np.float64(188052.48), np.float64(27327.079999999998), np.float64(209395.65), np.float64(1233381.58), np.float64(352450.56000000006), np.float64(365784.07), np.float64(141585.99), np.float64(1392693.1199999999), np.float64(1112896.33), np.float64(233140.38), np.float64(169613.31), np.float64(48647.6), np.float64(136299.52000000002), np.float64(574059.4), np.float64(190003.49), np.float64(130764.48), np.float64(66232.32), np.float64(850292.57), np.float64(15036.67), np.float64(150938.91999999998), np.float64(2130267.06), np.float64(327608.1), np.float64(45650.44), np.float64(3719341.6), np.float64(2460818.8499999996), np.float64(481907.65), np.float64(2355495.52), np.float64(551059.0800000001), np.float64(1726593.4400000002), np.float64(3569585.72), np.float64(46673.76), np.float64(1618451.6800000002), np.float64(340839.95999999996), np.float64(271882.24000000005), np.float64(103635.4), np.float64(3283304.07), np.float64(2973317.57), np.float64(264705.57), np.float64(2507733.9200000004), np.float64(4014289.52), np.float64(5555.200000000001), np.float64(3058941.9200000004), np.float64(723271.36), np.float64(943925.82), np.float64(1315333.3499999999), np.float64(2257264.76), np.float64(1627376.0), np.float64(221869.2), np.float64(534284.76), np.float64(2957950.44), np.float64(691522.65), np.float64(33589.68), np.float64(293158.32), np.float64(648520.5599999999), np.float64(108559.36000000002), np.float64(4447981.54), np.float64(121660.33), np.float64(1165360.2), np.float64(2380.48), np.float64(462060.48), np.float64(742251.5800000001), np.float64(4008259.04), np.float64(63687.68000000001), np.float64(1324189.39), np.float64(310869.0), np.float64(92985.75), np.float64(1398586.15), np.float64(3671054.7), np.float64(261418.71000000002), np.float64(2179633.92), np.float64(377092.8), np.float64(535134.81), np.float64(819372.96), np.float64(600230.4), np.float64(501660.81000000006), np.float64(2750127.29), np.float64(20086.92), np.float64(1520183.5), np.float64(1307960.1099999999), np.float64(20157.96), np.float64(447409.65), np.float64(94492.8), np.float64(290667.02), np.float64(447265.92000000004), np.float64(1664809.85), np.float64(109707.29), np.float64(601711.18), np.float64(168825.78), np.float64(460008.08), np.float64(876292.41), np.float64(855036.0), np.float64(119364.0), np.float64(57858.12), np.float64(4042192.0000000005), np.float64(1094434.69), np.float64(540215.13), np.float64(12062.33), np.float64(34625.37), np.float64(526067.61), np.float64(1022136.08), np.float64(664940.82), np.float64(1745041.65), np.float64(2363369.9200000004), np.float64(2117688.64), np.float64(1153403.7), np.float64(470732.64), np.float64(1547014.98), np.float64(63497.92), np.float64(3363535.87), np.float64(288909.6), np.float64(712834.3099999999), np.float64(124328.96), np.float64(132787.2), np.float64(861879.09), np.float64(705465.6), np.float64(550955.5199999999), np.float64(286110.0), np.float64(1054636.65), np.float64(276115.44), np.float64(829138.8), np.float64(1329659.74), np.float64(317167.2), np.float64(484656.9), np.float64(227368.96000000002), np.float64(86292.57), np.float64(2540281.44), np.float64(796474.5599999999), np.float64(208447.03), np.float64(254640.11), np.float64(2034281.9200000002), np.float64(155404.97), np.float64(49263.479999999996), np.float64(2830359.09), np.float64(2437319.0), np.float64(3517070.36), np.float64(1211910.8399999999), np.float64(506346.45), np.float64(13923.039999999999), np.float64(952455.63), np.float64(1182979.1600000001), np.float64(381828.5), np.float64(110796.9), np.float64(2215131.96), np.float64(229841.69999999998), np.float64(31288.320000000003), np.float64(2819783.08), np.float64(413866.74), np.float64(201985.13999999998), np.float64(1243180.93), np.float64(99979.55), np.float64(393686.49), np.float64(1984642.98), np.float64(4559042.88), np.float64(19964.2), np.float64(27561.93), np.float64(1904139.23), np.float64(1191522.34), np.float64(728894.88), np.float64(445738.31999999995), np.float64(259338.24000000002), np.float64(905480.9400000001), np.float64(166434.47999999998), np.float64(332961.97), np.float64(248057.37), np.float64(78580.81), np.float64(2266183.66), np.float64(953060.64), np.float64(518274.42), np.float64(790404.36), np.float64(92399.79), np.float64(262492.16000000003), np.float64(95296.31999999999), np.float64(106891.68), np.float64(255718.40000000002), np.float64(913636.0199999999), np.float64(2112169.9299999997), np.float64(903566.92), np.float64(3474185.2800000003), np.float64(2468476.48), np.float64(269260.38), np.float64(1675970.9000000001), np.float64(185136.0), np.float64(28108.32), np.float64(232573.68), np.float64(1946272.0299999998), np.float64(774462.36), np.float64(47547.32), np.float64(4586575.5200000005), np.float64(83746.53000000001), np.float64(1513650.48), np.float64(839496.0399999999), np.float64(2073723.7499999998), np.float64(40080.64), np.float64(247516.94), np.float64(3586726.15), np.float64(96260.12), np.float64(516126.8), np.float64(258245.19), np.float64(329405.44), np.float64(1627642.73), np.float64(848104.1100000001), np.float64(1222805.57), np.float64(285520.2), np.float64(113028.77999999998), np.float64(4250985.86), np.float64(1174860.48), np.float64(109025.07), np.float64(300231.68000000005), np.float64(3467885.7600000002), np.float64(417827.91000000003), np.float64(675490.48), np.float64(1281896.22), np.float64(6947.68), np.float64(13231.859999999999), np.float64(333147.36), np.float64(823985.96), np.float64(225361.92), np.float64(20794.6), np.float64(734982.36), np.float64(965923.28), np.float64(186944.88), np.float64(352486.4), np.float64(2986081.72), np.float64(1350082.38), np.float64(3236259.06), np.float64(1344867.1199999999), np.float64(1113013.44), np.float64(704798.43), np.float64(1781690.7799999998), np.float64(1504710.94), np.float64(3437932.63), np.float64(232135.68000000002), np.float64(443447.72), np.float64(295429.12000000005), np.float64(645421.14), np.float64(343908.98), np.float64(436075.65), np.float64(290667.02), np.float64(339086.33999999997), np.float64(3479871.98), np.float64(2846333.12), np.float64(1658873.6), np.float64(32171.48), np.float64(4228371.5600000005), np.float64(230092.80000000002), np.float64(785340.16), np.float64(215536.19999999998), np.float64(3282088.74), np.float64(326022.51), np.float64(3386114.52), np.float64(62598.32), np.float64(634529.28), np.float64(177006.72), np.float64(135869.44), np.float64(497750.82000000007), np.float64(3590201.4400000004), np.float64(149943.57), np.float64(3824831.94), np.float64(477928.08), np.float64(632970.24), np.float64(2239925.98), np.float64(978270.95), np.float64(93967.84000000001), np.float64(155796.48), np.float64(314280.96), np.float64(1137468.11), np.float64(1753777.7999999998), np.float64(5092636.96), np.float64(930229.1200000001), np.float64(3750958.56), np.float64(34553.4), np.float64(4439061.760000001), np.float64(43096.48), np.float64(352522.24000000005), np.float64(372435.24), np.float64(644573.44), np.float64(1594056.8800000001), np.float64(191147.91), np.float64(4192691.22), np.float64(3168133.6), np.float64(304103.14), np.float64(1036237.4800000001), np.float64(71572.48000000001), np.float64(844466.91), np.float64(86266.88), np.float64(3140345.59), np.float64(243237.47), np.float64(566418.72), np.float64(3054438.12), np.float64(762824.7), np.float64(4091.8500000000004), np.float64(823189.29), np.float64(31804.32), np.float64(59996.16), np.float64(64328.32), np.float64(455434.56), np.float64(115368.95999999999), np.float64(778195.95), np.float64(32420.2), np.float64(846705.3), np.float64(1366128.74), np.float64(820461.39), np.float64(4563477.28), np.float64(431597.87), np.float64(326359.04000000004), np.float64(156465.87), np.float64(105030.72), np.float64(564587.3099999999), np.float64(1712948.93), np.float64(241129.49), np.float64(21798.0), np.float64(266346.2), np.float64(3038993.4400000004), np.float64(516334.56), np.float64(133967.88), np.float64(748955.1599999999), np.float64(810635.42), np.float64(57871.96), np.float64(759642.24), np.float64(2478336.16), np.float64(968251.95), np.float64(116287.81999999999), np.float64(1516745.71), np.float64(588829.92), np.float64(200531.52), np.float64(58437.89), np.float64(125014.02), np.float64(111856.64000000001), np.float64(23804.8), np.float64(138445.44999999998), np.float64(219700.69), np.float64(2378593.7600000002), np.float64(543741.73), np.float64(258872.32000000004), np.float64(327434.24000000005), np.float64(551114.94), np.float64(553264.32), np.float64(1323983.0999999999), np.float64(206474.24000000002), np.float64(341477.63999999996), np.float64(388453.87), np.float64(1042786.7999999999), np.float64(123072.23999999999), np.float64(154879.11000000002), np.float64(490808.01), np.float64(198231.04), np.float64(1047790.07), np.float64(24012.4), np.float64(1081759.64), np.float64(156369.92), np.float64(3207505.6), np.float64(4749505.54), np.float64(321126.4), np.float64(1500584.4400000002), np.float64(27593.719999999998), np.float64(2692870.96), np.float64(1498069.74), np.float64(3957502.5), np.float64(68509.35), np.float64(418791.3), np.float64(124985.27999999998), np.float64(3291499.2), np.float64(176658.72), np.float64(1351243.92), np.float64(3495918.34), np.float64(1344422.56), np.float64(1100719.4), np.float64(1525862.96), np.float64(35096.159999999996), np.float64(955886.4), np.float64(687341.76), np.float64(932451.5299999999), np.float64(1556417.46), np.float64(2021476.67), np.float64(237216.96), np.float64(263529.92000000004), np.float64(787362.8700000001), np.float64(1734768.08), np.float64(1229369.99), np.float64(3067866.24), np.float64(480866.39999999997), np.float64(280340.48000000004), np.float64(533776.32), np.float64(1309013.43), np.float64(974400.0), np.float64(425811.96), np.float64(15017.550000000001), np.float64(111996.17), np.float64(3892172.3000000003), np.float64(1183784.8), np.float64(1073927.98), np.float64(594773.76), np.float64(723004.7999999999), np.float64(3224588.98), np.float64(2431325.8899999997), np.float64(289694.72000000003), np.float64(647196.48), np.float64(208624.64), np.float64(624177.4400000001), np.float64(1081664.7), np.float64(502911.68000000005), np.float64(899781.4400000001), np.float64(796864.32), np.float64(704198.88), np.float64(4699754.08), np.float64(1638552.17), np.float64(12310.68), np.float64(325212.55), np.float64(151065.6), np.float64(2798995.75), np.float64(5943.84), np.float64(951840.9), np.float64(436982.37), np.float64(1943375.4), np.float64(4133391.5), np.float64(740897.64), np.float64(136251.94), np.float64(4472659.2), np.float64(205040.64), np.float64(477444.75), np.float64(190883.84000000003), np.float64(811447.7999999999), np.float64(34647.36), np.float64(830009.04), np.float64(627708.48), np.float64(1403214.8399999999), np.float64(33714.24), np.float64(517227.09), np.float64(2269904.6), np.float64(340444.16000000003), np.float64(355712.00000000006), np.float64(12303.76), np.float64(9354.240000000002), np.float64(1919939.0299999998), np.float64(676897.32), np.float64(1089922.8699999999), np.float64(30734.340000000004), np.float64(411821.97000000003), np.float64(41471.840000000004), np.float64(3957673.4400000004), np.float64(449336.43), np.float64(2984922.56), np.float64(52619.68), np.float64(1051764.91), np.float64(1593562.3199999998), np.float64(284156.25), np.float64(384400.8), np.float64(3495165.7), np.float64(599738.0399999999), np.float64(1065563.28), np.float64(1063710.13), np.float64(347289.60000000003), np.float64(302328.01), np.float64(664940.82), np.float64(2930326.72), np.float64(567870.2000000001), np.float64(451121.52999999997), np.float64(89774.95999999999), np.float64(207011.84000000003), np.float64(475232.38), np.float64(2585568.3000000003), np.float64(4221.2), np.float64(115002.02), np.float64(205013.76), np.float64(382841.76), np.float64(523120.29000000004), np.float64(394205.00999999995), np.float64(53533.12), np.float64(3033331.44), np.float64(695071.2), np.float64(946502.8800000001), np.float64(61035.520000000004), np.float64(637663.95), np.float64(3634865.23), np.float64(2033511.44), np.float64(3804730.3400000003), np.float64(156597.54), np.float64(633702.9400000001), np.float64(189235.2), np.float64(262426.45), np.float64(608737.78), np.float64(194482.98), np.float64(310324.92), np.float64(382559.81), np.float64(30288.84), np.float64(317436.63), np.float64(376458.81), np.float64(1677938.76), np.float64(241521.3), np.float64(83212.28), np.float64(49090.479999999996), np.float64(427079.52), np.float64(438282.60000000003), np.float64(448297.08), np.float64(32291.840000000004), np.float64(403037.04000000004), np.float64(289352.58), np.float64(3204895.72), np.float64(1554504.42), np.float64(58688.52), np.float64(749152.67), np.float64(621431.76), np.float64(202629.46), np.float64(253543.15), np.float64(1126461.72), np.float64(242055.66000000003), np.float64(17355.36), np.float64(2054763.99), np.float64(4486308.16), np.float64(247921.87), np.float64(17704.960000000003), np.float64(3522481.6), np.float64(527839.62), np.float64(837433.2599999999), np.float64(434578.92), np.float64(230032.44), np.float64(3612760.06), np.float64(147445.76), np.float64(267187.92), np.float64(217868.28000000003), np.float64(1514509.6), np.float64(164792.32), np.float64(50806.64), np.float64(100249.23), np.float64(1123245.2), np.float64(12822.76), np.float64(246750.77), np.float64(3173540.1), np.float64(1271674.03), np.float64(1580488.3), np.float64(577496.43), np.float64(209972.94999999998), np.float64(402644.32), np.float64(151478.91), np.float64(357719.04000000004), np.float64(29173.760000000002), np.float64(1957575.84), np.float64(297318.3), np.float64(107895.26), np.float64(4250.25), np.float64(53837.6), np.float64(508159.89), np.float64(1743917.12), np.float64(2924552.16), np.float64(415913.82), np.float64(637898.17), np.float64(78203.4), np.float64(4901551.5200000005), np.float64(475310.64999999997), np.float64(207072.18), np.float64(831163.2), np.float64(41282.22), np.float64(907587.24), np.float64(19687.4), np.float64(23929.36), np.float64(331066.14), np.float64(24012.4), np.float64(850218.6), np.float64(34174.25), np.float64(277781.02), np.float64(877388.12), np.float64(517970.11), np.float64(3812259.5200000005), np.float64(894005.35), np.float64(4141934.68), np.float64(2225.09), np.float64(70500.22), np.float64(1020.0600000000001), np.float64(553459.2), np.float64(244370.24), np.float64(124436.48000000001), np.float64(139668.48), np.float64(2585373.94), np.float64(41539.11), np.float64(274975.68), np.float64(1646823.58), np.float64(19279.12), np.float64(1793180.73), np.float64(3461586.24), np.float64(4331.92), np.float64(3332901.91), np.float64(840246.88), np.float64(39589.32), np.float64(189414.40000000002), np.float64(1093104.74), np.float64(43423.0), np.float64(1040056.08), np.float64(161165.76), np.float64(262599.68000000005), np.float64(294740.67), np.float64(26150.68), np.float64(193905.6), np.float64(719143.62), np.float64(767721.9900000001), np.float64(87843.84000000001), np.float64(43222.32), np.float64(4639951.82), np.float64(1797463.04), np.float64(68507.45), np.float64(521847.27), np.float64(4947.8), np.float64(810986.75), np.float64(2058187.2799999998), np.float64(569880.36), np.float64(257786.55000000002), np.float64(404570.88), np.float64(24448.36), np.float64(256291.84000000003), np.float64(3071054.4899999998), np.float64(558448.26), np.float64(1263244.0799999998), np.float64(108353.28), np.float64(17906.44), np.float64(663371.52), np.float64(4312021.44), np.float64(841199.52), np.float64(3172535.02), np.float64(4656395.2), np.float64(82562.55), np.float64(321699.84), np.float64(1024679.06), np.float64(914622.8), np.float64(169726.65), np.float64(581588.28), np.float64(1035940.22), np.float64(21507.36), np.float64(1740084.64), np.float64(351758.39999999997), np.float64(145832.96000000002), np.float64(4187605.9200000004), np.float64(315499.52), np.float64(143318.43), np.float64(144045.3), np.float64(44513.280000000006), np.float64(51816.96), np.float64(200498.46), np.float64(83924.18000000001), np.float64(12843.16), np.float64(2964929.7), np.float64(61816.36), np.float64(2501959.3600000003), np.float64(1552272.5399999998), np.float64(405587.19), np.float64(215950.84), np.float64(2479911.04), np.float64(62289.920000000006), np.float64(19353.600000000002), np.float64(4587625.44), np.float64(401563.62), np.float64(489778.67), np.float64(711969.72), np.float64(500259.95999999996), np.float64(673115.52), np.float64(4121.6), np.float64(552815.85), np.float64(579062.6699999999), np.float64(24446.51), np.float64(5452.96), np.float64(22497.99), np.float64(906548.51), np.float64(4448511.04), np.float64(194539.52000000002), np.float64(4302572.16), np.float64(117065.49), np.float64(1170142.7999999998), np.float64(1896.08), np.float64(39679.28), np.float64(286110.0), np.float64(147991.46), np.float64(246523.19999999998), np.float64(67179.36), np.float64(3544004.9600000004), np.float64(480853.66), np.float64(164513.25), np.float64(427734.72000000003), np.float64(59989.479999999996), np.float64(46484.48), np.float64(63043.68), np.float64(367872.00999999995), np.float64(1542638.7), np.float64(89806.75), np.float64(2570890.79), np.float64(951308.2200000001), np.float64(144211.19999999998), np.float64(883878.24), np.float64(1467011.43), np.float64(541141.83), np.float64(962220.0), np.float64(1075447.3199999998), np.float64(451829.91000000003), np.float64(407343.96), np.float64(860379.66), np.float64(503545.08), np.float64(4885802.720000001), np.float64(1135237.86), np.float64(145380.48), np.float64(14123.72), np.float64(2726.48), np.float64(3353324.55), np.float64(4677139.78), np.float64(770177.1000000001), np.float64(1772961.12), np.float64(313799.43000000005), np.float64(1075176.39), np.float64(782638.08), np.float64(458719.87), np.float64(41734.52), np.float64(2586163.9299999997), np.float64(328742.67), np.float64(709937.6799999999), np.float64(327434.24000000005), np.float64(140031.57), np.float64(452849.97000000003), np.float64(1773122.78), np.float64(38468.28), np.float64(616502.88), np.float64(2077673.7), np.float64(230032.44), np.float64(1124682.43), np.float64(4876145.62), np.float64(1143642.19), np.float64(939339.3099999999), np.float64(400867.52999999997), np.float64(65464.49), np.float64(14850.32), np.float64(15140.96), np.float64(27562.36), np.float64(470288.99999999994), np.float64(1123939.36), np.float64(888068.16), np.float64(22739.12), np.float64(509543.55), np.float64(34343.96), np.float64(49465.24), np.float64(372564.54), np.float64(134507.52000000002), np.float64(1661527.64), np.float64(1138197.49), np.float64(415581.6), np.float64(1119606.66), np.float64(161366.04), np.float64(329479.38), np.float64(5563.68), np.float64(289924.8), np.float64(1612294.49), np.float64(1296050.6600000001), np.float64(867550.88), np.float64(173920.23), np.float64(63725.85999999999), np.float64(39536.159999999996), np.float64(320412.18), np.float64(532834.4), np.float64(4043766.8800000004), np.float64(133457.85), np.float64(11521.8), np.float64(4832424.640000001), np.float64(168677.74), np.float64(5268.4800000000005), np.float64(500792.79000000004), np.float64(628725.5599999999), np.float64(255754.24000000002), np.float64(8900.36), np.float64(389991.73), np.float64(34641.52), np.float64(547489.53), np.float64(705002.2), np.float64(1110319.91), np.float64(1129057.51), np.float64(2676025.5), np.float64(2394867.52), np.float64(427858.5), np.float64(2295650.08), np.float64(834994.3), np.float64(1224993.71), np.float64(581564.1599999999), np.float64(750445.29), np.float64(20995.28), np.float64(903658.5599999999), np.float64(414100.96), np.float64(2925602.08), np.float64(5178205.44), np.float64(478733.93999999994), np.float64(5007308.5600000005), np.float64(246937.60000000003), np.float64(186361.97999999998), np.float64(737795.7599999999), np.float64(127565.28000000001), np.float64(1321126.6099999999), np.float64(210918.40000000002), np.float64(382409.16000000003), np.float64(37084.28), np.float64(193018.02000000002), np.float64(64887.15), np.float64(237407.72), np.float64(3871568.16), np.float64(811220.97), np.float64(945780.36), np.float64(45969.56), np.float64(181041.63), np.float64(269421.6), np.float64(52744.24), np.float64(3577602.4000000004), np.float64(1081670.54), np.float64(56949.76), np.float64(560466.3), np.float64(146442.24000000002), np.float64(3015895.2), np.float64(142248.96000000002), np.float64(121819.28), np.float64(739315.43), np.float64(422532.88), np.float64(2282544.44), np.float64(1428722.0399999998), np.float64(123550.49999999999), np.float64(405642.72), np.float64(2581640.51), np.float64(1828300.19), np.float64(1671355.51), np.float64(195254.18), np.float64(193131.36000000002), np.float64(276792.32), np.float64(37563.07), np.float64(1974796.35), np.float64(117873.6), np.float64(56467.2), np.float64(184755.2), np.float64(897660.9600000001), np.float64(909944.7), np.float64(334636.35000000003), np.float64(598783.43), np.float64(2205145.52), np.float64(64058.44), np.float64(1691549.6400000001), np.float64(2885705.12), np.float64(2170365.86), np.float64(242144.43), np.float64(499262.7), np.float64(90322.18999999999), np.float64(814317.36), np.float64(43229.24), np.float64(101982.31999999999), np.float64(3812770.98), np.float64(50010.84), np.float64(389209.56), np.float64(307091.39999999997), np.float64(226490.74), np.float64(2051870.82), np.float64(639056.04), np.float64(2035804.23), np.float64(765694.2599999999), np.float64(89994.24), np.float64(58280.24), np.float64(4151383.68), np.float64(141051.63), np.float64(660088.9), np.float64(1228649.94), np.float64(397455.03), np.float64(717645.6), np.float64(535426.92), np.float64(824050.08), np.float64(7248.12), np.float64(343705.60000000003), np.float64(2132277.22), np.float64(582496.32), np.float64(350163.93), np.float64(165053.68), np.float64(1954009.02), np.float64(313456.64), np.float64(569281.09), np.float64(35651.84), np.float64(61131.28), np.float64(12764.99), np.float64(47010.810000000005), np.float64(58889.2), np.float64(3103511.9), np.float64(38094.6), np.float64(509903.51999999996), np.float64(87915.52), np.float64(276233.17), np.float64(819259.3799999999), np.float64(1271055.66), np.float64(74364.85), np.float64(9584.2), np.float64(2784408.15), np.float64(5470.35), np.float64(27720.88), np.float64(535459.2000000001), np.float64(2220597.41), np.float64(667658.88), np.float64(652422.75), np.float64(154085.73), np.float64(96282.33), np.float64(467640.84), np.float64(876474.27), np.float64(707890.05), np.float64(886171.37), np.float64(2794887.04), np.float64(379417.7), np.float64(832819.6799999999), np.float64(50405.28), np.float64(2829300.2), np.float64(1367736.02), np.float64(390002.94), np.float64(1139128.97), np.float64(17740.800000000003), np.float64(275676.94), np.float64(500578.8), np.float64(76199.34000000001), np.float64(598462.6799999999), np.float64(279480.32), np.float64(208092.24000000002), np.float64(646416.96), np.float64(221987.18999999997), np.float64(165838.2), np.float64(689613.12), np.float64(797156.64), np.float64(533776.32), np.float64(1213951.2999999998), np.float64(911701.35), np.float64(640006.15), np.float64(62944.32), np.float64(590234.4), np.float64(4257950.5600000005), np.float64(1549881.24), np.float64(663591.6), np.float64(292181.89), np.float64(532244.64), np.float64(771166.2400000001), np.float64(71813.28), np.float64(302334.45), np.float64(174883.74), np.float64(169926.61), np.float64(37893.68), np.float64(612485.3), np.float64(4811317.96), np.float64(20296.36), np.float64(246633.66), np.float64(69565.44), np.float64(1098876.0899999999), np.float64(656650.98), np.float64(465763.2), np.float64(1437340.4800000002), np.float64(417432.95999999996), np.float64(197956.33), np.float64(45894.24), np.float64(1046770.2400000001), np.float64(546083.93), np.float64(660818.28), np.float64(656160.96), np.float64(400283.52), np.float64(445539.54000000004), np.float64(33735.030000000006), np.float64(475291.29000000004), np.float64(856085.83), np.float64(1741394.75), np.float64(148700.16), np.float64(1479387.94), np.float64(111233.20999999999), np.float64(2975539.3400000003), np.float64(957737.76), np.float64(309372.0), np.float64(225378.72), np.float64(146888.64), np.float64(75335.68000000001), np.float64(37273.600000000006), np.float64(824712.16), np.float64(1086762.91), np.float64(548294.88), np.float64(127415.68), np.float64(854256.48), np.float64(250254.72), np.float64(797183.31), np.float64(8096.4), np.float64(60273.84), np.float64(1890552.96), np.float64(8547.42), np.float64(112324.52), np.float64(189754.51), np.float64(532981.35), np.float64(161674.24000000002), np.float64(2347586.9499999997), np.float64(323957.76), np.float64(900224.57), np.float64(146012.16), np.float64(1397755.64), np.float64(76290.27), np.float64(2616446.88), np.float64(372085.56000000006), np.float64(243989.75999999998), np.float64(3582714.56), np.float64(148738.86), np.float64(3455437.75), np.float64(418393.12000000005), np.float64(116875.78), np.float64(104366.56999999999), np.float64(3263975.5), np.float64(169281.75), np.float64(76423.16), np.float64(147568.68), np.float64(4091013.2800000003), np.float64(2870110.3), np.float64(3800185.4400000004), np.float64(31008.52), np.float64(59318.24), np.float64(26469.0), np.float64(4987709.5), np.float64(398418.29), np.float64(605810.03), np.float64(2678283.36), np.float64(32731.6), np.float64(64037.1), np.float64(263043.0), np.float64(24441.44), np.float64(1848248.92), np.float64(754815.0800000001), np.float64(187944.96000000002), np.float64(580605.76), np.float64(330767.36000000004), np.float64(570091.48), np.float64(3073242.63), np.float64(1466504.5799999998), np.float64(4964090.12), np.float64(24254.760000000002), np.float64(891186.24), np.float64(146851.95), np.float64(258358.53), np.float64(319073.37), np.float64(765085.02), np.float64(769891.28), np.float64(428028.51), np.float64(796462.32), np.float64(534395.61), np.float64(94098.4), np.float64(365811.39), np.float64(881135.64), np.float64(32454.8), np.float64(97132.38), np.float64(366902.55000000005), np.float64(934428.8), np.float64(473534.52), np.float64(471016.42), np.float64(663468.96), np.float64(206767.68), np.float64(763462.3799999999), np.float64(221813.76), np.float64(18004.140000000003), np.float64(168423.41999999998), np.float64(384383.26), np.float64(2368471.02), np.float64(1656874.3800000001), np.float64(1231360.0799999998), np.float64(1232081.12), np.float64(291975.74), np.float64(64105.65), np.float64(384222.60000000003), np.float64(260433.37), np.float64(363256.32), np.float64(2105614.56), np.float64(50301.479999999996), np.float64(4406270.72), np.float64(2105089.6), np.float64(493150.21), np.float64(336499.36000000004), np.float64(38212.24), np.float64(2616.32), np.float64(66313.94), np.float64(994070.7499999999), np.float64(1183054.36), np.float64(178564.43), np.float64(654983.24), np.float64(329649.39), np.float64(945362.88), np.float64(203607.04), np.float64(202772.63999999998), np.float64(68633.6), np.float64(1356412.8299999998), np.float64(57290.68), np.float64(3791786.08), np.float64(123653.94), np.float64(3630348.96), np.float64(8805.83), np.float64(2283051.04), np.float64(1021667.64), np.float64(371707.14), np.float64(484477.37999999995), np.float64(2247219.78), np.float64(732066.72), np.float64(203169.88999999998), np.float64(205655.43), np.float64(506571.03), np.float64(184217.6), np.float64(139166.72), np.float64(807731.1900000001), np.float64(2574009.88), np.float64(3323419.97), np.float64(252743.68000000002), np.float64(1347164.86), np.float64(2087153.5799999998), np.float64(3209605.4400000004), np.float64(1124945.76), np.float64(1296562.8599999999), np.float64(127922.95999999999), np.float64(174125.28), np.float64(74926.32), np.float64(494204.55000000005), np.float64(330613.92), np.float64(1245294.12), np.float64(2016693.02), np.float64(828727.2), np.float64(244106.40000000002), np.float64(626734.08), np.float64(161157.96), np.float64(110434.73), np.float64(430465.32), np.float64(591607.62), np.float64(1628696.0499999998), np.float64(699326.88), np.float64(810172.44), np.float64(2251379.2), np.float64(167947.71000000002), np.float64(1177794.96), np.float64(1065259.49), np.float64(21846.44), np.float64(552763.4700000001), np.float64(265251.84), np.float64(187770.45), np.float64(135636.48), np.float64(349807.71), np.float64(640708.98), np.float64(172034.59), np.float64(5170856.0), np.float64(909797.28), np.float64(95370.24), np.float64(88215.54999999999), np.float64(540575.13), np.float64(869424.64), np.float64(5163506.5600000005), np.float64(373346.68), np.float64(632190.72), np.float64(222146.4), np.float64(251455.84000000003), np.float64(8297.08), np.float64(1336926.41), np.float64(1684.4800000000002), np.float64(763205.87), np.float64(174883.92), np.float64(9603.02), np.float64(889478.91), np.float64(1976999.36), np.float64(3646900.0), np.float64(1019969.1599999999), np.float64(58366.439999999995), np.float64(84002.26999999999), np.float64(22836.0), np.float64(353620.8), np.float64(780246.7899999999), np.float64(614710.39), np.float64(205649.92), np.float64(5109960.640000001), np.float64(1237124.3399999999), np.float64(261928.74000000002), np.float64(552945.3300000001), np.float64(5147232.800000001), np.float64(255623.38999999998), np.float64(227234.91999999998), np.float64(710617.9500000001), np.float64(214231.08000000002), np.float64(460326.64), np.float64(4114797.52), np.float64(285824.0), np.float64(412695.64), np.float64(3393866.4000000004), np.float64(2934331.06), np.float64(815811.53), np.float64(705119.3099999999), np.float64(60920.25), np.float64(57802.76), np.float64(3663170.8800000004), np.float64(506207.31000000006), np.float64(1045323.86), np.float64(287699.5), np.float64(176211.97), np.float64(896945.49), np.float64(2198532.48), np.float64(386829.42), np.float64(188144.4), np.float64(104186.88), np.float64(804194.37), np.float64(831832.33), np.float64(2529547.98), np.float64(198959.84000000003), np.float64(1147345.74), np.float64(238338.24), np.float64(1861408.1600000001), np.float64(58799.24), np.float64(3274916.2), np.float64(227926.74000000002), np.float64(686367.36), np.float64(80200.26000000001), np.float64(250772.48), np.float64(138199.04), np.float64(59117.56), np.float64(356536.53), np.float64(257678.49000000002), np.float64(222845.28), np.float64(4753023.32), np.float64(1664915.02), np.float64(874694.59), np.float64(1502092.06), np.float64(5241725.600000001), np.float64(998766.2999999999), np.float64(943453.03), np.float64(796302.8999999999), np.float64(635607.5399999999), np.float64(400826.91000000003), np.float64(153840.3), np.float64(662491.27), np.float64(1073215.44), np.float64(72217.6), np.float64(56993.12), np.float64(1292976.48), np.float64(32040.960000000003), np.float64(3555554.08), np.float64(14305.5), np.float64(1590513.2), np.float64(207429.75), np.float64(4474616.16), np.float64(695454.5299999999), np.float64(4187163.2800000003), np.float64(34549.76), np.float64(329249.76), np.float64(2364649.96), np.float64(2103896.61), np.float64(6677.8), np.float64(339082.24000000005), np.float64(271836.29), np.float64(430805.34), np.float64(951635.86), np.float64(634195.91), np.float64(1183931.68), np.float64(1944976.8), np.float64(605492.16), np.float64(83116.31999999999), np.float64(248216.32), np.float64(546216.51), np.float64(300161.18), np.float64(13821.36), np.float64(1272503.04), np.float64(30546.28), np.float64(2087153.5799999998), np.float64(4734089.28), np.float64(71715.84), np.float64(7909.5599999999995), np.float64(127697.92000000001), np.float64(1791433.99), np.float64(2259634.73), np.float64(1689244.08), np.float64(287635.92), np.float64(247654.40000000002), np.float64(265102.26), np.float64(443782.77), np.float64(187942.47999999998), np.float64(303354.51), np.float64(500962.8), np.float64(955301.76), np.float64(3286774.56), np.float64(959389.5599999999), np.float64(55103.58), np.float64(667644.11), np.float64(4143442.3000000003), np.float64(109866.23999999999), np.float64(1832260.84), np.float64(1787220.71), np.float64(1471446.5999999999), np.float64(149960.16), np.float64(759155.04), np.float64(3219054.72), np.float64(1909669.16), np.float64(33645.04), np.float64(39328.98), np.float64(602568.96), np.float64(199931.76), np.float64(813953.0299999999), np.float64(1263053.76), np.float64(368630.22000000003), np.float64(717549.4199999999), np.float64(456013.95), np.float64(550158.0800000001), np.float64(3549440.02), np.float64(72424.26000000001), np.float64(762448.05), np.float64(45166.84), np.float64(262671.36000000004), np.float64(3344936.68), np.float64(2897254.24), np.float64(1918095.72), np.float64(260664.32000000004), np.float64(144912.78), np.float64(1007237.2499999999), np.float64(546083.93), np.float64(255390.24), np.float64(98326.47), np.float64(138941.04), np.float64(363265.35000000003), np.float64(538361.34), np.float64(902207.4600000001), np.float64(994860.74), np.float64(844921.56), np.float64(3554504.16), np.float64(702550.92), np.float64(2055757.53), np.float64(299932.87), np.float64(283337.88), np.float64(220881.92), np.float64(837102.28), np.float64(1744316.34), np.float64(177706.1), np.float64(139203.58000000002), np.float64(484601.18), np.float64(12977.43), np.float64(801736.32), np.float64(295000.09), np.float64(7892.639999999999), np.float64(1414345.43), np.float64(21645.76), np.float64(3690151.22), np.float64(215685.96000000002), np.float64(288793.68), np.float64(277902.02999999997), np.float64(1167008.0), np.float64(317946.72), np.float64(879980.64), np.float64(323105.91), np.float64(22344.68), np.float64(798679.8899999999), np.float64(4253498.5600000005), np.float64(3141885.6), np.float64(568491.72), np.float64(151256.82), np.float64(3764024.6), np.float64(563016.4500000001), np.float64(1763276.15), np.float64(32267.96), np.float64(91396.25), np.float64(1285403.46), np.float64(338209.42000000004), np.float64(690947.04), np.float64(1379986.96), np.float64(2104134.98), np.float64(1459808.94), np.float64(2987547.3600000003), np.float64(2479778.61), np.float64(7899.9), np.float64(443010.96), np.float64(51152.64), np.float64(58938.659999999996), np.float64(4130376.2600000002), np.float64(1410867.0), np.float64(2935576.3200000003), np.float64(4159523.58), np.float64(3132687.1), np.float64(187910.69), np.float64(1402495.5799999998), np.float64(1421685.6600000001), np.float64(32868.6), np.float64(496087.2), np.float64(2157506.04), np.float64(164844.58), np.float64(148215.90000000002), np.float64(318.84), np.float64(270197.76), np.float64(1172345.16), np.float64(23753.579999999998), np.float64(104398.36), np.float64(931331.52), np.float64(963853.32), np.float64(1436259.32), np.float64(1401081.52), np.float64(75660.2), np.float64(245895.65), np.float64(3227506.5), np.float64(1146012.16), np.float64(862866.48), np.float64(64390.6), np.float64(247602.39), np.float64(419924.7), np.float64(61152.04), np.float64(7113.76), np.float64(36198.52), np.float64(995849.1200000001), np.float64(862928.64), np.float64(1410567.52), np.float64(1485111.84), np.float64(2459765.53), np.float64(253926.40000000002), np.float64(226597.56000000003), np.float64(357984.39), np.float64(1709641.08), np.float64(4702769.32), np.float64(157265.13), np.float64(415289.1), np.float64(239339.52000000002), np.float64(451955.69999999995), np.float64(850468.29), np.float64(282673.44), np.float64(434772.24), np.float64(30571.520000000004), np.float64(879445.0), np.float64(551490.4500000001), np.float64(809932.76), np.float64(850435.2000000001), np.float64(655150.65), np.float64(1914677.4000000001), np.float64(215403.93999999997), np.float64(740743.9600000001), np.float64(247045.12000000002), np.float64(1185287.7), np.float64(2433695.86), np.float64(482885.07), np.float64(40929.280000000006), np.float64(309928.23), np.float64(96452.34), np.float64(34786.84), np.float64(18524.84), np.float64(2502649.2), np.float64(396001.52), np.float64(611431.3099999999), np.float64(1035252.4), np.float64(4237477.12), np.float64(372611.94999999995), np.float64(320839.68000000005), np.float64(228802.56000000003), np.float64(497662.08), np.float64(371085.33), np.float64(2995421.7600000002), np.float64(1583483.98), np.float64(2417896.06), np.float64(55086.08), np.float64(3499565.2399999998), np.float64(250982.05), np.float64(752355.47), np.float64(7819.6), np.float64(202675.19999999998), np.float64(52349.8), np.float64(338186.24000000005), np.float64(59781.12), np.float64(147738.69), np.float64(1042044.78), np.float64(253317.12000000002), np.float64(267353.89999999997), np.float64(142015.02000000002), np.float64(215927.04), np.float64(222688.94999999998), np.float64(325570.56000000006), np.float64(2398409.6399999997), np.float64(501523.68), np.float64(877057.44), np.float64(11549.48), np.float64(2589663.69), np.float64(1224983.2799999998), np.float64(589999.2), np.float64(481390.8), np.float64(2140820.4), np.float64(4300472.32), np.float64(3801760.3200000003), np.float64(129665.12000000001), np.float64(645501.3), np.float64(3333995.98), np.float64(93278.82), np.float64(299843.27999999997), np.float64(64533.7), np.float64(134559.38999999998), np.float64(1113070.44), np.float64(68411.12), np.float64(265158.93), np.float64(642114.13), np.float64(41431.04), np.float64(148270.08000000002), np.float64(79347.84), np.float64(2940130.78), np.float64(382635.84), np.float64(206502.03000000003), np.float64(2283071.1), np.float64(1501910.56), np.float64(582361.26), np.float64(2441595.76), np.float64(365010.24), np.float64(1698741.8299999998), np.float64(130348.34999999999), np.float64(1669372.8), np.float64(1574272.4999999998), np.float64(1871458.96), np.float64(97537.44), np.float64(762078.24), np.float64(41457.72), np.float64(46197.92), np.float64(539215.05), np.float64(1103761.75), np.float64(43575.24), np.float64(604866.3600000001), np.float64(118415.36000000002), np.float64(178677.45), np.float64(884462.88), np.float64(568803.27), np.float64(769186.9299999999), np.float64(3271535.4), np.float64(29326.96), np.float64(10040.92), np.float64(35402.72), np.float64(6548.74), np.float64(1923739.75), np.float64(72537.6), np.float64(80333.33), np.float64(652263.36), np.float64(369658.41000000003), np.float64(489419.39999999997), np.float64(582520.6799999999), np.float64(45097.64), np.float64(440609.25), np.float64(3462500.6), np.float64(1211113.74), np.float64(1094418.2999999998), np.float64(1007965.77), np.float64(45165.99), np.float64(41466.880000000005), np.float64(411185.46), np.float64(443827.73), np.float64(2536921.2199999997), np.float64(4881078.08), np.float64(2268352.16), np.float64(726672.8400000001), np.float64(3291691.94), np.float64(1007237.2499999999), np.float64(316972.32), np.float64(180948.68), np.float64(56827.04), np.float64(472890.18), np.float64(2031769.22), np.float64(303054.07), np.float64(243568.64), np.float64(2966388.46), np.float64(218946.56000000003), np.float64(3624821.02), np.float64(3449512.16), np.float64(3213240.7600000002), np.float64(616584.15), np.float64(376062.12), np.float64(3448987.2), np.float64(2264724.9), np.float64(99671.04000000001), np.float64(49235.8), np.float64(2535689.57), np.float64(1271374.5), np.float64(4844330.88), np.float64(1564443.5299999998), np.float64(2606074.7399999998), np.float64(796274.01), np.float64(164401.44), np.float64(843921.3300000001), np.float64(3494824.27), np.float64(284584.08), np.float64(251967.03000000003), np.float64(23258.12), np.float64(1112662.11), np.float64(27881.64), np.float64(1609527.36), np.float64(512885.92000000004), np.float64(47237.12), np.float64(682972.9600000001), np.float64(67379.13), np.float64(2674636.46), np.float64(527697.66), np.float64(1460218.76), np.float64(1164708.5899999999), np.float64(146411.47999999998), np.float64(58048.54), np.float64(1838934.8800000001), np.float64(355377.57), np.float64(230416.62000000002), np.float64(64320.450000000004), np.float64(371131.83), np.float64(75691.99), np.float64(1399707.5999999999), np.float64(789766.6799999999), np.float64(328724.04), np.float64(31140.0), np.float64(49851.68), np.float64(591772.4400000001), np.float64(2306149.2800000003), np.float64(61574.159999999996), np.float64(799733.21), np.float64(76381.20000000001), np.float64(314163.15), np.float64(538365.0), np.float64(131425.28), np.float64(2161149.31), np.float64(2433432.53), np.float64(824839.08), np.float64(964876.4800000001), np.float64(4842977.98), np.float64(1226087.78), np.float64(515086.01999999996), np.float64(19486.42), np.float64(1441468.42), np.float64(167623.68000000002), np.float64(379085.07), np.float64(67808.06999999999), np.float64(491637.11), np.float64(2312186.54), np.float64(97472.40000000001), np.float64(10227.76), np.float64(225142.68000000002), np.float64(15701.48), np.float64(109752.51000000001), np.float64(243681.0), np.float64(266333.97000000003), np.float64(1514410.8299999998), np.float64(57622.84), np.float64(829621.6799999999), np.float64(731117.73), np.float64(12143.779999999999), np.float64(1877256.9600000002), np.float64(428425.2), np.float64(502039.53), np.float64(94865.58), np.float64(585901.33), np.float64(4768211.680000001), np.float64(112680.96), np.float64(166765.62000000002), np.float64(2179752.13), np.float64(792359.97), np.float64(595682.43), np.float64(432392.10000000003), np.float64(4659550.88), np.float64(3622465.77), np.float64(719637.28), np.float64(2636349.12), np.float64(868462.34), np.float64(28628.04), np.float64(189070.94), np.float64(559674.15), np.float64(1428855.42), np.float64(589414.63), np.float64(582505.14), np.float64(271774.72000000003), np.float64(4982395.36), np.float64(4981.76), np.float64(1264773.99), np.float64(828911.8400000001), np.float64(1080222.64), np.float64(245005.53), np.float64(283792.53), np.float64(125284.39), np.float64(52889.56), np.float64(760161.01), np.float64(91111.86), np.float64(3853.56), np.float64(334955.75999999995), np.float64(544383.52), np.float64(749626.92), np.float64(360537.45), np.float64(3001671.42), np.float64(685490.4), np.float64(2451446.18), np.float64(292096.0), np.float64(662243.1900000001), np.float64(3574064.48), np.float64(27417.600000000002), np.float64(327348.0), np.float64(322623.83999999997), np.float64(250155.50999999998), np.float64(93922.22), np.float64(154863.2), np.float64(380542.05000000005), np.float64(3771312.64), np.float64(1429881.9), np.float64(188959.76), np.float64(80220.35), np.float64(3341289.78), np.float64(3302267.95), np.float64(195058.14), np.float64(476189.27999999997), np.float64(279659.52), np.float64(1733006.88), np.float64(144040.96000000002), np.float64(299071.92), np.float64(852578.1599999999), np.float64(3521811.33), np.float64(250880.00000000003), np.float64(121755.27), np.float64(1189559.36), np.float64(98830.99), np.float64(5227551.680000001), np.float64(374702.04000000004), np.float64(3399275.4899999998), np.float64(618692.13), np.float64(375177.18000000005), np.float64(622602.56), np.float64(1171737.0), np.float64(1548828.28), np.float64(179200.22999999998), np.float64(946671.35), np.float64(1500191.01), np.float64(234387.66999999998), np.float64(2622240.1399999997), np.float64(930162.24), np.float64(693408.3099999999), np.float64(607765.64), np.float64(50972.72), np.float64(367958.31), np.float64(824.32), np.float64(258703.19999999998), np.float64(2959199.52), np.float64(170746.38), np.float64(143682.56000000003), np.float64(1158125.3399999999), np.float64(378782.28), np.float64(55376.37), np.float64(1167118.26), np.float64(801551.3), np.float64(44495.6), np.float64(2179582.4099999997), np.float64(2018161.1199999999), np.float64(561707.2000000001), np.float64(762902.7000000001), np.float64(3162484.22), np.float64(35318.69), np.float64(9175.04), np.float64(899752.3500000001), np.float64(42183.68000000001), np.float64(79170.56000000001), np.float64(264965.12000000005), np.float64(377562.64), np.float64(196045.08000000002), np.float64(2461292.81), np.float64(459607.86), np.float64(711254.4600000001), np.float64(849377.1300000001), np.float64(165509.12000000002), np.float64(133854.54), np.float64(1085331.3599999999), np.float64(58104.270000000004), np.float64(486171.93), np.float64(77637.90000000001), np.float64(262941.49), np.float64(2504326.23), np.float64(119169.12), np.float64(723686.88), np.float64(230355.37), np.float64(136299.52000000002), np.float64(23651.76), np.float64(543507.51), np.float64(307865.60000000003), np.float64(976128.6599999999), np.float64(2041597.49), np.float64(3581602.58), np.float64(3335070.8800000004), np.float64(86761.77), np.float64(430807.87999999995), np.float64(251141.0), np.float64(754853.7), np.float64(880312.19), np.float64(287955.42), np.float64(3655475.96), np.float64(7314.44), np.float64(186784.32), np.float64(1933895.5199999998), np.float64(19582.64), np.float64(10521.72), np.float64(577304.27), np.float64(538680.1799999999), np.float64(849047.5), np.float64(274792.76), np.float64(1755991.2000000002), np.float64(592727.52), np.float64(329297.92000000004), np.float64(1087132.13), np.float64(274824.55), np.float64(580042.4700000001), np.float64(347443.77), np.float64(164505.6), np.float64(864679.99), np.float64(266425.25), np.float64(3011245.33), np.float64(1538110.5299999998), np.float64(95101.44), np.float64(137758.95), np.float64(540801.81), np.float64(3946949.16), np.float64(346079.58), np.float64(460287.66000000003), np.float64(399930.65), np.float64(67345.44), np.float64(964331.58), np.float64(142032.66), np.float64(19995.91), np.float64(80836.77), np.float64(1446098.8199999998), np.float64(2207981.7600000002), np.float64(3841132.3200000003), np.float64(112680.96), np.float64(1553388.48), np.float64(336222.81), np.float64(70096.95), np.float64(186639.09), np.float64(798104.65), np.float64(108183.03), np.float64(97529.07), np.float64(60705.119999999995), np.float64(3851969.1), np.float64(237499.08), np.float64(2210.13), np.float64(162080.24), np.float64(11158.289999999999), np.float64(18933.12), np.float64(3173.52), np.float64(377825.39999999997), np.float64(310067.18), np.float64(782998.2300000001), np.float64(763296.17), np.float64(3692161.3800000004), np.float64(213144.53999999998), np.float64(918859.2), np.float64(11044.32), np.float64(66120.6), np.float64(387908.64), np.float64(3727841.72), np.float64(107115.54000000001), np.float64(3148915.64), np.float64(1507300.92), np.float64(1425208.52), np.float64(4430662.4), np.float64(773663.5399999999), np.float64(2083993.6199999999), np.float64(98129.92000000001), np.float64(386999.43), np.float64(756264.81), np.float64(92542.11), np.float64(32112.640000000003), np.float64(280346.49), np.float64(216121.91999999998), np.float64(1049305.6), np.float64(1412142.4000000001), np.float64(484790.52999999997), np.float64(228598.72), np.float64(3507.24), np.float64(4974643.46), np.float64(119060.48000000001), np.float64(913476.6), np.float64(246784.02000000002), np.float64(763791.42), np.float64(269334.66000000003), np.float64(777727.51), np.float64(11827.2), np.float64(4200.44), np.float64(287452.88), np.float64(51173.4), np.float64(2587743.9099999997), np.float64(929179.2000000001), np.float64(41367.76), np.float64(510683.04), np.float64(473994.0), np.float64(56103.3), np.float64(259867.09), np.float64(651513.4500000001), np.float64(676791.9900000001), np.float64(1069119.8), np.float64(365419.38), np.float64(376231.19999999995), np.float64(18829.32), np.float64(115440.64000000001), np.float64(2140786.8800000004), np.float64(1547379.67), np.float64(40349.04), np.float64(450294.3), np.float64(827382.15), np.float64(764025.55), np.float64(667171.6799999999), np.float64(727191.86), np.float64(248101.26), np.float64(1312884.0), np.float64(1432741.54), np.float64(1334036.02), np.float64(1922835.66), np.float64(1520547.96), np.float64(1914672.43), np.float64(79708.16), np.float64(231176.88), np.float64(67235.84000000001), np.float64(515564.27999999997), np.float64(2701258.83), np.float64(229873.49), np.float64(110796.9), np.float64(283243.52), np.float64(653050.24), np.float64(1096641.4400000002), np.float64(859845.9400000001), np.float64(6207.24), np.float64(1855733.6), np.float64(512824.69), np.float64(292376.27999999997), np.float64(144485.55), np.float64(83194.43), np.float64(138318.29), np.float64(1978807.94), np.float64(529688.53), np.float64(406605.92), np.float64(243765.72), np.float64(58861.52), np.float64(244751.21), np.float64(214900.4), np.float64(209484.80000000002), np.float64(924413.28), np.float64(2254148.89), np.float64(1770205.26), np.float64(261822.44), np.float64(867758.88), np.float64(28150.56), np.float64(167157.76), np.float64(582839.5199999999), np.float64(48855.2), np.float64(1202026.7999999998), np.float64(3061976.22), np.float64(462370.53), np.float64(221523.03), np.float64(2972952.88), np.float64(433736.10000000003), np.float64(488817.14), np.float64(19169.37), np.float64(66854.37), np.float64(773665.2599999999), np.float64(2353643.54), np.float64(62176.2), np.float64(587862.4500000001), np.float64(5598.28), np.float64(4807058.720000001), np.float64(163464.18), np.float64(1707113.89), np.float64(404820.36000000004), np.float64(121247.06), np.float64(1020658.74), np.float64(615961.41), np.float64(764025.64), np.float64(651288.96), np.float64(2385557.38), np.float64(43180.8), np.float64(213565.22), np.float64(149761.71000000002), np.float64(1744312.27), np.float64(228210.09), np.float64(630637.35), np.float64(604517.76), np.float64(2634817.22), np.float64(28257.6), np.float64(663006.42), np.float64(723104.1799999999), np.float64(436726.08), np.float64(69238.62), np.float64(669244.8), np.float64(596705.7799999999), np.float64(788363.1000000001), np.float64(46233.68), np.float64(32378.68), np.float64(251216.81999999998), np.float64(713606.8), np.float64(678652.45), np.float64(493969.98), np.float64(739167.3099999999), np.float64(1259904.0), np.float64(1725722.36), np.float64(883293.6), np.float64(3742439.8400000003), np.float64(866731.11), np.float64(102296.25000000001), np.float64(646212.98), np.float64(1553214.71), np.float64(1702008.23), np.float64(699033.14), np.float64(293780.48000000004), np.float64(218086.55999999997), np.float64(422499.83999999997), np.float64(4727393.78), np.float64(1101068.22), np.float64(86055.53), np.float64(23604.12), np.float64(1072420.36), np.float64(898038.98), np.float64(211662.45), np.float64(170419.2), np.float64(252528.64), np.float64(1619479.5), np.float64(1850801.75), np.float64(310087.68000000005), np.float64(44334.08), np.float64(412670.94), np.float64(9917.25), np.float64(1286991.01), np.float64(1988654.57), np.float64(2255242.96), np.float64(329931.83999999997), np.float64(3227979.04), np.float64(2511694.92), np.float64(1396393.6), np.float64(2270924.63), np.float64(216903.16999999998), np.float64(854903.0), np.float64(259813.18000000002), np.float64(53290.92), np.float64(154181.5), np.float64(698069.6100000001), np.float64(328142.22), np.float64(574190.33), np.float64(436755.69), np.float64(943121.76), np.float64(1435419.84), np.float64(3538384.14), np.float64(887459.58), np.float64(341447.68000000005), np.float64(69197.73000000001), np.float64(336947.52), np.float64(100280.32), np.float64(610377.32), np.float64(57228.4), np.float64(47985.42), np.float64(369035.04000000004), np.float64(3321946.8800000004), np.float64(929959.5), np.float64(540915.15), np.float64(195158.81), np.float64(354389.27999999997), np.float64(1660894.7), np.float64(22888.8), np.float64(1054926.88), np.float64(3347854.2), np.float64(73562.06), np.float64(1076563.26), np.float64(1453910.4), np.float64(260332.59000000003), np.float64(36781.03), np.float64(64411.36), np.float64(2150871.2), np.float64(278753.76), np.float64(701070.3), np.float64(485775.24), np.float64(240418.92), np.float64(300661.76), np.float64(1416446.7), np.float64(747396.02), np.float64(2937676.16), np.float64(1896239.3299999998), np.float64(34371.54), np.float64(531663.27), np.float64(2154566.06), np.float64(621051.9), np.float64(625718.73), np.float64(1526227.65), np.float64(4884227.840000001), np.float64(97435.52), np.float64(2203257.12), np.float64(993017.4299999999), np.float64(962804.64), np.float64(648520.5599999999), np.float64(395703.83999999997), np.float64(669986.3099999999), np.float64(1158345.72), np.float64(10321.920000000002), np.float64(2457658.8899999997), np.float64(450778.38), np.float64(1335609.76), np.float64(61418.28), np.float64(1830743.8), np.float64(3421292.3200000003), np.float64(140759.64), np.float64(487463.80000000005), np.float64(592679.8400000001), np.float64(328109.18), np.float64(354257.75), np.float64(3958005.04), np.float64(79385.6), np.float64(146970.07), np.float64(345103.36000000004), np.float64(4910820.88), np.float64(38371.4), np.float64(61207.4), np.float64(411934.23000000004), np.float64(616326.1), np.float64(680033.76), np.float64(856378.7400000001), np.float64(90760.25), np.float64(1275.36), np.float64(847194.81), np.float64(41574.659999999996), np.float64(227906.56000000003), np.float64(2411312.81), np.float64(69842.63), np.float64(1474953.8399999999), np.float64(3275555.72), np.float64(301163.52), np.float64(260101.31), np.float64(463014.72000000003), np.float64(41105.61), np.float64(3376566.2600000002), np.float64(500286.88000000006), np.float64(1819438.41), np.float64(2548155.8400000003), np.float64(234991.68), np.float64(2061873.9), np.float64(348759.04000000004), np.float64(755355.51), np.float64(604810.08), np.float64(1416452.0699999998), np.float64(129207.6), np.float64(2181526.14), np.float64(127859.37999999999), np.float64(2409506.83), np.float64(319593.19), np.float64(1710844.6400000001), np.float64(2833823.06), np.float64(311573.79), np.float64(890601.6), np.float64(272567.46), np.float64(1557860.2799999998), np.float64(1521026.22), np.float64(224506.17), np.float64(164756.48), np.float64(792955.08), np.float64(2399660.2), np.float64(4923074.88), np.float64(93562.17), np.float64(732534.8999999999), np.float64(1191026.8199999998), np.float64(32005.0), np.float64(165710.65), np.float64(870127.3), np.float64(284540.07), np.float64(550730.88), np.float64(418368.93000000005), np.float64(789906.95), np.float64(4646987.38), np.float64(886056.36), np.float64(697069.38), np.float64(273829.44), np.float64(105533.40000000001), np.float64(803725.93), np.float64(48015.1), np.float64(263118.81), np.float64(22485.12), np.float64(482261.7), np.float64(149095.1), np.float64(4638946.74), np.float64(2217431.04), np.float64(1052318.76), np.float64(3538587.07), np.float64(121118.76000000001), np.float64(897536.4400000001), np.float64(944404.08), np.float64(304601.25), np.float64(4638444.2), np.float64(49775.56), np.float64(276965.15), np.float64(65836.88), np.float64(253441.44), np.float64(263137.28), np.float64(379918.56), np.float64(243320.66), np.float64(906080.07), np.float64(154757.12000000002), np.float64(636375.74), np.float64(213589.23), np.float64(3054438.12), np.float64(450129.81), np.float64(1039363.5099999999), np.float64(4169574.3800000004), np.float64(350479.36000000004), np.float64(1665174.54), np.float64(2468586.61), np.float64(677064.78), np.float64(3398066.08), np.float64(935794.54), np.float64(65539.31999999999), np.float64(105512.96), np.float64(4761387.2), np.float64(1507156.68), np.float64(965128.6799999999), np.float64(1237855.6800000002), np.float64(271613.76), np.float64(11762.3), np.float64(1061469.12), np.float64(353489.92000000004), np.float64(48002.9), np.float64(228307.11), np.float64(22005.6), np.float64(95846.84999999999), np.float64(10172.4), np.float64(867995.52), np.float64(530156.97), np.float64(280595.56), np.float64(10840.39), np.float64(100305.90000000001), np.float64(14973.09), np.float64(399728.28), np.float64(13923.039999999999), np.float64(2250418.1799999997), np.float64(2930813.2800000003), np.float64(540396.99), np.float64(246784.02000000002), np.float64(47256.68), np.float64(141086.69999999998), np.float64(1106469.46), np.float64(921879.84), np.float64(896058.24), np.float64(1060302.42), np.float64(725075.8200000001), np.float64(145979.68), np.float64(3826433.4400000004), np.float64(143956.25999999998), np.float64(2490468.01), np.float64(5007308.5600000005), np.float64(177694.72000000003), np.float64(257622.71999999997), np.float64(673968.05), np.float64(873640.6), np.float64(3378576.42), np.float64(2050287.38), np.float64(694007.74), np.float64(937231.33), np.float64(101842.24), np.float64(1188316.68), np.float64(433092.00000000006), np.float64(109373.1), np.float64(432788.79000000004), np.float64(823660.32), np.float64(478294.8), np.float64(1185774.99), np.float64(845351.42), np.float64(1195968.8399999999), np.float64(172468.8), np.float64(801735.0599999999), np.float64(2276751.1799999997), np.float64(350535.15), np.float64(5221252.16), np.float64(306969.60000000003), np.float64(225290.24000000002), np.float64(603866.13), np.float64(481468.32), np.float64(125405.28), np.float64(555921.17), np.float64(973357.61), np.float64(218050.14), np.float64(283289.33999999997), np.float64(106086.24), np.float64(312739.84), np.float64(244787.2), np.float64(12995.76), np.float64(1243283.96), np.float64(2732812.52), np.float64(110243.84000000001), np.float64(704198.88), np.float64(816936.96), np.float64(214169.22999999998), np.float64(1069343.52), np.float64(3560495.9000000004), np.float64(1074386.4), np.float64(1303086.22), np.float64(3790211.2), np.float64(32406.36), np.float64(3649445.48), np.float64(1186038.3199999998), np.float64(101023.23000000001), np.float64(267992.43), np.float64(199772.16000000003), np.float64(278079.69), np.float64(1239649.92), np.float64(480731.61), np.float64(520085.51), np.float64(1097559.44), np.float64(63816.24), np.float64(287508.76), np.float64(1949701.4400000002), np.float64(882914.49), np.float64(2746590.72), np.float64(420542.01), np.float64(34944.0), np.float64(807423.66), np.float64(7423.77), np.float64(18268.8), np.float64(298221.99), np.float64(1257857.62), np.float64(316841.97000000003), np.float64(1220534.5499999998), np.float64(386543.43000000005), np.float64(716045.4400000001), np.float64(55934.36), np.float64(20267.52), np.float64(4296214.46), np.float64(65041.08), np.float64(604869.01), np.float64(592045.44), np.float64(3569541.62), np.float64(2340271.68), np.float64(3257411.08), np.float64(95173.73999999999), np.float64(4207264.88), np.float64(3347854.2), np.float64(152125.88999999998), np.float64(216414.24), np.float64(580644.96), np.float64(25624.76), np.float64(23624.88), np.float64(356787.2), np.float64(233210.88000000003), np.float64(18333.3), np.float64(2996.36), np.float64(180789.72999999998), np.float64(7044.5599999999995), np.float64(312931.74), np.float64(458065.44), np.float64(648058.1100000001), np.float64(167265.28000000003), np.float64(211403.5), np.float64(190347.47999999998), np.float64(656063.52), np.float64(502870.34), np.float64(1128664.0), np.float64(1755617.66), np.float64(1073898.7), np.float64(2857944.98), np.float64(68570.28), np.float64(225397.76), np.float64(90994.47), np.float64(1307722.26), np.float64(1920465.69), np.float64(174130.95), np.float64(517963.8), np.float64(54640.32), np.float64(297679.2), np.float64(210189.03), np.float64(655535.0399999999), np.float64(160673.31), np.float64(109281.95), np.float64(2138542.16), np.float64(2475512.04), np.float64(541028.49), np.float64(2440014.08), np.float64(563469.81), np.float64(800638.65), np.float64(44191.98), np.float64(2037887.72), np.float64(523029.36000000004), np.float64(280412.16000000003), np.float64(2678870.8800000004), np.float64(189627.35), np.float64(4927.04), np.float64(525448.32), np.float64(98492.46), np.float64(1612152.1600000001), np.float64(822098.13), np.float64(2309824.0), np.float64(908070.94), np.float64(144549.13), np.float64(2411839.4699999997), np.float64(872118.17), np.float64(111856.64000000001), np.float64(101855.16), np.float64(494519.64), np.float64(74289.72), np.float64(21112.92), np.float64(65968.36), np.float64(2292084.94), np.float64(43215.4), np.float64(17348.44), np.float64(523837.44), np.float64(276382.26), np.float64(4932524.16), np.float64(2571779.04), np.float64(139166.72), np.float64(281699.04), np.float64(543776.45), np.float64(254164.95), np.float64(269420.25), np.float64(87481.17), np.float64(2202207.2), np.float64(48132.21), np.float64(4672144.0), np.float64(404278.56), np.float64(747072.48), np.float64(564206.52), np.float64(1041693.45), np.float64(608972.0), np.float64(826008.1200000001), np.float64(4472606.0), np.float64(2520740.64), np.float64(32918.44), np.float64(482947.22), np.float64(340551.68000000005), np.float64(100551.77), np.float64(603936.27), np.float64(2710011.39), np.float64(133244.97999999998), np.float64(3511749.52), np.float64(770086.17), np.float64(941952.48), np.float64(788735.85), np.float64(7667.36), np.float64(97699.84000000001), np.float64(943248.0599999999), np.float64(759739.6799999999), np.float64(75694.08), np.float64(1750741.6), np.float64(24005.52), np.float64(125014.02), np.float64(766358.04), np.float64(327779.28), np.float64(884063.39), np.float64(128844.87), np.float64(809739.75), np.float64(614959.5900000001), np.float64(1039737.2399999999), np.float64(64452.88), np.float64(3225301.72), np.float64(2708268.64), np.float64(2783314.08), np.float64(1085092.32), np.float64(141306.55), np.float64(289640.37), np.float64(990120.7999999999), np.float64(152711.44), np.float64(113433.6), np.float64(1313449.9200000002), np.float64(562053.06), np.float64(3030594.08), np.float64(798215.94), np.float64(16954.0), np.float64(1493446.5599999998), np.float64(343633.92000000004), np.float64(158400.06), np.float64(1824220.2000000002), np.float64(341833.44), np.float64(698.92), np.float64(340246.68), np.float64(220236.80000000002), np.float64(188156.63999999998), np.float64(87162.23), np.float64(859509.12), np.float64(1365432.2999999998), np.float64(996840.32), np.float64(4046452.08), np.float64(1874632.1600000001), np.float64(426158.4), np.float64(962052.22), np.float64(3160784.16), np.float64(2650202.23), np.float64(2081623.65), np.float64(145367.04), np.float64(748808.55), np.float64(154255.36000000002), np.float64(278753.76), np.float64(385057.68), np.float64(3107.08), np.float64(690264.96), np.float64(863198.4900000001), np.float64(106029.57), np.float64(97305.6), np.float64(114299.01000000001), np.float64(62626.0), np.float64(542102.19), np.float64(25735.48), np.float64(1714163.9400000002), np.float64(3467885.7600000002), np.float64(688853.82), np.float64(29901.32), np.float64(2953624.31), np.float64(290660.43), np.float64(123631.31), np.float64(5169806.08), np.float64(364104.75), np.float64(281423.22000000003), np.float64(4916250.4), np.float64(505609.74), np.float64(276397.0), np.float64(66742.62000000001), np.float64(483887.04), np.float64(45644.32), np.float64(2006642.22), np.float64(1471939.6600000001), np.float64(29037.12), np.float64(512845.2), np.float64(329047.04000000004), np.float64(881018.53), np.float64(61408.08), np.float64(739226.63), np.float64(844499.3099999999), np.float64(401921.52), np.float64(138540.82), np.float64(107036.93), np.float64(16351.96), np.float64(490875.54000000004), np.float64(189808.64), np.float64(28891.0), np.float64(94988.52), np.float64(27673.079999999998), np.float64(141093.12), np.float64(1096032.49), np.float64(878838.4500000001), np.float64(831536.64), np.float64(120929.16), np.float64(3449602.71), np.float64(428638.56), np.float64(3798197.3200000003), np.float64(1118751.83), np.float64(2308877.44), np.float64(5086337.44), np.float64(2852969.87), np.float64(33167.64), np.float64(40288.24), np.float64(2108272.89), np.float64(2377343.2399999998), np.float64(269069.16000000003), np.float64(100488.19), np.float64(215004.16000000003), np.float64(928682.3), np.float64(280811.3), np.float64(12428.32), np.float64(475801.32), np.float64(1814261.7600000002), np.float64(751297.3), np.float64(702245.1), np.float64(3101174.3400000003), np.float64(3199425.37), np.float64(2373998.96), np.float64(362521.07999999996), np.float64(4566580.98), np.float64(1888364.82), np.float64(370905.15), np.float64(60605.36), np.float64(4541953.92), np.float64(452740.47000000003), np.float64(15590.400000000001), np.float64(79457.28000000001), np.float64(36090.880000000005), np.float64(490385.49000000005), np.float64(95205.6), np.float64(2180158.8800000004), np.float64(1852864.98), np.float64(169783.32), np.float64(269420.25), np.float64(523833.02999999997), np.float64(5014846.66), np.float64(196621.15), np.float64(132615.84), np.float64(882418.83), np.float64(802710.72), np.float64(427079.52), np.float64(905591.87), np.float64(3138210.8800000004), np.float64(290603.76), np.float64(25555.56), np.float64(132055.66), np.float64(369482.05), np.float64(399700.24), np.float64(2531654.6199999996), np.float64(246144.47999999998), np.float64(3188113.7600000002), np.float64(1458760.0), np.float64(144113.76), np.float64(694137.88), np.float64(217473.27), np.float64(1706644.9600000002), np.float64(98612.58), np.float64(3994187.9200000004), np.float64(3099164.18), np.float64(1340600.44), np.float64(3143890.24), np.float64(375923.52), np.float64(520914.24), np.float64(204467.2), np.float64(107806.72000000002), np.float64(320187.83999999997), np.float64(805912.5900000001), np.float64(60750.240000000005), np.float64(426267.52), np.float64(53830.68), np.float64(4582662.26), np.float64(893742.0199999999), np.float64(331859.52), np.float64(44011.520000000004), np.float64(84815.72), np.float64(260019.2), np.float64(42948.29), np.float64(2354696.86), np.float64(181493.76), np.float64(85737.63), np.float64(102840.65), np.float64(679448.0399999999), np.float64(680065.4700000001), np.float64(1450330.44), np.float64(101534.72000000002), np.float64(211348.48), np.float64(4548778.4), np.float64(3491542.06), np.float64(630346.6799999999), np.float64(362574.66000000003), np.float64(618869.5800000001), np.float64(28593.44), np.float64(259208.58000000002), np.float64(429969.51), np.float64(62819.76), np.float64(77281.48999999999), np.float64(33735.030000000006), np.float64(958076.91), np.float64(39499.36), np.float64(405528.19999999995), np.float64(285188.08999999997), np.float64(3534575.48), np.float64(542253.6), np.float64(261027.69), np.float64(27285.56), np.float64(293196.96), np.float64(718912.32), np.float64(1005657.2699999999), np.float64(275645.44), np.float64(249447.96), np.float64(26748.24), np.float64(89111.40000000001), np.float64(552876.3099999999), np.float64(1519750.8599999999), np.float64(128414.22), np.float64(58270.560000000005), np.float64(4204929.600000001), np.float64(265115.45999999996), np.float64(44089.26), np.float64(281436.87), np.float64(3386146.65), np.float64(4001726.02), np.float64(2500845.01), np.float64(532486.0800000001), np.float64(66742.62000000001), np.float64(129353.51), np.float64(202021.08000000002), np.float64(2224244.31), np.float64(674085.16), np.float64(2323242.42), np.float64(4190230.72), np.float64(265129.63), np.float64(14450.85), np.float64(835353.12), np.float64(93148.16), np.float64(32330.43), np.float64(1131813.76), np.float64(829607.24), np.float64(1384727.93), np.float64(162128.19), np.float64(69027.84000000001), np.float64(1661397.24), np.float64(311732.74), np.float64(329679.76), np.float64(828434.88), np.float64(58301.0), np.float64(17078.56), np.float64(408874.05), np.float64(527257.68), np.float64(886694.0399999999), np.float64(221183.01), np.float64(1002461.6), np.float64(519890.58), np.float64(559492.29), np.float64(21396.480000000003), np.float64(735987.42), np.float64(1413555.44), np.float64(1955751.91), np.float64(258834.18), np.float64(124267.11), np.float64(2618474.2), np.float64(265753.60000000003), np.float64(832429.9199999999), np.float64(275076.18), np.float64(289873.92000000004), np.float64(35672.6), np.float64(68597.76000000001), np.float64(747857.2), np.float64(265434.3), np.float64(85844.64), np.float64(572477.22), np.float64(13936.88), np.float64(4480144.100000001), np.float64(4261036.66), np.float64(3837457.6), np.float64(77381.43000000001), np.float64(219796.06), np.float64(319119.36000000004), np.float64(966947.7599999999), np.float64(1063650.24), np.float64(354071.81999999995), np.float64(2005521.2799999998), np.float64(1140885.6199999999), np.float64(1440837.96), np.float64(1851008.9600000002), np.float64(844831.54), np.float64(1308725.28), np.float64(53007.36), np.float64(987993.64), np.float64(314890.24000000005), np.float64(66833.55), np.float64(431179.32), np.float64(54476.8), np.float64(2928825.39), np.float64(274677.76), np.float64(2125241.66), np.float64(1400409.6), np.float64(555889.63), np.float64(240300.61), np.float64(144338.49), np.float64(24012.800000000003), np.float64(189486.08000000002), np.float64(3937903.44), np.float64(233650.41), np.float64(309348.49), np.float64(269579.22), np.float64(804141.45), np.float64(1436878.6), np.float64(185525.76), np.float64(2300628.12), np.float64(23906.079999999998), np.float64(3834380.2), np.float64(286766.37), np.float64(99512.52), np.float64(1677938.76), np.float64(752302.38), np.float64(527164.4600000001), np.float64(1305809.22), np.float64(151580.31), np.float64(591071.04), np.float64(33236.76), np.float64(1454388.66), np.float64(389832.93), np.float64(774716.86), np.float64(275143.68000000005), np.float64(360235.68), np.float64(517283.76), np.float64(455206.57), np.float64(1948.8), np.float64(745262.28), np.float64(116659.20000000001), np.float64(229961.97000000003), np.float64(1163311.36), np.float64(353597.44000000006), np.float64(448012.11000000004), np.float64(135806.88), np.float64(245324.80000000002), np.float64(852092.36), np.float64(634724.16), np.float64(3775080.48), np.float64(320255.46), np.float64(4546.44), np.float64(592408.9500000001), np.float64(3262992.22), np.float64(783634.7400000001), np.float64(3216429.9200000004), np.float64(607709.0399999999), np.float64(3158463.9), np.float64(69652.38), np.float64(180117.72), np.float64(3507257.7600000002), np.float64(28787.2), np.float64(3870563.08), np.float64(1762911.46), np.float64(619394.79), np.float64(849549.1799999999), np.float64(1821086.2400000002), np.float64(1059903.25), np.float64(812607.18), np.float64(184181.76), np.float64(566695.29), np.float64(906484.32), np.float64(56487.96), np.float64(128844.87), np.float64(18898.52), np.float64(2608627.57), np.float64(2295650.08), np.float64(619027.86), np.float64(1121166.74), np.float64(293009.22), np.float64(36590.29), np.float64(4677642.32), np.float64(436601.13999999996), np.float64(152714.24000000002), np.float64(59996.4), np.float64(136744.71), np.float64(379915.68), np.float64(97903.96), np.float64(745756.48), np.float64(2529125.15), np.float64(4650620.640000001), np.float64(947433.0599999999), np.float64(2453634.32), np.float64(1252403.5199999998), np.float64(839737.9199999999), np.float64(472414.01999999996), np.float64(217473.27), np.float64(2320848.16), np.float64(835504.79), np.float64(261878.40000000002), np.float64(64667.4), np.float64(1055048.17), np.float64(88948.42), np.float64(706889.8200000001), np.float64(1966811.7699999998), np.float64(3635959.3), np.float64(4627890.86), np.float64(300876.80000000005), np.float64(47409.7), np.float64(511365.12), np.float64(1068400.04), np.float64(796143.48), np.float64(43263.36), np.float64(338508.80000000005), np.float64(774258.24), np.float64(1632119.3399999999), np.float64(64958.04), np.float64(1744297.92), np.float64(620597.25), np.float64(266686.31), np.float64(1054085.0399999998), np.float64(2355223.52), np.float64(775632.9), np.float64(2297554.25), np.float64(401455.95), np.float64(276445.83999999997), np.float64(30894.08), np.float64(5698.56), np.float64(3592301.2800000003), np.float64(2451338.9699999997), np.float64(791602.5599999999), np.float64(169249.96), np.float64(744585.38), np.float64(3799660.4800000004), np.float64(133476.54), np.float64(373292.64), np.float64(922241.25), np.float64(48914.88), np.float64(136048.64), np.float64(378996.24000000005), np.float64(723102.24), np.float64(35174.36), np.float64(220896.47999999998), np.float64(171566.15), np.float64(2344163.6599999997), np.float64(122501.12000000001), np.float64(357702.24), np.float64(381661.49), np.float64(3929850.56), np.float64(891157.7999999999), np.float64(175494.90000000002), np.float64(2266744.6399999997), np.float64(267868.16000000003), np.float64(2047654.0799999998), np.float64(2221188.55), np.float64(4327245.28), np.float64(82790.40000000001), np.float64(236679.31), np.float64(2571429.19), np.float64(2926127.04), np.float64(3344906.24), np.float64(852099.8999999999), np.float64(1699455.4), np.float64(348974.08), np.float64(16150.95), np.float64(326013.89999999997), np.float64(19998.72), np.float64(100106.70999999999), np.float64(559792.7999999999), np.float64(56391.08), np.float64(4872153.760000001), np.float64(672141.12), np.float64(2086626.92), np.float64(756992.25), np.float64(158091.66999999998), np.float64(2573004.8000000003), np.float64(235214.21), np.float64(4032883.5), np.float64(1215258.66), np.float64(46794.88), np.float64(566189.97), np.float64(273208.32), np.float64(607800.9), np.float64(33080.32), np.float64(1631050.7200000002), np.float64(19209.92), np.float64(37572.21), np.float64(290773.77), np.float64(1522384.0), np.float64(79734.69), np.float64(310302.19), np.float64(461067.12), np.float64(1724548.17), np.float64(60916.76), np.float64(689543.68), np.float64(1046846.29), np.float64(1564388.46), np.float64(213929.25), np.float64(2599145.63), np.float64(374656.8), np.float64(55510.14), np.float64(900297.93), np.float64(4435912.0), np.float64(453756.69), np.float64(8892.2), np.float64(812723.1599999999), np.float64(905935.5900000001), np.float64(230702.08000000002), np.float64(1639646.24), np.float64(696187.1399999999), np.float64(869056.27), np.float64(1241337.6199999999), np.float64(2259898.06), np.float64(29112.44), np.float64(45438.68), np.float64(1378345.3199999998), np.float64(419370.91), np.float64(562846.4400000001), np.float64(1090712.8599999999), np.float64(991174.12), np.float64(867433.77), np.float64(751554.72), np.float64(971700.9600000001), np.float64(505042.55999999994), np.float64(1259365.24), np.float64(1964949.72), np.float64(877766.5199999999), np.float64(480278.25), np.float64(2539336.47), np.float64(519392.16000000003), np.float64(237730.65), np.float64(6276.44), np.float64(237534.88), np.float64(754477.9199999999), np.float64(65515.520000000004), np.float64(2628296.73), np.float64(511170.24), np.float64(2289350.56), np.float64(297955.98), np.float64(691404.5399999999), np.float64(114753.66), np.float64(1277751.2999999998), np.float64(254331.21000000002), np.float64(338773.26), np.float64(2890.17), np.float64(1168548.5999999999), np.float64(879565.89), np.float64(1707630.9200000002), np.float64(1959701.8599999999), np.float64(539838.42), np.float64(2803286.4000000004), np.float64(1394446.74), np.float64(426007.68), np.float64(864653.3700000001), np.float64(92202.09), np.float64(1006909.09), np.float64(951896.82), np.float64(436472.34), np.float64(78394.14), np.float64(35022.06), np.float64(1678465.42), np.float64(424448.64), np.float64(1775107.5299999998), np.float64(142760.1), np.float64(862856.54), np.float64(578042.01), np.float64(451796.27999999997), np.float64(423376.8), np.float64(58168.32000000001), np.float64(968981.33), np.float64(919534.5599999999), np.float64(32233.36), np.float64(1649336.28), np.float64(59802.64), np.float64(1155961.9200000002), np.float64(1171185.76), np.float64(69110.04), np.float64(509123.28), np.float64(946365.91), np.float64(541758.7200000001), np.float64(1267662.44), np.float64(270995.94), np.float64(144406.08), np.float64(676135.26), np.float64(2872581.12), np.float64(197406.72000000003), np.float64(344553.60000000003), np.float64(320302.08), np.float64(1679488.6800000002), np.float64(1167008.0), np.float64(1173331.2), np.float64(281118.97), np.float64(1098491.8), np.float64(242637.24), np.float64(665607.6000000001), np.float64(238192.64), np.float64(355263.51), np.float64(66064.31999999999), np.float64(144294.81), np.float64(8407.8), np.float64(41824.48), np.float64(1952326.2400000002), np.float64(174876.79), np.float64(1464114.7999999998), np.float64(224851.2), np.float64(419839.35), np.float64(1445620.5599999998), np.float64(548762.55), np.float64(4379636.100000001), np.float64(3341370.4000000004), np.float64(36980.48), np.float64(381785.79000000004), np.float64(302005.0), np.float64(820825.1100000001), np.float64(55692.159999999996), np.float64(2396377.9899999998), np.float64(923668.52), np.float64(4768602.0600000005), np.float64(3279073.5), np.float64(642032.16), np.float64(22095.99), np.float64(77472.36), np.float64(4403889.44), np.float64(374813.46), np.float64(1662621.71), np.float64(2048.32), np.float64(349534.92000000004), np.float64(1927386.65), np.float64(323809.15), np.float64(1540794.2999999998), np.float64(2566471.7800000003), np.float64(260709.78999999998), np.float64(3068136.97), np.float64(15369.32), np.float64(705987.73), np.float64(349547.52), np.float64(812941.9199999999), np.float64(125117.44000000002), np.float64(263125.83), np.float64(1515446.5199999998), np.float64(154344.96), np.float64(192583.82), np.float64(578926.0800000001), np.float64(819140.2000000001), np.float64(1362385.94), np.float64(403304.16), np.float64(1439.36), np.float64(448656.39), np.float64(216585.27), np.float64(2303140.8200000003), np.float64(17500.68), np.float64(117816.93000000001), np.float64(762566.79), np.float64(2536081.7600000002), np.float64(2532707.94), np.float64(1744561.25), np.float64(311485.44), np.float64(1405918.8699999999), np.float64(327111.68000000005), np.float64(3815409.2800000003), np.float64(290941.5), np.float64(708071.91), np.float64(310912.00000000006), np.float64(296409.96), np.float64(272344.8), np.float64(42040.32000000001), np.float64(270532.89999999997), np.float64(540745.14), np.float64(267729.60000000003), np.float64(181361.94999999998), np.float64(664644.9199999999), np.float64(481743.36), np.float64(133002.24000000002), np.float64(932695.6799999999), np.float64(59023.44), np.float64(896751.66), np.float64(287935.2), np.float64(599017.65), np.float64(614882.94), np.float64(88796.93999999999), np.float64(104358.23999999999), np.float64(1414082.0999999999), np.float64(326013.89999999997), np.float64(55989.72), np.float64(1070918.4000000001), np.float64(348625.62000000005), np.float64(60923.68), np.float64(5162.32), np.float64(438357.38), np.float64(265431.04000000004), np.float64(445426.2), np.float64(1231360.0799999998), np.float64(21362.28), np.float64(4477.24), np.float64(110960.64000000001), np.float64(33762.68), np.float64(3094639.2), np.float64(730804.41), np.float64(756020.4299999999), np.float64(2434303.7600000002), np.float64(19915.76), np.float64(868836.15), np.float64(3611160.38), np.float64(4231889.34), np.float64(47900.24), np.float64(832222.58), np.float64(964577.7899999999), np.float64(2448877.42), np.float64(29818.28), np.float64(664908.25), np.float64(114441.28000000001), np.float64(201116.16), np.float64(4811783.36), np.float64(2695669.6), np.float64(2774561.52), np.float64(489259.98), np.float64(23763.28), np.float64(14826.06), np.float64(304706.43000000005), np.float64(696069.15), np.float64(931206.62), np.float64(50931.2), np.float64(1438765.5), np.float64(3456896.51), np.float64(237843.99000000002), np.float64(1944165.39), np.float64(391023.0), np.float64(1341139.69), np.float64(20621.6), np.float64(7383.64), np.float64(189557.76), np.float64(1210954.3199999998), np.float64(792717.59), np.float64(1119233.61), np.float64(642231.24), np.float64(54362.219999999994), np.float64(2345856.72), np.float64(3968558.3800000004), np.float64(161421.28999999998), np.float64(322630.68), np.float64(758901.78), np.float64(237107.28), np.float64(403492.01999999996), np.float64(298941.44), np.float64(423641.22000000003), np.float64(292980.82), np.float64(87231.76), np.float64(277494.91), np.float64(1322070.0599999998), np.float64(296181.76), np.float64(316914.51), np.float64(211957.76), np.float64(307154.98), np.float64(29001.72), np.float64(309758.22000000003), np.float64(3868.2799999999997), np.float64(3770262.72), np.float64(1352997.5399999998), np.float64(147624.96000000002), np.float64(3792311.04), np.float64(513486.87), np.float64(1372475.96), np.float64(1266591.9), np.float64(697022.98), np.float64(1085486.4000000001), np.float64(593680.08), np.float64(2727516.51), np.float64(64376.76), np.float64(372564.54), np.float64(767994.78), np.float64(1100060.06), np.float64(236913.53), np.float64(489345.45), np.float64(433424.11), np.float64(121478.04), np.float64(2133282.3000000003), np.float64(300446.72000000003), np.float64(265434.3), np.float64(30717.88), np.float64(400546.65), np.float64(4334407.5), np.float64(1522047.4), np.float64(962317.44), np.float64(235504.64), np.float64(534200.02), np.float64(640030.95), np.float64(2919708.14), np.float64(591590.5800000001), np.float64(311863.93), np.float64(3325621.6), np.float64(676428.27), np.float64(383935.13999999996), np.float64(504544.32), np.float64(607683.79), np.float64(1231997.76), np.float64(44571.72), np.float64(44506.0), np.float64(11126.5), np.float64(222146.4), np.float64(225111.04), np.float64(520910.64), np.float64(451319.88), np.float64(48204.72), np.float64(2089058.78), np.float64(43748.24), np.float64(371018.49), np.float64(1668456.75), np.float64(344666.94), np.float64(578926.0800000001), np.float64(742737.7799999999), np.float64(224087.71), np.float64(878439.92), np.float64(1252722.3599999999), np.float64(277893.77999999997), np.float64(251522.47999999998), np.float64(1504102.22), np.float64(462584.5), np.float64(285442.41), np.float64(3572054.3200000003), np.float64(434942.25), np.float64(4110961.7600000002), np.float64(1118331.2999999998), np.float64(851272.59), np.float64(4771617.3), np.float64(79983.64), np.float64(153072.64), np.float64(331795.8), np.float64(2696153.17), np.float64(3505764.97), np.float64(1503877.63), np.float64(136291.35), np.float64(244671.84), np.float64(88183.2), np.float64(452453.28), np.float64(3111535.08), np.float64(1584719.94), np.float64(3332845.2800000003), np.float64(1280.2), np.float64(549399.06), np.float64(298864.72), np.float64(324244.48000000004), np.float64(485538.06), np.float64(3303362.02), np.float64(540065.1), np.float64(1036448.98), np.float64(515300.31), np.float64(270879.36000000004), np.float64(277116.3), np.float64(2554455.3600000003), np.float64(117519.36000000002), np.float64(175899.22), np.float64(265986.93), np.float64(299970.44), np.float64(150017.01), np.float64(77751.24), np.float64(308151.52), np.float64(21265.16), np.float64(103876.56999999999), np.float64(982474.86), np.float64(497390.39999999997), np.float64(1006418.46), np.float64(36738.28), np.float64(486228.60000000003), np.float64(140289.27), np.float64(10395.33), np.float64(5985.280000000001), np.float64(215248.18), np.float64(655375.62), np.float64(1048664.76), np.float64(658304.64), np.float64(99568.35), np.float64(594801.69), np.float64(27631.56), np.float64(37437.2), np.float64(1255751.3399999999), np.float64(712286.4), np.float64(50176.92), np.float64(497841.75000000006), np.float64(1446310.12), np.float64(4667591.5200000005), np.float64(70637.38), np.float64(2495841.7399999998), np.float64(820444.7999999999), np.float64(4757043.640000001), np.float64(1120327.68), np.float64(530463.36), np.float64(2526914.6799999997), np.float64(41284.72), np.float64(3837395.44), np.float64(312940.76), np.float64(72300.48), np.float64(699853.7999999999), np.float64(1731131.42), np.float64(2447363.52), np.float64(729829.52), np.float64(48002.9), np.float64(1412142.4000000001), np.float64(304783.36000000004), np.float64(905390.0100000001), np.float64(158886.41999999998), np.float64(89298.11), np.float64(2488578.08), np.float64(164111.36000000002), np.float64(31977.32), np.float64(2080833.66), np.float64(2511378.21), np.float64(870042.32), np.float64(312632.32), np.float64(677021.4299999999), np.float64(718074.2100000001), np.float64(3882624.04), np.float64(733026.9), np.float64(2946330.51), np.float64(153882.54), np.float64(4559042.88), np.float64(312238.08), np.float64(19731.81), np.float64(2217431.04), np.float64(995259.0599999999), np.float64(259831.95), np.float64(476473.2), np.float64(3271998.68), np.float64(2707458.56), np.float64(1448968.38), np.float64(1188316.68), np.float64(559899.6), np.float64(2268465.56), np.float64(143626.56), np.float64(907961.84), np.float64(186402.72), np.float64(408418.88), np.float64(135797.76), np.float64(1063358.8), np.float64(2578078.56), np.float64(248801.28000000003), np.float64(95035.59), np.float64(797099.9999999999), np.float64(1560402.96), np.float64(760433.3999999999), np.float64(451376.52), np.float64(1081979.29), np.float64(4077889.2800000003), np.float64(13812.32), np.float64(4093113.12), np.float64(774190.2), np.float64(150112.38), np.float64(185367.57), np.float64(1695845.2), np.float64(148951.04), np.float64(57228.4), np.float64(40871.39), np.float64(267036.0), np.float64(5097886.5600000005), np.float64(17131.52), np.float64(216934.96), np.float64(3183.2), np.float64(212208.64), np.float64(1586707.2599999998), np.float64(164386.09), np.float64(1320274.4000000001), np.float64(3414759.3000000003), np.float64(228153.16), np.float64(1185925.38), np.float64(552702.51), np.float64(59479.09), np.float64(28108.32), np.float64(92917.92000000001), np.float64(471179.48), np.float64(863452.03), np.float64(3296748.8000000003), np.float64(4874135.46), np.float64(4375113.24), np.float64(3918806.9200000004), np.float64(3244777.7600000002), np.float64(194046.16), np.float64(2357856.82), np.float64(671860.07), np.float64(178231.56), np.float64(3904735.8000000003), np.float64(1967946.6400000001), np.float64(1980674.08), np.float64(868017.78), np.float64(116444.16000000002), np.float64(1557874.0), np.float64(1442785.0699999998), np.float64(1302939.66), np.float64(906094.5599999999), np.float64(154721.28000000003), np.float64(4094688.0000000005), np.float64(510950.93), np.float64(611728.32), np.float64(143718.40000000002), np.float64(592679.8400000001), np.float64(1342316.4), np.float64(1967444.1), np.float64(783612.48), np.float64(408590.7), np.float64(27832.239999999998), np.float64(915861.74), np.float64(102713.48999999999), np.float64(2937346.3000000003), np.float64(243964.35), np.float64(634529.28), np.float64(504589.68), np.float64(2473458.69), np.float64(301736.96), np.float64(172863.06), np.float64(893387.2500000001), np.float64(1269939.72), np.float64(557326.49), np.float64(28420.26), np.float64(222208.00000000003), np.float64(21791.079999999998), np.float64(543130.5599999999), np.float64(610897.44), np.float64(2680836.19), np.float64(1658610.1199999999), np.float64(3350294.72), np.float64(1247130.88), np.float64(102430.72000000002), np.float64(13293.32), np.float64(423642.87000000005), np.float64(1563790.72), np.float64(2604070.3699999996), np.float64(433827.03), np.float64(182983.24), np.float64(351877.12000000005), np.float64(69422.08), np.float64(67864.44), np.float64(2637802.77), np.float64(1665035.5899999999), np.float64(87681.0), np.float64(942926.88), np.float64(223332.47999999998), np.float64(28221.66), np.float64(49125.08), np.float64(181601.28000000003), np.float64(1164971.92), np.float64(279427.89), np.float64(654059.4900000001), np.float64(861272.16), np.float64(3579089.8800000004), np.float64(868287.84), np.float64(74124.36), np.float64(52758.08), np.float64(32039.6), np.float64(18469.989999999998), np.float64(2551305.6), np.float64(84098.28), np.float64(951111.84), np.float64(360421.2), np.float64(1360626.1099999999), np.float64(901629.89), np.float64(2935389.81), np.float64(58313.43), np.float64(242183.48), np.float64(36496.08), np.float64(854353.9199999999), np.float64(1077294.26), np.float64(594504.8200000001), np.float64(1515446.5199999998), np.float64(534934.24), np.float64(526404.84), np.float64(285887.47), np.float64(1236142.68), np.float64(1279783.7999999998), np.float64(1033729.97), np.float64(676623.36), np.float64(166779.81), np.float64(1540953.72), np.float64(278476.38), np.float64(351925.85), np.float64(1071302.4), np.float64(1906599.32), np.float64(26466.86), np.float64(143658.45), np.float64(227118.08000000002), np.float64(560522.97), np.float64(351262.59), np.float64(62213.03), np.float64(35880.2), np.float64(569634.24), np.float64(448882.63), np.float64(290401.64999999997), np.float64(235512.47999999998), np.float64(2110326.6199999996), np.float64(612719.52), np.float64(748215.79), np.float64(1800839.22), np.float64(124743.95999999999), np.float64(835645.44), np.float64(275651.08999999997), np.float64(336441.0), np.float64(5025442.08), np.float64(23963.96), np.float64(2040075.86), np.float64(44959.24), np.float64(419221.36), np.float64(23472.64), np.float64(811913.9700000001), np.float64(1385000.24), np.float64(4968.56), np.float64(2162976.39), np.float64(168479.91), np.float64(5081087.840000001), np.float64(68002.84), np.float64(1862413.24), np.float64(673549.5), np.float64(886112.8500000001), np.float64(1294649.8199999998), np.float64(46883.0), np.float64(23970.88), np.float64(259732.48), np.float64(365205.12), np.float64(314065.14), np.float64(798547.26), np.float64(266859.03), np.float64(79284.26), np.float64(1373562.72), np.float64(4840465.28), np.float64(469259.77), np.float64(292032.97), np.float64(3568491.65), np.float64(475927.62000000005), np.float64(233178.56), np.float64(237854.63999999998), np.float64(4421213.12), np.float64(3243552.86), np.float64(6723.36), np.float64(165816.42), np.float64(601037.84), np.float64(60854.479999999996), np.float64(142499.84000000003), np.float64(64369.84), np.float64(275477.75999999995), np.float64(343275.52), np.float64(161874.68), np.float64(2487915.18), np.float64(700200.69), np.float64(537193.2), np.float64(511123.52999999997), np.float64(53719.32), np.float64(815733.03), np.float64(315607.04000000004), np.float64(3983921.4400000004), np.float64(265896.96), np.float64(355172.58), np.float64(342272.00000000006), np.float64(23618.56), np.float64(170712.3), np.float64(380935.74), np.float64(333634.56), np.float64(4474759.04), np.float64(291522.56000000006), np.float64(160984.56), np.float64(2121913.1399999997), np.float64(220416.00000000003), np.float64(200550.36), np.float64(1011361.96), np.float64(903433.1399999999), np.float64(715424.99), np.float64(32959.96), np.float64(726672.8400000001), np.float64(3502008.16), np.float64(148124.97), np.float64(7852.13), np.float64(250700.80000000002), np.float64(2652390.37), np.float64(280791.84), np.float64(179971.68), np.float64(2604162.2800000003), np.float64(141115.81), np.float64(1379986.96), np.float64(3771060.16), np.float64(357969.92000000004), np.float64(380312.37), np.float64(263125.83), np.float64(130454.34000000001), np.float64(1762815.6800000002), np.float64(842758.5599999999), np.float64(525688.7999999999), np.float64(1165892.8), np.float64(405820.59), np.float64(4232894.42), np.float64(156919.23), np.float64(612491.6399999999), np.float64(4068440.0000000005), np.float64(52246.0), np.float64(576844.7999999999), np.float64(156311.43), np.float64(528709.44), np.float64(2838848.46), np.float64(731100.12), np.float64(575772.96), np.float64(341210.07), np.float64(76290.27), np.float64(583957.92), np.float64(337979.46), np.float64(3020362.58), np.float64(328796.16000000003), np.float64(362379.36), np.float64(1233751.38), np.float64(2617763.53), np.float64(289543.32), np.float64(316501.95), np.float64(21548.24), np.float64(3585476.8000000003), np.float64(47165.44), np.float64(921918.33), np.float64(196684.72999999998), np.float64(945557.76), np.float64(815823.9600000001), np.float64(330075.9), np.float64(534964.8), np.float64(156217.74000000002), np.float64(803795.6399999999), np.float64(721694.34), np.float64(59104.50000000001), np.float64(2031769.22), np.float64(535759.56), np.float64(379277.6), np.float64(1671448.04), np.float64(3440587.8400000003), np.float64(1094737.14), np.float64(176697.06), np.float64(57609.0), np.float64(817187.91), np.float64(297872.3), np.float64(2671000.1), np.float64(178592.75), np.float64(701288.58), np.float64(2489360.3200000003), np.float64(4813358.24), np.float64(1415490.18), np.float64(3643253.1), np.float64(688218.72), np.float64(830554.6200000001), np.float64(5188179.680000001), np.float64(3732867.12), np.float64(682636.44), np.float64(3528333.3400000003), np.float64(177239.34), np.float64(677853.84), np.float64(15701.48), np.float64(733528.32), np.float64(64480.56), np.float64(47367.1), np.float64(4122510.8800000004), np.float64(727876.7999999999), np.float64(3064991.46), np.float64(645442.5599999999), np.float64(40129.08), np.float64(5241200.640000001), np.float64(95560.73999999999), np.float64(25707.8), np.float64(734164.0399999999), np.float64(2414736.0999999996), np.float64(1822661.12), np.float64(27998.32), np.float64(185081.38), np.float64(698016.66), np.float64(396001.52), np.float64(298068.54000000004), np.float64(126398.4), np.float64(2302820.85), np.float64(2323439.9899999998), np.float64(61048.24), np.float64(693642.53), np.float64(111104.00000000001), np.float64(169917.55), np.float64(384383.26), np.float64(203212.80000000002), np.float64(2068193.8199999998), np.float64(202209.28000000003), np.float64(65742.39), np.float64(447736.8), np.float64(257273.40999999997), np.float64(3010645.6), np.float64(339970.33), np.float64(355998.72000000003), np.float64(221533.12000000002), np.float64(376825.23), np.float64(637078.4), np.float64(57508.11), np.float64(16264.29), np.float64(329728.00000000006), np.float64(355266.24), np.float64(1080867.5999999999), np.float64(225768.47999999998), np.float64(38634.36), np.float64(570885.4400000001), np.float64(206562.15), np.float64(956554.48), np.float64(257300.48), np.float64(3499186.02), np.float64(1991698.2400000002), np.float64(786048.48), np.float64(1304055.5999999999), np.float64(2598552.0), np.float64(69143.25), np.float64(39720.8), np.float64(333506.63999999996), np.float64(928865.43), np.float64(868462.34), np.float64(666056.7599999999), np.float64(1625276.1600000001), np.float64(941330.18), np.float64(56314.96), np.float64(2802163.04), np.float64(282777.60000000003), np.float64(1348988.31), np.float64(980377.59), np.float64(54012.420000000006), np.float64(3105700.04), np.float64(149508.37), np.float64(1760361.0499999998), np.float64(845723.1), np.float64(812882.58), np.float64(1378345.3199999998), np.float64(233067.52000000002), np.float64(379575.66000000003), np.float64(305213.44), np.float64(50149.24), np.float64(537032.5800000001), np.float64(108919.74), np.float64(903662.3400000001), np.float64(962707.2), np.float64(3441944.22), np.float64(1995083.8), np.float64(160149.42), np.float64(3294652.24), np.float64(1802493.8499999999), np.float64(209377.28000000003), np.float64(518914.41), np.float64(847290.85), np.float64(199672.55), np.float64(56695.56), np.float64(832300.77), np.float64(220214.4), np.float64(1103916.63), np.float64(111915.25), np.float64(931650.48), np.float64(2445019.05), np.float64(1345879.63), np.float64(169216.62), np.float64(389039.42), np.float64(3814278.6), np.float64(233052.49), np.float64(340473.36), np.float64(953158.29), np.float64(445691.04000000004), np.float64(87383.73000000001), np.float64(1784339.04), np.float64(731351.95), np.float64(961148.16), np.float64(2130883.67), np.float64(652419.8099999999), np.float64(1114301.65), np.float64(38841.96), np.float64(3367018.0), np.float64(647330.67), np.float64(2339851.04), np.float64(1730078.0999999999), np.float64(2300829.21), np.float64(286796.57999999996), np.float64(1483084.2599999998), np.float64(53982.649999999994), np.float64(33718.65), np.float64(2520737.28), np.float64(1261968.72), np.float64(7016.88), np.float64(39949.159999999996), np.float64(761287.0299999999), np.float64(1357939.5599999998), np.float64(42785.85), np.float64(100558.08), np.float64(273659.43), np.float64(316186.23), np.float64(4000720.16), np.float64(131568.64), np.float64(640868.3999999999), np.float64(938249.76), np.float64(793259.04), np.float64(1424895.96), np.float64(225613.63), np.float64(747949.44), np.float64(352148.16), np.float64(376450.2), np.float64(307758.99), np.float64(107195.87999999999), np.float64(140449.02), np.float64(433736.10000000003), np.float64(803795.6399999999), np.float64(194490.24), np.float64(177717.12), np.float64(71527.5), np.float64(89743.36000000002), np.float64(1747331.58), np.float64(140575.38), np.float64(760142.0800000001), np.float64(119562.24), np.float64(796889.28), np.float64(13368.320000000002), np.float64(833316.65), np.float64(2919757.4), np.float64(487297.44), np.float64(703948.21), np.float64(2663964.54), np.float64(1029693.7799999999), np.float64(1788010.7), np.float64(175436.80000000002), np.float64(206774.82), np.float64(93347.52), np.float64(390570.24000000005), np.float64(757537.8300000001), np.float64(128867.58), np.float64(207412.2), np.float64(692237.21), np.float64(1227356.48), np.float64(501813.44), np.float64(626462.07), np.float64(651149.7300000001), np.float64(3472578.18), np.float64(2352345.7600000002), np.float64(1422771.99), np.float64(374894.84), np.float64(319979.52), np.float64(170204.16), np.float64(1180508.39), np.float64(3065996.54), np.float64(52882.64), np.float64(1410127.24), np.float64(1433831.8499999999), np.float64(94474.24), np.float64(153466.88), np.float64(471901.92), np.float64(804114.48), np.float64(423697.97), np.float64(361441.26), np.float64(329333.76), np.float64(510482.49), np.float64(24898.16), np.float64(99133.44), np.float64(565736.64), np.float64(296982.18), np.float64(4769104.600000001), np.float64(3955573.6), np.float64(5092.08), np.float64(92428.77), np.float64(2141136.23), np.float64(670063.17), np.float64(285247.41000000003), np.float64(34496.2), np.float64(765548.07), np.float64(47734.159999999996), np.float64(44119.04), np.float64(177587.2), np.float64(19832.72), np.float64(4599246.08), np.float64(201039.96), np.float64(2576020.04), np.float64(276152.91000000003), np.float64(30856.28), np.float64(682795.86), np.float64(196444.18), np.float64(584496.01), np.float64(47318.96), np.float64(367256.96), np.float64(435055.59), np.float64(100328.73), np.float64(55731.200000000004), np.float64(236740.13), np.float64(105002.37), np.float64(272917.14999999997), np.float64(2353920.64), np.float64(918654.11), np.float64(1095446.94), np.float64(893666.41), np.float64(4727789.760000001), np.float64(80747.52), np.float64(306324.48000000004), np.float64(791429.38), np.float64(49256.56), np.float64(101632.62999999999), np.float64(974302.5599999999), np.float64(50647.479999999996), np.float64(447834.24), np.float64(447810.77999999997), np.float64(4401747.86), np.float64(2912478.08), np.float64(804562.08), np.float64(41582.28), np.float64(25114.1), np.float64(757863.74), np.float64(258604.92), np.float64(122973.90000000001), np.float64(823432.9099999999), np.float64(493658.97000000003), np.float64(708462.48), np.float64(328893.81), np.float64(1802712.6400000001), np.float64(996177.3899999999), np.float64(2744656.94), np.float64(135761.92), np.float64(235625.32), np.float64(844.24), np.float64(1264773.99), np.float64(298889.58), np.float64(311446.63), np.float64(1327183.2), np.float64(228598.72), np.float64(4101731.48), np.float64(75562.83), np.float64(1199731.48), np.float64(214455.34), np.float64(3419282.16), np.float64(65113.83), np.float64(2149562.79), np.float64(1511142.18), np.float64(313354.02999999997), np.float64(48647.6), np.float64(2069459.72), np.float64(1888339.43), np.float64(1375610.68), np.float64(4028360.64), np.float64(30551.8), np.float64(1317624.97), np.float64(762175.6799999999), np.float64(2163360.16), np.float64(221923.45), np.float64(257905.17), np.float64(46196.48), np.float64(726415.2), np.float64(1761414.3699999999), np.float64(609032.3), np.float64(421915.2), np.float64(4338794.4), np.float64(830309.9), np.float64(1119152.5), np.float64(1151012.4), np.float64(252385.28000000003), np.float64(1266.36), np.float64(1530968.6199999999), np.float64(136395.0), np.float64(3595673.7), np.float64(331867.9), np.float64(675356.64), np.float64(137198.07), np.float64(1426985.27), np.float64(211048.53000000003), np.float64(727433.46), np.float64(1003626.88), np.float64(76625.92000000001), np.float64(2153249.4099999997), np.float64(22133.79), np.float64(273807.27), np.float64(2509796.58), np.float64(80563.98000000001), np.float64(253330.98), np.float64(42890.159999999996), np.float64(641854.4), np.float64(528121.4400000001), np.float64(71470.98000000001), np.float64(843085.76), np.float64(9720.13), np.float64(248852.12), np.float64(83304.90000000001), np.float64(1129949.03), np.float64(44689.36), np.float64(1581127.5599999998), np.float64(197406.72000000003), np.float64(23984.72), np.float64(136304.09999999998), np.float64(228789.12), np.float64(429158.63999999996), np.float64(830196.0800000001), np.float64(1663715.78), np.float64(65719.24), np.float64(490690.9), np.float64(885021.6900000001), np.float64(3127581.44), np.float64(517850.46), np.float64(195540.29), np.float64(2264901.33), np.float64(425130.72), np.float64(341493.42), np.float64(155580.26), np.float64(49739.03999999999), np.float64(189597.59999999998), np.float64(933971.09), np.float64(476564.13000000006), np.float64(790064.8), np.float64(439497.76999999996), np.float64(1506614.9200000002), np.float64(66648.95999999999), np.float64(1159111.6800000002), np.float64(8387.87), np.float64(5519.360000000001), np.float64(535871.52), np.float64(2319147.31), np.float64(1370869.71), np.float64(732623.01), np.float64(1500191.01), np.float64(49671.76), np.float64(2520737.28), np.float64(626164.84), np.float64(31109.120000000003), np.float64(1204588.3800000001), np.float64(39658.52), np.float64(237198.88), np.float64(3356242.07), np.float64(4690205.82), np.float64(294704.13), np.float64(906481.17), np.float64(90814.08), np.float64(313951.68), np.float64(3861014.8200000003), np.float64(675413.76), np.float64(729728.16), np.float64(1246340.89), np.float64(269197.72), np.float64(35795.54), np.float64(20027.7), np.float64(984192.44), np.float64(19555.92), np.float64(628871.88), np.float64(508709.22), np.float64(173700.56), np.float64(2612202.92), np.float64(410984.75999999995), np.float64(441115.13999999996), np.float64(727191.86), np.float64(28062.72), np.float64(182927.36000000002), np.float64(2503151.74), np.float64(929967.36), np.float64(1749053.24), np.float64(141499.72), np.float64(254796.85), np.float64(291665.92000000004), np.float64(427007.28), np.float64(365464.83), np.float64(438512.46), np.float64(76782.72), np.float64(2232282.68), np.float64(846740.16), np.float64(145415.22), np.float64(199120.74), np.float64(1835276.08), np.float64(312941.45999999996), np.float64(554175.93), np.float64(407003.94), np.float64(327439.26), np.float64(274355.2), np.float64(63996.159999999996), np.float64(6723.36), np.float64(480268.11), np.float64(873523.49), np.float64(1799595.74), np.float64(323528.94), np.float64(959881.44), np.float64(2334745.38), np.float64(624395.52), np.float64(183393.28000000003), np.float64(1297202.33), np.float64(802126.08), np.float64(117985.28000000001), np.float64(122350.53), np.float64(2675365.84), np.float64(832040.16), np.float64(125694.06), np.float64(805457.9400000001), np.float64(42510.93), np.float64(1116292.52), np.float64(1045954.6199999999), np.float64(229507.32), np.float64(3097656.56), np.float64(3818034.08), np.float64(4006.68), np.float64(100079.22), np.float64(788013.0599999999), np.float64(497750.82000000007), np.float64(140797.91), np.float64(152006.4), np.float64(2024770.7200000002), np.float64(1677412.0999999999), np.float64(285986.39999999997), np.float64(142607.36000000002), np.float64(232557.28000000003), np.float64(205988.16), np.float64(124830.72000000002), np.float64(3171529.94), np.float64(440042.55), np.float64(346572.80000000005), np.float64(67947.48), np.float64(478628.57), np.float64(324172.80000000005), np.float64(67737.6), np.float64(57027.72), np.float64(83850.76), np.float64(34905.42), np.float64(107736.31), np.float64(44004.28), np.float64(146806.22), np.float64(46737.68), np.float64(243284.31), np.float64(2058675.05), np.float64(1427765.5199999998), np.float64(253066.24000000002), np.float64(73652.04), np.float64(31866.6), np.float64(615961.41), np.float64(560037.87), np.float64(464809.59), np.float64(531031.2000000001), np.float64(1397635.14), np.float64(3345666.06), np.float64(2172.88), np.float64(16919.4), np.float64(2291079.86), np.float64(1825810.8800000001), np.float64(155612.05), np.float64(96051.20000000001), np.float64(191313.92), np.float64(110565.62), np.float64(117527.62999999999), np.float64(49062.8), np.float64(1430671.89), np.float64(786475.1), np.float64(2542618.68), np.float64(1018374.96), np.float64(113254.40000000001), np.float64(735184.7999999999), np.float64(169917.55), np.float64(863835.0000000001), np.float64(259294.59), np.float64(2951325.12), np.float64(21047.04), np.float64(289638.69), np.float64(4160528.66), np.float64(1711894.56), np.float64(839186.8799999999), np.float64(516237.12), np.float64(3013795.3600000003), np.float64(66159.29999999999), np.float64(44728.32000000001), np.float64(38662.04), np.float64(555578.7), np.float64(3463096.2399999998), np.float64(367448.13), np.float64(1099175.66), np.float64(573239.52), np.float64(45000.76), np.float64(4131381.3400000003), np.float64(2588.08), np.float64(677012.91), np.float64(37524.48), np.float64(1475457.44), np.float64(24798.92), np.float64(3772887.5200000005), np.float64(568969.98), np.float64(621472.32), np.float64(4014792.06), np.float64(1424479.14), np.float64(248057.52), np.float64(1159349.51), np.float64(319958.82), np.float64(380482.38), np.float64(219880.55), np.float64(21182.12), np.float64(78776.32), np.float64(41962.799999999996), np.float64(700569.49), np.float64(413925.12), np.float64(469173.05999999994), np.float64(66197.04000000001), np.float64(439282.83), np.float64(4045447.0), np.float64(886561.39), np.float64(107291.25), np.float64(1979624.1600000001), np.float64(1113867.5399999998), np.float64(48821.280000000006), np.float64(393686.49), np.float64(628962.81), np.float64(1022838.72), np.float64(2361016.78), np.float64(49472.91), np.float64(1465069.7999999998), np.float64(274974.27999999997), np.float64(411144.18), np.float64(533395.38), np.float64(314782.72000000003), np.float64(923049.12), np.float64(302274.56000000006), np.float64(1034795.22), np.float64(4225928.0), np.float64(389662.92), np.float64(1185607.19), np.float64(471245.51999999996), np.float64(3993895.68), np.float64(522860.16000000003), np.float64(538851.18), np.float64(11794.09), np.float64(155364.69999999998), np.float64(2415526.09), np.float64(198661.12000000002), np.float64(4066051.14), np.float64(4580149.5600000005), np.float64(705660.48), np.float64(950040.0), np.float64(134231.63999999998), np.float64(24621.36), np.float64(3669044.54), np.float64(378952.29000000004), np.float64(2891615.16), np.float64(523247.48), np.float64(309361.53), np.float64(94298.88), np.float64(639420.6), np.float64(58722.59), np.float64(298547.2), np.float64(97699.08), np.float64(2271654.01), np.float64(878747.52), np.float64(795000.9900000001), np.float64(3567103.2), np.float64(523447.68), np.float64(244476.96), np.float64(299622.4), np.float64(233197.05000000002), np.float64(59828.159999999996), np.float64(2045810.7699999998), np.float64(1150371.53), np.float64(64833.479999999996), np.float64(3394899.21), np.float64(160491.45), np.float64(525217.56), np.float64(7238.32), np.float64(1969708.4), np.float64(317254.77), np.float64(783515.04), np.float64(1112915.2000000002), np.float64(524484.24), np.float64(1285577.0599999998), np.float64(195921.77), np.float64(61573.12), np.float64(1013172.8), np.float64(1941974.25), np.float64(785268.96), np.float64(3489934.08), np.float64(330839.46), np.float64(1136983.44), np.float64(3530343.5), np.float64(603702.05), np.float64(813797.39), np.float64(266495.57), np.float64(618809.24), np.float64(805482.58), np.float64(366959.04), np.float64(989.56), np.float64(180314.19), np.float64(727921.24), np.float64(724676.68), np.float64(1675970.9000000001), np.float64(27334.0), np.float64(269260.38), np.float64(196462.19999999998), np.float64(4639951.82), np.float64(230858.97999999998), np.float64(855032.5099999999), np.float64(378045.57), np.float64(492178.95), np.float64(3359219.04), np.float64(30060.48), np.float64(4146960.08), np.float64(274881.39), np.float64(23270.28), np.float64(1806631.3), np.float64(295730.39999999997), np.float64(4880668.48), np.float64(3341289.78), np.float64(818364.36), np.float64(800564.0), np.float64(386305.11), np.float64(1333070.0399999998), np.float64(252062.72000000003), np.float64(33596.6), np.float64(17325.55), np.float64(1983548.91), np.float64(3208907.31), np.float64(2107652.7600000002), np.float64(1888806.08), np.float64(644056.7999999999), np.float64(587465.76), np.float64(84188.16), np.float64(812277.6900000001), np.float64(1393480.49), np.float64(221869.2), np.float64(272072.67), np.float64(741031.2), np.float64(2046337.43), np.float64(1423035.3199999998), np.float64(341332.32), np.float64(2161149.31), np.float64(1228406.4000000001), np.float64(1269780.2999999998), np.float64(2294600.16), np.float64(78382.08), np.float64(331588.32), np.float64(462157.92), np.float64(506233.11000000004), np.float64(169308.16), np.float64(7480.4400000000005), np.float64(2638167.46), np.float64(500566.11), np.float64(1511620.44), np.float64(4032217.7600000002), np.float64(324265.74), np.float64(134931.27), np.float64(516237.12), np.float64(795182.8500000001), np.float64(28221.66), np.float64(866619.0299999999), np.float64(213867.36000000002), np.float64(501854.16), np.float64(546172.9199999999), np.float64(57159.2), np.float64(183968.72999999998), np.float64(449490.72), np.float64(78290.73000000001), np.float64(3648942.94), np.float64(2065823.8499999999), np.float64(1277113.6199999999), np.float64(105972.90000000001), np.float64(716520.9299999999), np.float64(5137783.5200000005), np.float64(622205.43), np.float64(65643.12), np.float64(2624275.04), np.float64(267957.91), np.float64(256601.76), np.float64(951259.1399999999), np.float64(250521.60000000003), np.float64(1403091.6800000002), np.float64(863415.84), np.float64(3666.66), np.float64(166.07999999999998), np.float64(322792.32), np.float64(1969956.8), np.float64(1367411.34), np.float64(1027780.7399999999), np.float64(383086.25999999995), np.float64(817999.67), np.float64(38475.2), np.float64(576260.16), np.float64(16746.4), np.float64(3613262.6), np.float64(52612.76), np.float64(1116099.42), np.float64(2823234.8800000004), np.float64(106941.56), np.float64(523910.08), np.float64(30392.64), np.float64(64296.96000000001), np.float64(586004.16), np.float64(1144047.59), np.float64(429710.39999999997), np.float64(195077.12000000002), np.float64(375722.10000000003), np.float64(741621.84), np.float64(215322.24000000002), np.float64(253824.24), np.float64(1926657.27), np.float64(41104.47), np.float64(1181939.88), np.float64(31151.26), np.float64(1846733.2899999998), np.float64(297289.44), np.float64(888295.17), np.float64(861459.3600000001), np.float64(110184.14), np.float64(43202.82), np.float64(345170.28), np.float64(25529.98), np.float64(3253702.08), np.float64(1313978.07), np.float64(684126.24), np.float64(376458.81), np.float64(378541.59), np.float64(55441.76), np.float64(483839.69999999995), np.float64(74032.06999999999), np.float64(4962446.88), np.float64(2239561.29), np.float64(258370.56000000003), np.float64(1329720.84), np.float64(4676134.7), np.float64(716361.87), np.float64(281415.68000000005), np.float64(812357.28), np.float64(176357.04), np.float64(79421.44), np.float64(535192.7), np.float64(50606.08), np.float64(612768.9099999999), np.float64(126830.13), np.float64(370735.14), np.float64(1369842.66), np.float64(641241.04), np.float64(9487.32), np.float64(8431.92), np.float64(3602407.82), np.float64(1968596.6199999999), np.float64(593042.3999999999), np.float64(5729.76), np.float64(87899.34999999999), np.float64(4141934.68), np.float64(865380.81), np.float64(618549.6), np.float64(546013.5), np.float64(837556.2300000001), np.float64(818106.24), np.float64(246626.82), np.float64(504564.3), np.float64(514581.34), np.float64(71718.24), np.float64(4838031.36), np.float64(988174.18), np.float64(5837.01), np.float64(1742867.2000000002), np.float64(1391098.92), np.float64(44820.84), np.float64(28558.84), np.float64(339963.33), np.float64(337259.37000000005), np.float64(765196.32), np.float64(64515.159999999996), np.float64(338797.01), np.float64(193477.9), np.float64(415386.72), np.float64(1054119.6800000002), np.float64(1596928.32), np.float64(105479.22), np.float64(1116519.2), np.float64(517977.52999999997), np.float64(377910.08), np.float64(30683.28), np.float64(511072.8), np.float64(1451678.5199999998), np.float64(124938.24), np.float64(1534950.5699999998), np.float64(329512.96), np.float64(262492.16000000003), np.float64(862925.7000000001), np.float64(558539.52), np.float64(157583.03), np.float64(318655.41000000003), np.float64(16954.56), np.float64(2484781.88), np.float64(205542.40000000002), np.float64(707187.12), np.float64(1405606.14), np.float64(742126.07), np.float64(3797560.64), np.float64(403986.24), np.float64(210201.6), np.float64(64660.86), np.float64(1019325.44), np.float64(160762.03), np.float64(127482.88000000002), np.float64(101300.15), np.float64(10999.98), np.float64(354099.2), np.float64(402038.63), np.float64(252126.49), np.float64(456816.87), np.float64(17357.34), np.float64(630187.2599999999), np.float64(520047.94), np.float64(610594.9500000001), np.float64(1555226.98), np.float64(5893.68), np.float64(109742.08000000002), np.float64(683702.67), np.float64(722149.98), np.float64(1508880.9), np.float64(1618178.8), np.float64(17673.68), np.float64(307886.14999999997), np.float64(80047.22), np.float64(3767112.9600000004), np.float64(2208285.38), np.float64(304353.28), np.float64(339649.12), np.float64(905328.5399999999), np.float64(1409078.8299999998), np.float64(149756.92), np.float64(53332.44), np.float64(1654233.84), np.float64(1003515.59), np.float64(30288.84), np.float64(1507475.5199999998), np.float64(227440.64), np.float64(86819.04), np.float64(10497.64), np.float64(1506110.24), np.float64(311072.26), np.float64(1051530.69), np.float64(236210.87), np.float64(504759.69), np.float64(711209.03), np.float64(1293190.74), np.float64(894986.4), np.float64(217856.87), np.float64(699380.92), np.float64(302901.92000000004), np.float64(81414.19), np.float64(161509.5), np.float64(2059769.1199999999), np.float64(54333.44), np.float64(22503.84), np.float64(514846.95), np.float64(308839.85), np.float64(4419839.3), np.float64(2816.44), np.float64(1000119.4), np.float64(297158.88), np.float64(2686220.3200000003), np.float64(758356.2000000001), np.float64(886314.24), np.float64(137488.13), np.float64(173920.23), np.float64(3663516.6), np.float64(259692.50999999998), np.float64(1113013.44), np.float64(265717.76), np.float64(326135.85000000003), np.float64(144304.84), np.float64(1116896.52), np.float64(186152.96000000002), np.float64(324280.32), np.float64(20285.440000000002), np.float64(304251.78), np.float64(405447.83999999997), np.float64(154864.64), np.float64(313922.56000000006), np.float64(100305.90000000001), np.float64(2299005.76), np.float64(3289626.8400000003), np.float64(513826.89), np.float64(401393.61), np.float64(761716.9600000001), np.float64(60101.34), np.float64(350535.15), np.float64(901661.8800000001), np.float64(843972.6499999999), np.float64(251095.04000000004), np.float64(94924.94), np.float64(171566.08000000002), np.float64(125210.4), np.float64(44433.32), np.float64(270655.92), np.float64(781530.67), np.float64(165160.8), np.float64(173795.93), np.float64(2656297.6), np.float64(56089.28999999999), np.float64(2225305.44), np.float64(10172.4), np.float64(315463.68000000005), np.float64(4316818.600000001), np.float64(4893677.12), np.float64(105584.64000000001), np.float64(48169.5), np.float64(574071.4199999999), np.float64(685072.8), np.float64(251596.80000000002), np.float64(3648942.94), np.float64(340246.68), np.float64(92304.18), np.float64(189563.77), np.float64(64342.159999999996), np.float64(920150.74), np.float64(3545579.8400000003), np.float64(248273.2), np.float64(1506635.2000000002), np.float64(323529.03), np.float64(842375.2799999999), np.float64(73943.54), np.float64(450376.29000000004), np.float64(2329272.9), np.float64(1136268.95), np.float64(17449.39), np.float64(676578.48), np.float64(570372.7799999999), np.float64(535043.04), np.float64(53365.76), np.float64(26150.68), np.float64(57002.4), np.float64(215833.73), np.float64(2607533.5), np.float64(356000.94), np.float64(220318.43999999997), np.float64(2185902.33), np.float64(140766.12), np.float64(187447.42), np.float64(47262.78), np.float64(1076.73), np.float64(12220.72), np.float64(100948.81999999999), np.float64(261320.80000000002), np.float64(173071.36000000002), np.float64(566857.62), np.float64(55353.08), np.float64(579492.41), np.float64(71718.24), np.float64(67952.64), np.float64(8387.16), np.float64(27185.76), np.float64(87879.68000000001), np.float64(6728.820000000001), np.float64(275143.68000000005), np.float64(43312.28), np.float64(282026.43), np.float64(87899.34999999999), np.float64(179064.4), np.float64(1251925.26), np.float64(227778.95), np.float64(466835.04), np.float64(815905.37), np.float64(12718.96), np.float64(1107665.6), np.float64(1507953.7799999998), np.float64(340438.77), np.float64(337259.37000000005), np.float64(5156.97), np.float64(702757.63), np.float64(1537897.73), np.float64(995029.2000000001), np.float64(64231.44), np.float64(51681.280000000006), np.float64(462116.06), np.float64(3656481.04), np.float64(8183.700000000001), np.float64(65753.84), np.float64(2049968.8), np.float64(1191806.92), np.float64(127662.08000000002), np.float64(2511.96), np.float64(865172.34), np.float64(352558.08), np.float64(818106.24), np.float64(441752.81999999995), np.float64(768904.0800000001), np.float64(39583.18), np.float64(3136854.68), np.float64(19182.24), np.float64(41704.32), np.float64(4771617.3), np.float64(299694.08), np.float64(732534.8999999999), np.float64(312931.74), np.float64(2278583.12), np.float64(318521.16), np.float64(959101.9199999999), np.float64(55650.64), np.float64(15251.68), np.float64(241680.71999999997), np.float64(872352.39), np.float64(519720.57), np.float64(2033876.13), np.float64(7259.08), np.float64(827967.7), np.float64(517755.42000000004), np.float64(1244680.1600000001), np.float64(4001223.48), np.float64(216082.71000000002), np.float64(1735871.3599999999), np.float64(210061.72), np.float64(3081995.19), np.float64(317295.99), np.float64(879144.77), np.float64(988408.4), np.float64(2256907.14), np.float64(29278.52), np.float64(2012631.19), np.float64(402155.74), np.float64(728656.32), np.float64(1986034.8599999999), np.float64(77249.7), np.float64(1618681.34), np.float64(6352.5599999999995), np.float64(306932.45), np.float64(8477.0), np.float64(233282.56000000003), np.float64(1414767.2000000002), np.float64(92636.06), np.float64(1644387.21), np.float64(246181.75999999998), np.float64(1174451.7999999998), np.float64(1904554.8800000001), np.float64(55336.96000000001), np.float64(4304.339999999999), np.float64(502332.42), np.float64(287505.05), np.float64(140636.16), np.float64(2138906.85), np.float64(402119.36000000004), np.float64(734307.84), np.float64(3658446.24), np.float64(444462.81), np.float64(23047.75), np.float64(3994690.46), np.float64(217062.12), np.float64(3804385.12), np.float64(442101.66000000003), np.float64(2695669.6), np.float64(162211.84000000003), np.float64(230543.04), np.float64(11055.880000000001), np.float64(2785962.72), np.float64(28134.4), np.float64(331125.76), np.float64(1939952.1099999999), np.float64(461010.45), np.float64(338623.32), np.float64(29119.64), np.float64(833988.96), np.float64(1671092.18), np.float64(692.0), np.float64(4773124.92), np.float64(5069538.720000001), np.float64(3929325.6), np.float64(13729.28), np.float64(468674.22), np.float64(53837.6), np.float64(3588914.29), np.float64(846012.7200000001), np.float64(636727.07), np.float64(327300.96), np.float64(65643.12), np.float64(2008417.91), np.float64(458378.13000000006), np.float64(337325.73), np.float64(2331827.86), np.float64(1551540.3599999999), np.float64(1700092.82), np.float64(516455.1), np.float64(882416.64), np.float64(7405.44), np.float64(22503.84), np.float64(536699.52), np.float64(215402.67), np.float64(2256278.08), np.float64(624687.84), np.float64(140707.84000000003), np.float64(137852.82), np.float64(1089659.54), np.float64(196731.36), np.float64(2550877.71), np.float64(316129.86), np.float64(105349.53), np.float64(92995.47), np.float64(170585.13999999998), np.float64(1177316.7), np.float64(5141.56), np.float64(723607.3799999999), np.float64(1275041.16), np.float64(658723.44), np.float64(2257409.68), np.float64(2274381.21), np.float64(344303.4), np.float64(532924.68), np.float64(449365.76), np.float64(21202.88), np.float64(100965.04), np.float64(3721966.4000000004), np.float64(471097.37), np.float64(723004.7999999999), np.float64(7707.12), np.float64(18995.4), np.float64(34357.8), np.float64(223554.97), np.float64(475654.83), np.float64(1860403.08), np.float64(458630.31), np.float64(1028737.2599999999), np.float64(2432796.14), np.float64(386580.11), np.float64(861762.47), np.float64(176484.77), np.float64(32202.839999999997), np.float64(197657.6), np.float64(51876.009999999995), np.float64(79734.69), np.float64(290338.07), np.float64(1514649.42), np.float64(1231031.2000000002), np.float64(4971371.2), np.float64(1438390.4000000001), np.float64(617352.9600000001), np.float64(1229212.84), np.float64(4346971.0), np.float64(1743244.5999999999), np.float64(113510.01000000001), np.float64(293153.91000000003), np.float64(177115.62), np.float64(825673.2200000001), np.float64(209508.99000000002), np.float64(186384.77), np.float64(2624346.78), np.float64(131855.36000000002), np.float64(430274.57999999996), np.float64(509973.33), np.float64(2732812.52), np.float64(265789.44), np.float64(1097822.77), np.float64(1305649.7999999998), np.float64(77916.16), np.float64(407396.64), np.float64(101028.62), np.float64(3051.84), np.float64(178532.63999999998), np.float64(4656920.16), np.float64(2203456.98), np.float64(2044087.45), np.float64(245934.08000000002), np.float64(515671.66), np.float64(677216.1599999999), np.float64(602103.19), np.float64(24254.760000000002), np.float64(1508625.08), np.float64(242717.61000000002), np.float64(66727.20999999999), np.float64(504843.36000000004), np.float64(755647.2), np.float64(670520.5199999999), np.float64(5259.2), np.float64(72969.44), np.float64(2474248.6799999997), np.float64(1943068.32), np.float64(200919.04), np.float64(297693.62), np.float64(90132.0), np.float64(1669437.8800000001), np.float64(3239528.16), np.float64(50662.98), np.float64(327166.14), np.float64(1425141.96), np.float64(284338.11000000004), np.float64(59566.08000000001), np.float64(490320.45999999996), np.float64(1166278.6199999999), np.float64(37686.32), np.float64(264333.85), np.float64(294854.01), np.float64(32537.84), np.float64(3680602.96), np.float64(1910610.91), np.float64(37893.92), np.float64(16579.68), np.float64(3636397.9200000004), np.float64(275154.18), np.float64(775451.04), np.float64(253620.62), np.float64(4327770.24), np.float64(100423.68000000001), np.float64(699797.28), np.float64(546735.84), np.float64(942650.46), np.float64(101441.89), np.float64(145283.04), np.float64(1289015.1), np.float64(231844.47), np.float64(36053.2), np.float64(215342.4), np.float64(522183.38999999996), np.float64(5556.76), np.float64(476708.04000000004), np.float64(329999.39999999997), np.float64(494118.24), np.float64(958751.8799999999), np.float64(2367336.6999999997), np.float64(502332.42), np.float64(18289.56), np.float64(63389.259999999995), np.float64(113680.02), np.float64(1559446.44), np.float64(188267.52000000002), np.float64(5062714.24), np.float64(596430.24), np.float64(66867.96), np.float64(671751.36), np.float64(13639.32), np.float64(65981.44), np.float64(361407.79), np.float64(93102.45), np.float64(171566.08000000002), np.float64(158218.2), np.float64(13320.01), np.float64(585.55), np.float64(337623.09), np.float64(4782170.640000001), np.float64(195650.56000000003), np.float64(3248293.83), np.float64(24923.36), np.float64(2183034.34), np.float64(66992.52), np.float64(1358470.25), np.float64(826093.94), np.float64(139621.68), np.float64(317542.4), np.float64(248979.28), np.float64(1437972.67), np.float64(112036.59), np.float64(285760.31), np.float64(1107490.74), np.float64(142525.05000000002), np.float64(4112011.68), np.float64(1120391.3699999999), np.float64(511536.48), np.float64(630436.7999999999), np.float64(35375.04), np.float64(405700.53), np.float64(10490.72), np.float64(477671.43), np.float64(1400593.28), np.float64(55470.72), np.float64(197268.27000000002), np.float64(84224.00000000001), np.float64(2451075.6399999997), np.float64(407400.63), np.float64(1050008.26), np.float64(108560.97), np.float64(3449238.02), np.float64(116116.83), np.float64(1252832.22), np.float64(180376.46), np.float64(51011.73), np.float64(424523.75), np.float64(79600.64000000001), np.float64(505836.42000000004), np.float64(224851.2), np.float64(403694.24000000005), np.float64(1806912.32), np.float64(1221794.88), np.float64(1048837.16), np.float64(274056.12), np.float64(108810.24), np.float64(43762.08), np.float64(2581045.44), np.float64(3195149.3200000003), np.float64(1478597.95), np.float64(39104.92), np.float64(740685.39), np.float64(207155.2), np.float64(511663.11000000004), np.float64(626539.2), np.float64(3569541.62), np.float64(180586.24000000002), np.float64(1032516.9299999999), np.float64(717353.28), np.float64(63041.2), np.float64(772708.74), np.float64(959311.19), np.float64(700491.48), np.float64(311863.93), np.float64(952806.96), np.float64(1235823.8399999999), np.float64(195722.24000000002), np.float64(112773.3), np.float64(19895.0), np.float64(783459.86), np.float64(284940.18), np.float64(3593290.57), np.float64(203649.6), np.float64(229666.08), np.float64(17576.8), np.float64(600535.1399999999), np.float64(126586.88000000002), np.float64(279336.96), np.float64(196716.52), np.float64(2624083.4499999997), np.float64(1097906.25), np.float64(3702714.72), np.float64(151129.66), np.float64(1778794.15), np.float64(87101.79000000001), np.float64(463724.12999999995), np.float64(423084.48), np.float64(874036.7999999999), np.float64(1626721.98), np.float64(1113628.6400000001), np.float64(91499.52), np.float64(20392.960000000003), np.float64(275756.22000000003), np.float64(11900.7), np.float64(377677.44), np.float64(150097.92), np.float64(177610.72999999998), np.float64(241254.31), np.float64(310302.19), np.float64(1028342.91), np.float64(655150.65), np.float64(17203.2), np.float64(956276.16), np.float64(4857454.88), np.float64(15950.6), np.float64(5653.64), np.float64(265255.76), np.float64(1706115.0699999998), np.float64(763621.7999999999), np.float64(2476609.79), np.float64(324662.43), np.float64(2039711.17), np.float64(2558130.08), np.float64(62632.92), np.float64(835548.0), np.float64(2155394.06), np.float64(58107.24), np.float64(167403.18), np.float64(160036.08000000002), np.float64(114530.07), np.float64(871358.97), np.float64(290783.13), np.float64(141245.44), np.float64(293565.44), np.float64(1247304.9600000002), np.float64(69561.45000000001), np.float64(1583139.96), np.float64(256347.36), np.float64(1321910.64), np.float64(963346.86), np.float64(150138.56), np.float64(124333.98000000001), np.float64(923838.8999999999), np.float64(2450513.2800000003), np.float64(286636.86), np.float64(5233326.24), np.float64(75978.09999999999), np.float64(3454236.8000000003), np.float64(38529.19), np.float64(2305205.4899999998), np.float64(1261809.2999999998), np.float64(749911.6799999999), np.float64(84929.26000000001), np.float64(248583.52), np.float64(196271.46), np.float64(293879.04), np.float64(4223848.7), np.float64(1187091.64), np.float64(41736.87), np.float64(4083663.8400000003), np.float64(314997.76), np.float64(18005.84), np.float64(778613.15), np.float64(105660.66), np.float64(920808.0), np.float64(527667.0), np.float64(89488.84999999999), np.float64(326000.64), np.float64(935826.01), np.float64(845025.97), np.float64(47239.94), np.float64(1399229.3399999999), np.float64(139130.88), np.float64(101629.92), np.float64(3497741.79), np.float64(275078.87), np.float64(3110388.0), np.float64(11224.24), np.float64(176949.78), np.float64(268789.08), np.float64(1040693.7599999999), np.float64(832722.24), np.float64(73794.56000000001), np.float64(134467.19999999998), np.float64(176752.4), np.float64(2217765.26), np.float64(241740.80000000002), np.float64(4449.56), np.float64(838192.7400000001), np.float64(293323.92), np.float64(479258.19), np.float64(314745.18), np.float64(3666029.3000000003), np.float64(187402.05), np.float64(44765.479999999996), np.float64(1333741.1600000001), np.float64(210927.33), np.float64(2441339.3200000003), np.float64(53565.119999999995), np.float64(3589278.98), np.float64(300187.86), np.float64(212978.96), np.float64(281594.88), np.float64(3607734.66), np.float64(581723.58), np.float64(6030.4800000000005), np.float64(1948850.12), np.float64(4137209.7600000002), np.float64(265952.31), np.float64(1160443.58), np.float64(2910209.14), np.float64(2114013.92), np.float64(173001.18), np.float64(4891724.36), np.float64(4289448.16), np.float64(689095.6799999999), np.float64(817096.9800000001), np.float64(343378.56), np.float64(2832684.16), np.float64(643753.74), np.float64(2669995.02), np.float64(4269579.84), np.float64(451263.21), np.float64(129490.95), np.float64(39506.28), np.float64(1540285.1), np.float64(282072.67), np.float64(39215.64), np.float64(111959.83), np.float64(721438.6200000001), np.float64(10522.49), np.float64(93385.11), np.float64(348436.48000000004), np.float64(18511.0), np.float64(61600.29), np.float64(640123.26), np.float64(1366548.24), np.float64(952313.3), np.float64(267334.2), np.float64(451536.95999999996), np.float64(3284674.72), np.float64(882892.29), np.float64(759809.68), np.float64(2610695.3000000003), np.float64(3901218.02), np.float64(1102457.8699999999), np.float64(29411.73), np.float64(1222114.53), np.float64(893013.5800000001), np.float64(509611.2), np.float64(853731.9), np.float64(5764.36), np.float64(15094.380000000001), np.float64(1738504.66), np.float64(956217.18), np.float64(437379.06), np.float64(473654.37000000005), np.float64(54508.84), np.float64(24710.1), np.float64(2086716.0000000002), np.float64(277023.16), np.float64(351076.32), np.float64(617621.66), np.float64(57809.920000000006), np.float64(484293.18000000005), np.float64(413087.88), np.float64(151034.73), np.float64(2674636.46), np.float64(549217.2000000001), np.float64(943288.1399999999), np.float64(59623.079999999994), np.float64(66722.64), np.float64(116663.19), np.float64(63675.369999999995), np.float64(2229615.11), np.float64(331304.19), np.float64(133145.6), np.float64(452396.61), np.float64(43796.68), np.float64(1957595.22), np.float64(14102.96), np.float64(229158.24000000002), np.float64(147768.32), np.float64(469794.3), np.float64(822657.98), np.float64(523630.8), np.float64(1407235.52), np.float64(749700.51), np.float64(1477723.88), np.float64(554119.26), np.float64(63788.56), np.float64(416641.26), np.float64(1442590.08), np.float64(684126.24), np.float64(1176679.02), np.float64(173967.36000000002), np.float64(31963.48), np.float64(1227534.0), np.float64(939076.75), np.float64(20559.32), np.float64(272917.14999999997), np.float64(59864.92), np.float64(541765.2000000001), np.float64(129544.25), np.float64(220559.02), np.float64(1285497.32), np.float64(1537847.2), np.float64(1021316.3099999999), np.float64(62530.93), np.float64(902406.2400000001), np.float64(656332.1399999999), np.float64(13648.960000000001), np.float64(453684.14), np.float64(425812.8), np.float64(2365469.7600000002), np.float64(247009.28000000003), np.float64(3255276.9600000004), np.float64(328724.04), np.float64(8297.19), np.float64(3707267.5200000005), np.float64(304524.57), np.float64(312718.23), np.float64(781179.63), np.float64(64473.64), np.float64(118343.68000000001), np.float64(14269.039999999999), np.float64(2807690.98), np.float64(623810.88), np.float64(665923.94), np.float64(2355750.1799999997), np.float64(593998.9199999999), np.float64(574306.24), np.float64(308967.01), np.float64(2332192.55), np.float64(349583.36000000004), np.float64(2478024.74), np.float64(2838382.27), np.float64(2260477.7600000002), np.float64(1459808.94), np.float64(3499908.3200000003), np.float64(2892356.39), np.float64(295817.4), np.float64(3050996.54), np.float64(257407.78), np.float64(42094.08), np.float64(120506.19), np.float64(150748.18), np.float64(33665.8), np.float64(820825.1100000001), np.float64(177336.32), np.float64(1103527.53), np.float64(4503631.84), np.float64(106566.88), np.float64(817187.91), np.float64(53455.99), np.float64(704496.3200000001), np.float64(753123.7999999999), np.float64(2621450.15), np.float64(213929.25), np.float64(248724.63), np.float64(31921.96), np.float64(218229.76), np.float64(812404.32), np.float64(677610.3600000001), np.float64(3175047.72), np.float64(11074.560000000001), np.float64(863289.42), np.float64(58507.13999999999), np.float64(747899.25), np.float64(494313.12), np.float64(160670.72), np.float64(1267407.29), np.float64(3217479.8400000003), np.float64(2389577.7), np.float64(21931.29), np.float64(650899.2), np.float64(42558.0), np.float64(17884.160000000003), np.float64(4396540.0), np.float64(49623.32), np.float64(462560.91000000003), np.float64(198983.68000000002), np.float64(139740.16), np.float64(338115.72), np.float64(141926.40000000002), np.float64(630984.36), np.float64(952281.12), np.float64(1079842.72), np.float64(380935.74), np.float64(2880980.48), np.float64(1392374.2799999998), np.float64(240330.71), np.float64(279775.79), np.float64(453870.03), np.float64(266813.47), np.float64(214087.28999999998), np.float64(290887.11), np.float64(226723.84000000003), np.float64(2001571.3299999998), np.float64(73657.43), np.float64(1318664.96), np.float64(252533.46999999997), np.float64(288032.64), np.float64(173878.84), np.float64(110996.48000000001), np.float64(43450.68), np.float64(181514.01), np.float64(237534.88), np.float64(228961.74000000002), np.float64(1570719.83), np.float64(3503941.52), np.float64(304897.89), np.float64(565566.6), np.float64(170101.13999999998), np.float64(1859189.6199999999), np.float64(729009.75), np.float64(416840.67), np.float64(793911.6), np.float64(105057.78), np.float64(215186.50999999998), np.float64(292478.28), np.float64(201564.16000000003), np.float64(332029.53), np.float64(905525.27), np.float64(582201.84), np.float64(45374.44), np.float64(14864.16), np.float64(157265.13), np.float64(223778.73), np.float64(2109366.96), np.float64(629358.7), np.float64(23045.120000000003), np.float64(501816.35), np.float64(896933.52), np.float64(93240.06999999999), np.float64(426498.42000000004), np.float64(495796.19999999995), np.float64(1669897.76), np.float64(31503.89), np.float64(649340.16), np.float64(968264.4099999999), np.float64(212808.96), np.float64(10184.16), np.float64(336531.93000000005), np.float64(682177.44), np.float64(105256.69), np.float64(361405.13999999996), np.float64(1664508.93), np.float64(187433.84), np.float64(345624.93000000005), np.float64(548962.29), np.float64(300523.65), np.float64(208092.24000000002), np.float64(1156578.36), np.float64(1141008.89), np.float64(272706.56), np.float64(226580.48), np.float64(246620.63999999998), np.float64(783320.16), np.float64(550035.5700000001), np.float64(150057.6), np.float64(2082940.2999999998), np.float64(41899.2), np.float64(2159685.44), np.float64(41996.64), np.float64(3331396.16), np.float64(4359792.800000001), np.float64(541279.2), np.float64(3313748.7600000002), np.float64(1168867.44), np.float64(557316.86), np.float64(3277565.8800000004), np.float64(3954487.2600000002), np.float64(841394.4), np.float64(402134.88), np.float64(399070.14), np.float64(636727.07), np.float64(191027.2), np.float64(896740.32), np.float64(47907.159999999996), np.float64(2742104.11), np.float64(1028790.49), np.float64(1402232.25), np.float64(300747.69), np.float64(740954.97), np.float64(2435289.44), np.float64(130370.79), np.float64(292417.2), np.float64(639666.26), np.float64(1094016.6400000001), np.float64(1182689.67), np.float64(55685.24), np.float64(554036.49), np.float64(2487185.8), np.float64(756530.6), np.float64(61832.4), np.float64(331348.92000000004), np.float64(1921782.3399999999), np.float64(177340.8), np.float64(67698.36), np.float64(36081.65), np.float64(56176.56), np.float64(31949.64), np.float64(65832.74), np.float64(1848576.5999999999), np.float64(304884.60000000003), np.float64(187084.8), np.float64(3364.4100000000003), np.float64(583588.74), np.float64(1060665.27), np.float64(2727284.58), np.float64(70282.24), np.float64(1278229.5599999998), np.float64(741050.08), np.float64(1649838.82), np.float64(1113398.57), np.float64(650663.16), np.float64(570442.8099999999), np.float64(59934.12), np.float64(345715.86000000004), np.float64(2317211.94), np.float64(676193.14), np.float64(335656.41000000003), np.float64(912330.72), np.float64(340441.92000000004), np.float64(477303.48), np.float64(4921876.76), np.float64(1156812.58), np.float64(20227.16), np.float64(795762.45), np.float64(10427.28), np.float64(1420432.2), np.float64(401637.81000000006), np.float64(113204.19), np.float64(968733.92), np.float64(429125.76), np.float64(583275.95), np.float64(8511.6), np.float64(132464.64), np.float64(154671.93000000002), np.float64(604287.6), np.float64(20854.239999999998), np.float64(995387.3999999999), np.float64(1262128.14), np.float64(48702.96), np.float64(84879.3), np.float64(526577.64), np.float64(11452.6), np.float64(768244.98), np.float64(152612.31), np.float64(3567397.58), np.float64(400941.3), np.float64(1666997.99), np.float64(43353.8), np.float64(673071.24), np.float64(549714.34), np.float64(49592.4), np.float64(472117.77), np.float64(407396.64), np.float64(1364371.04), np.float64(4620352.76), np.float64(1038461.8799999999), np.float64(4451135.84), np.float64(623142.3099999999), np.float64(534395.61), np.float64(471211.05), np.float64(153990.76), np.float64(235508.21), np.float64(368779.39), np.float64(3701492.9600000004), np.float64(249768.96000000002), np.float64(1236142.68), np.float64(424875.08), np.float64(15367.170000000002), np.float64(735993.92), np.float64(191693.69999999998), np.float64(271343.87), np.float64(57913.479999999996), np.float64(43647.67), np.float64(1630528.99), np.float64(643870.78), np.float64(746989.9500000001), np.float64(5232276.32), np.float64(3999670.24), np.float64(54956.159999999996), np.float64(636478.08), np.float64(14476.64), np.float64(2422165.44), np.float64(2903297.09), np.float64(825189.7500000001), np.float64(418281.27), np.float64(548392.32), np.float64(92144.64000000001), np.float64(202782.24), np.float64(258657.28000000003), np.float64(655816.0), np.float64(271426.05000000005), np.float64(1237028.48), np.float64(52231.06), np.float64(3822821.7800000003), np.float64(4539946.36), np.float64(2737363.14), np.float64(278336.73000000004), np.float64(328177.92), np.float64(413294.31), np.float64(515573.10000000003), np.float64(34810.049999999996), np.float64(314085.2), np.float64(679472.22), np.float64(35285.08), np.float64(150252.28), np.float64(1034696.16), np.float64(2017634.46), np.float64(609682.08), np.float64(193786.88), np.float64(180597.76), np.float64(507283.79), np.float64(264391.68000000005), np.float64(150384.64), np.float64(25396.4), np.float64(215790.52), np.float64(120367.08), np.float64(80747.52), np.float64(989228.17), np.float64(105256.69), np.float64(487702.02), np.float64(1132922.14), np.float64(5025967.04), np.float64(1108292.91), np.float64(970373.46), np.float64(902098.33), np.float64(538214.67), np.float64(35550.659999999996), np.float64(1964949.72), np.float64(521817.36000000004), np.float64(251458.9), np.float64(38025.4), np.float64(98804.16), np.float64(420492.96), np.float64(2591167.1999999997), np.float64(163932.16), np.float64(2728792.2), np.float64(435297.87), np.float64(10313.94), np.float64(1274226.86), np.float64(279752.0), np.float64(346967.04000000004), np.float64(115588.44), np.float64(385922.7), np.float64(4167132.4800000004), np.float64(264857.60000000003), np.float64(182590.74000000002), np.float64(3211824.83), np.float64(170584.68000000002), np.float64(980377.59), np.float64(3174991.14), np.float64(66854.37), np.float64(84439.04000000001), np.float64(2493385.53), np.float64(968066.4), np.float64(353808.63), np.float64(5042240.800000001), np.float64(1270928.1600000001), np.float64(192747.52000000002), np.float64(1837884.9600000002), np.float64(60273.84), np.float64(506856.48000000004), np.float64(3498471.17), np.float64(1114939.22), np.float64(490749.21), np.float64(550126.5), np.float64(5674.4), np.float64(3292642.08), np.float64(2546994.96), np.float64(1274591.55), np.float64(38931.92), np.float64(244869.12), np.float64(747360.96), np.float64(4673119.46), np.float64(623652.14), np.float64(2302294.19), np.float64(384270.18000000005), np.float64(444618.72), np.float64(709363.2), np.float64(2857357.2800000003), np.float64(1540285.1), np.float64(4826896.7), np.float64(999403.9799999999), np.float64(1404011.94), np.float64(303085.86), np.float64(712607.3999999999), np.float64(226186.24000000002), np.float64(1243316.5799999998), np.float64(64560.3), np.float64(917621.5199999999), np.float64(1717144.1600000001), np.float64(8214.039999999999), np.float64(65691.56), np.float64(460306.56), np.float64(153575.7), np.float64(4581.04), np.float64(65832.74), np.float64(1960491.8499999999), np.float64(722013.1799999999), np.float64(3606784.1), np.float64(201312.09), np.float64(337299.84), np.float64(65297.12), np.float64(40945.64), np.float64(1019910.99), np.float64(2441069.0999999996), np.float64(221455.01), np.float64(198956.15999999997), np.float64(176307.34), np.float64(12080.199999999999), np.float64(3961522.8200000003), np.float64(153632.37), np.float64(2696153.17), np.float64(639791.04), np.float64(1234180.9600000002), np.float64(883126.51), np.float64(1146506.9), np.float64(155453.1), np.float64(67128.32), np.float64(2722046.16), np.float64(701448.0), np.float64(47195.33), np.float64(12184.050000000001), np.float64(911453.76), np.float64(353555.09), np.float64(4385666.58), np.float64(95477.76000000001), np.float64(237662.04), np.float64(309912.48), np.float64(196995.68000000002), np.float64(75767.79000000001), np.float64(619597.02), np.float64(2556476.9), np.float64(175472.64), np.float64(582886.08), np.float64(1562805.9200000002), np.float64(2797172.3), np.float64(1898609.2999999998), np.float64(2566974.3200000003), np.float64(4593215.600000001), np.float64(4804958.88), np.float64(254320.0), np.float64(2616286.06), np.float64(174863.36000000002), np.float64(30531.04), np.float64(1136084.11), np.float64(266470.4), np.float64(839647.6200000001), np.float64(602568.96), np.float64(3611160.38), np.float64(44578.64), np.float64(535920.0), np.float64(1635634.65), np.float64(357191.01), np.float64(2408412.76), np.float64(47429.55), np.float64(646148.5800000001), np.float64(958545.35), np.float64(37201.92), np.float64(192245.76), np.float64(656878.3200000001), np.float64(299514.88), np.float64(3280078.58), np.float64(4337219.5200000005), np.float64(260126.72000000003), np.float64(205793.28000000003), np.float64(179549.91999999998), np.float64(849765.9099999999), np.float64(121800.0), np.float64(2079517.0099999998), np.float64(800184.0000000001), np.float64(264551.49), np.float64(1529794.3199999998), np.float64(3947451.7), np.float64(33478.2), np.float64(26294.88), np.float64(268559.13), np.float64(1562634.8399999999), np.float64(3638389.6), np.float64(102717.44000000002), np.float64(1609376.97), np.float64(58522.44), np.float64(619815.84), np.float64(720627.44), np.float64(604638.93), np.float64(836317.32), np.float64(46858.46), np.float64(2162310.24), np.float64(1541113.14), np.float64(211657.82), np.float64(129660.96), np.float64(3568491.65), np.float64(19431.36), np.float64(28824.81), np.float64(39035.72), np.float64(904230.2399999999), np.float64(93900.8), np.float64(3390134.8400000003), np.float64(927406.67), np.float64(2160359.32), np.float64(158771.2), np.float64(690654.72), np.float64(299271.06), np.float64(610049.37), np.float64(279945.12), np.float64(27195.6), np.float64(289130.05), np.float64(1460428.18), np.float64(314206.13), np.float64(244624.05), np.float64(1594424.68), np.float64(7625.84), np.float64(42066.68), np.float64(267385.69), np.float64(10442.28), np.float64(327495.93), np.float64(224753.22), np.float64(1333503.1199999999), np.float64(847642.18), np.float64(566578.6799999999), np.float64(926222.99), np.float64(848994.72), np.float64(623610.75), np.float64(57976.799999999996), np.float64(539271.72), np.float64(821562.4), np.float64(242723.04), np.float64(40827.36), np.float64(1857529.8199999998), np.float64(29006.670000000002), np.float64(51394.560000000005), np.float64(131397.42), np.float64(335534.08), np.float64(1338243.0599999998), np.float64(574404.81), np.float64(3191631.54), np.float64(285393.92000000004), np.float64(2109731.65), np.float64(3396491.2), np.float64(672518.28), np.float64(1860953.1099999999), np.float64(38115.36), np.float64(32468.64), np.float64(319346.16000000003), np.float64(99852.39), np.float64(246976.50999999998), np.float64(4415438.5600000005), np.float64(64577.44), np.float64(713245.08), np.float64(3088108.3000000003), np.float64(2406046.21), np.float64(3610247.3600000003), np.float64(157230.08000000002), np.float64(23422.0), np.float64(20754.72), np.float64(1877489.4400000002), np.float64(420151.38), np.float64(41869.469999999994), np.float64(356717.06), np.float64(169440.69999999998), np.float64(2584378.08), np.float64(512854.13999999996), np.float64(88598.73), np.float64(1887037.7000000002), np.float64(4668994.24), np.float64(180382.72000000003), np.float64(352430.73000000004), np.float64(2537877.71), np.float64(401355.36), np.float64(444738.63), np.float64(4418834.22), np.float64(583317.7799999999), np.float64(224696.63999999998), np.float64(3611724.8000000003), np.float64(155707.41999999998), np.float64(549399.06), np.float64(1739031.3199999998), np.float64(1266728.48), np.float64(473955.66), np.float64(68854.05), np.float64(4940973.28), np.float64(247453.36), np.float64(165533.07), np.float64(6733.16), np.float64(74618.88), np.float64(13429.83), np.float64(53290.92), np.float64(302940.96), np.float64(66944.08), np.float64(754892.4800000001), np.float64(261452.80000000002), np.float64(91301.28), np.float64(58771.56), np.float64(1211751.42), np.float64(2410600.9), np.float64(1562953.68), np.float64(1542229.0799999998), np.float64(3297667.48), np.float64(152642.56000000003), np.float64(846605.95), np.float64(187935.68000000002), np.float64(488144.04), np.float64(1152245.29), np.float64(213362.55000000002), np.float64(1204208.0899999999), np.float64(218878.59), np.float64(651600.04), np.float64(39057.899999999994), np.float64(3625323.56), np.float64(1374040.98), np.float64(167596.8), np.float64(2299660.8899999997), np.float64(264079.52999999997), np.float64(336035.84), np.float64(479916.77999999997), np.float64(63675.369999999995), np.float64(526.66), np.float64(183211.04), np.float64(113169.99), np.float64(2187054.08), np.float64(440192.13), np.float64(103205.55), np.float64(13798.400000000001), np.float64(28845.030000000002), np.float64(187572.0), np.float64(230413.75), np.float64(40285.84), np.float64(1371431.6600000001), np.float64(1509784.9600000002), np.float64(3034268.8000000003), np.float64(545029.94), np.float64(392361.69999999995), np.float64(1513828.19), np.float64(222784.32), np.float64(1129877.28), np.float64(1854158.7200000002), np.float64(1804621.1400000001), np.float64(23651.76), np.float64(2041169.93), np.float64(162211.28), np.float64(1141535.55), np.float64(173986.66999999998), np.float64(310435.02), np.float64(1300484.54), np.float64(4537229.28), np.float64(6528.48), np.float64(13369.44), np.float64(950017.45), np.float64(1463588.4800000002), np.float64(172683.28), np.float64(265538.56), np.float64(10636.039999999999), np.float64(985.49), np.float64(1334664.24), np.float64(1203681.43), np.float64(333985.89), np.float64(582045.24), np.float64(428856.82), np.float64(924583.45), np.float64(184350.21), np.float64(480033.89), np.float64(1404330.7799999998), np.float64(952815.8400000001), np.float64(582886.08), np.float64(184360.96000000002), np.float64(871532.62), np.float64(100710.72), np.float64(1173968.88), np.float64(36302.32), np.float64(883186.7999999999), np.float64(260360.1), np.float64(62280.0), np.float64(201485.02), np.float64(776056.5599999999), np.float64(456476.85000000003), np.float64(18234.5), np.float64(23797.88), np.float64(354887.68000000005), np.float64(3361347.73), np.float64(2258917.3000000003), np.float64(1961281.8399999999), np.float64(582388.03), np.float64(2529811.31), np.float64(856191.21), np.float64(221634.56000000003), np.float64(131833.13), np.float64(30046.64), np.float64(846605.95), np.float64(3792669.3800000004), np.float64(198756.05), np.float64(2561804.8000000003), np.float64(2712993.2800000003), np.float64(251586.06), np.float64(997894.3099999999), np.float64(23673.32), np.float64(207449.76), np.float64(1178751.48), np.float64(1407498.8499999999), np.float64(3534555.68), np.float64(8850.68), np.float64(922722.96), np.float64(163337.02), np.float64(211549.11000000002), np.float64(205059.61), np.float64(2986092.68), np.float64(72653.07), np.float64(3540855.2), np.float64(1880176.2), np.float64(124723.20000000001), np.float64(1987614.8399999999), np.float64(2130287.68), np.float64(2707093.87), np.float64(415186.38), np.float64(86051.84000000001), np.float64(898206.54), np.float64(297159.24000000005), np.float64(1191568.25), np.float64(304103.14), np.float64(1016631.91), np.float64(1448889.6), np.float64(84787.64), np.float64(1542295.26), np.float64(852578.1599999999), np.float64(62653.85), np.float64(45499.0), np.float64(209055.63), np.float64(16621.84), np.float64(1721701.49), np.float64(997424.0000000001), np.float64(1846206.63), np.float64(350086.31999999995), np.float64(24178.48), np.float64(13680.84), np.float64(1462359.66), np.float64(1313461.38), np.float64(720929.16), np.float64(99599.36000000002), np.float64(46129.380000000005), np.float64(896028.8200000001), np.float64(65809.2), np.float64(313854.24), np.float64(47829.48), np.float64(420151.38), np.float64(1046273.46), np.float64(131680.91999999998), np.float64(134077.44), np.float64(523252.8), np.float64(197218.56), np.float64(174807.36), np.float64(1020037.93), np.float64(39132.6), np.float64(61365.64), np.float64(4322520.640000001), np.float64(262312.96), np.float64(1692685.24), np.float64(490057.07999999996), np.float64(625159.76), np.float64(46858.46), np.float64(184453.91999999998), np.float64(379626.24), np.float64(87557.12000000001), np.float64(4565073.36), np.float64(36627.56), np.float64(580748.49), np.float64(1381214.88), np.float64(265478.29), np.float64(1243954.26), np.float64(783765.28), np.float64(4600251.16), np.float64(3286950.97), np.float64(779342.53), np.float64(4920975.04), np.float64(2084256.95), np.float64(965630.4), np.float64(5227551.680000001), np.float64(452283.27), np.float64(1052818.9), np.float64(1902952.42), np.float64(200394.12999999998), np.float64(154539.09), np.float64(102141.27), np.float64(1872464.04), np.float64(245647.36000000002), np.float64(15482.880000000001), np.float64(4214903.84), np.float64(332894.73000000004), np.float64(61283.52), np.float64(265502.72000000003), np.float64(492122.28), np.float64(43471.44), np.float64(62992.76), np.float64(329075.67000000004), np.float64(757327.78), np.float64(3257376.8000000003), np.float64(45512.84), np.float64(1477017.97), np.float64(281722.98), np.float64(9720.13), np.float64(326811.0), np.float64(63472.64000000001), np.float64(555025.98), np.float64(1118049.17), np.float64(848104.1100000001), np.float64(102681.7), np.float64(951501.6), np.float64(36731.36), np.float64(711254.4600000001), np.float64(1369258.38), np.float64(24109.28), np.float64(505446.76), np.float64(452864.37), np.float64(67117.08), np.float64(24371.2), np.float64(86373.43), np.float64(1907562.5199999998), np.float64(63643.58), np.float64(1088242.08), np.float64(251681.43), np.float64(227327.52), np.float64(842656.0), np.float64(1991564.7899999998), np.float64(3515611.6), np.float64(389622.48), np.float64(1798088.12), np.float64(437640.07), np.float64(124257.28000000001), np.float64(676778.69), np.float64(1338506.39), np.float64(712099.18), np.float64(410807.04), np.float64(66708.8), np.float64(103635.4), np.float64(598454.4), np.float64(865289.8800000001), np.float64(302167.04000000004), np.float64(1483243.68), np.float64(115942.40000000001), np.float64(40855.68), np.float64(855956.99)]\n"
     ]
    }
   ],
   "source": [
    "# for문 활용 가능\n",
    "# 총원가 데이터를 대입할 빈 리스트 생성\n",
    "data=[]\n",
    "\n",
    "# sales의 인덱스 수 만큼 반복 실행하는 반복문 생성\n",
    "for i in range (0, len(sales)):\n",
    "    res = sales.loc[i,\"원가\"] * sales.loc[i,\"판매개수\"]\n",
    "    data.append(res)\n",
    "\n",
    "print(data)"
   ]
  },
  {
   "cell_type": "code",
   "execution_count": 43,
   "metadata": {},
   "outputs": [],
   "source": [
    "sales[\"총원가\"]=data"
   ]
  },
  {
   "cell_type": "code",
   "execution_count": 44,
   "metadata": {},
   "outputs": [],
   "source": [
    "# while문 활용 가능\n",
    "# 컬럼에 들어갈 빈 리스트 생성\n",
    "data2=[]\n",
    "\n",
    "# 시작값 지정\n",
    "i=0\n",
    "\n",
    "# 무한반복문\n",
    "while True:\n",
    "    try:\n",
    "        res2=sales.loc[i,\"총단가\"]-sales.loc[i,\"총원가\"]\n",
    "        data2.append(res2)\n",
    "        i+=1\n",
    "    except:\n",
    "        # 위 코드의 에러 발생 시 -> 반복문 종료\n",
    "        break"
   ]
  },
  {
   "cell_type": "code",
   "execution_count": 45,
   "metadata": {},
   "outputs": [],
   "source": [
    "sales[\"총이윤\"]=data2"
   ]
  },
  {
   "cell_type": "markdown",
   "metadata": {},
   "source": [
    "#### 데이터프레임 그룹화\n",
    "- groupby([그룹화 진행할 컬럼의 명])\n",
    "    - 출력은 groupby data라는 형태로 텍스트 한줄이 출력된다.\n",
    "- 그룹화 연산\n",
    "    - 그룹화된 데이터들을 연산하여 새로운 데이터프레임 생성\n",
    "- 그룹화 선택\n",
    "    - 그룹회된 데이터들 중에 특정 데이터프레임 출력"
   ]
  },
  {
   "cell_type": "code",
   "execution_count": 46,
   "metadata": {},
   "outputs": [
    {
     "data": {
      "text/plain": [
       "0        81.73\n",
       "1       437.20\n",
       "2       154.06\n",
       "3       205.70\n",
       "4       651.21\n",
       "         ...  \n",
       "9995    109.28\n",
       "9996    255.28\n",
       "9997    109.28\n",
       "9998      9.33\n",
       "9999    205.70\n",
       "Name: 단가, Length: 10000, dtype: float64"
      ]
     },
     "execution_count": 46,
     "metadata": {},
     "output_type": "execute_result"
    }
   ],
   "source": [
    "sales[\"단가\"]"
   ]
  },
  {
   "cell_type": "code",
   "execution_count": 47,
   "metadata": {},
   "outputs": [],
   "source": [
    "group_dt=sales[['국가','총이윤']].groupby(['국가']).sum()"
   ]
  },
  {
   "cell_type": "code",
   "execution_count": 48,
   "metadata": {},
   "outputs": [
    {
     "data": {
      "text/html": [
       "<div>\n",
       "<style scoped>\n",
       "    .dataframe tbody tr th:only-of-type {\n",
       "        vertical-align: middle;\n",
       "    }\n",
       "\n",
       "    .dataframe tbody tr th {\n",
       "        vertical-align: top;\n",
       "    }\n",
       "\n",
       "    .dataframe thead th {\n",
       "        text-align: right;\n",
       "    }\n",
       "</style>\n",
       "<table border=\"1\" class=\"dataframe\">\n",
       "  <thead>\n",
       "    <tr style=\"text-align: right;\">\n",
       "      <th></th>\n",
       "      <th>총이윤</th>\n",
       "    </tr>\n",
       "    <tr>\n",
       "      <th>국가</th>\n",
       "      <th></th>\n",
       "    </tr>\n",
       "  </thead>\n",
       "  <tbody>\n",
       "    <tr>\n",
       "      <th>Afghanistan</th>\n",
       "      <td>22977020.06</td>\n",
       "    </tr>\n",
       "    <tr>\n",
       "      <th>Albania</th>\n",
       "      <td>19583969.70</td>\n",
       "    </tr>\n",
       "    <tr>\n",
       "      <th>Algeria</th>\n",
       "      <td>22125886.64</td>\n",
       "    </tr>\n",
       "    <tr>\n",
       "      <th>Andorra</th>\n",
       "      <td>16653936.87</td>\n",
       "    </tr>\n",
       "    <tr>\n",
       "      <th>Angola</th>\n",
       "      <td>19596150.58</td>\n",
       "    </tr>\n",
       "  </tbody>\n",
       "</table>\n",
       "</div>"
      ],
      "text/plain": [
       "                     총이윤\n",
       "국가                      \n",
       "Afghanistan  22977020.06\n",
       "Albania      19583969.70\n",
       "Algeria      22125886.64\n",
       "Andorra      16653936.87\n",
       "Angola       19596150.58"
      ]
     },
     "execution_count": 48,
     "metadata": {},
     "output_type": "execute_result"
    }
   ],
   "source": [
    "# sum() 여부에 따른 출력값 확인\n",
    "group_dt.head()"
   ]
  },
  {
   "cell_type": "code",
   "execution_count": 49,
   "metadata": {},
   "outputs": [
    {
     "data": {
      "text/html": [
       "<div>\n",
       "<style scoped>\n",
       "    .dataframe tbody tr th:only-of-type {\n",
       "        vertical-align: middle;\n",
       "    }\n",
       "\n",
       "    .dataframe tbody tr th {\n",
       "        vertical-align: top;\n",
       "    }\n",
       "\n",
       "    .dataframe thead th {\n",
       "        text-align: right;\n",
       "    }\n",
       "</style>\n",
       "<table border=\"1\" class=\"dataframe\">\n",
       "  <thead>\n",
       "    <tr style=\"text-align: right;\">\n",
       "      <th></th>\n",
       "      <th>총이윤</th>\n",
       "    </tr>\n",
       "    <tr>\n",
       "      <th>국가</th>\n",
       "      <th></th>\n",
       "    </tr>\n",
       "  </thead>\n",
       "  <tbody>\n",
       "    <tr>\n",
       "      <th>Kiribati</th>\n",
       "      <td>32454798.26</td>\n",
       "    </tr>\n",
       "    <tr>\n",
       "      <th>Qatar</th>\n",
       "      <td>30861356.79</td>\n",
       "    </tr>\n",
       "    <tr>\n",
       "      <th>Grenada</th>\n",
       "      <td>30302769.90</td>\n",
       "    </tr>\n",
       "    <tr>\n",
       "      <th>Taiwan</th>\n",
       "      <td>30044779.98</td>\n",
       "    </tr>\n",
       "    <tr>\n",
       "      <th>Malawi</th>\n",
       "      <td>29329125.05</td>\n",
       "    </tr>\n",
       "    <tr>\n",
       "      <th>...</th>\n",
       "      <td>...</td>\n",
       "    </tr>\n",
       "    <tr>\n",
       "      <th>Cape Verde</th>\n",
       "      <td>14383303.52</td>\n",
       "    </tr>\n",
       "    <tr>\n",
       "      <th>Italy</th>\n",
       "      <td>14199991.25</td>\n",
       "    </tr>\n",
       "    <tr>\n",
       "      <th>Malta</th>\n",
       "      <td>14163744.55</td>\n",
       "    </tr>\n",
       "    <tr>\n",
       "      <th>Mali</th>\n",
       "      <td>13800334.90</td>\n",
       "    </tr>\n",
       "    <tr>\n",
       "      <th>Tajikistan</th>\n",
       "      <td>13662027.26</td>\n",
       "    </tr>\n",
       "  </tbody>\n",
       "</table>\n",
       "<p>185 rows × 1 columns</p>\n",
       "</div>"
      ],
      "text/plain": [
       "                    총이윤\n",
       "국가                     \n",
       "Kiribati    32454798.26\n",
       "Qatar       30861356.79\n",
       "Grenada     30302769.90\n",
       "Taiwan      30044779.98\n",
       "Malawi      29329125.05\n",
       "...                 ...\n",
       "Cape Verde  14383303.52\n",
       "Italy       14199991.25\n",
       "Malta       14163744.55\n",
       "Mali        13800334.90\n",
       "Tajikistan  13662027.26\n",
       "\n",
       "[185 rows x 1 columns]"
      ]
     },
     "execution_count": 49,
     "metadata": {},
     "output_type": "execute_result"
    }
   ],
   "source": [
    "# gropup_dt에서 총이윤 sum을 기준으로 내림차순 정렬\n",
    "group_dt.sort_values([\"총이윤\"], ascending=False)"
   ]
  },
  {
   "cell_type": "code",
   "execution_count": 50,
   "metadata": {},
   "outputs": [],
   "source": [
    "# 그룹화 연산 2개 이상 사용\n",
    "group_dt2=sales[[\"국가\",\"총이윤\"]].groupby([\"국가\"]).agg([\"sum\", \"mean\"])"
   ]
  },
  {
   "cell_type": "code",
   "execution_count": 51,
   "metadata": {},
   "outputs": [
    {
     "data": {
      "text/html": [
       "<div>\n",
       "<style scoped>\n",
       "    .dataframe tbody tr th:only-of-type {\n",
       "        vertical-align: middle;\n",
       "    }\n",
       "\n",
       "    .dataframe tbody tr th {\n",
       "        vertical-align: top;\n",
       "    }\n",
       "\n",
       "    .dataframe thead tr th {\n",
       "        text-align: left;\n",
       "    }\n",
       "\n",
       "    .dataframe thead tr:last-of-type th {\n",
       "        text-align: right;\n",
       "    }\n",
       "</style>\n",
       "<table border=\"1\" class=\"dataframe\">\n",
       "  <thead>\n",
       "    <tr>\n",
       "      <th></th>\n",
       "      <th colspan=\"2\" halign=\"left\">총이윤</th>\n",
       "    </tr>\n",
       "    <tr>\n",
       "      <th></th>\n",
       "      <th>sum</th>\n",
       "      <th>mean</th>\n",
       "    </tr>\n",
       "    <tr>\n",
       "      <th>국가</th>\n",
       "      <th></th>\n",
       "      <th></th>\n",
       "    </tr>\n",
       "  </thead>\n",
       "  <tbody>\n",
       "    <tr>\n",
       "      <th>Afghanistan</th>\n",
       "      <td>22977020.06</td>\n",
       "      <td>389441.017966</td>\n",
       "    </tr>\n",
       "    <tr>\n",
       "      <th>Albania</th>\n",
       "      <td>19583969.70</td>\n",
       "      <td>356072.176364</td>\n",
       "    </tr>\n",
       "    <tr>\n",
       "      <th>Algeria</th>\n",
       "      <td>22125886.64</td>\n",
       "      <td>433840.914510</td>\n",
       "    </tr>\n",
       "    <tr>\n",
       "      <th>Andorra</th>\n",
       "      <td>16653936.87</td>\n",
       "      <td>320268.016731</td>\n",
       "    </tr>\n",
       "    <tr>\n",
       "      <th>Angola</th>\n",
       "      <td>19596150.58</td>\n",
       "      <td>362891.677407</td>\n",
       "    </tr>\n",
       "  </tbody>\n",
       "</table>\n",
       "</div>"
      ],
      "text/plain": [
       "                     총이윤               \n",
       "                     sum           mean\n",
       "국가                                     \n",
       "Afghanistan  22977020.06  389441.017966\n",
       "Albania      19583969.70  356072.176364\n",
       "Algeria      22125886.64  433840.914510\n",
       "Andorra      16653936.87  320268.016731\n",
       "Angola       19596150.58  362891.677407"
      ]
     },
     "execution_count": 51,
     "metadata": {},
     "output_type": "execute_result"
    }
   ],
   "source": [
    "group_dt2.head()"
   ]
  },
  {
   "cell_type": "code",
   "execution_count": 52,
   "metadata": {},
   "outputs": [
    {
     "data": {
      "text/plain": [
       "np.float64(23893933.75)"
      ]
     },
     "execution_count": 52,
     "metadata": {},
     "output_type": "execute_result"
    }
   ],
   "source": [
    "# group_dt2에서 South Korea의 총이윤의 합계값 출력 \n",
    "group_dt2.loc[\"South Korea\", (\"총이윤\",\"sum\")]"
   ]
  },
  {
   "cell_type": "code",
   "execution_count": 53,
   "metadata": {},
   "outputs": [
    {
     "data": {
      "text/plain": [
       "np.float64(23893933.75)"
      ]
     },
     "execution_count": 53,
     "metadata": {},
     "output_type": "execute_result"
    }
   ],
   "source": [
    "group_dt2[\"총이윤\"][\"sum\"][\"South Korea\"]"
   ]
  },
  {
   "cell_type": "code",
   "execution_count": 54,
   "metadata": {},
   "outputs": [
    {
     "data": {
      "text/html": [
       "<div>\n",
       "<style scoped>\n",
       "    .dataframe tbody tr th:only-of-type {\n",
       "        vertical-align: middle;\n",
       "    }\n",
       "\n",
       "    .dataframe tbody tr th {\n",
       "        vertical-align: top;\n",
       "    }\n",
       "\n",
       "    .dataframe thead tr th {\n",
       "        text-align: left;\n",
       "    }\n",
       "\n",
       "    .dataframe thead tr:last-of-type th {\n",
       "        text-align: right;\n",
       "    }\n",
       "</style>\n",
       "<table border=\"1\" class=\"dataframe\">\n",
       "  <thead>\n",
       "    <tr>\n",
       "      <th></th>\n",
       "      <th colspan=\"2\" halign=\"left\">총이윤</th>\n",
       "    </tr>\n",
       "    <tr>\n",
       "      <th></th>\n",
       "      <th>sum</th>\n",
       "      <th>mean</th>\n",
       "    </tr>\n",
       "    <tr>\n",
       "      <th>국가</th>\n",
       "      <th></th>\n",
       "      <th></th>\n",
       "    </tr>\n",
       "  </thead>\n",
       "  <tbody>\n",
       "    <tr>\n",
       "      <th>Brunei</th>\n",
       "      <td>21198560.2</td>\n",
       "      <td>451033.195745</td>\n",
       "    </tr>\n",
       "  </tbody>\n",
       "</table>\n",
       "</div>"
      ],
      "text/plain": [
       "               총이윤               \n",
       "               sum           mean\n",
       "국가                               \n",
       "Brunei  21198560.2  451033.195745"
      ]
     },
     "execution_count": 54,
     "metadata": {},
     "output_type": "execute_result"
    }
   ],
   "source": [
    "group_dt2.iloc[[20]]\n",
    "# iloc -> 위치를 기반으로 찾기\n",
    "# [] 과 [[]] 출력값이 다름"
   ]
  },
  {
   "cell_type": "markdown",
   "metadata": {},
   "source": [
    "#### 데이터프레임의 재구조화\n",
    "- pivot_table()\n",
    "    - 기존 데이터프레임의 데이터를 기준으로 새로운 데이터프레임을 생성\n",
    "    - 인덱스와 컬럼, 사용할 데이터를 데이터프레임에서 선택하여 구조를 재구성한다."
   ]
  },
  {
   "cell_type": "code",
   "execution_count": 29,
   "metadata": {},
   "outputs": [],
   "source": [
    "import pandas as pd\n",
    "sales=pd.read_csv(\"csv/Sales Records.csv\")"
   ]
  },
  {
   "cell_type": "code",
   "execution_count": 57,
   "metadata": {},
   "outputs": [
    {
     "data": {
      "text/html": [
       "<div>\n",
       "<style scoped>\n",
       "    .dataframe tbody tr th:only-of-type {\n",
       "        vertical-align: middle;\n",
       "    }\n",
       "\n",
       "    .dataframe tbody tr th {\n",
       "        vertical-align: top;\n",
       "    }\n",
       "\n",
       "    .dataframe thead tr th {\n",
       "        text-align: left;\n",
       "    }\n",
       "\n",
       "    .dataframe thead tr:last-of-type th {\n",
       "        text-align: right;\n",
       "    }\n",
       "</style>\n",
       "<table border=\"1\" class=\"dataframe\">\n",
       "  <thead>\n",
       "    <tr>\n",
       "      <th></th>\n",
       "      <th></th>\n",
       "      <th colspan=\"2\" halign=\"left\">sum</th>\n",
       "      <th colspan=\"2\" halign=\"left\">mean</th>\n",
       "    </tr>\n",
       "    <tr>\n",
       "      <th></th>\n",
       "      <th>채널</th>\n",
       "      <th>Offline</th>\n",
       "      <th>Online</th>\n",
       "      <th>Offline</th>\n",
       "      <th>Online</th>\n",
       "    </tr>\n",
       "    <tr>\n",
       "      <th>대륙</th>\n",
       "      <th>국가</th>\n",
       "      <th></th>\n",
       "      <th></th>\n",
       "      <th></th>\n",
       "      <th></th>\n",
       "    </tr>\n",
       "  </thead>\n",
       "  <tbody>\n",
       "    <tr>\n",
       "      <th rowspan=\"5\" valign=\"top\">Asia</th>\n",
       "      <th>Bangladesh</th>\n",
       "      <td>9952040.14</td>\n",
       "      <td>18140680.63</td>\n",
       "      <td>355430.005000</td>\n",
       "      <td>518305.160857</td>\n",
       "    </tr>\n",
       "    <tr>\n",
       "      <th>Bhutan</th>\n",
       "      <td>13144241.51</td>\n",
       "      <td>10689527.73</td>\n",
       "      <td>469437.196786</td>\n",
       "      <td>381768.847500</td>\n",
       "    </tr>\n",
       "    <tr>\n",
       "      <th>Brunei</th>\n",
       "      <td>8761013.35</td>\n",
       "      <td>12437546.85</td>\n",
       "      <td>417191.111905</td>\n",
       "      <td>478367.186538</td>\n",
       "    </tr>\n",
       "    <tr>\n",
       "      <th>Cambodia</th>\n",
       "      <td>9695262.62</td>\n",
       "      <td>14048900.27</td>\n",
       "      <td>387810.504800</td>\n",
       "      <td>342656.104146</td>\n",
       "    </tr>\n",
       "    <tr>\n",
       "      <th>China</th>\n",
       "      <td>13468823.66</td>\n",
       "      <td>11239192.06</td>\n",
       "      <td>498845.320741</td>\n",
       "      <td>416266.372593</td>\n",
       "    </tr>\n",
       "    <tr>\n",
       "      <th>...</th>\n",
       "      <th>...</th>\n",
       "      <td>...</td>\n",
       "      <td>...</td>\n",
       "      <td>...</td>\n",
       "      <td>...</td>\n",
       "    </tr>\n",
       "    <tr>\n",
       "      <th rowspan=\"5\" valign=\"top\">Sub-Saharan Africa</th>\n",
       "      <th>The Gambia</th>\n",
       "      <td>11579401.05</td>\n",
       "      <td>6739474.10</td>\n",
       "      <td>526336.411364</td>\n",
       "      <td>306339.731818</td>\n",
       "    </tr>\n",
       "    <tr>\n",
       "      <th>Togo</th>\n",
       "      <td>10918610.28</td>\n",
       "      <td>9107925.90</td>\n",
       "      <td>341206.571250</td>\n",
       "      <td>364317.036000</td>\n",
       "    </tr>\n",
       "    <tr>\n",
       "      <th>Uganda</th>\n",
       "      <td>12002629.58</td>\n",
       "      <td>13938025.73</td>\n",
       "      <td>500109.565833</td>\n",
       "      <td>449613.733226</td>\n",
       "    </tr>\n",
       "    <tr>\n",
       "      <th>Zambia</th>\n",
       "      <td>11247814.98</td>\n",
       "      <td>12389638.02</td>\n",
       "      <td>468658.957500</td>\n",
       "      <td>344156.611667</td>\n",
       "    </tr>\n",
       "    <tr>\n",
       "      <th>Zimbabwe</th>\n",
       "      <td>7374924.93</td>\n",
       "      <td>13799706.83</td>\n",
       "      <td>335223.860455</td>\n",
       "      <td>372965.049459</td>\n",
       "    </tr>\n",
       "  </tbody>\n",
       "</table>\n",
       "<p>185 rows × 4 columns</p>\n",
       "</div>"
      ],
      "text/plain": [
       "                                       sum                        mean  \\\n",
       "채널                                 Offline       Online        Offline   \n",
       "대륙                 국가                                                    \n",
       "Asia               Bangladesh   9952040.14  18140680.63  355430.005000   \n",
       "                   Bhutan      13144241.51  10689527.73  469437.196786   \n",
       "                   Brunei       8761013.35  12437546.85  417191.111905   \n",
       "                   Cambodia     9695262.62  14048900.27  387810.504800   \n",
       "                   China       13468823.66  11239192.06  498845.320741   \n",
       "...                                    ...          ...            ...   \n",
       "Sub-Saharan Africa The Gambia  11579401.05   6739474.10  526336.411364   \n",
       "                   Togo        10918610.28   9107925.90  341206.571250   \n",
       "                   Uganda      12002629.58  13938025.73  500109.565833   \n",
       "                   Zambia      11247814.98  12389638.02  468658.957500   \n",
       "                   Zimbabwe     7374924.93  13799706.83  335223.860455   \n",
       "\n",
       "                                              \n",
       "채널                                    Online  \n",
       "대륙                 국가                         \n",
       "Asia               Bangladesh  518305.160857  \n",
       "                   Bhutan      381768.847500  \n",
       "                   Brunei      478367.186538  \n",
       "                   Cambodia    342656.104146  \n",
       "                   China       416266.372593  \n",
       "...                                      ...  \n",
       "Sub-Saharan Africa The Gambia  306339.731818  \n",
       "                   Togo        364317.036000  \n",
       "                   Uganda      449613.733226  \n",
       "                   Zambia      344156.611667  \n",
       "                   Zimbabwe    372965.049459  \n",
       "\n",
       "[185 rows x 4 columns]"
      ]
     },
     "execution_count": 57,
     "metadata": {},
     "output_type": "execute_result"
    }
   ],
   "source": [
    "pd.pivot_table(\n",
    "    sales,\n",
    "    index=[\"대륙\",\"국가\"],\n",
    "    columns=\"채널\",\n",
    "    values=\"총이윤\",\n",
    "    aggfunc=[\"sum\",\"mean\"]\n",
    ")"
   ]
  },
  {
   "cell_type": "code",
   "execution_count": 60,
   "metadata": {},
   "outputs": [],
   "source": [
    "# groupby()에서 그룹화된 데이터프레임을 출력\n",
    "group_dt3=sales[[\"대륙\",\"총이윤\"]].groupby(\"대륙\")"
   ]
  },
  {
   "cell_type": "code",
   "execution_count": 63,
   "metadata": {},
   "outputs": [
    {
     "data": {
      "text/html": [
       "<div>\n",
       "<style scoped>\n",
       "    .dataframe tbody tr th:only-of-type {\n",
       "        vertical-align: middle;\n",
       "    }\n",
       "\n",
       "    .dataframe tbody tr th {\n",
       "        vertical-align: top;\n",
       "    }\n",
       "\n",
       "    .dataframe thead th {\n",
       "        text-align: right;\n",
       "    }\n",
       "</style>\n",
       "<table border=\"1\" class=\"dataframe\">\n",
       "  <thead>\n",
       "    <tr style=\"text-align: right;\">\n",
       "      <th></th>\n",
       "      <th>대륙</th>\n",
       "      <th>총이윤</th>\n",
       "    </tr>\n",
       "  </thead>\n",
       "  <tbody>\n",
       "    <tr>\n",
       "      <th>0</th>\n",
       "      <td>Asia</td>\n",
       "      <td>236065.20</td>\n",
       "    </tr>\n",
       "    <tr>\n",
       "      <th>1</th>\n",
       "      <td>Asia</td>\n",
       "      <td>100322.99</td>\n",
       "    </tr>\n",
       "    <tr>\n",
       "      <th>2</th>\n",
       "      <td>Asia</td>\n",
       "      <td>2146.42</td>\n",
       "    </tr>\n",
       "    <tr>\n",
       "      <th>3</th>\n",
       "      <td>Asia</td>\n",
       "      <td>865347.12</td>\n",
       "    </tr>\n",
       "    <tr>\n",
       "      <th>4</th>\n",
       "      <td>Asia</td>\n",
       "      <td>976038.75</td>\n",
       "    </tr>\n",
       "    <tr>\n",
       "      <th>...</th>\n",
       "      <td>...</td>\n",
       "      <td>...</td>\n",
       "    </tr>\n",
       "    <tr>\n",
       "      <th>1464</th>\n",
       "      <td>Asia</td>\n",
       "      <td>980452.93</td>\n",
       "    </tr>\n",
       "    <tr>\n",
       "      <th>1465</th>\n",
       "      <td>Asia</td>\n",
       "      <td>463211.25</td>\n",
       "    </tr>\n",
       "    <tr>\n",
       "      <th>1466</th>\n",
       "      <td>Asia</td>\n",
       "      <td>330387.20</td>\n",
       "    </tr>\n",
       "    <tr>\n",
       "      <th>1467</th>\n",
       "      <td>Asia</td>\n",
       "      <td>39845.40</td>\n",
       "    </tr>\n",
       "    <tr>\n",
       "      <th>1468</th>\n",
       "      <td>Asia</td>\n",
       "      <td>872805.30</td>\n",
       "    </tr>\n",
       "  </tbody>\n",
       "</table>\n",
       "<p>1469 rows × 2 columns</p>\n",
       "</div>"
      ],
      "text/plain": [
       "        대륙        총이윤\n",
       "0     Asia  236065.20\n",
       "1     Asia  100322.99\n",
       "2     Asia    2146.42\n",
       "3     Asia  865347.12\n",
       "4     Asia  976038.75\n",
       "...    ...        ...\n",
       "1464  Asia  980452.93\n",
       "1465  Asia  463211.25\n",
       "1466  Asia  330387.20\n",
       "1467  Asia   39845.40\n",
       "1468  Asia  872805.30\n",
       "\n",
       "[1469 rows x 2 columns]"
      ]
     },
     "execution_count": 63,
     "metadata": {},
     "output_type": "execute_result"
    }
   ],
   "source": [
    "group_dt3.get_group(\"Asia\")"
   ]
  },
  {
   "cell_type": "code",
   "execution_count": 68,
   "metadata": {},
   "outputs": [],
   "source": [
    "group_dt4=sales[[\"국가\",\"총이윤\"]].groupby(\"국가\").sum()"
   ]
  },
  {
   "cell_type": "code",
   "execution_count": 69,
   "metadata": {},
   "outputs": [
    {
     "data": {
      "text/html": [
       "<div>\n",
       "<style scoped>\n",
       "    .dataframe tbody tr th:only-of-type {\n",
       "        vertical-align: middle;\n",
       "    }\n",
       "\n",
       "    .dataframe tbody tr th {\n",
       "        vertical-align: top;\n",
       "    }\n",
       "\n",
       "    .dataframe thead th {\n",
       "        text-align: right;\n",
       "    }\n",
       "</style>\n",
       "<table border=\"1\" class=\"dataframe\">\n",
       "  <thead>\n",
       "    <tr style=\"text-align: right;\">\n",
       "      <th></th>\n",
       "      <th>총이윤</th>\n",
       "    </tr>\n",
       "    <tr>\n",
       "      <th>국가</th>\n",
       "      <th></th>\n",
       "    </tr>\n",
       "  </thead>\n",
       "  <tbody>\n",
       "    <tr>\n",
       "      <th>Afghanistan</th>\n",
       "      <td>22977020.06</td>\n",
       "    </tr>\n",
       "    <tr>\n",
       "      <th>Albania</th>\n",
       "      <td>19583969.70</td>\n",
       "    </tr>\n",
       "    <tr>\n",
       "      <th>Algeria</th>\n",
       "      <td>22125886.64</td>\n",
       "    </tr>\n",
       "    <tr>\n",
       "      <th>Andorra</th>\n",
       "      <td>16653936.87</td>\n",
       "    </tr>\n",
       "    <tr>\n",
       "      <th>Angola</th>\n",
       "      <td>19596150.58</td>\n",
       "    </tr>\n",
       "    <tr>\n",
       "      <th>...</th>\n",
       "      <td>...</td>\n",
       "    </tr>\n",
       "    <tr>\n",
       "      <th>Vatican City</th>\n",
       "      <td>16978429.04</td>\n",
       "    </tr>\n",
       "    <tr>\n",
       "      <th>Vietnam</th>\n",
       "      <td>23415377.02</td>\n",
       "    </tr>\n",
       "    <tr>\n",
       "      <th>Yemen</th>\n",
       "      <td>16666875.07</td>\n",
       "    </tr>\n",
       "    <tr>\n",
       "      <th>Zambia</th>\n",
       "      <td>23637453.00</td>\n",
       "    </tr>\n",
       "    <tr>\n",
       "      <th>Zimbabwe</th>\n",
       "      <td>21174631.76</td>\n",
       "    </tr>\n",
       "  </tbody>\n",
       "</table>\n",
       "<p>185 rows × 1 columns</p>\n",
       "</div>"
      ],
      "text/plain": [
       "                      총이윤\n",
       "국가                       \n",
       "Afghanistan   22977020.06\n",
       "Albania       19583969.70\n",
       "Algeria       22125886.64\n",
       "Andorra       16653936.87\n",
       "Angola        19596150.58\n",
       "...                   ...\n",
       "Vatican City  16978429.04\n",
       "Vietnam       23415377.02\n",
       "Yemen         16666875.07\n",
       "Zambia        23637453.00\n",
       "Zimbabwe      21174631.76\n",
       "\n",
       "[185 rows x 1 columns]"
      ]
     },
     "execution_count": 69,
     "metadata": {},
     "output_type": "execute_result"
    }
   ],
   "source": [
    "group_dt4"
   ]
  },
  {
   "cell_type": "code",
   "execution_count": 72,
   "metadata": {},
   "outputs": [],
   "source": [
    "group_dt4.sort_values([\"총이윤\"], ascending=False, inplace=True)"
   ]
  },
  {
   "cell_type": "code",
   "execution_count": 73,
   "metadata": {},
   "outputs": [
    {
     "data": {
      "text/html": [
       "<div>\n",
       "<style scoped>\n",
       "    .dataframe tbody tr th:only-of-type {\n",
       "        vertical-align: middle;\n",
       "    }\n",
       "\n",
       "    .dataframe tbody tr th {\n",
       "        vertical-align: top;\n",
       "    }\n",
       "\n",
       "    .dataframe thead th {\n",
       "        text-align: right;\n",
       "    }\n",
       "</style>\n",
       "<table border=\"1\" class=\"dataframe\">\n",
       "  <thead>\n",
       "    <tr style=\"text-align: right;\">\n",
       "      <th></th>\n",
       "      <th>총이윤</th>\n",
       "    </tr>\n",
       "    <tr>\n",
       "      <th>국가</th>\n",
       "      <th></th>\n",
       "    </tr>\n",
       "  </thead>\n",
       "  <tbody>\n",
       "    <tr>\n",
       "      <th>Kiribati</th>\n",
       "      <td>32454798.26</td>\n",
       "    </tr>\n",
       "    <tr>\n",
       "      <th>Qatar</th>\n",
       "      <td>30861356.79</td>\n",
       "    </tr>\n",
       "    <tr>\n",
       "      <th>Grenada</th>\n",
       "      <td>30302769.90</td>\n",
       "    </tr>\n",
       "    <tr>\n",
       "      <th>Taiwan</th>\n",
       "      <td>30044779.98</td>\n",
       "    </tr>\n",
       "    <tr>\n",
       "      <th>Malawi</th>\n",
       "      <td>29329125.05</td>\n",
       "    </tr>\n",
       "    <tr>\n",
       "      <th>...</th>\n",
       "      <td>...</td>\n",
       "    </tr>\n",
       "    <tr>\n",
       "      <th>Cape Verde</th>\n",
       "      <td>14383303.52</td>\n",
       "    </tr>\n",
       "    <tr>\n",
       "      <th>Italy</th>\n",
       "      <td>14199991.25</td>\n",
       "    </tr>\n",
       "    <tr>\n",
       "      <th>Malta</th>\n",
       "      <td>14163744.55</td>\n",
       "    </tr>\n",
       "    <tr>\n",
       "      <th>Mali</th>\n",
       "      <td>13800334.90</td>\n",
       "    </tr>\n",
       "    <tr>\n",
       "      <th>Tajikistan</th>\n",
       "      <td>13662027.26</td>\n",
       "    </tr>\n",
       "  </tbody>\n",
       "</table>\n",
       "<p>185 rows × 1 columns</p>\n",
       "</div>"
      ],
      "text/plain": [
       "                    총이윤\n",
       "국가                     \n",
       "Kiribati    32454798.26\n",
       "Qatar       30861356.79\n",
       "Grenada     30302769.90\n",
       "Taiwan      30044779.98\n",
       "Malawi      29329125.05\n",
       "...                 ...\n",
       "Cape Verde  14383303.52\n",
       "Italy       14199991.25\n",
       "Malta       14163744.55\n",
       "Mali        13800334.90\n",
       "Tajikistan  13662027.26\n",
       "\n",
       "[185 rows x 1 columns]"
      ]
     },
     "execution_count": 73,
     "metadata": {},
     "output_type": "execute_result"
    }
   ],
   "source": [
    "group_dt4"
   ]
  },
  {
   "cell_type": "code",
   "execution_count": 75,
   "metadata": {},
   "outputs": [
    {
     "data": {
      "text/plain": [
       "'Kiribati'"
      ]
     },
     "execution_count": 75,
     "metadata": {},
     "output_type": "execute_result"
    }
   ],
   "source": [
    "group_dt4.iloc[0].name"
   ]
  },
  {
   "cell_type": "code",
   "execution_count": 76,
   "metadata": {},
   "outputs": [
    {
     "name": "stdout",
     "output_type": "stream",
     "text": [
      "47\n"
     ]
    }
   ],
   "source": [
    "# 반복문을 이용하여 South Korea의 위치 찾기\n",
    "# 국가는 index로 되어 있다.\n",
    "\n",
    "for i in range (0, len(group_dt4)):\n",
    "    if group_dt4.iloc[i].name == \"South Korea\":\n",
    "        print(i)"
   ]
  },
  {
   "cell_type": "code",
   "execution_count": 78,
   "metadata": {},
   "outputs": [
    {
     "name": "stdout",
     "output_type": "stream",
     "text": [
      "47\n"
     ]
    }
   ],
   "source": [
    "# while문\n",
    "\n",
    "i=0\n",
    "\n",
    "while True:\n",
    "    try:\n",
    "        if group_dt4.iloc[i].name == \"South Korea\":\n",
    "            print(i)\n",
    "            break\n",
    "        i+=1\n",
    "    except:\n",
    "        break"
   ]
  },
  {
   "cell_type": "code",
   "execution_count": 79,
   "metadata": {},
   "outputs": [],
   "source": [
    "# Dataframe에 index는 list 형태\n",
    "grdt4_index=list(group_dt4.index)"
   ]
  },
  {
   "cell_type": "code",
   "execution_count": 81,
   "metadata": {},
   "outputs": [
    {
     "data": {
      "text/plain": [
       "47"
      ]
     },
     "execution_count": 81,
     "metadata": {},
     "output_type": "execute_result"
    }
   ],
   "source": [
    "grdt4_index.index(\"South Korea\")"
   ]
  },
  {
   "cell_type": "code",
   "execution_count": 85,
   "metadata": {},
   "outputs": [],
   "source": [
    "group_dt4.reset_index(inplace=True)"
   ]
  },
  {
   "cell_type": "code",
   "execution_count": 89,
   "metadata": {},
   "outputs": [
    {
     "data": {
      "text/html": [
       "<div>\n",
       "<style scoped>\n",
       "    .dataframe tbody tr th:only-of-type {\n",
       "        vertical-align: middle;\n",
       "    }\n",
       "\n",
       "    .dataframe tbody tr th {\n",
       "        vertical-align: top;\n",
       "    }\n",
       "\n",
       "    .dataframe thead th {\n",
       "        text-align: right;\n",
       "    }\n",
       "</style>\n",
       "<table border=\"1\" class=\"dataframe\">\n",
       "  <thead>\n",
       "    <tr style=\"text-align: right;\">\n",
       "      <th></th>\n",
       "      <th>국가</th>\n",
       "      <th>총이윤</th>\n",
       "    </tr>\n",
       "  </thead>\n",
       "  <tbody>\n",
       "    <tr>\n",
       "      <th>47</th>\n",
       "      <td>South Korea</td>\n",
       "      <td>23893933.75</td>\n",
       "    </tr>\n",
       "  </tbody>\n",
       "</table>\n",
       "</div>"
      ],
      "text/plain": [
       "             국가          총이윤\n",
       "47  South Korea  23893933.75"
      ]
     },
     "execution_count": 89,
     "metadata": {},
     "output_type": "execute_result"
    }
   ],
   "source": [
    "group_dt4.loc[group_dt4[\"국가\"]==\"South Korea\"]"
   ]
  },
  {
   "cell_type": "code",
   "execution_count": 90,
   "metadata": {},
   "outputs": [],
   "source": [
    "group_dt5=sales[[\"국가\",\"총이윤\"]].groupby(\"국가\").sum()"
   ]
  },
  {
   "cell_type": "code",
   "execution_count": 92,
   "metadata": {},
   "outputs": [],
   "source": [
    "# 특정 컬럼을 기준으로 랭킹을 확인하는 함수\n",
    "# rank(): 오름차순으로 랭킹 생성\n",
    "# 내림차순으로 변경\n",
    "group_dt5[\"랭킹\"]=group_dt5[\"총이윤\"].rank(ascending=False)"
   ]
  },
  {
   "cell_type": "code",
   "execution_count": 93,
   "metadata": {},
   "outputs": [
    {
     "data": {
      "text/plain": [
       "총이윤    23893933.75\n",
       "랭킹           48.00\n",
       "Name: South Korea, dtype: float64"
      ]
     },
     "execution_count": 93,
     "metadata": {},
     "output_type": "execute_result"
    }
   ],
   "source": [
    "group_dt5.loc[\"South Korea\"]"
   ]
  },
  {
   "cell_type": "code",
   "execution_count": 94,
   "metadata": {},
   "outputs": [
    {
     "data": {
      "text/html": [
       "<div>\n",
       "<style scoped>\n",
       "    .dataframe tbody tr th:only-of-type {\n",
       "        vertical-align: middle;\n",
       "    }\n",
       "\n",
       "    .dataframe tbody tr th {\n",
       "        vertical-align: top;\n",
       "    }\n",
       "\n",
       "    .dataframe thead th {\n",
       "        text-align: right;\n",
       "    }\n",
       "</style>\n",
       "<table border=\"1\" class=\"dataframe\">\n",
       "  <thead>\n",
       "    <tr style=\"text-align: right;\">\n",
       "      <th></th>\n",
       "      <th>총이윤</th>\n",
       "      <th>랭킹</th>\n",
       "    </tr>\n",
       "    <tr>\n",
       "      <th>국가</th>\n",
       "      <th></th>\n",
       "      <th></th>\n",
       "    </tr>\n",
       "  </thead>\n",
       "  <tbody>\n",
       "    <tr>\n",
       "      <th>Afghanistan</th>\n",
       "      <td>22977020.06</td>\n",
       "      <td>67.0</td>\n",
       "    </tr>\n",
       "    <tr>\n",
       "      <th>Albania</th>\n",
       "      <td>19583969.70</td>\n",
       "      <td>124.0</td>\n",
       "    </tr>\n",
       "    <tr>\n",
       "      <th>Algeria</th>\n",
       "      <td>22125886.64</td>\n",
       "      <td>80.0</td>\n",
       "    </tr>\n",
       "    <tr>\n",
       "      <th>Andorra</th>\n",
       "      <td>16653936.87</td>\n",
       "      <td>167.0</td>\n",
       "    </tr>\n",
       "    <tr>\n",
       "      <th>Angola</th>\n",
       "      <td>19596150.58</td>\n",
       "      <td>123.0</td>\n",
       "    </tr>\n",
       "    <tr>\n",
       "      <th>...</th>\n",
       "      <td>...</td>\n",
       "      <td>...</td>\n",
       "    </tr>\n",
       "    <tr>\n",
       "      <th>Vatican City</th>\n",
       "      <td>16978429.04</td>\n",
       "      <td>160.0</td>\n",
       "    </tr>\n",
       "    <tr>\n",
       "      <th>Vietnam</th>\n",
       "      <td>23415377.02</td>\n",
       "      <td>54.0</td>\n",
       "    </tr>\n",
       "    <tr>\n",
       "      <th>Yemen</th>\n",
       "      <td>16666875.07</td>\n",
       "      <td>166.0</td>\n",
       "    </tr>\n",
       "    <tr>\n",
       "      <th>Zambia</th>\n",
       "      <td>23637453.00</td>\n",
       "      <td>53.0</td>\n",
       "    </tr>\n",
       "    <tr>\n",
       "      <th>Zimbabwe</th>\n",
       "      <td>21174631.76</td>\n",
       "      <td>94.0</td>\n",
       "    </tr>\n",
       "  </tbody>\n",
       "</table>\n",
       "<p>185 rows × 2 columns</p>\n",
       "</div>"
      ],
      "text/plain": [
       "                      총이윤     랭킹\n",
       "국가                              \n",
       "Afghanistan   22977020.06   67.0\n",
       "Albania       19583969.70  124.0\n",
       "Algeria       22125886.64   80.0\n",
       "Andorra       16653936.87  167.0\n",
       "Angola        19596150.58  123.0\n",
       "...                   ...    ...\n",
       "Vatican City  16978429.04  160.0\n",
       "Vietnam       23415377.02   54.0\n",
       "Yemen         16666875.07  166.0\n",
       "Zambia        23637453.00   53.0\n",
       "Zimbabwe      21174631.76   94.0\n",
       "\n",
       "[185 rows x 2 columns]"
      ]
     },
     "execution_count": 94,
     "metadata": {},
     "output_type": "execute_result"
    }
   ],
   "source": [
    "group_dt5"
   ]
  },
  {
   "cell_type": "code",
   "execution_count": null,
   "metadata": {},
   "outputs": [],
   "source": []
  }
 ],
 "metadata": {
  "kernelspec": {
   "display_name": "Python 3",
   "language": "python",
   "name": "python3"
  },
  "language_info": {
   "codemirror_mode": {
    "name": "ipython",
    "version": 3
   },
   "file_extension": ".py",
   "mimetype": "text/x-python",
   "name": "python",
   "nbconvert_exporter": "python",
   "pygments_lexer": "ipython3",
   "version": "3.12.4"
  }
 },
 "nbformat": 4,
 "nbformat_minor": 2
}
