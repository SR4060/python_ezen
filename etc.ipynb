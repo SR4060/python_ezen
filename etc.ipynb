{
 "cells": [
  {
   "cell_type": "code",
   "execution_count": 2,
   "metadata": {},
   "outputs": [],
   "source": [
    "from selenium import webdriver\n",
    "from selenium.webdriver.common.by import By\n",
    "from selenium.webdriver.common.keys import Keys\n",
    "import pandas as pd\n",
    "import time\n",
    "from bs4 import BeautifulSoup as bs\n",
    "import os \n",
    "from dotenv import load_dotenv\n"
   ]
  },
  {
   "cell_type": "markdown",
   "metadata": {},
   "source": [
    "- .env 파일 생성하기\n",
    "    - id = 인스타그램 아이디\n",
    "    - password = 인스타그램 비밀번호"
   ]
  },
  {
   "cell_type": "code",
   "execution_count": 3,
   "metadata": {},
   "outputs": [
    {
     "data": {
      "text/plain": [
       "True"
      ]
     },
     "execution_count": 3,
     "metadata": {},
     "output_type": "execute_result"
    }
   ],
   "source": [
    "# 웹 브라우져를 실행 \n",
    "driver = webdriver.Chrome()\n",
    "\n",
    "## 인스타그램에 요청 \n",
    "driver.get('https://www.instagram.com')\n",
    "\n",
    "load_dotenv()"
   ]
  },
  {
   "cell_type": "markdown",
   "metadata": {},
   "source": [
    "https://github.com/bsmoon-86/ezen_2406/blob/main/python/etc/02_insta.ipynb"
   ]
  },
  {
   "cell_type": "markdown",
   "metadata": {},
   "source": [
    "# 이상치\n",
    "\n",
    "https://github.com/bsmoon-86/ezen_2406/blob/main/python/etc/01_%EC%9D%B4%EC%83%81%EC%B9%98%EC%A0%9C%EA%B1%B0.ipynb"
   ]
  },
  {
   "cell_type": "markdown",
   "metadata": {},
   "source": [
    "# 빅데이터 분석기사 참고\n",
    "https://github.com/bsmoon-86/ezen_2406/blob/main/python/etc/02_%EB%8D%B0%EC%9D%B4%ED%84%B0%EC%A0%84%EC%B2%98%EB%A6%AC2.ipynb\n",
    "\n",
    "https://github.com/bsmoon-86/ezen_2406/blob/main/python/etc/04_%ED%9A%8C%EA%B7%80%EB%B6%84%EC%84%9D.ipynb"
   ]
  },
  {
   "cell_type": "code",
   "execution_count": null,
   "metadata": {},
   "outputs": [],
   "source": []
  }
 ],
 "metadata": {
  "kernelspec": {
   "display_name": "Python 3",
   "language": "python",
   "name": "python3"
  },
  "language_info": {
   "codemirror_mode": {
    "name": "ipython",
    "version": 3
   },
   "file_extension": ".py",
   "mimetype": "text/x-python",
   "name": "python",
   "nbconvert_exporter": "python",
   "pygments_lexer": "ipython3",
   "version": "3.12.4"
  }
 },
 "nbformat": 4,
 "nbformat_minor": 2
}
