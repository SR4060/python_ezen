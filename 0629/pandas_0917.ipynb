{
 "cells": [
  {
   "cell_type": "code",
   "execution_count": 1,
   "metadata": {},
   "outputs": [
    {
     "name": "stdout",
     "output_type": "stream",
     "text": [
      "Requirement already satisfied: pandas in c:\\users\\dong_\\appdata\\local\\programs\\python\\python312\\lib\\site-packages (2.2.2)\n",
      "Requirement already satisfied: numpy>=1.26.0 in c:\\users\\dong_\\appdata\\local\\programs\\python\\python312\\lib\\site-packages (from pandas) (2.0.1)\n",
      "Requirement already satisfied: python-dateutil>=2.8.2 in c:\\users\\dong_\\appdata\\roaming\\python\\python312\\site-packages (from pandas) (2.9.0.post0)\n",
      "Requirement already satisfied: pytz>=2020.1 in c:\\users\\dong_\\appdata\\local\\programs\\python\\python312\\lib\\site-packages (from pandas) (2024.1)\n",
      "Requirement already satisfied: tzdata>=2022.7 in c:\\users\\dong_\\appdata\\local\\programs\\python\\python312\\lib\\site-packages (from pandas) (2024.1)\n",
      "Requirement already satisfied: six>=1.5 in c:\\users\\dong_\\appdata\\roaming\\python\\python312\\site-packages (from python-dateutil>=2.8.2->pandas) (1.16.0)\n"
     ]
    },
    {
     "name": "stderr",
     "output_type": "stream",
     "text": [
      "\n",
      "[notice] A new release of pip is available: 24.0 -> 24.2\n",
      "[notice] To update, run: python.exe -m pip install --upgrade pip\n"
     ]
    }
   ],
   "source": [
    "# 라이브러리 설치\n",
    "!pip install pandas"
   ]
  },
  {
   "cell_type": "code",
   "execution_count": 2,
   "metadata": {},
   "outputs": [],
   "source": [
    "# 라이브러리 로드\n",
    "# import 라이브러리명 as 별칭\n",
    "import pandas as pd\n",
    "# form 라이브러리명 import \n",
    "# 라이브러리 안에 특정 기능 as 별칭"
   ]
  },
  {
   "cell_type": "code",
   "execution_count": 3,
   "metadata": {},
   "outputs": [
    {
     "name": "stdout",
     "output_type": "stream",
     "text": [
      "0    5000\n",
      "1    6000\n",
      "2    6500\n",
      "3    6500\n",
      "dtype: int64\n"
     ]
    }
   ],
   "source": [
    "# 판다스에서 제공하는 1차원 데이터형태인 Serise 데이터(Class) 생성\n",
    "series1=pd.Series(\n",
    "    [5000,6000,6500,6500]\n",
    ")\n",
    "print(series1)"
   ]
  },
  {
   "cell_type": "code",
   "execution_count": 4,
   "metadata": {},
   "outputs": [
    {
     "name": "stdout",
     "output_type": "stream",
     "text": [
      "Serise Class에서 values라는 변수는 [5000 6000 6500 6500]\n",
      "Serise Class에서 index라는 변수는 RangeIndex(start=0, stop=4, step=1)\n"
     ]
    }
   ],
   "source": [
    "# Serise 라는 Class에는 적어도 2개의 변수가 존재\n",
    "# values, index 변수\n",
    "print(\"Serise Class에서 values라는 변수는\", series1.values)\n",
    "print(\"Serise Class에서 index라는 변수는\", series1.index)"
   ]
  },
  {
   "cell_type": "code",
   "execution_count": 5,
   "metadata": {},
   "outputs": [],
   "source": [
    "series2=pd.Series(\n",
    "    [500,500,1000,1200]\n",
    ")"
   ]
  },
  {
   "cell_type": "code",
   "execution_count": 6,
   "metadata": {},
   "outputs": [
    {
     "data": {
      "text/plain": [
       "0    5500\n",
       "1    6500\n",
       "2    7500\n",
       "3    7700\n",
       "dtype: int64"
      ]
     },
     "execution_count": 6,
     "metadata": {},
     "output_type": "execute_result"
    }
   ],
   "source": [
    "# Series 간의 합\n",
    "# 같은 인덱스를 가진 values 끼리 더해진다.\n",
    "series1+series2"
   ]
  },
  {
   "cell_type": "code",
   "execution_count": 8,
   "metadata": {},
   "outputs": [
    {
     "name": "stdout",
     "output_type": "stream",
     "text": [
      "[1, 2, 3, 4, 5, 6, 7, 8]\n"
     ]
    }
   ],
   "source": [
    "a=[1,2,3,4]\n",
    "b=[5,6,7,8]\n",
    "print(a+b)"
   ]
  },
  {
   "cell_type": "code",
   "execution_count": 9,
   "metadata": {},
   "outputs": [
    {
     "data": {
      "text/plain": [
       "1    100\n",
       "2    200\n",
       "3    300\n",
       "dtype: int64"
      ]
     },
     "execution_count": 9,
     "metadata": {},
     "output_type": "execute_result"
    }
   ],
   "source": [
    "series3=pd.Series([100,200,300], index=[1,2,3])\n",
    "series3"
   ]
  },
  {
   "cell_type": "code",
   "execution_count": 10,
   "metadata": {},
   "outputs": [
    {
     "name": "stdout",
     "output_type": "stream",
     "text": [
      "0       NaN\n",
      "1    6100.0\n",
      "2    6700.0\n",
      "3    6800.0\n",
      "dtype: float64\n"
     ]
    }
   ],
   "source": [
    "print(series1+series3)"
   ]
  },
  {
   "cell_type": "code",
   "execution_count": 11,
   "metadata": {},
   "outputs": [],
   "source": [
    "# Series 생성할 때 index를 지정\n",
    "# 주의할 점: 데이터(values)의 개수와 인덱스 개수는 같아야 한다.\n",
    "series4=pd.Series(\n",
    "    [5000,6000,6500,6500],\n",
    "    index=[\"아메리카노\",\"카페라떼\",\"카페모카\",\"카푸치노\"]\n",
    ")"
   ]
  },
  {
   "cell_type": "code",
   "execution_count": 12,
   "metadata": {},
   "outputs": [
    {
     "data": {
      "text/plain": [
       "아메리카노    5000\n",
       "카페라떼     6000\n",
       "카페모카     6500\n",
       "카푸치노     6500\n",
       "dtype: int64"
      ]
     },
     "execution_count": 12,
     "metadata": {},
     "output_type": "execute_result"
    }
   ],
   "source": [
    "series4"
   ]
  },
  {
   "cell_type": "code",
   "execution_count": 13,
   "metadata": {},
   "outputs": [],
   "source": [
    "# 기존의 Series 데이터에서 index를 변경\n",
    "# Class 안에 있는 변수의 데이터를 변경\n",
    "series1.index=[\"아메리카노\",\"카페라떼\",\"카페모카\",\"카푸치노\"]"
   ]
  },
  {
   "cell_type": "code",
   "execution_count": 14,
   "metadata": {},
   "outputs": [
    {
     "data": {
      "text/plain": [
       "아메리카노    5000\n",
       "카페라떼     6000\n",
       "카페모카     6500\n",
       "카푸치노     6500\n",
       "dtype: int64"
      ]
     },
     "execution_count": 14,
     "metadata": {},
     "output_type": "execute_result"
    }
   ],
   "source": [
    "series1"
   ]
  },
  {
   "cell_type": "code",
   "execution_count": 15,
   "metadata": {},
   "outputs": [],
   "source": [
    "# Series Class 안에 있는 rename 함수를 이용\n",
    "series2.rename(\n",
    "    {\n",
    "        0:'A',\n",
    "        1:\"B\",\n",
    "        2:\"C\",\n",
    "        3:\"D\"\n",
    "    }, inplace=True\n",
    ")\n",
    "# inplace=True 유무 (기본 False)에 따라 실행/출력 사항이 다름"
   ]
  },
  {
   "cell_type": "code",
   "execution_count": 16,
   "metadata": {},
   "outputs": [
    {
     "data": {
      "text/plain": [
       "A     500\n",
       "B     500\n",
       "C    1000\n",
       "D    1200\n",
       "dtype: int64"
      ]
     },
     "execution_count": 16,
     "metadata": {},
     "output_type": "execute_result"
    }
   ],
   "source": [
    "series2"
   ]
  },
  {
   "cell_type": "code",
   "execution_count": 17,
   "metadata": {},
   "outputs": [],
   "source": [
    "series2.index=[\"A\",\"b\",\"C\",\"D\"]"
   ]
  },
  {
   "cell_type": "code",
   "execution_count": 18,
   "metadata": {},
   "outputs": [
    {
     "data": {
      "text/plain": [
       "A     500\n",
       "b     500\n",
       "C    1000\n",
       "D    1200\n",
       "dtype: int64"
      ]
     },
     "execution_count": 18,
     "metadata": {},
     "output_type": "execute_result"
    }
   ],
   "source": [
    "series2"
   ]
  },
  {
   "cell_type": "code",
   "execution_count": 19,
   "metadata": {},
   "outputs": [],
   "source": [
    "series2.rename(\n",
    "    {\n",
    "        \"b\":\"B\"\n",
    "    }, inplace=True\n",
    ")"
   ]
  },
  {
   "cell_type": "code",
   "execution_count": 20,
   "metadata": {},
   "outputs": [
    {
     "data": {
      "text/plain": [
       "A     500\n",
       "B     500\n",
       "C    1000\n",
       "D    1200\n",
       "dtype: int64"
      ]
     },
     "execution_count": 20,
     "metadata": {},
     "output_type": "execute_result"
    }
   ],
   "source": [
    "series2"
   ]
  },
  {
   "cell_type": "code",
   "execution_count": 21,
   "metadata": {},
   "outputs": [],
   "source": [
    "# 2차원 데이터 형태인 DataFrame(Class) 생성\n",
    "values1=[\n",
    "    [1,2,3],\n",
    "    [4,5,6],\n",
    "    [7,8,9]\n",
    "]\n",
    "df=pd.DataFrame(values1)"
   ]
  },
  {
   "cell_type": "code",
   "execution_count": 22,
   "metadata": {},
   "outputs": [
    {
     "name": "stdout",
     "output_type": "stream",
     "text": [
      "   0  1  2\n",
      "0  1  2  3\n",
      "1  4  5  6\n",
      "2  7  8  9\n"
     ]
    }
   ],
   "source": [
    "print(df)"
   ]
  },
  {
   "cell_type": "code",
   "execution_count": 23,
   "metadata": {},
   "outputs": [
    {
     "data": {
      "text/html": [
       "<div>\n",
       "<style scoped>\n",
       "    .dataframe tbody tr th:only-of-type {\n",
       "        vertical-align: middle;\n",
       "    }\n",
       "\n",
       "    .dataframe tbody tr th {\n",
       "        vertical-align: top;\n",
       "    }\n",
       "\n",
       "    .dataframe thead th {\n",
       "        text-align: right;\n",
       "    }\n",
       "</style>\n",
       "<table border=\"1\" class=\"dataframe\">\n",
       "  <thead>\n",
       "    <tr style=\"text-align: right;\">\n",
       "      <th></th>\n",
       "      <th>0</th>\n",
       "      <th>1</th>\n",
       "      <th>2</th>\n",
       "    </tr>\n",
       "  </thead>\n",
       "  <tbody>\n",
       "    <tr>\n",
       "      <th>0</th>\n",
       "      <td>1</td>\n",
       "      <td>2</td>\n",
       "      <td>3</td>\n",
       "    </tr>\n",
       "    <tr>\n",
       "      <th>1</th>\n",
       "      <td>4</td>\n",
       "      <td>5</td>\n",
       "      <td>6</td>\n",
       "    </tr>\n",
       "    <tr>\n",
       "      <th>2</th>\n",
       "      <td>7</td>\n",
       "      <td>8</td>\n",
       "      <td>9</td>\n",
       "    </tr>\n",
       "  </tbody>\n",
       "</table>\n",
       "</div>"
      ],
      "text/plain": [
       "   0  1  2\n",
       "0  1  2  3\n",
       "1  4  5  6\n",
       "2  7  8  9"
      ]
     },
     "execution_count": 23,
     "metadata": {},
     "output_type": "execute_result"
    }
   ],
   "source": [
    "df"
   ]
  },
  {
   "cell_type": "code",
   "execution_count": 24,
   "metadata": {},
   "outputs": [
    {
     "name": "stdout",
     "output_type": "stream",
     "text": [
      "DataFrame에서 index라는 변수 RangeIndex(start=0, stop=3, step=1)\n",
      "DataFrame에서 columns라는 변수 RangeIndex(start=0, stop=3, step=1)\n",
      "DataFrame에서 values라는 변수 [[1 2 3]\n",
      " [4 5 6]\n",
      " [7 8 9]]\n"
     ]
    }
   ],
   "source": [
    "print(\"DataFrame에서 index라는 변수\", df.index)\n",
    "print(\"DataFrame에서 columns라는 변수\", df.columns)\n",
    "print(\"DataFrame에서 values라는 변수\", df.values)"
   ]
  },
  {
   "cell_type": "code",
   "execution_count": 25,
   "metadata": {},
   "outputs": [],
   "source": [
    "# DataFrame에서 컬럼의 이름을 변경\n",
    "df.columns=[\"A\",\"B\",\"C\"]"
   ]
  },
  {
   "cell_type": "code",
   "execution_count": 26,
   "metadata": {},
   "outputs": [
    {
     "data": {
      "text/html": [
       "<div>\n",
       "<style scoped>\n",
       "    .dataframe tbody tr th:only-of-type {\n",
       "        vertical-align: middle;\n",
       "    }\n",
       "\n",
       "    .dataframe tbody tr th {\n",
       "        vertical-align: top;\n",
       "    }\n",
       "\n",
       "    .dataframe thead th {\n",
       "        text-align: right;\n",
       "    }\n",
       "</style>\n",
       "<table border=\"1\" class=\"dataframe\">\n",
       "  <thead>\n",
       "    <tr style=\"text-align: right;\">\n",
       "      <th></th>\n",
       "      <th>A</th>\n",
       "      <th>B</th>\n",
       "      <th>C</th>\n",
       "    </tr>\n",
       "  </thead>\n",
       "  <tbody>\n",
       "    <tr>\n",
       "      <th>0</th>\n",
       "      <td>1</td>\n",
       "      <td>2</td>\n",
       "      <td>3</td>\n",
       "    </tr>\n",
       "    <tr>\n",
       "      <th>1</th>\n",
       "      <td>4</td>\n",
       "      <td>5</td>\n",
       "      <td>6</td>\n",
       "    </tr>\n",
       "    <tr>\n",
       "      <th>2</th>\n",
       "      <td>7</td>\n",
       "      <td>8</td>\n",
       "      <td>9</td>\n",
       "    </tr>\n",
       "  </tbody>\n",
       "</table>\n",
       "</div>"
      ],
      "text/plain": [
       "   A  B  C\n",
       "0  1  2  3\n",
       "1  4  5  6\n",
       "2  7  8  9"
      ]
     },
     "execution_count": 26,
     "metadata": {},
     "output_type": "execute_result"
    }
   ],
   "source": [
    "df"
   ]
  },
  {
   "cell_type": "code",
   "execution_count": 27,
   "metadata": {},
   "outputs": [
    {
     "data": {
      "text/html": [
       "<div>\n",
       "<style scoped>\n",
       "    .dataframe tbody tr th:only-of-type {\n",
       "        vertical-align: middle;\n",
       "    }\n",
       "\n",
       "    .dataframe tbody tr th {\n",
       "        vertical-align: top;\n",
       "    }\n",
       "\n",
       "    .dataframe thead th {\n",
       "        text-align: right;\n",
       "    }\n",
       "</style>\n",
       "<table border=\"1\" class=\"dataframe\">\n",
       "  <thead>\n",
       "    <tr style=\"text-align: right;\">\n",
       "      <th></th>\n",
       "      <th>a</th>\n",
       "      <th>B</th>\n",
       "      <th>C</th>\n",
       "    </tr>\n",
       "  </thead>\n",
       "  <tbody>\n",
       "    <tr>\n",
       "      <th>0</th>\n",
       "      <td>1</td>\n",
       "      <td>2</td>\n",
       "      <td>3</td>\n",
       "    </tr>\n",
       "    <tr>\n",
       "      <th>1</th>\n",
       "      <td>4</td>\n",
       "      <td>5</td>\n",
       "      <td>6</td>\n",
       "    </tr>\n",
       "    <tr>\n",
       "      <th>2</th>\n",
       "      <td>7</td>\n",
       "      <td>8</td>\n",
       "      <td>9</td>\n",
       "    </tr>\n",
       "  </tbody>\n",
       "</table>\n",
       "</div>"
      ],
      "text/plain": [
       "   a  B  C\n",
       "0  1  2  3\n",
       "1  4  5  6\n",
       "2  7  8  9"
      ]
     },
     "execution_count": 27,
     "metadata": {},
     "output_type": "execute_result"
    }
   ],
   "source": [
    "# axis 매개변수: 인덱스, 컬럼 중에 선택\n",
    "# \"rows\" | 0 -> 행(인덱스)를 기준으로 선택\n",
    "# \"columns\" | 1 ->열(컬럼)을 기준으로 선택\n",
    "df.rename(\n",
    "    {\n",
    "        \"A\":\"a\"\n",
    "    }, axis=1\n",
    ")"
   ]
  },
  {
   "cell_type": "markdown",
   "metadata": {},
   "source": [
    "#### Dict 데이터를 이용하여 DataFrame을 생성"
   ]
  },
  {
   "cell_type": "code",
   "execution_count": 28,
   "metadata": {},
   "outputs": [],
   "source": [
    "data1={\n",
    "    \"name\":[\"test\",\"test2\",'test3'],\n",
    "    \"age\":[20,30,40]\n",
    "}\n",
    "df2=pd.DataFrame(data1)"
   ]
  },
  {
   "cell_type": "code",
   "execution_count": 29,
   "metadata": {},
   "outputs": [
    {
     "data": {
      "text/html": [
       "<div>\n",
       "<style scoped>\n",
       "    .dataframe tbody tr th:only-of-type {\n",
       "        vertical-align: middle;\n",
       "    }\n",
       "\n",
       "    .dataframe tbody tr th {\n",
       "        vertical-align: top;\n",
       "    }\n",
       "\n",
       "    .dataframe thead th {\n",
       "        text-align: right;\n",
       "    }\n",
       "</style>\n",
       "<table border=\"1\" class=\"dataframe\">\n",
       "  <thead>\n",
       "    <tr style=\"text-align: right;\">\n",
       "      <th></th>\n",
       "      <th>name</th>\n",
       "      <th>age</th>\n",
       "    </tr>\n",
       "  </thead>\n",
       "  <tbody>\n",
       "    <tr>\n",
       "      <th>0</th>\n",
       "      <td>test</td>\n",
       "      <td>20</td>\n",
       "    </tr>\n",
       "    <tr>\n",
       "      <th>1</th>\n",
       "      <td>test2</td>\n",
       "      <td>30</td>\n",
       "    </tr>\n",
       "    <tr>\n",
       "      <th>2</th>\n",
       "      <td>test3</td>\n",
       "      <td>40</td>\n",
       "    </tr>\n",
       "  </tbody>\n",
       "</table>\n",
       "</div>"
      ],
      "text/plain": [
       "    name  age\n",
       "0   test   20\n",
       "1  test2   30\n",
       "2  test3   40"
      ]
     },
     "execution_count": 29,
     "metadata": {},
     "output_type": "execute_result"
    }
   ],
   "source": [
    "df2"
   ]
  },
  {
   "cell_type": "code",
   "execution_count": 54,
   "metadata": {},
   "outputs": [],
   "source": [
    "data2=[\n",
    "    {\n",
    "        \"name\":\"test\",\n",
    "        \"age\":20,\n",
    "    },\n",
    "    {\n",
    "        \"name\":\"test2\",\n",
    "        \"age\":30,\n",
    "    },\n",
    "    {\n",
    "        \"name\":\"test3\",\n",
    "        \"age\":40\n",
    "    }\n",
    "]\n",
    "df3=pd.DataFrame(data2)"
   ]
  },
  {
   "cell_type": "code",
   "execution_count": 55,
   "metadata": {},
   "outputs": [
    {
     "data": {
      "text/html": [
       "<div>\n",
       "<style scoped>\n",
       "    .dataframe tbody tr th:only-of-type {\n",
       "        vertical-align: middle;\n",
       "    }\n",
       "\n",
       "    .dataframe tbody tr th {\n",
       "        vertical-align: top;\n",
       "    }\n",
       "\n",
       "    .dataframe thead th {\n",
       "        text-align: right;\n",
       "    }\n",
       "</style>\n",
       "<table border=\"1\" class=\"dataframe\">\n",
       "  <thead>\n",
       "    <tr style=\"text-align: right;\">\n",
       "      <th></th>\n",
       "      <th>name</th>\n",
       "      <th>age</th>\n",
       "    </tr>\n",
       "  </thead>\n",
       "  <tbody>\n",
       "    <tr>\n",
       "      <th>0</th>\n",
       "      <td>test</td>\n",
       "      <td>20</td>\n",
       "    </tr>\n",
       "    <tr>\n",
       "      <th>1</th>\n",
       "      <td>test2</td>\n",
       "      <td>30</td>\n",
       "    </tr>\n",
       "    <tr>\n",
       "      <th>2</th>\n",
       "      <td>test3</td>\n",
       "      <td>40</td>\n",
       "    </tr>\n",
       "  </tbody>\n",
       "</table>\n",
       "</div>"
      ],
      "text/plain": [
       "    name  age\n",
       "0   test   20\n",
       "1  test2   30\n",
       "2  test3   40"
      ]
     },
     "execution_count": 55,
     "metadata": {},
     "output_type": "execute_result"
    }
   ],
   "source": [
    "df3"
   ]
  },
  {
   "cell_type": "markdown",
   "metadata": {},
   "source": [
    "#### DataFrame에 있는 필터 기능\n",
    "- 데이터프레임명.loc [ 인덱스의 조건, 컬럼의 조건 ]\n",
    "    - 인덱스 값을 기준으로 데이터프레임을 필터링\n",
    "    - 컬럼 값을 기준으로 데이터프레임을 필터링\n",
    "- 데이터프레임명.iloc [ 인덱스의 조건, 컬럼의 조건 ]\n",
    "    - 인덱스 위치를 기준으로 데이터프레임을 필터링\n",
    "    - 컬럼 위치를 기준으로 데이터프레임을 필터링"
   ]
  },
  {
   "cell_type": "code",
   "execution_count": 56,
   "metadata": {},
   "outputs": [
    {
     "data": {
      "text/html": [
       "<div>\n",
       "<style scoped>\n",
       "    .dataframe tbody tr th:only-of-type {\n",
       "        vertical-align: middle;\n",
       "    }\n",
       "\n",
       "    .dataframe tbody tr th {\n",
       "        vertical-align: top;\n",
       "    }\n",
       "\n",
       "    .dataframe thead th {\n",
       "        text-align: right;\n",
       "    }\n",
       "</style>\n",
       "<table border=\"1\" class=\"dataframe\">\n",
       "  <thead>\n",
       "    <tr style=\"text-align: right;\">\n",
       "      <th></th>\n",
       "      <th>name</th>\n",
       "      <th>age</th>\n",
       "    </tr>\n",
       "  </thead>\n",
       "  <tbody>\n",
       "    <tr>\n",
       "      <th>0</th>\n",
       "      <td>test</td>\n",
       "      <td>20</td>\n",
       "    </tr>\n",
       "    <tr>\n",
       "      <th>1</th>\n",
       "      <td>test2</td>\n",
       "      <td>30</td>\n",
       "    </tr>\n",
       "    <tr>\n",
       "      <th>2</th>\n",
       "      <td>test3</td>\n",
       "      <td>40</td>\n",
       "    </tr>\n",
       "  </tbody>\n",
       "</table>\n",
       "</div>"
      ],
      "text/plain": [
       "    name  age\n",
       "0   test   20\n",
       "1  test2   30\n",
       "2  test3   40"
      ]
     },
     "execution_count": 56,
     "metadata": {},
     "output_type": "execute_result"
    }
   ],
   "source": [
    "# df3에서 나이가 30인 데이터를 출력\n",
    "# 2차원 데이터에서 단일 데이터 출력 -> 차원 축소가 2번\n",
    "# loc 조건 -> index는 1이라는 조건, columns는 age라는 조건\n",
    "df3"
   ]
  },
  {
   "cell_type": "code",
   "execution_count": 57,
   "metadata": {},
   "outputs": [
    {
     "data": {
      "text/html": [
       "<div>\n",
       "<style scoped>\n",
       "    .dataframe tbody tr th:only-of-type {\n",
       "        vertical-align: middle;\n",
       "    }\n",
       "\n",
       "    .dataframe tbody tr th {\n",
       "        vertical-align: top;\n",
       "    }\n",
       "\n",
       "    .dataframe thead th {\n",
       "        text-align: right;\n",
       "    }\n",
       "</style>\n",
       "<table border=\"1\" class=\"dataframe\">\n",
       "  <thead>\n",
       "    <tr style=\"text-align: right;\">\n",
       "      <th></th>\n",
       "      <th>age</th>\n",
       "    </tr>\n",
       "  </thead>\n",
       "  <tbody>\n",
       "    <tr>\n",
       "      <th>1</th>\n",
       "      <td>30</td>\n",
       "    </tr>\n",
       "  </tbody>\n",
       "</table>\n",
       "</div>"
      ],
      "text/plain": [
       "   age\n",
       "1   30"
      ]
     },
     "execution_count": 57,
     "metadata": {},
     "output_type": "execute_result"
    }
   ],
   "source": [
    "df3.loc[[1],[\"age\"]]"
   ]
  },
  {
   "cell_type": "code",
   "execution_count": 58,
   "metadata": {},
   "outputs": [
    {
     "data": {
      "text/plain": [
       "0    20\n",
       "1    30\n",
       "2    40\n",
       "Name: age, dtype: int64"
      ]
     },
     "execution_count": 58,
     "metadata": {},
     "output_type": "execute_result"
    }
   ],
   "source": [
    "# 특정 컬럼의 데이터만 출력\n",
    "# 데이터프레임명[컬럼명]\n",
    "df3[\"age\"]"
   ]
  },
  {
   "cell_type": "code",
   "execution_count": 59,
   "metadata": {},
   "outputs": [
    {
     "data": {
      "text/plain": [
       "0    20\n",
       "1    30\n",
       "2    40\n",
       "Name: age, dtype: int64"
      ]
     },
     "execution_count": 59,
     "metadata": {},
     "output_type": "execute_result"
    }
   ],
   "source": [
    "# 데이터프레임명.loc[]\n",
    "# 인덱스의 조건 -> : 전체\n",
    "# 컬럼의 조건 -> \"age\"\n",
    "df3.loc[ : , \"age\"]"
   ]
  },
  {
   "cell_type": "code",
   "execution_count": 60,
   "metadata": {},
   "outputs": [
    {
     "data": {
      "text/plain": [
       "0    20\n",
       "1    30\n",
       "2    40\n",
       "Name: age, dtype: int64"
      ]
     },
     "execution_count": 60,
     "metadata": {},
     "output_type": "execute_result"
    }
   ],
   "source": [
    "# iloc[]\n",
    "# 인덱스의 조건 -> : 전체\n",
    "# 컬럼의 조건 -> 두 번째 컬럼\n",
    "df3.iloc[ : , 1]"
   ]
  },
  {
   "cell_type": "code",
   "execution_count": 61,
   "metadata": {},
   "outputs": [
    {
     "data": {
      "text/plain": [
       "name    test3\n",
       "age        40\n",
       "Name: 2, dtype: object"
      ]
     },
     "execution_count": 61,
     "metadata": {},
     "output_type": "execute_result"
    }
   ],
   "source": [
    "# loc를 사용하여 컬럼은 전체, 인덱스의 조건으로 필터링\n",
    "df3.loc[2]"
   ]
  },
  {
   "cell_type": "code",
   "execution_count": 62,
   "metadata": {},
   "outputs": [
    {
     "data": {
      "text/html": [
       "<div>\n",
       "<style scoped>\n",
       "    .dataframe tbody tr th:only-of-type {\n",
       "        vertical-align: middle;\n",
       "    }\n",
       "\n",
       "    .dataframe tbody tr th {\n",
       "        vertical-align: top;\n",
       "    }\n",
       "\n",
       "    .dataframe thead th {\n",
       "        text-align: right;\n",
       "    }\n",
       "</style>\n",
       "<table border=\"1\" class=\"dataframe\">\n",
       "  <thead>\n",
       "    <tr style=\"text-align: right;\">\n",
       "      <th></th>\n",
       "      <th>name</th>\n",
       "      <th>age</th>\n",
       "    </tr>\n",
       "  </thead>\n",
       "  <tbody>\n",
       "    <tr>\n",
       "      <th>0</th>\n",
       "      <td>test</td>\n",
       "      <td>20</td>\n",
       "    </tr>\n",
       "    <tr>\n",
       "      <th>1</th>\n",
       "      <td>test2</td>\n",
       "      <td>30</td>\n",
       "    </tr>\n",
       "    <tr>\n",
       "      <th>2</th>\n",
       "      <td>test3</td>\n",
       "      <td>40</td>\n",
       "    </tr>\n",
       "  </tbody>\n",
       "</table>\n",
       "</div>"
      ],
      "text/plain": [
       "    name  age\n",
       "0   test   20\n",
       "1  test2   30\n",
       "2  test3   40"
      ]
     },
     "execution_count": 62,
     "metadata": {},
     "output_type": "execute_result"
    }
   ],
   "source": [
    "df3"
   ]
  },
  {
   "cell_type": "code",
   "execution_count": 63,
   "metadata": {},
   "outputs": [
    {
     "data": {
      "text/plain": [
       "name    test3\n",
       "age        40\n",
       "Name: 2, dtype: object"
      ]
     },
     "execution_count": 63,
     "metadata": {},
     "output_type": "execute_result"
    }
   ],
   "source": [
    "df3.iloc[2]"
   ]
  },
  {
   "cell_type": "code",
   "execution_count": 67,
   "metadata": {},
   "outputs": [
    {
     "data": {
      "text/html": [
       "<div>\n",
       "<style scoped>\n",
       "    .dataframe tbody tr th:only-of-type {\n",
       "        vertical-align: middle;\n",
       "    }\n",
       "\n",
       "    .dataframe tbody tr th {\n",
       "        vertical-align: top;\n",
       "    }\n",
       "\n",
       "    .dataframe thead th {\n",
       "        text-align: right;\n",
       "    }\n",
       "</style>\n",
       "<table border=\"1\" class=\"dataframe\">\n",
       "  <thead>\n",
       "    <tr style=\"text-align: right;\">\n",
       "      <th></th>\n",
       "      <th>name</th>\n",
       "      <th>age</th>\n",
       "    </tr>\n",
       "  </thead>\n",
       "  <tbody>\n",
       "    <tr>\n",
       "      <th>1</th>\n",
       "      <td>test2</td>\n",
       "      <td>30</td>\n",
       "    </tr>\n",
       "    <tr>\n",
       "      <th>2</th>\n",
       "      <td>test3</td>\n",
       "      <td>40</td>\n",
       "    </tr>\n",
       "  </tbody>\n",
       "</table>\n",
       "</div>"
      ],
      "text/plain": [
       "    name  age\n",
       "1  test2   30\n",
       "2  test3   40"
      ]
     },
     "execution_count": 67,
     "metadata": {},
     "output_type": "execute_result"
    }
   ],
   "source": [
    "# 나이가 30살 이상인 데이터를 모두 확인\n",
    "# 인덱스의 조건식: age가 30 이상\n",
    "# 컬럼의 조건식: 전체\n",
    "# df3에 있는 age 컬럼의 데이터를 추출하여 30 이상인 데이터를 확인\n",
    "flag=df3[\"age\"]>=30\n",
    "df3.loc[flag]"
   ]
  },
  {
   "cell_type": "code",
   "execution_count": 68,
   "metadata": {},
   "outputs": [
    {
     "data": {
      "text/plain": [
       "0    False\n",
       "1     True\n",
       "2     True\n",
       "Name: age, dtype: bool"
      ]
     },
     "execution_count": 68,
     "metadata": {},
     "output_type": "execute_result"
    }
   ],
   "source": [
    "flag"
   ]
  },
  {
   "cell_type": "code",
   "execution_count": 69,
   "metadata": {},
   "outputs": [
    {
     "data": {
      "text/plain": [
       "0     True\n",
       "1    False\n",
       "2    False\n",
       "Name: age, dtype: bool"
      ]
     },
     "execution_count": 69,
     "metadata": {},
     "output_type": "execute_result"
    }
   ],
   "source": [
    "# flag 반대인 데이터 출력?\n",
    "# flag의 부정 생성\n",
    "# 비트 연산자 (~) -> 2진수 데이터를 역으로 변경\n",
    "# True -> 1, False ->0\n",
    "~flag"
   ]
  },
  {
   "cell_type": "code",
   "execution_count": 70,
   "metadata": {},
   "outputs": [
    {
     "data": {
      "text/html": [
       "<div>\n",
       "<style scoped>\n",
       "    .dataframe tbody tr th:only-of-type {\n",
       "        vertical-align: middle;\n",
       "    }\n",
       "\n",
       "    .dataframe tbody tr th {\n",
       "        vertical-align: top;\n",
       "    }\n",
       "\n",
       "    .dataframe thead th {\n",
       "        text-align: right;\n",
       "    }\n",
       "</style>\n",
       "<table border=\"1\" class=\"dataframe\">\n",
       "  <thead>\n",
       "    <tr style=\"text-align: right;\">\n",
       "      <th></th>\n",
       "      <th>name</th>\n",
       "      <th>age</th>\n",
       "    </tr>\n",
       "  </thead>\n",
       "  <tbody>\n",
       "    <tr>\n",
       "      <th>0</th>\n",
       "      <td>test</td>\n",
       "      <td>20</td>\n",
       "    </tr>\n",
       "  </tbody>\n",
       "</table>\n",
       "</div>"
      ],
      "text/plain": [
       "   name  age\n",
       "0  test   20"
      ]
     },
     "execution_count": 70,
     "metadata": {},
     "output_type": "execute_result"
    }
   ],
   "source": [
    "df3.loc[~flag]"
   ]
  },
  {
   "cell_type": "markdown",
   "metadata": {},
   "source": [
    "#### 결측치\n",
    "- 데이터프레임에서 values가 존재하지 않는 경우\n",
    "- NaN으로 표시\n",
    "- 결측치자 발생하는 이유\n",
    "    - 데이터를 받아오는 과정에서 통신상 에러\n",
    "    - 데이터를 입력하는 과정에서 에러\n",
    "    - 수집 중단된 데이터"
   ]
  },
  {
   "cell_type": "code",
   "execution_count": 71,
   "metadata": {},
   "outputs": [],
   "source": [
    "import numpy as np"
   ]
  },
  {
   "cell_type": "code",
   "execution_count": 80,
   "metadata": {},
   "outputs": [],
   "source": [
    "data1={\n",
    "    \"A\":[1,2,3,4,np.nan],\n",
    "    \"B\":[1,2,np.nan,4,5],\n",
    "    \"C\":[np.nan,2,3,4,5]\n",
    "}\n",
    "df4=pd.DataFrame(data1)"
   ]
  },
  {
   "cell_type": "code",
   "execution_count": 81,
   "metadata": {},
   "outputs": [
    {
     "data": {
      "text/html": [
       "<div>\n",
       "<style scoped>\n",
       "    .dataframe tbody tr th:only-of-type {\n",
       "        vertical-align: middle;\n",
       "    }\n",
       "\n",
       "    .dataframe tbody tr th {\n",
       "        vertical-align: top;\n",
       "    }\n",
       "\n",
       "    .dataframe thead th {\n",
       "        text-align: right;\n",
       "    }\n",
       "</style>\n",
       "<table border=\"1\" class=\"dataframe\">\n",
       "  <thead>\n",
       "    <tr style=\"text-align: right;\">\n",
       "      <th></th>\n",
       "      <th>A</th>\n",
       "      <th>B</th>\n",
       "      <th>C</th>\n",
       "    </tr>\n",
       "  </thead>\n",
       "  <tbody>\n",
       "    <tr>\n",
       "      <th>0</th>\n",
       "      <td>1.0</td>\n",
       "      <td>1.0</td>\n",
       "      <td>NaN</td>\n",
       "    </tr>\n",
       "    <tr>\n",
       "      <th>1</th>\n",
       "      <td>2.0</td>\n",
       "      <td>2.0</td>\n",
       "      <td>2.0</td>\n",
       "    </tr>\n",
       "    <tr>\n",
       "      <th>2</th>\n",
       "      <td>3.0</td>\n",
       "      <td>NaN</td>\n",
       "      <td>3.0</td>\n",
       "    </tr>\n",
       "    <tr>\n",
       "      <th>3</th>\n",
       "      <td>4.0</td>\n",
       "      <td>4.0</td>\n",
       "      <td>4.0</td>\n",
       "    </tr>\n",
       "    <tr>\n",
       "      <th>4</th>\n",
       "      <td>NaN</td>\n",
       "      <td>5.0</td>\n",
       "      <td>5.0</td>\n",
       "    </tr>\n",
       "  </tbody>\n",
       "</table>\n",
       "</div>"
      ],
      "text/plain": [
       "     A    B    C\n",
       "0  1.0  1.0  NaN\n",
       "1  2.0  2.0  2.0\n",
       "2  3.0  NaN  3.0\n",
       "3  4.0  4.0  4.0\n",
       "4  NaN  5.0  5.0"
      ]
     },
     "execution_count": 81,
     "metadata": {},
     "output_type": "execute_result"
    }
   ],
   "source": [
    "df4"
   ]
  },
  {
   "cell_type": "code",
   "execution_count": 82,
   "metadata": {},
   "outputs": [
    {
     "data": {
      "text/plain": [
       "False"
      ]
     },
     "execution_count": 82,
     "metadata": {},
     "output_type": "execute_result"
    }
   ],
   "source": [
    "np.nan==np.nan"
   ]
  },
  {
   "cell_type": "code",
   "execution_count": 83,
   "metadata": {},
   "outputs": [
    {
     "name": "stdout",
     "output_type": "stream",
     "text": [
      "<class 'pandas.core.frame.DataFrame'>\n",
      "RangeIndex: 5 entries, 0 to 4\n",
      "Data columns (total 3 columns):\n",
      " #   Column  Non-Null Count  Dtype  \n",
      "---  ------  --------------  -----  \n",
      " 0   A       4 non-null      float64\n",
      " 1   B       4 non-null      float64\n",
      " 2   C       4 non-null      float64\n",
      "dtypes: float64(3)\n",
      "memory usage: 252.0 bytes\n"
     ]
    }
   ],
   "source": [
    "# 데이터프레임에 결측치가 존재하는가?\n",
    "# case1 데이터프레임의 정보(info)를 확인\n",
    "df4.info()"
   ]
  },
  {
   "cell_type": "code",
   "execution_count": 85,
   "metadata": {},
   "outputs": [
    {
     "data": {
      "text/html": [
       "<div>\n",
       "<style scoped>\n",
       "    .dataframe tbody tr th:only-of-type {\n",
       "        vertical-align: middle;\n",
       "    }\n",
       "\n",
       "    .dataframe tbody tr th {\n",
       "        vertical-align: top;\n",
       "    }\n",
       "\n",
       "    .dataframe thead th {\n",
       "        text-align: right;\n",
       "    }\n",
       "</style>\n",
       "<table border=\"1\" class=\"dataframe\">\n",
       "  <thead>\n",
       "    <tr style=\"text-align: right;\">\n",
       "      <th></th>\n",
       "      <th>A</th>\n",
       "      <th>B</th>\n",
       "      <th>C</th>\n",
       "    </tr>\n",
       "  </thead>\n",
       "  <tbody>\n",
       "    <tr>\n",
       "      <th>0</th>\n",
       "      <td>False</td>\n",
       "      <td>False</td>\n",
       "      <td>True</td>\n",
       "    </tr>\n",
       "    <tr>\n",
       "      <th>1</th>\n",
       "      <td>False</td>\n",
       "      <td>False</td>\n",
       "      <td>False</td>\n",
       "    </tr>\n",
       "    <tr>\n",
       "      <th>2</th>\n",
       "      <td>False</td>\n",
       "      <td>True</td>\n",
       "      <td>False</td>\n",
       "    </tr>\n",
       "    <tr>\n",
       "      <th>3</th>\n",
       "      <td>False</td>\n",
       "      <td>False</td>\n",
       "      <td>False</td>\n",
       "    </tr>\n",
       "    <tr>\n",
       "      <th>4</th>\n",
       "      <td>True</td>\n",
       "      <td>False</td>\n",
       "      <td>False</td>\n",
       "    </tr>\n",
       "  </tbody>\n",
       "</table>\n",
       "</div>"
      ],
      "text/plain": [
       "       A      B      C\n",
       "0  False  False   True\n",
       "1  False  False  False\n",
       "2  False   True  False\n",
       "3  False  False  False\n",
       "4   True  False  False"
      ]
     },
     "execution_count": 85,
     "metadata": {},
     "output_type": "execute_result"
    }
   ],
   "source": [
    "# case2 결측치와 같은가? 비교연산자\n",
    "# np.nan == np.nan -> False (사용 불가)\n",
    "# is__함수: 존재의 여부를 판단하는 함수\n",
    "# 결측치 키워드: na\n",
    "# isna(): 결측치의 존재 여부를 판단하는 함수\n",
    "df4.isna()"
   ]
  },
  {
   "cell_type": "code",
   "execution_count": 101,
   "metadata": {},
   "outputs": [
    {
     "data": {
      "text/plain": [
       "0    1\n",
       "1    0\n",
       "2    1\n",
       "3    0\n",
       "4    1\n",
       "dtype: int64"
      ]
     },
     "execution_count": 101,
     "metadata": {},
     "output_type": "execute_result"
    }
   ],
   "source": [
    "# 결측치의 개수 확인\n",
    "# sum(): 합계를 구하는 함수\n",
    "# 매개변수 axis: 인덱스를 기준, 컬럼을 기준\n",
    "df4.isna().sum(axis=1)"
   ]
  },
  {
   "cell_type": "code",
   "execution_count": 99,
   "metadata": {},
   "outputs": [
    {
     "data": {
      "text/html": [
       "<div>\n",
       "<style scoped>\n",
       "    .dataframe tbody tr th:only-of-type {\n",
       "        vertical-align: middle;\n",
       "    }\n",
       "\n",
       "    .dataframe tbody tr th {\n",
       "        vertical-align: top;\n",
       "    }\n",
       "\n",
       "    .dataframe thead th {\n",
       "        text-align: right;\n",
       "    }\n",
       "</style>\n",
       "<table border=\"1\" class=\"dataframe\">\n",
       "  <thead>\n",
       "    <tr style=\"text-align: right;\">\n",
       "      <th></th>\n",
       "      <th>A</th>\n",
       "      <th>B</th>\n",
       "      <th>C</th>\n",
       "    </tr>\n",
       "  </thead>\n",
       "  <tbody>\n",
       "    <tr>\n",
       "      <th>0</th>\n",
       "      <td>1.0</td>\n",
       "      <td>1.0</td>\n",
       "      <td>NaN</td>\n",
       "    </tr>\n",
       "    <tr>\n",
       "      <th>2</th>\n",
       "      <td>3.0</td>\n",
       "      <td>NaN</td>\n",
       "      <td>3.0</td>\n",
       "    </tr>\n",
       "    <tr>\n",
       "      <th>4</th>\n",
       "      <td>NaN</td>\n",
       "      <td>5.0</td>\n",
       "      <td>5.0</td>\n",
       "    </tr>\n",
       "  </tbody>\n",
       "</table>\n",
       "</div>"
      ],
      "text/plain": [
       "     A    B    C\n",
       "0  1.0  1.0  NaN\n",
       "2  3.0  NaN  3.0\n",
       "4  NaN  5.0  5.0"
      ]
     },
     "execution_count": 99,
     "metadata": {},
     "output_type": "execute_result"
    }
   ],
   "source": [
    "# 결측치를 포함한 데이터를 필터링\n",
    "flag_null=df4.isna().any(axis=1)\n",
    "df4.loc[flag_null]"
   ]
  },
  {
   "cell_type": "code",
   "execution_count": 93,
   "metadata": {},
   "outputs": [
    {
     "data": {
      "text/html": [
       "<div>\n",
       "<style scoped>\n",
       "    .dataframe tbody tr th:only-of-type {\n",
       "        vertical-align: middle;\n",
       "    }\n",
       "\n",
       "    .dataframe tbody tr th {\n",
       "        vertical-align: top;\n",
       "    }\n",
       "\n",
       "    .dataframe thead th {\n",
       "        text-align: right;\n",
       "    }\n",
       "</style>\n",
       "<table border=\"1\" class=\"dataframe\">\n",
       "  <thead>\n",
       "    <tr style=\"text-align: right;\">\n",
       "      <th></th>\n",
       "      <th>A</th>\n",
       "      <th>B</th>\n",
       "      <th>C</th>\n",
       "    </tr>\n",
       "  </thead>\n",
       "  <tbody>\n",
       "    <tr>\n",
       "      <th>1</th>\n",
       "      <td>2.0</td>\n",
       "      <td>2.0</td>\n",
       "      <td>2.0</td>\n",
       "    </tr>\n",
       "    <tr>\n",
       "      <th>3</th>\n",
       "      <td>4.0</td>\n",
       "      <td>4.0</td>\n",
       "      <td>4.0</td>\n",
       "    </tr>\n",
       "  </tbody>\n",
       "</table>\n",
       "</div>"
      ],
      "text/plain": [
       "     A    B    C\n",
       "1  2.0  2.0  2.0\n",
       "3  4.0  4.0  4.0"
      ]
     },
     "execution_count": 93,
     "metadata": {},
     "output_type": "execute_result"
    }
   ],
   "source": [
    "# 결측치를 포함하지 않은 데이터를 필터링\n",
    "df4.loc[~flag_null]"
   ]
  },
  {
   "cell_type": "code",
   "execution_count": 105,
   "metadata": {},
   "outputs": [
    {
     "data": {
      "text/html": [
       "<div>\n",
       "<style scoped>\n",
       "    .dataframe tbody tr th:only-of-type {\n",
       "        vertical-align: middle;\n",
       "    }\n",
       "\n",
       "    .dataframe tbody tr th {\n",
       "        vertical-align: top;\n",
       "    }\n",
       "\n",
       "    .dataframe thead th {\n",
       "        text-align: right;\n",
       "    }\n",
       "</style>\n",
       "<table border=\"1\" class=\"dataframe\">\n",
       "  <thead>\n",
       "    <tr style=\"text-align: right;\">\n",
       "      <th></th>\n",
       "      <th>A</th>\n",
       "      <th>B</th>\n",
       "      <th>C</th>\n",
       "    </tr>\n",
       "  </thead>\n",
       "  <tbody>\n",
       "    <tr>\n",
       "      <th>1</th>\n",
       "      <td>2.0</td>\n",
       "      <td>2.0</td>\n",
       "      <td>2.0</td>\n",
       "    </tr>\n",
       "    <tr>\n",
       "      <th>3</th>\n",
       "      <td>4.0</td>\n",
       "      <td>4.0</td>\n",
       "      <td>4.0</td>\n",
       "    </tr>\n",
       "  </tbody>\n",
       "</table>\n",
       "</div>"
      ],
      "text/plain": [
       "     A    B    C\n",
       "1  2.0  2.0  2.0\n",
       "3  4.0  4.0  4.0"
      ]
     },
     "execution_count": 105,
     "metadata": {},
     "output_type": "execute_result"
    }
   ],
   "source": [
    "# 결측치 제거\n",
    "# 제거 키워드(drop) + 결측치(na): dropna()\n",
    "# axis 매개변수: 결측치자 포함된 행(\"rows\"|0)을 지울 것인가? 열(\"columns\"|1)을 지울 것인가?\n",
    "df4.dropna(axis=0)"
   ]
  },
  {
   "cell_type": "code",
   "execution_count": 106,
   "metadata": {},
   "outputs": [],
   "source": [
    "# 결측치를 특정 데이터로 채워주는 함수\n",
    "# 채워준다 키워드(fill) + 결측치(na): fillna()\n",
    "# 매개변수 method=\"ffill\" or \"bfill\"\n",
    "# ffill: 전 행의 데이터로 치환\n",
    "# bfill: 후 행의 데이터로 치환"
   ]
  },
  {
   "cell_type": "code",
   "execution_count": 107,
   "metadata": {},
   "outputs": [
    {
     "data": {
      "text/html": [
       "<div>\n",
       "<style scoped>\n",
       "    .dataframe tbody tr th:only-of-type {\n",
       "        vertical-align: middle;\n",
       "    }\n",
       "\n",
       "    .dataframe tbody tr th {\n",
       "        vertical-align: top;\n",
       "    }\n",
       "\n",
       "    .dataframe thead th {\n",
       "        text-align: right;\n",
       "    }\n",
       "</style>\n",
       "<table border=\"1\" class=\"dataframe\">\n",
       "  <thead>\n",
       "    <tr style=\"text-align: right;\">\n",
       "      <th></th>\n",
       "      <th>A</th>\n",
       "      <th>B</th>\n",
       "      <th>C</th>\n",
       "    </tr>\n",
       "  </thead>\n",
       "  <tbody>\n",
       "    <tr>\n",
       "      <th>0</th>\n",
       "      <td>1.0</td>\n",
       "      <td>1.0</td>\n",
       "      <td>10.0</td>\n",
       "    </tr>\n",
       "    <tr>\n",
       "      <th>1</th>\n",
       "      <td>2.0</td>\n",
       "      <td>2.0</td>\n",
       "      <td>2.0</td>\n",
       "    </tr>\n",
       "    <tr>\n",
       "      <th>2</th>\n",
       "      <td>3.0</td>\n",
       "      <td>10.0</td>\n",
       "      <td>3.0</td>\n",
       "    </tr>\n",
       "    <tr>\n",
       "      <th>3</th>\n",
       "      <td>4.0</td>\n",
       "      <td>4.0</td>\n",
       "      <td>4.0</td>\n",
       "    </tr>\n",
       "    <tr>\n",
       "      <th>4</th>\n",
       "      <td>10.0</td>\n",
       "      <td>5.0</td>\n",
       "      <td>5.0</td>\n",
       "    </tr>\n",
       "  </tbody>\n",
       "</table>\n",
       "</div>"
      ],
      "text/plain": [
       "      A     B     C\n",
       "0   1.0   1.0  10.0\n",
       "1   2.0   2.0   2.0\n",
       "2   3.0  10.0   3.0\n",
       "3   4.0   4.0   4.0\n",
       "4  10.0   5.0   5.0"
      ]
     },
     "execution_count": 107,
     "metadata": {},
     "output_type": "execute_result"
    }
   ],
   "source": [
    "df4.fillna(10)"
   ]
  },
  {
   "cell_type": "code",
   "execution_count": 110,
   "metadata": {},
   "outputs": [
    {
     "name": "stderr",
     "output_type": "stream",
     "text": [
      "C:\\Users\\dong_\\AppData\\Local\\Temp\\ipykernel_3748\\1869678084.py:1: FutureWarning: DataFrame.fillna with 'method' is deprecated and will raise in a future version. Use obj.ffill() or obj.bfill() instead.\n",
      "  df4.fillna(method=\"ffill\")\n"
     ]
    },
    {
     "data": {
      "text/html": [
       "<div>\n",
       "<style scoped>\n",
       "    .dataframe tbody tr th:only-of-type {\n",
       "        vertical-align: middle;\n",
       "    }\n",
       "\n",
       "    .dataframe tbody tr th {\n",
       "        vertical-align: top;\n",
       "    }\n",
       "\n",
       "    .dataframe thead th {\n",
       "        text-align: right;\n",
       "    }\n",
       "</style>\n",
       "<table border=\"1\" class=\"dataframe\">\n",
       "  <thead>\n",
       "    <tr style=\"text-align: right;\">\n",
       "      <th></th>\n",
       "      <th>A</th>\n",
       "      <th>B</th>\n",
       "      <th>C</th>\n",
       "    </tr>\n",
       "  </thead>\n",
       "  <tbody>\n",
       "    <tr>\n",
       "      <th>0</th>\n",
       "      <td>1.0</td>\n",
       "      <td>1.0</td>\n",
       "      <td>NaN</td>\n",
       "    </tr>\n",
       "    <tr>\n",
       "      <th>1</th>\n",
       "      <td>2.0</td>\n",
       "      <td>2.0</td>\n",
       "      <td>2.0</td>\n",
       "    </tr>\n",
       "    <tr>\n",
       "      <th>2</th>\n",
       "      <td>3.0</td>\n",
       "      <td>2.0</td>\n",
       "      <td>3.0</td>\n",
       "    </tr>\n",
       "    <tr>\n",
       "      <th>3</th>\n",
       "      <td>4.0</td>\n",
       "      <td>4.0</td>\n",
       "      <td>4.0</td>\n",
       "    </tr>\n",
       "    <tr>\n",
       "      <th>4</th>\n",
       "      <td>4.0</td>\n",
       "      <td>5.0</td>\n",
       "      <td>5.0</td>\n",
       "    </tr>\n",
       "  </tbody>\n",
       "</table>\n",
       "</div>"
      ],
      "text/plain": [
       "     A    B    C\n",
       "0  1.0  1.0  NaN\n",
       "1  2.0  2.0  2.0\n",
       "2  3.0  2.0  3.0\n",
       "3  4.0  4.0  4.0\n",
       "4  4.0  5.0  5.0"
      ]
     },
     "execution_count": 110,
     "metadata": {},
     "output_type": "execute_result"
    }
   ],
   "source": [
    "df4.fillna(method=\"ffill\")"
   ]
  },
  {
   "cell_type": "code",
   "execution_count": 111,
   "metadata": {},
   "outputs": [
    {
     "name": "stderr",
     "output_type": "stream",
     "text": [
      "C:\\Users\\dong_\\AppData\\Local\\Temp\\ipykernel_3748\\1102149137.py:1: FutureWarning: DataFrame.fillna with 'method' is deprecated and will raise in a future version. Use obj.ffill() or obj.bfill() instead.\n",
      "  df4.fillna(method=\"bfill\")\n"
     ]
    },
    {
     "data": {
      "text/html": [
       "<div>\n",
       "<style scoped>\n",
       "    .dataframe tbody tr th:only-of-type {\n",
       "        vertical-align: middle;\n",
       "    }\n",
       "\n",
       "    .dataframe tbody tr th {\n",
       "        vertical-align: top;\n",
       "    }\n",
       "\n",
       "    .dataframe thead th {\n",
       "        text-align: right;\n",
       "    }\n",
       "</style>\n",
       "<table border=\"1\" class=\"dataframe\">\n",
       "  <thead>\n",
       "    <tr style=\"text-align: right;\">\n",
       "      <th></th>\n",
       "      <th>A</th>\n",
       "      <th>B</th>\n",
       "      <th>C</th>\n",
       "    </tr>\n",
       "  </thead>\n",
       "  <tbody>\n",
       "    <tr>\n",
       "      <th>0</th>\n",
       "      <td>1.0</td>\n",
       "      <td>1.0</td>\n",
       "      <td>2.0</td>\n",
       "    </tr>\n",
       "    <tr>\n",
       "      <th>1</th>\n",
       "      <td>2.0</td>\n",
       "      <td>2.0</td>\n",
       "      <td>2.0</td>\n",
       "    </tr>\n",
       "    <tr>\n",
       "      <th>2</th>\n",
       "      <td>3.0</td>\n",
       "      <td>4.0</td>\n",
       "      <td>3.0</td>\n",
       "    </tr>\n",
       "    <tr>\n",
       "      <th>3</th>\n",
       "      <td>4.0</td>\n",
       "      <td>4.0</td>\n",
       "      <td>4.0</td>\n",
       "    </tr>\n",
       "    <tr>\n",
       "      <th>4</th>\n",
       "      <td>NaN</td>\n",
       "      <td>5.0</td>\n",
       "      <td>5.0</td>\n",
       "    </tr>\n",
       "  </tbody>\n",
       "</table>\n",
       "</div>"
      ],
      "text/plain": [
       "     A    B    C\n",
       "0  1.0  1.0  2.0\n",
       "1  2.0  2.0  2.0\n",
       "2  3.0  4.0  3.0\n",
       "3  4.0  4.0  4.0\n",
       "4  NaN  5.0  5.0"
      ]
     },
     "execution_count": 111,
     "metadata": {},
     "output_type": "execute_result"
    }
   ],
   "source": [
    "df4.fillna(method=\"bfill\")"
   ]
  },
  {
   "cell_type": "markdown",
   "metadata": {},
   "source": [
    "#### pandas를 이용하여 외부의 파일을 로드\n",
    "- 엑셀파일\n",
    "    - read_excel()\n",
    "        - xls, xlsx 확장자로 이루어진 파일들을 로드할 때 사용하는 함수\n",
    "        - 추가적으로 \"openpyx1\" 라이브러리 설치가 필요한 경우 존재\n",
    "- 그외 데이터 파일\n",
    "    - read_csv()\n",
    "        - csv, tsv 확장자로 이루어진 파일\n",
    "    - read_json()\n",
    "        - json 확장자로 이루어진 파일\n",
    "    - read_xml()\n",
    "        - xml 확장자로 이루어진 파일\n",
    "    - 공통적으로 encoding 매개변수가 존재 한다.\n",
    "        - read_excel에는 해당 매개변수가 존재하지 않는다.\n",
    "        - 기본값(UTF-8)\n",
    "        - CP949, EUC-KR: 파일 내에 한글로 이루어진 데이터가 존재하여 encoding 에러가 발생하는 경우 변경\n",
    "\n",
    "#### 파일의 경로\n",
    "- 절대 경로\n",
    "    - 절대적인 주소값\n",
    "    - 환경이 변하더라도(컴퓨터가 변경되었을 때) 언제나 같은 위치를 지정\n",
    "    - ex) 'c:users/admin/document/a.csv', 'https://www.google.com'\n",
    "- 상대 경로\n",
    "    - 상대적인 주소값\n",
    "    - 환경이 변할 때 주소도 같이 변경\n",
    "    - ./ 현재 작업중인 디렉토리\n",
    "    - ../ 상위 디렉토리로 이동\n",
    "    - 디렉토리명/ 하위 디렉토리로 이동\n",
    "    - ex) 상위 디렉토리로 이동(../) -> csv 하위 디렉토리로 이동(csv/) -> 2014.csv:../csv/2014.csv"
   ]
  },
  {
   "cell_type": "code",
   "execution_count": 112,
   "metadata": {},
   "outputs": [],
   "source": [
    "# csv 폴더에 있는 corona.csv 파일을 로드\n",
    "# 절대경로\n",
    "corona=pd.read_csv(r'C:\\Python_SR\\csv\\corona.csv')"
   ]
  },
  {
   "cell_type": "code",
   "execution_count": 116,
   "metadata": {},
   "outputs": [],
   "source": [
    "# 상대경로\n",
    "# 현재 작업 위치를 기준으로, csv 하위 디렉토리로 이동, corona.csv\n",
    "corona2=pd.read_csv('csv/corona.csv')"
   ]
  },
  {
   "cell_type": "code",
   "execution_count": 119,
   "metadata": {},
   "outputs": [
    {
     "data": {
      "text/html": [
       "<div>\n",
       "<style scoped>\n",
       "    .dataframe tbody tr th:only-of-type {\n",
       "        vertical-align: middle;\n",
       "    }\n",
       "\n",
       "    .dataframe tbody tr th {\n",
       "        vertical-align: top;\n",
       "    }\n",
       "\n",
       "    .dataframe thead th {\n",
       "        text-align: right;\n",
       "    }\n",
       "</style>\n",
       "<table border=\"1\" class=\"dataframe\">\n",
       "  <thead>\n",
       "    <tr style=\"text-align: right;\">\n",
       "      <th></th>\n",
       "      <th>Unnamed: 0</th>\n",
       "      <th>createDt</th>\n",
       "      <th>deathCnt</th>\n",
       "      <th>decideCnt</th>\n",
       "      <th>seq</th>\n",
       "      <th>stateDt</th>\n",
       "      <th>stateTime</th>\n",
       "      <th>updateDt</th>\n",
       "      <th>accExamCnt</th>\n",
       "      <th>accDefRate</th>\n",
       "    </tr>\n",
       "  </thead>\n",
       "  <tbody>\n",
       "    <tr>\n",
       "      <th>0</th>\n",
       "      <td>0</td>\n",
       "      <td>2022-06-08 09:09:05.982</td>\n",
       "      <td>24305</td>\n",
       "      <td>18188200</td>\n",
       "      <td>904</td>\n",
       "      <td>20220608</td>\n",
       "      <td>00:00</td>\n",
       "      <td>NaN</td>\n",
       "      <td>NaN</td>\n",
       "      <td>NaN</td>\n",
       "    </tr>\n",
       "    <tr>\n",
       "      <th>1</th>\n",
       "      <td>1</td>\n",
       "      <td>2022-06-07 09:09:00.897</td>\n",
       "      <td>24299</td>\n",
       "      <td>18174842</td>\n",
       "      <td>903</td>\n",
       "      <td>20220607</td>\n",
       "      <td>00:00</td>\n",
       "      <td>2022-06-08 09:10:36.846</td>\n",
       "      <td>NaN</td>\n",
       "      <td>NaN</td>\n",
       "    </tr>\n",
       "  </tbody>\n",
       "</table>\n",
       "</div>"
      ],
      "text/plain": [
       "   Unnamed: 0                 createDt  deathCnt  decideCnt  seq   stateDt  \\\n",
       "0           0  2022-06-08 09:09:05.982     24305   18188200  904  20220608   \n",
       "1           1  2022-06-07 09:09:00.897     24299   18174842  903  20220607   \n",
       "\n",
       "  stateTime                 updateDt  accExamCnt  accDefRate  \n",
       "0     00:00                      NaN         NaN         NaN  \n",
       "1     00:00  2022-06-08 09:10:36.846         NaN         NaN  "
      ]
     },
     "execution_count": 119,
     "metadata": {},
     "output_type": "execute_result"
    }
   ],
   "source": [
    "# 상위의 데이터 n개를 확인 \n",
    "corona.head(2)"
   ]
  },
  {
   "cell_type": "code",
   "execution_count": 118,
   "metadata": {},
   "outputs": [
    {
     "data": {
      "text/html": [
       "<div>\n",
       "<style scoped>\n",
       "    .dataframe tbody tr th:only-of-type {\n",
       "        vertical-align: middle;\n",
       "    }\n",
       "\n",
       "    .dataframe tbody tr th {\n",
       "        vertical-align: top;\n",
       "    }\n",
       "\n",
       "    .dataframe thead th {\n",
       "        text-align: right;\n",
       "    }\n",
       "</style>\n",
       "<table border=\"1\" class=\"dataframe\">\n",
       "  <thead>\n",
       "    <tr style=\"text-align: right;\">\n",
       "      <th></th>\n",
       "      <th>Unnamed: 0</th>\n",
       "      <th>createDt</th>\n",
       "      <th>deathCnt</th>\n",
       "      <th>decideCnt</th>\n",
       "      <th>seq</th>\n",
       "      <th>stateDt</th>\n",
       "      <th>stateTime</th>\n",
       "      <th>updateDt</th>\n",
       "      <th>accExamCnt</th>\n",
       "      <th>accDefRate</th>\n",
       "    </tr>\n",
       "  </thead>\n",
       "  <tbody>\n",
       "    <tr>\n",
       "      <th>0</th>\n",
       "      <td>0</td>\n",
       "      <td>2022-06-08 09:09:05.982</td>\n",
       "      <td>24305</td>\n",
       "      <td>18188200</td>\n",
       "      <td>904</td>\n",
       "      <td>20220608</td>\n",
       "      <td>00:00</td>\n",
       "      <td>NaN</td>\n",
       "      <td>NaN</td>\n",
       "      <td>NaN</td>\n",
       "    </tr>\n",
       "    <tr>\n",
       "      <th>1</th>\n",
       "      <td>1</td>\n",
       "      <td>2022-06-07 09:09:00.897</td>\n",
       "      <td>24299</td>\n",
       "      <td>18174842</td>\n",
       "      <td>903</td>\n",
       "      <td>20220607</td>\n",
       "      <td>00:00</td>\n",
       "      <td>2022-06-08 09:10:36.846</td>\n",
       "      <td>NaN</td>\n",
       "      <td>NaN</td>\n",
       "    </tr>\n",
       "  </tbody>\n",
       "</table>\n",
       "</div>"
      ],
      "text/plain": [
       "   Unnamed: 0                 createDt  deathCnt  decideCnt  seq   stateDt  \\\n",
       "0           0  2022-06-08 09:09:05.982     24305   18188200  904  20220608   \n",
       "1           1  2022-06-07 09:09:00.897     24299   18174842  903  20220607   \n",
       "\n",
       "  stateTime                 updateDt  accExamCnt  accDefRate  \n",
       "0     00:00                      NaN         NaN         NaN  \n",
       "1     00:00  2022-06-08 09:10:36.846         NaN         NaN  "
      ]
     },
     "execution_count": 118,
     "metadata": {},
     "output_type": "execute_result"
    }
   ],
   "source": [
    "corona2.head(2)"
   ]
  },
  {
   "cell_type": "code",
   "execution_count": 122,
   "metadata": {},
   "outputs": [
    {
     "data": {
      "text/html": [
       "<div>\n",
       "<style scoped>\n",
       "    .dataframe tbody tr th:only-of-type {\n",
       "        vertical-align: middle;\n",
       "    }\n",
       "\n",
       "    .dataframe tbody tr th {\n",
       "        vertical-align: top;\n",
       "    }\n",
       "\n",
       "    .dataframe thead th {\n",
       "        text-align: right;\n",
       "    }\n",
       "</style>\n",
       "<table border=\"1\" class=\"dataframe\">\n",
       "  <thead>\n",
       "    <tr style=\"text-align: right;\">\n",
       "      <th></th>\n",
       "      <th>Unnamed: 0</th>\n",
       "      <th>createDt</th>\n",
       "      <th>deathCnt</th>\n",
       "      <th>decideCnt</th>\n",
       "      <th>seq</th>\n",
       "      <th>stateDt</th>\n",
       "      <th>stateTime</th>\n",
       "      <th>updateDt</th>\n",
       "      <th>accExamCnt</th>\n",
       "      <th>accDefRate</th>\n",
       "    </tr>\n",
       "  </thead>\n",
       "  <tbody>\n",
       "    <tr>\n",
       "      <th>817</th>\n",
       "      <td>817</td>\n",
       "      <td>2020-03-12 00:00:00.000</td>\n",
       "      <td>66</td>\n",
       "      <td>7869</td>\n",
       "      <td>53</td>\n",
       "      <td>20200312</td>\n",
       "      <td>00:00</td>\n",
       "      <td>2021-10-07 10:30:51.51</td>\n",
       "      <td>234998.0</td>\n",
       "      <td>3.621744</td>\n",
       "    </tr>\n",
       "    <tr>\n",
       "      <th>818</th>\n",
       "      <td>818</td>\n",
       "      <td>2020-03-11 00:00:00.000</td>\n",
       "      <td>60</td>\n",
       "      <td>7755</td>\n",
       "      <td>52</td>\n",
       "      <td>20200311</td>\n",
       "      <td>00:00</td>\n",
       "      <td>2021-10-07 10:30:51.51</td>\n",
       "      <td>222395.0</td>\n",
       "      <td>3.804175</td>\n",
       "    </tr>\n",
       "    <tr>\n",
       "      <th>819</th>\n",
       "      <td>819</td>\n",
       "      <td>2020-03-10 00:00:00.000</td>\n",
       "      <td>54</td>\n",
       "      <td>7513</td>\n",
       "      <td>51</td>\n",
       "      <td>20200310</td>\n",
       "      <td>00:00</td>\n",
       "      <td>2021-10-07 10:30:51.51</td>\n",
       "      <td>210144.0</td>\n",
       "      <td>3.919308</td>\n",
       "    </tr>\n",
       "  </tbody>\n",
       "</table>\n",
       "</div>"
      ],
      "text/plain": [
       "     Unnamed: 0                 createDt  deathCnt  decideCnt  seq   stateDt  \\\n",
       "817         817  2020-03-12 00:00:00.000        66       7869   53  20200312   \n",
       "818         818  2020-03-11 00:00:00.000        60       7755   52  20200311   \n",
       "819         819  2020-03-10 00:00:00.000        54       7513   51  20200310   \n",
       "\n",
       "    stateTime                updateDt  accExamCnt  accDefRate  \n",
       "817     00:00  2021-10-07 10:30:51.51    234998.0    3.621744  \n",
       "818     00:00  2021-10-07 10:30:51.51    222395.0    3.804175  \n",
       "819     00:00  2021-10-07 10:30:51.51    210144.0    3.919308  "
      ]
     },
     "execution_count": 122,
     "metadata": {},
     "output_type": "execute_result"
    }
   ],
   "source": [
    "# 하위의 데이터 n개를 확인\n",
    "corona.tail(3)"
   ]
  },
  {
   "cell_type": "code",
   "execution_count": 123,
   "metadata": {},
   "outputs": [
    {
     "name": "stdout",
     "output_type": "stream",
     "text": [
      "<class 'pandas.core.frame.DataFrame'>\n",
      "RangeIndex: 820 entries, 0 to 819\n",
      "Data columns (total 10 columns):\n",
      " #   Column      Non-Null Count  Dtype  \n",
      "---  ------      --------------  -----  \n",
      " 0   Unnamed: 0  820 non-null    int64  \n",
      " 1   createDt    820 non-null    object \n",
      " 2   deathCnt    820 non-null    int64  \n",
      " 3   decideCnt   820 non-null    int64  \n",
      " 4   seq         820 non-null    int64  \n",
      " 5   stateDt     820 non-null    int64  \n",
      " 6   stateTime   820 non-null    object \n",
      " 7   updateDt    817 non-null    object \n",
      " 8   accExamCnt  692 non-null    float64\n",
      " 9   accDefRate  623 non-null    float64\n",
      "dtypes: float64(2), int64(5), object(3)\n",
      "memory usage: 64.2+ KB\n"
     ]
    }
   ],
   "source": [
    "# 데이터프레임의 정보를 확인\n",
    "corona.info()"
   ]
  },
  {
   "cell_type": "code",
   "execution_count": 124,
   "metadata": {},
   "outputs": [
    {
     "data": {
      "text/html": [
       "<div>\n",
       "<style scoped>\n",
       "    .dataframe tbody tr th:only-of-type {\n",
       "        vertical-align: middle;\n",
       "    }\n",
       "\n",
       "    .dataframe tbody tr th {\n",
       "        vertical-align: top;\n",
       "    }\n",
       "\n",
       "    .dataframe thead th {\n",
       "        text-align: right;\n",
       "    }\n",
       "</style>\n",
       "<table border=\"1\" class=\"dataframe\">\n",
       "  <thead>\n",
       "    <tr style=\"text-align: right;\">\n",
       "      <th></th>\n",
       "      <th>Unnamed: 0</th>\n",
       "      <th>deathCnt</th>\n",
       "      <th>decideCnt</th>\n",
       "      <th>seq</th>\n",
       "      <th>stateDt</th>\n",
       "      <th>accExamCnt</th>\n",
       "      <th>accDefRate</th>\n",
       "    </tr>\n",
       "  </thead>\n",
       "  <tbody>\n",
       "    <tr>\n",
       "      <th>count</th>\n",
       "      <td>820.000000</td>\n",
       "      <td>820.000000</td>\n",
       "      <td>8.200000e+02</td>\n",
       "      <td>820.000000</td>\n",
       "      <td>8.200000e+02</td>\n",
       "      <td>6.920000e+02</td>\n",
       "      <td>623.000000</td>\n",
       "    </tr>\n",
       "    <tr>\n",
       "      <th>mean</th>\n",
       "      <td>409.500000</td>\n",
       "      <td>3927.832927</td>\n",
       "      <td>1.913097e+06</td>\n",
       "      <td>472.393902</td>\n",
       "      <td>2.020897e+07</td>\n",
       "      <td>7.545057e+06</td>\n",
       "      <td>1.556435</td>\n",
       "    </tr>\n",
       "    <tr>\n",
       "      <th>std</th>\n",
       "      <td>236.857904</td>\n",
       "      <td>6164.310693</td>\n",
       "      <td>4.857030e+06</td>\n",
       "      <td>249.701095</td>\n",
       "      <td>7.118265e+03</td>\n",
       "      <td>6.172020e+06</td>\n",
       "      <td>0.543014</td>\n",
       "    </tr>\n",
       "    <tr>\n",
       "      <th>min</th>\n",
       "      <td>0.000000</td>\n",
       "      <td>54.000000</td>\n",
       "      <td>7.513000e+03</td>\n",
       "      <td>51.000000</td>\n",
       "      <td>2.020031e+07</td>\n",
       "      <td>2.101440e+05</td>\n",
       "      <td>0.902205</td>\n",
       "    </tr>\n",
       "    <tr>\n",
       "      <th>25%</th>\n",
       "      <td>204.750000</td>\n",
       "      <td>415.750000</td>\n",
       "      <td>2.393525e+04</td>\n",
       "      <td>256.750000</td>\n",
       "      <td>2.020100e+07</td>\n",
       "      <td>1.934309e+06</td>\n",
       "      <td>1.078089</td>\n",
       "    </tr>\n",
       "    <tr>\n",
       "      <th>50%</th>\n",
       "      <td>409.500000</td>\n",
       "      <td>1812.500000</td>\n",
       "      <td>1.185640e+05</td>\n",
       "      <td>461.500000</td>\n",
       "      <td>2.021042e+07</td>\n",
       "      <td>6.368310e+06</td>\n",
       "      <td>1.416159</td>\n",
       "    </tr>\n",
       "    <tr>\n",
       "      <th>75%</th>\n",
       "      <td>614.250000</td>\n",
       "      <td>3120.500000</td>\n",
       "      <td>3.979915e+05</td>\n",
       "      <td>698.250000</td>\n",
       "      <td>2.021112e+07</td>\n",
       "      <td>1.216890e+07</td>\n",
       "      <td>1.816009</td>\n",
       "    </tr>\n",
       "    <tr>\n",
       "      <th>max</th>\n",
       "      <td>819.000000</td>\n",
       "      <td>24305.000000</td>\n",
       "      <td>1.818820e+07</td>\n",
       "      <td>904.000000</td>\n",
       "      <td>2.022061e+07</td>\n",
       "      <td>2.151807e+07</td>\n",
       "      <td>3.919308</td>\n",
       "    </tr>\n",
       "  </tbody>\n",
       "</table>\n",
       "</div>"
      ],
      "text/plain": [
       "       Unnamed: 0      deathCnt     decideCnt         seq       stateDt  \\\n",
       "count  820.000000    820.000000  8.200000e+02  820.000000  8.200000e+02   \n",
       "mean   409.500000   3927.832927  1.913097e+06  472.393902  2.020897e+07   \n",
       "std    236.857904   6164.310693  4.857030e+06  249.701095  7.118265e+03   \n",
       "min      0.000000     54.000000  7.513000e+03   51.000000  2.020031e+07   \n",
       "25%    204.750000    415.750000  2.393525e+04  256.750000  2.020100e+07   \n",
       "50%    409.500000   1812.500000  1.185640e+05  461.500000  2.021042e+07   \n",
       "75%    614.250000   3120.500000  3.979915e+05  698.250000  2.021112e+07   \n",
       "max    819.000000  24305.000000  1.818820e+07  904.000000  2.022061e+07   \n",
       "\n",
       "         accExamCnt  accDefRate  \n",
       "count  6.920000e+02  623.000000  \n",
       "mean   7.545057e+06    1.556435  \n",
       "std    6.172020e+06    0.543014  \n",
       "min    2.101440e+05    0.902205  \n",
       "25%    1.934309e+06    1.078089  \n",
       "50%    6.368310e+06    1.416159  \n",
       "75%    1.216890e+07    1.816009  \n",
       "max    2.151807e+07    3.919308  "
      ]
     },
     "execution_count": 124,
     "metadata": {},
     "output_type": "execute_result"
    }
   ],
   "source": [
    "# 통계적인 요약 정보를 출력하는 함수\n",
    "corona.describe()"
   ]
  },
  {
   "cell_type": "code",
   "execution_count": 125,
   "metadata": {},
   "outputs": [
    {
     "data": {
      "text/html": [
       "<div>\n",
       "<style scoped>\n",
       "    .dataframe tbody tr th:only-of-type {\n",
       "        vertical-align: middle;\n",
       "    }\n",
       "\n",
       "    .dataframe tbody tr th {\n",
       "        vertical-align: top;\n",
       "    }\n",
       "\n",
       "    .dataframe thead th {\n",
       "        text-align: right;\n",
       "    }\n",
       "</style>\n",
       "<table border=\"1\" class=\"dataframe\">\n",
       "  <thead>\n",
       "    <tr style=\"text-align: right;\">\n",
       "      <th></th>\n",
       "      <th>Unnamed: 0</th>\n",
       "      <th>createDt</th>\n",
       "      <th>deathCnt</th>\n",
       "      <th>decideCnt</th>\n",
       "      <th>seq</th>\n",
       "      <th>stateDt</th>\n",
       "      <th>stateTime</th>\n",
       "      <th>updateDt</th>\n",
       "      <th>accExamCnt</th>\n",
       "      <th>accDefRate</th>\n",
       "    </tr>\n",
       "  </thead>\n",
       "  <tbody>\n",
       "    <tr>\n",
       "      <th>0</th>\n",
       "      <td>0</td>\n",
       "      <td>2022-06-08 09:09:05.982</td>\n",
       "      <td>24305</td>\n",
       "      <td>18188200</td>\n",
       "      <td>904</td>\n",
       "      <td>20220608</td>\n",
       "      <td>00:00</td>\n",
       "      <td>NaN</td>\n",
       "      <td>NaN</td>\n",
       "      <td>NaN</td>\n",
       "    </tr>\n",
       "    <tr>\n",
       "      <th>1</th>\n",
       "      <td>1</td>\n",
       "      <td>2022-06-07 09:09:00.897</td>\n",
       "      <td>24299</td>\n",
       "      <td>18174842</td>\n",
       "      <td>903</td>\n",
       "      <td>20220607</td>\n",
       "      <td>00:00</td>\n",
       "      <td>2022-06-08 09:10:36.846</td>\n",
       "      <td>NaN</td>\n",
       "      <td>NaN</td>\n",
       "    </tr>\n",
       "    <tr>\n",
       "      <th>2</th>\n",
       "      <td>2</td>\n",
       "      <td>2022-06-06 09:00:06.734</td>\n",
       "      <td>24279</td>\n",
       "      <td>18168670</td>\n",
       "      <td>902</td>\n",
       "      <td>20220606</td>\n",
       "      <td>00:00</td>\n",
       "      <td>2022-06-08 09:10:50.441</td>\n",
       "      <td>NaN</td>\n",
       "      <td>NaN</td>\n",
       "    </tr>\n",
       "    <tr>\n",
       "      <th>3</th>\n",
       "      <td>3</td>\n",
       "      <td>2022-06-05 08:53:19.426</td>\n",
       "      <td>24258</td>\n",
       "      <td>18163648</td>\n",
       "      <td>901</td>\n",
       "      <td>20220605</td>\n",
       "      <td>00:00</td>\n",
       "      <td>2022-06-08 09:11:04.758</td>\n",
       "      <td>NaN</td>\n",
       "      <td>NaN</td>\n",
       "    </tr>\n",
       "    <tr>\n",
       "      <th>4</th>\n",
       "      <td>4</td>\n",
       "      <td>2022-06-04 08:56:49.219</td>\n",
       "      <td>24238</td>\n",
       "      <td>18153814</td>\n",
       "      <td>900</td>\n",
       "      <td>20220604</td>\n",
       "      <td>00:00</td>\n",
       "      <td>2022-06-08 09:11:26.303</td>\n",
       "      <td>NaN</td>\n",
       "      <td>NaN</td>\n",
       "    </tr>\n",
       "    <tr>\n",
       "      <th>...</th>\n",
       "      <td>...</td>\n",
       "      <td>...</td>\n",
       "      <td>...</td>\n",
       "      <td>...</td>\n",
       "      <td>...</td>\n",
       "      <td>...</td>\n",
       "      <td>...</td>\n",
       "      <td>...</td>\n",
       "      <td>...</td>\n",
       "      <td>...</td>\n",
       "    </tr>\n",
       "    <tr>\n",
       "      <th>815</th>\n",
       "      <td>815</td>\n",
       "      <td>2020-03-14 00:00:00.000</td>\n",
       "      <td>72</td>\n",
       "      <td>8086</td>\n",
       "      <td>55</td>\n",
       "      <td>20200314</td>\n",
       "      <td>00:00</td>\n",
       "      <td>2021-10-07 10:30:51.51</td>\n",
       "      <td>261335.0</td>\n",
       "      <td>3.318000</td>\n",
       "    </tr>\n",
       "    <tr>\n",
       "      <th>816</th>\n",
       "      <td>816</td>\n",
       "      <td>2020-03-13 00:00:00.000</td>\n",
       "      <td>67</td>\n",
       "      <td>7979</td>\n",
       "      <td>54</td>\n",
       "      <td>20200313</td>\n",
       "      <td>00:00</td>\n",
       "      <td>2021-10-07 10:30:51.51</td>\n",
       "      <td>248647.0</td>\n",
       "      <td>3.458499</td>\n",
       "    </tr>\n",
       "    <tr>\n",
       "      <th>817</th>\n",
       "      <td>817</td>\n",
       "      <td>2020-03-12 00:00:00.000</td>\n",
       "      <td>66</td>\n",
       "      <td>7869</td>\n",
       "      <td>53</td>\n",
       "      <td>20200312</td>\n",
       "      <td>00:00</td>\n",
       "      <td>2021-10-07 10:30:51.51</td>\n",
       "      <td>234998.0</td>\n",
       "      <td>3.621744</td>\n",
       "    </tr>\n",
       "    <tr>\n",
       "      <th>818</th>\n",
       "      <td>818</td>\n",
       "      <td>2020-03-11 00:00:00.000</td>\n",
       "      <td>60</td>\n",
       "      <td>7755</td>\n",
       "      <td>52</td>\n",
       "      <td>20200311</td>\n",
       "      <td>00:00</td>\n",
       "      <td>2021-10-07 10:30:51.51</td>\n",
       "      <td>222395.0</td>\n",
       "      <td>3.804175</td>\n",
       "    </tr>\n",
       "    <tr>\n",
       "      <th>819</th>\n",
       "      <td>819</td>\n",
       "      <td>2020-03-10 00:00:00.000</td>\n",
       "      <td>54</td>\n",
       "      <td>7513</td>\n",
       "      <td>51</td>\n",
       "      <td>20200310</td>\n",
       "      <td>00:00</td>\n",
       "      <td>2021-10-07 10:30:51.51</td>\n",
       "      <td>210144.0</td>\n",
       "      <td>3.919308</td>\n",
       "    </tr>\n",
       "  </tbody>\n",
       "</table>\n",
       "<p>820 rows × 10 columns</p>\n",
       "</div>"
      ],
      "text/plain": [
       "     Unnamed: 0                 createDt  deathCnt  decideCnt  seq   stateDt  \\\n",
       "0             0  2022-06-08 09:09:05.982     24305   18188200  904  20220608   \n",
       "1             1  2022-06-07 09:09:00.897     24299   18174842  903  20220607   \n",
       "2             2  2022-06-06 09:00:06.734     24279   18168670  902  20220606   \n",
       "3             3  2022-06-05 08:53:19.426     24258   18163648  901  20220605   \n",
       "4             4  2022-06-04 08:56:49.219     24238   18153814  900  20220604   \n",
       "..          ...                      ...       ...        ...  ...       ...   \n",
       "815         815  2020-03-14 00:00:00.000        72       8086   55  20200314   \n",
       "816         816  2020-03-13 00:00:00.000        67       7979   54  20200313   \n",
       "817         817  2020-03-12 00:00:00.000        66       7869   53  20200312   \n",
       "818         818  2020-03-11 00:00:00.000        60       7755   52  20200311   \n",
       "819         819  2020-03-10 00:00:00.000        54       7513   51  20200310   \n",
       "\n",
       "    stateTime                 updateDt  accExamCnt  accDefRate  \n",
       "0       00:00                      NaN         NaN         NaN  \n",
       "1       00:00  2022-06-08 09:10:36.846         NaN         NaN  \n",
       "2       00:00  2022-06-08 09:10:50.441         NaN         NaN  \n",
       "3       00:00  2022-06-08 09:11:04.758         NaN         NaN  \n",
       "4       00:00  2022-06-08 09:11:26.303         NaN         NaN  \n",
       "..        ...                      ...         ...         ...  \n",
       "815     00:00   2021-10-07 10:30:51.51    261335.0    3.318000  \n",
       "816     00:00   2021-10-07 10:30:51.51    248647.0    3.458499  \n",
       "817     00:00   2021-10-07 10:30:51.51    234998.0    3.621744  \n",
       "818     00:00   2021-10-07 10:30:51.51    222395.0    3.804175  \n",
       "819     00:00   2021-10-07 10:30:51.51    210144.0    3.919308  \n",
       "\n",
       "[820 rows x 10 columns]"
      ]
     },
     "execution_count": 125,
     "metadata": {},
     "output_type": "execute_result"
    }
   ],
   "source": [
    "corona"
   ]
  },
  {
   "cell_type": "code",
   "execution_count": 129,
   "metadata": {},
   "outputs": [
    {
     "data": {
      "text/html": [
       "<div>\n",
       "<style scoped>\n",
       "    .dataframe tbody tr th:only-of-type {\n",
       "        vertical-align: middle;\n",
       "    }\n",
       "\n",
       "    .dataframe tbody tr th {\n",
       "        vertical-align: top;\n",
       "    }\n",
       "\n",
       "    .dataframe thead th {\n",
       "        text-align: right;\n",
       "    }\n",
       "</style>\n",
       "<table border=\"1\" class=\"dataframe\">\n",
       "  <thead>\n",
       "    <tr style=\"text-align: right;\">\n",
       "      <th></th>\n",
       "      <th>createDt</th>\n",
       "      <th>deathCnt</th>\n",
       "      <th>decideCnt</th>\n",
       "      <th>stateDt</th>\n",
       "      <th>stateTime</th>\n",
       "      <th>updateDt</th>\n",
       "      <th>accExamCnt</th>\n",
       "      <th>accDefRate</th>\n",
       "    </tr>\n",
       "  </thead>\n",
       "  <tbody>\n",
       "    <tr>\n",
       "      <th>0</th>\n",
       "      <td>2022-06-08 09:09:05.982</td>\n",
       "      <td>24305</td>\n",
       "      <td>18188200</td>\n",
       "      <td>20220608</td>\n",
       "      <td>00:00</td>\n",
       "      <td>NaN</td>\n",
       "      <td>NaN</td>\n",
       "      <td>NaN</td>\n",
       "    </tr>\n",
       "    <tr>\n",
       "      <th>1</th>\n",
       "      <td>2022-06-07 09:09:00.897</td>\n",
       "      <td>24299</td>\n",
       "      <td>18174842</td>\n",
       "      <td>20220607</td>\n",
       "      <td>00:00</td>\n",
       "      <td>2022-06-08 09:10:36.846</td>\n",
       "      <td>NaN</td>\n",
       "      <td>NaN</td>\n",
       "    </tr>\n",
       "    <tr>\n",
       "      <th>2</th>\n",
       "      <td>2022-06-06 09:00:06.734</td>\n",
       "      <td>24279</td>\n",
       "      <td>18168670</td>\n",
       "      <td>20220606</td>\n",
       "      <td>00:00</td>\n",
       "      <td>2022-06-08 09:10:50.441</td>\n",
       "      <td>NaN</td>\n",
       "      <td>NaN</td>\n",
       "    </tr>\n",
       "    <tr>\n",
       "      <th>3</th>\n",
       "      <td>2022-06-05 08:53:19.426</td>\n",
       "      <td>24258</td>\n",
       "      <td>18163648</td>\n",
       "      <td>20220605</td>\n",
       "      <td>00:00</td>\n",
       "      <td>2022-06-08 09:11:04.758</td>\n",
       "      <td>NaN</td>\n",
       "      <td>NaN</td>\n",
       "    </tr>\n",
       "    <tr>\n",
       "      <th>4</th>\n",
       "      <td>2022-06-04 08:56:49.219</td>\n",
       "      <td>24238</td>\n",
       "      <td>18153814</td>\n",
       "      <td>20220604</td>\n",
       "      <td>00:00</td>\n",
       "      <td>2022-06-08 09:11:26.303</td>\n",
       "      <td>NaN</td>\n",
       "      <td>NaN</td>\n",
       "    </tr>\n",
       "    <tr>\n",
       "      <th>...</th>\n",
       "      <td>...</td>\n",
       "      <td>...</td>\n",
       "      <td>...</td>\n",
       "      <td>...</td>\n",
       "      <td>...</td>\n",
       "      <td>...</td>\n",
       "      <td>...</td>\n",
       "      <td>...</td>\n",
       "    </tr>\n",
       "    <tr>\n",
       "      <th>815</th>\n",
       "      <td>2020-03-14 00:00:00.000</td>\n",
       "      <td>72</td>\n",
       "      <td>8086</td>\n",
       "      <td>20200314</td>\n",
       "      <td>00:00</td>\n",
       "      <td>2021-10-07 10:30:51.51</td>\n",
       "      <td>261335.0</td>\n",
       "      <td>3.318000</td>\n",
       "    </tr>\n",
       "    <tr>\n",
       "      <th>816</th>\n",
       "      <td>2020-03-13 00:00:00.000</td>\n",
       "      <td>67</td>\n",
       "      <td>7979</td>\n",
       "      <td>20200313</td>\n",
       "      <td>00:00</td>\n",
       "      <td>2021-10-07 10:30:51.51</td>\n",
       "      <td>248647.0</td>\n",
       "      <td>3.458499</td>\n",
       "    </tr>\n",
       "    <tr>\n",
       "      <th>817</th>\n",
       "      <td>2020-03-12 00:00:00.000</td>\n",
       "      <td>66</td>\n",
       "      <td>7869</td>\n",
       "      <td>20200312</td>\n",
       "      <td>00:00</td>\n",
       "      <td>2021-10-07 10:30:51.51</td>\n",
       "      <td>234998.0</td>\n",
       "      <td>3.621744</td>\n",
       "    </tr>\n",
       "    <tr>\n",
       "      <th>818</th>\n",
       "      <td>2020-03-11 00:00:00.000</td>\n",
       "      <td>60</td>\n",
       "      <td>7755</td>\n",
       "      <td>20200311</td>\n",
       "      <td>00:00</td>\n",
       "      <td>2021-10-07 10:30:51.51</td>\n",
       "      <td>222395.0</td>\n",
       "      <td>3.804175</td>\n",
       "    </tr>\n",
       "    <tr>\n",
       "      <th>819</th>\n",
       "      <td>2020-03-10 00:00:00.000</td>\n",
       "      <td>54</td>\n",
       "      <td>7513</td>\n",
       "      <td>20200310</td>\n",
       "      <td>00:00</td>\n",
       "      <td>2021-10-07 10:30:51.51</td>\n",
       "      <td>210144.0</td>\n",
       "      <td>3.919308</td>\n",
       "    </tr>\n",
       "  </tbody>\n",
       "</table>\n",
       "<p>820 rows × 8 columns</p>\n",
       "</div>"
      ],
      "text/plain": [
       "                    createDt  deathCnt  decideCnt   stateDt stateTime  \\\n",
       "0    2022-06-08 09:09:05.982     24305   18188200  20220608     00:00   \n",
       "1    2022-06-07 09:09:00.897     24299   18174842  20220607     00:00   \n",
       "2    2022-06-06 09:00:06.734     24279   18168670  20220606     00:00   \n",
       "3    2022-06-05 08:53:19.426     24258   18163648  20220605     00:00   \n",
       "4    2022-06-04 08:56:49.219     24238   18153814  20220604     00:00   \n",
       "..                       ...       ...        ...       ...       ...   \n",
       "815  2020-03-14 00:00:00.000        72       8086  20200314     00:00   \n",
       "816  2020-03-13 00:00:00.000        67       7979  20200313     00:00   \n",
       "817  2020-03-12 00:00:00.000        66       7869  20200312     00:00   \n",
       "818  2020-03-11 00:00:00.000        60       7755  20200311     00:00   \n",
       "819  2020-03-10 00:00:00.000        54       7513  20200310     00:00   \n",
       "\n",
       "                    updateDt  accExamCnt  accDefRate  \n",
       "0                        NaN         NaN         NaN  \n",
       "1    2022-06-08 09:10:36.846         NaN         NaN  \n",
       "2    2022-06-08 09:10:50.441         NaN         NaN  \n",
       "3    2022-06-08 09:11:04.758         NaN         NaN  \n",
       "4    2022-06-08 09:11:26.303         NaN         NaN  \n",
       "..                       ...         ...         ...  \n",
       "815   2021-10-07 10:30:51.51    261335.0    3.318000  \n",
       "816   2021-10-07 10:30:51.51    248647.0    3.458499  \n",
       "817   2021-10-07 10:30:51.51    234998.0    3.621744  \n",
       "818   2021-10-07 10:30:51.51    222395.0    3.804175  \n",
       "819   2021-10-07 10:30:51.51    210144.0    3.919308  \n",
       "\n",
       "[820 rows x 8 columns]"
      ]
     },
     "execution_count": 129,
     "metadata": {},
     "output_type": "execute_result"
    }
   ],
   "source": [
    "# 컬럼을 제거 (Unnamed: 0, seq)\n",
    "# 제거 키워드: drop\n",
    "# drop(): 특정한 컬럼이나 인덱스를 제거할 때 사용\n",
    "# axis 매개변수\n",
    "corona.drop([\"Unnamed: 0\", \"seq\"], axis=1)\n",
    "# 제거 실행 후 저장되지 않은 상태"
   ]
  },
  {
   "cell_type": "code",
   "execution_count": 130,
   "metadata": {},
   "outputs": [],
   "source": [
    "# 결과를 저장: inplace=True\n",
    "corona.drop([\"Unnamed: 0\", \"seq\"], axis=1, inplace=True)"
   ]
  },
  {
   "cell_type": "code",
   "execution_count": 131,
   "metadata": {},
   "outputs": [
    {
     "data": {
      "text/html": [
       "<div>\n",
       "<style scoped>\n",
       "    .dataframe tbody tr th:only-of-type {\n",
       "        vertical-align: middle;\n",
       "    }\n",
       "\n",
       "    .dataframe tbody tr th {\n",
       "        vertical-align: top;\n",
       "    }\n",
       "\n",
       "    .dataframe thead th {\n",
       "        text-align: right;\n",
       "    }\n",
       "</style>\n",
       "<table border=\"1\" class=\"dataframe\">\n",
       "  <thead>\n",
       "    <tr style=\"text-align: right;\">\n",
       "      <th></th>\n",
       "      <th>createDt</th>\n",
       "      <th>deathCnt</th>\n",
       "      <th>decideCnt</th>\n",
       "      <th>stateDt</th>\n",
       "      <th>stateTime</th>\n",
       "      <th>updateDt</th>\n",
       "      <th>accExamCnt</th>\n",
       "      <th>accDefRate</th>\n",
       "    </tr>\n",
       "  </thead>\n",
       "  <tbody>\n",
       "    <tr>\n",
       "      <th>0</th>\n",
       "      <td>2022-06-08 09:09:05.982</td>\n",
       "      <td>24305</td>\n",
       "      <td>18188200</td>\n",
       "      <td>20220608</td>\n",
       "      <td>00:00</td>\n",
       "      <td>NaN</td>\n",
       "      <td>NaN</td>\n",
       "      <td>NaN</td>\n",
       "    </tr>\n",
       "  </tbody>\n",
       "</table>\n",
       "</div>"
      ],
      "text/plain": [
       "                  createDt  deathCnt  decideCnt   stateDt stateTime updateDt  \\\n",
       "0  2022-06-08 09:09:05.982     24305   18188200  20220608     00:00      NaN   \n",
       "\n",
       "   accExamCnt  accDefRate  \n",
       "0         NaN         NaN  "
      ]
     },
     "execution_count": 131,
     "metadata": {},
     "output_type": "execute_result"
    }
   ],
   "source": [
    "corona.head(1)"
   ]
  },
  {
   "cell_type": "code",
   "execution_count": 132,
   "metadata": {},
   "outputs": [],
   "source": [
    "# 컬럼의 이름을 변경\n",
    "corona.columns=[\"등록일시\",\"총사망자\",\"총확진자\",\"기준일\",\"기준시간\",\"수정일시\",\"누적확진자\",\"누적확진율\"]"
   ]
  },
  {
   "cell_type": "code",
   "execution_count": 133,
   "metadata": {},
   "outputs": [
    {
     "data": {
      "text/html": [
       "<div>\n",
       "<style scoped>\n",
       "    .dataframe tbody tr th:only-of-type {\n",
       "        vertical-align: middle;\n",
       "    }\n",
       "\n",
       "    .dataframe tbody tr th {\n",
       "        vertical-align: top;\n",
       "    }\n",
       "\n",
       "    .dataframe thead th {\n",
       "        text-align: right;\n",
       "    }\n",
       "</style>\n",
       "<table border=\"1\" class=\"dataframe\">\n",
       "  <thead>\n",
       "    <tr style=\"text-align: right;\">\n",
       "      <th></th>\n",
       "      <th>등록일시</th>\n",
       "      <th>총사망자</th>\n",
       "      <th>총확진자</th>\n",
       "      <th>기준일</th>\n",
       "      <th>기준시간</th>\n",
       "      <th>수정일시</th>\n",
       "      <th>누적확진자</th>\n",
       "      <th>누적확진율</th>\n",
       "    </tr>\n",
       "  </thead>\n",
       "  <tbody>\n",
       "    <tr>\n",
       "      <th>0</th>\n",
       "      <td>2022-06-08 09:09:05.982</td>\n",
       "      <td>24305</td>\n",
       "      <td>18188200</td>\n",
       "      <td>20220608</td>\n",
       "      <td>00:00</td>\n",
       "      <td>NaN</td>\n",
       "      <td>NaN</td>\n",
       "      <td>NaN</td>\n",
       "    </tr>\n",
       "  </tbody>\n",
       "</table>\n",
       "</div>"
      ],
      "text/plain": [
       "                      등록일시   총사망자      총확진자       기준일   기준시간 수정일시  누적확진자  \\\n",
       "0  2022-06-08 09:09:05.982  24305  18188200  20220608  00:00  NaN    NaN   \n",
       "\n",
       "   누적확진율  \n",
       "0    NaN  "
      ]
     },
     "execution_count": 133,
     "metadata": {},
     "output_type": "execute_result"
    }
   ],
   "source": [
    "corona.head(1)"
   ]
  },
  {
   "cell_type": "code",
   "execution_count": 134,
   "metadata": {},
   "outputs": [],
   "source": [
    "# 특정 컬럼의 이름을 변경 후 저장\n",
    "corona.rename(\n",
    "    {\n",
    "        \"누적확진자\":\"누적의심자\"\n",
    "    }, axis=1, inplace=True\n",
    ")"
   ]
  },
  {
   "cell_type": "code",
   "execution_count": 135,
   "metadata": {},
   "outputs": [
    {
     "data": {
      "text/html": [
       "<div>\n",
       "<style scoped>\n",
       "    .dataframe tbody tr th:only-of-type {\n",
       "        vertical-align: middle;\n",
       "    }\n",
       "\n",
       "    .dataframe tbody tr th {\n",
       "        vertical-align: top;\n",
       "    }\n",
       "\n",
       "    .dataframe thead th {\n",
       "        text-align: right;\n",
       "    }\n",
       "</style>\n",
       "<table border=\"1\" class=\"dataframe\">\n",
       "  <thead>\n",
       "    <tr style=\"text-align: right;\">\n",
       "      <th></th>\n",
       "      <th>등록일시</th>\n",
       "      <th>총사망자</th>\n",
       "      <th>총확진자</th>\n",
       "      <th>기준일</th>\n",
       "      <th>기준시간</th>\n",
       "      <th>수정일시</th>\n",
       "      <th>누적의심자</th>\n",
       "      <th>누적확진율</th>\n",
       "    </tr>\n",
       "  </thead>\n",
       "  <tbody>\n",
       "    <tr>\n",
       "      <th>0</th>\n",
       "      <td>2022-06-08 09:09:05.982</td>\n",
       "      <td>24305</td>\n",
       "      <td>18188200</td>\n",
       "      <td>20220608</td>\n",
       "      <td>00:00</td>\n",
       "      <td>NaN</td>\n",
       "      <td>NaN</td>\n",
       "      <td>NaN</td>\n",
       "    </tr>\n",
       "  </tbody>\n",
       "</table>\n",
       "</div>"
      ],
      "text/plain": [
       "                      등록일시   총사망자      총확진자       기준일   기준시간 수정일시  누적의심자  \\\n",
       "0  2022-06-08 09:09:05.982  24305  18188200  20220608  00:00  NaN    NaN   \n",
       "\n",
       "   누적확진율  \n",
       "0    NaN  "
      ]
     },
     "execution_count": 135,
     "metadata": {},
     "output_type": "execute_result"
    }
   ],
   "source": [
    "corona.head(1)"
   ]
  },
  {
   "cell_type": "code",
   "execution_count": 140,
   "metadata": {},
   "outputs": [
    {
     "data": {
      "text/plain": [
       "등록일시       0\n",
       "총사망자       0\n",
       "총확진자       0\n",
       "기준일        0\n",
       "기준시간       0\n",
       "수정일시       3\n",
       "누적의심자    128\n",
       "누적확진율    197\n",
       "dtype: int64"
      ]
     },
     "execution_count": 140,
     "metadata": {},
     "output_type": "execute_result"
    }
   ],
   "source": [
    "# 결측치의 개수를 확인\n",
    "corona.isna().sum()"
   ]
  },
  {
   "cell_type": "code",
   "execution_count": 141,
   "metadata": {},
   "outputs": [
    {
     "data": {
      "text/html": [
       "<div>\n",
       "<style scoped>\n",
       "    .dataframe tbody tr th:only-of-type {\n",
       "        vertical-align: middle;\n",
       "    }\n",
       "\n",
       "    .dataframe tbody tr th {\n",
       "        vertical-align: top;\n",
       "    }\n",
       "\n",
       "    .dataframe thead th {\n",
       "        text-align: right;\n",
       "    }\n",
       "</style>\n",
       "<table border=\"1\" class=\"dataframe\">\n",
       "  <thead>\n",
       "    <tr style=\"text-align: right;\">\n",
       "      <th></th>\n",
       "      <th>등록일시</th>\n",
       "      <th>총사망자</th>\n",
       "      <th>총확진자</th>\n",
       "      <th>기준일</th>\n",
       "      <th>기준시간</th>\n",
       "      <th>수정일시</th>\n",
       "      <th>누적의심자</th>\n",
       "      <th>누적확진율</th>\n",
       "    </tr>\n",
       "  </thead>\n",
       "  <tbody>\n",
       "    <tr>\n",
       "      <th>0</th>\n",
       "      <td>2022-06-08 09:09:05.982</td>\n",
       "      <td>24305</td>\n",
       "      <td>18188200</td>\n",
       "      <td>20220608</td>\n",
       "      <td>00:00</td>\n",
       "      <td>NaN</td>\n",
       "      <td>NaN</td>\n",
       "      <td>NaN</td>\n",
       "    </tr>\n",
       "    <tr>\n",
       "      <th>1</th>\n",
       "      <td>2022-06-07 09:09:00.897</td>\n",
       "      <td>24299</td>\n",
       "      <td>18174842</td>\n",
       "      <td>20220607</td>\n",
       "      <td>00:00</td>\n",
       "      <td>2022-06-08 09:10:36.846</td>\n",
       "      <td>NaN</td>\n",
       "      <td>NaN</td>\n",
       "    </tr>\n",
       "    <tr>\n",
       "      <th>2</th>\n",
       "      <td>2022-06-06 09:00:06.734</td>\n",
       "      <td>24279</td>\n",
       "      <td>18168670</td>\n",
       "      <td>20220606</td>\n",
       "      <td>00:00</td>\n",
       "      <td>2022-06-08 09:10:50.441</td>\n",
       "      <td>NaN</td>\n",
       "      <td>NaN</td>\n",
       "    </tr>\n",
       "    <tr>\n",
       "      <th>3</th>\n",
       "      <td>2022-06-05 08:53:19.426</td>\n",
       "      <td>24258</td>\n",
       "      <td>18163648</td>\n",
       "      <td>20220605</td>\n",
       "      <td>00:00</td>\n",
       "      <td>2022-06-08 09:11:04.758</td>\n",
       "      <td>NaN</td>\n",
       "      <td>NaN</td>\n",
       "    </tr>\n",
       "    <tr>\n",
       "      <th>4</th>\n",
       "      <td>2022-06-04 08:56:49.219</td>\n",
       "      <td>24238</td>\n",
       "      <td>18153814</td>\n",
       "      <td>20220604</td>\n",
       "      <td>00:00</td>\n",
       "      <td>2022-06-08 09:11:26.303</td>\n",
       "      <td>NaN</td>\n",
       "      <td>NaN</td>\n",
       "    </tr>\n",
       "    <tr>\n",
       "      <th>...</th>\n",
       "      <td>...</td>\n",
       "      <td>...</td>\n",
       "      <td>...</td>\n",
       "      <td>...</td>\n",
       "      <td>...</td>\n",
       "      <td>...</td>\n",
       "      <td>...</td>\n",
       "      <td>...</td>\n",
       "    </tr>\n",
       "    <tr>\n",
       "      <th>192</th>\n",
       "      <td>2021-11-28 08:58:53.394</td>\n",
       "      <td>3548</td>\n",
       "      <td>440884</td>\n",
       "      <td>20211128</td>\n",
       "      <td>00:00</td>\n",
       "      <td>2021-12-02 09:06:50.152</td>\n",
       "      <td>17158535.0</td>\n",
       "      <td>NaN</td>\n",
       "    </tr>\n",
       "    <tr>\n",
       "      <th>193</th>\n",
       "      <td>2021-11-27 09:32:36.026</td>\n",
       "      <td>3492</td>\n",
       "      <td>436959</td>\n",
       "      <td>20211127</td>\n",
       "      <td>00:00</td>\n",
       "      <td>2021-12-02 09:06:37.327</td>\n",
       "      <td>17115754.0</td>\n",
       "      <td>NaN</td>\n",
       "    </tr>\n",
       "    <tr>\n",
       "      <th>194</th>\n",
       "      <td>2021-11-26 09:03:03.973</td>\n",
       "      <td>3440</td>\n",
       "      <td>432892</td>\n",
       "      <td>20211126</td>\n",
       "      <td>00:00</td>\n",
       "      <td>2021-12-02 09:06:24.138</td>\n",
       "      <td>17056003.0</td>\n",
       "      <td>NaN</td>\n",
       "    </tr>\n",
       "    <tr>\n",
       "      <th>195</th>\n",
       "      <td>2021-11-25 09:00:47.897</td>\n",
       "      <td>3401</td>\n",
       "      <td>428996</td>\n",
       "      <td>20211125</td>\n",
       "      <td>00:00</td>\n",
       "      <td>2021-12-02 09:06:12.94</td>\n",
       "      <td>16998733.0</td>\n",
       "      <td>NaN</td>\n",
       "    </tr>\n",
       "    <tr>\n",
       "      <th>196</th>\n",
       "      <td>2021-11-24 09:08:22.071</td>\n",
       "      <td>3362</td>\n",
       "      <td>425059</td>\n",
       "      <td>20211124</td>\n",
       "      <td>00:00</td>\n",
       "      <td>2021-12-02 09:06:01.826</td>\n",
       "      <td>16939923.0</td>\n",
       "      <td>NaN</td>\n",
       "    </tr>\n",
       "  </tbody>\n",
       "</table>\n",
       "<p>197 rows × 8 columns</p>\n",
       "</div>"
      ],
      "text/plain": [
       "                        등록일시   총사망자      총확진자       기준일   기준시간  \\\n",
       "0    2022-06-08 09:09:05.982  24305  18188200  20220608  00:00   \n",
       "1    2022-06-07 09:09:00.897  24299  18174842  20220607  00:00   \n",
       "2    2022-06-06 09:00:06.734  24279  18168670  20220606  00:00   \n",
       "3    2022-06-05 08:53:19.426  24258  18163648  20220605  00:00   \n",
       "4    2022-06-04 08:56:49.219  24238  18153814  20220604  00:00   \n",
       "..                       ...    ...       ...       ...    ...   \n",
       "192  2021-11-28 08:58:53.394   3548    440884  20211128  00:00   \n",
       "193  2021-11-27 09:32:36.026   3492    436959  20211127  00:00   \n",
       "194  2021-11-26 09:03:03.973   3440    432892  20211126  00:00   \n",
       "195  2021-11-25 09:00:47.897   3401    428996  20211125  00:00   \n",
       "196  2021-11-24 09:08:22.071   3362    425059  20211124  00:00   \n",
       "\n",
       "                        수정일시       누적의심자  누적확진율  \n",
       "0                        NaN         NaN    NaN  \n",
       "1    2022-06-08 09:10:36.846         NaN    NaN  \n",
       "2    2022-06-08 09:10:50.441         NaN    NaN  \n",
       "3    2022-06-08 09:11:04.758         NaN    NaN  \n",
       "4    2022-06-08 09:11:26.303         NaN    NaN  \n",
       "..                       ...         ...    ...  \n",
       "192  2021-12-02 09:06:50.152  17158535.0    NaN  \n",
       "193  2021-12-02 09:06:37.327  17115754.0    NaN  \n",
       "194  2021-12-02 09:06:24.138  17056003.0    NaN  \n",
       "195   2021-12-02 09:06:12.94  16998733.0    NaN  \n",
       "196  2021-12-02 09:06:01.826  16939923.0    NaN  \n",
       "\n",
       "[197 rows x 8 columns]"
      ]
     },
     "execution_count": 141,
     "metadata": {},
     "output_type": "execute_result"
    }
   ],
   "source": [
    "# 누적확진율 데이터에서 결측치인 데이터만 출력\n",
    "# corona 데이터에서 누적확진율 데이터만 출력\n",
    "flag_null=corona[\"누적확진율\"].isna()\n",
    "corona.loc[flag_null]"
   ]
  },
  {
   "cell_type": "code",
   "execution_count": 143,
   "metadata": {},
   "outputs": [],
   "source": [
    "# 특정 컬럼의 데이터를 기준으로 오름차순 정렬\n",
    "# 차순정렬 키워드(sort) + 데이터(values): sort_values(기준이 되는 컬럼)\n",
    "# ascending 매개변수: 차순정렬 방법 기본값(True) 오름차순 정렬\n",
    "corona.sort_values([\"등록일시\"], inplace=True)"
   ]
  },
  {
   "cell_type": "code",
   "execution_count": 144,
   "metadata": {},
   "outputs": [
    {
     "data": {
      "text/html": [
       "<div>\n",
       "<style scoped>\n",
       "    .dataframe tbody tr th:only-of-type {\n",
       "        vertical-align: middle;\n",
       "    }\n",
       "\n",
       "    .dataframe tbody tr th {\n",
       "        vertical-align: top;\n",
       "    }\n",
       "\n",
       "    .dataframe thead th {\n",
       "        text-align: right;\n",
       "    }\n",
       "</style>\n",
       "<table border=\"1\" class=\"dataframe\">\n",
       "  <thead>\n",
       "    <tr style=\"text-align: right;\">\n",
       "      <th></th>\n",
       "      <th>등록일시</th>\n",
       "      <th>총사망자</th>\n",
       "      <th>총확진자</th>\n",
       "      <th>기준일</th>\n",
       "      <th>기준시간</th>\n",
       "      <th>수정일시</th>\n",
       "      <th>누적의심자</th>\n",
       "      <th>누적확진율</th>\n",
       "    </tr>\n",
       "  </thead>\n",
       "  <tbody>\n",
       "    <tr>\n",
       "      <th>819</th>\n",
       "      <td>2020-03-10 00:00:00.000</td>\n",
       "      <td>54</td>\n",
       "      <td>7513</td>\n",
       "      <td>20200310</td>\n",
       "      <td>00:00</td>\n",
       "      <td>2021-10-07 10:30:51.51</td>\n",
       "      <td>210144.0</td>\n",
       "      <td>3.919308</td>\n",
       "    </tr>\n",
       "    <tr>\n",
       "      <th>818</th>\n",
       "      <td>2020-03-11 00:00:00.000</td>\n",
       "      <td>60</td>\n",
       "      <td>7755</td>\n",
       "      <td>20200311</td>\n",
       "      <td>00:00</td>\n",
       "      <td>2021-10-07 10:30:51.51</td>\n",
       "      <td>222395.0</td>\n",
       "      <td>3.804175</td>\n",
       "    </tr>\n",
       "    <tr>\n",
       "      <th>817</th>\n",
       "      <td>2020-03-12 00:00:00.000</td>\n",
       "      <td>66</td>\n",
       "      <td>7869</td>\n",
       "      <td>20200312</td>\n",
       "      <td>00:00</td>\n",
       "      <td>2021-10-07 10:30:51.51</td>\n",
       "      <td>234998.0</td>\n",
       "      <td>3.621744</td>\n",
       "    </tr>\n",
       "    <tr>\n",
       "      <th>816</th>\n",
       "      <td>2020-03-13 00:00:00.000</td>\n",
       "      <td>67</td>\n",
       "      <td>7979</td>\n",
       "      <td>20200313</td>\n",
       "      <td>00:00</td>\n",
       "      <td>2021-10-07 10:30:51.51</td>\n",
       "      <td>248647.0</td>\n",
       "      <td>3.458499</td>\n",
       "    </tr>\n",
       "    <tr>\n",
       "      <th>815</th>\n",
       "      <td>2020-03-14 00:00:00.000</td>\n",
       "      <td>72</td>\n",
       "      <td>8086</td>\n",
       "      <td>20200314</td>\n",
       "      <td>00:00</td>\n",
       "      <td>2021-10-07 10:30:51.51</td>\n",
       "      <td>261335.0</td>\n",
       "      <td>3.318000</td>\n",
       "    </tr>\n",
       "  </tbody>\n",
       "</table>\n",
       "</div>"
      ],
      "text/plain": [
       "                        등록일시  총사망자  총확진자       기준일   기준시간  \\\n",
       "819  2020-03-10 00:00:00.000    54  7513  20200310  00:00   \n",
       "818  2020-03-11 00:00:00.000    60  7755  20200311  00:00   \n",
       "817  2020-03-12 00:00:00.000    66  7869  20200312  00:00   \n",
       "816  2020-03-13 00:00:00.000    67  7979  20200313  00:00   \n",
       "815  2020-03-14 00:00:00.000    72  8086  20200314  00:00   \n",
       "\n",
       "                       수정일시     누적의심자     누적확진율  \n",
       "819  2021-10-07 10:30:51.51  210144.0  3.919308  \n",
       "818  2021-10-07 10:30:51.51  222395.0  3.804175  \n",
       "817  2021-10-07 10:30:51.51  234998.0  3.621744  \n",
       "816  2021-10-07 10:30:51.51  248647.0  3.458499  \n",
       "815  2021-10-07 10:30:51.51  261335.0  3.318000  "
      ]
     },
     "execution_count": 144,
     "metadata": {},
     "output_type": "execute_result"
    }
   ],
   "source": [
    "corona.head()"
   ]
  },
  {
   "cell_type": "code",
   "execution_count": 149,
   "metadata": {},
   "outputs": [],
   "source": [
    "# corona에서 인덱스의 값들을 재지정(초기화)\n",
    "# 초기화 키워드(reset) + 인덱스(index): reset_index()\n",
    "# drop 매개변수: 기본값 False, 기존의 인덱스를 제거할 것인가? True로 변경\n",
    "corona.reset_index(drop=True, inplace=True)\n",
    "# corona.reset_index().drop(\"index\", axis=1) 같은 의미"
   ]
  },
  {
   "cell_type": "code",
   "execution_count": 150,
   "metadata": {},
   "outputs": [
    {
     "data": {
      "text/html": [
       "<div>\n",
       "<style scoped>\n",
       "    .dataframe tbody tr th:only-of-type {\n",
       "        vertical-align: middle;\n",
       "    }\n",
       "\n",
       "    .dataframe tbody tr th {\n",
       "        vertical-align: top;\n",
       "    }\n",
       "\n",
       "    .dataframe thead th {\n",
       "        text-align: right;\n",
       "    }\n",
       "</style>\n",
       "<table border=\"1\" class=\"dataframe\">\n",
       "  <thead>\n",
       "    <tr style=\"text-align: right;\">\n",
       "      <th></th>\n",
       "      <th>등록일시</th>\n",
       "      <th>총사망자</th>\n",
       "      <th>총확진자</th>\n",
       "      <th>기준일</th>\n",
       "      <th>기준시간</th>\n",
       "      <th>수정일시</th>\n",
       "      <th>누적의심자</th>\n",
       "      <th>누적확진율</th>\n",
       "    </tr>\n",
       "  </thead>\n",
       "  <tbody>\n",
       "    <tr>\n",
       "      <th>0</th>\n",
       "      <td>2020-03-10 00:00:00.000</td>\n",
       "      <td>54</td>\n",
       "      <td>7513</td>\n",
       "      <td>20200310</td>\n",
       "      <td>00:00</td>\n",
       "      <td>2021-10-07 10:30:51.51</td>\n",
       "      <td>210144.0</td>\n",
       "      <td>3.919308</td>\n",
       "    </tr>\n",
       "    <tr>\n",
       "      <th>1</th>\n",
       "      <td>2020-03-11 00:00:00.000</td>\n",
       "      <td>60</td>\n",
       "      <td>7755</td>\n",
       "      <td>20200311</td>\n",
       "      <td>00:00</td>\n",
       "      <td>2021-10-07 10:30:51.51</td>\n",
       "      <td>222395.0</td>\n",
       "      <td>3.804175</td>\n",
       "    </tr>\n",
       "    <tr>\n",
       "      <th>2</th>\n",
       "      <td>2020-03-12 00:00:00.000</td>\n",
       "      <td>66</td>\n",
       "      <td>7869</td>\n",
       "      <td>20200312</td>\n",
       "      <td>00:00</td>\n",
       "      <td>2021-10-07 10:30:51.51</td>\n",
       "      <td>234998.0</td>\n",
       "      <td>3.621744</td>\n",
       "    </tr>\n",
       "    <tr>\n",
       "      <th>3</th>\n",
       "      <td>2020-03-13 00:00:00.000</td>\n",
       "      <td>67</td>\n",
       "      <td>7979</td>\n",
       "      <td>20200313</td>\n",
       "      <td>00:00</td>\n",
       "      <td>2021-10-07 10:30:51.51</td>\n",
       "      <td>248647.0</td>\n",
       "      <td>3.458499</td>\n",
       "    </tr>\n",
       "    <tr>\n",
       "      <th>4</th>\n",
       "      <td>2020-03-14 00:00:00.000</td>\n",
       "      <td>72</td>\n",
       "      <td>8086</td>\n",
       "      <td>20200314</td>\n",
       "      <td>00:00</td>\n",
       "      <td>2021-10-07 10:30:51.51</td>\n",
       "      <td>261335.0</td>\n",
       "      <td>3.318000</td>\n",
       "    </tr>\n",
       "  </tbody>\n",
       "</table>\n",
       "</div>"
      ],
      "text/plain": [
       "                      등록일시  총사망자  총확진자       기준일   기준시간  \\\n",
       "0  2020-03-10 00:00:00.000    54  7513  20200310  00:00   \n",
       "1  2020-03-11 00:00:00.000    60  7755  20200311  00:00   \n",
       "2  2020-03-12 00:00:00.000    66  7869  20200312  00:00   \n",
       "3  2020-03-13 00:00:00.000    67  7979  20200313  00:00   \n",
       "4  2020-03-14 00:00:00.000    72  8086  20200314  00:00   \n",
       "\n",
       "                     수정일시     누적의심자     누적확진율  \n",
       "0  2021-10-07 10:30:51.51  210144.0  3.919308  \n",
       "1  2021-10-07 10:30:51.51  222395.0  3.804175  \n",
       "2  2021-10-07 10:30:51.51  234998.0  3.621744  \n",
       "3  2021-10-07 10:30:51.51  248647.0  3.458499  \n",
       "4  2021-10-07 10:30:51.51  261335.0  3.318000  "
      ]
     },
     "execution_count": 150,
     "metadata": {},
     "output_type": "execute_result"
    }
   ],
   "source": [
    "corona.head()"
   ]
  },
  {
   "cell_type": "code",
   "execution_count": 151,
   "metadata": {},
   "outputs": [
    {
     "data": {
      "text/plain": [
       "np.int64(60)"
      ]
     },
     "execution_count": 151,
     "metadata": {},
     "output_type": "execute_result"
    }
   ],
   "source": [
    "# 상기 corona 기준, 총 사망자에서 60이라는 데이터만 출력하려면?\n",
    "corona.loc[1,\"총사망자\"]"
   ]
  },
  {
   "cell_type": "code",
   "execution_count": 155,
   "metadata": {},
   "outputs": [
    {
     "data": {
      "text/plain": [
       "np.int64(6)"
      ]
     },
     "execution_count": 155,
     "metadata": {},
     "output_type": "execute_result"
    }
   ],
   "source": [
    "# 3월 11일의 일일사망자를 구하는 방법\n",
    "corona.loc[1,\"총사망자\"]-corona.loc[0,\"총사망자\"]"
   ]
  },
  {
   "cell_type": "code",
   "execution_count": 154,
   "metadata": {},
   "outputs": [
    {
     "data": {
      "text/html": [
       "<div>\n",
       "<style scoped>\n",
       "    .dataframe tbody tr th:only-of-type {\n",
       "        vertical-align: middle;\n",
       "    }\n",
       "\n",
       "    .dataframe tbody tr th {\n",
       "        vertical-align: top;\n",
       "    }\n",
       "\n",
       "    .dataframe thead th {\n",
       "        text-align: right;\n",
       "    }\n",
       "</style>\n",
       "<table border=\"1\" class=\"dataframe\">\n",
       "  <thead>\n",
       "    <tr style=\"text-align: right;\">\n",
       "      <th></th>\n",
       "      <th>등록일시</th>\n",
       "      <th>총사망자</th>\n",
       "      <th>총확진자</th>\n",
       "      <th>기준일</th>\n",
       "      <th>기준시간</th>\n",
       "      <th>수정일시</th>\n",
       "      <th>누적의심자</th>\n",
       "      <th>누적확진율</th>\n",
       "    </tr>\n",
       "  </thead>\n",
       "  <tbody>\n",
       "    <tr>\n",
       "      <th>819</th>\n",
       "      <td>2022-06-08 09:09:05.982</td>\n",
       "      <td>24305</td>\n",
       "      <td>18188200</td>\n",
       "      <td>20220608</td>\n",
       "      <td>00:00</td>\n",
       "      <td>NaN</td>\n",
       "      <td>NaN</td>\n",
       "      <td>NaN</td>\n",
       "    </tr>\n",
       "  </tbody>\n",
       "</table>\n",
       "</div>"
      ],
      "text/plain": [
       "                        등록일시   총사망자      총확진자       기준일   기준시간 수정일시  누적의심자  \\\n",
       "819  2022-06-08 09:09:05.982  24305  18188200  20220608  00:00  NaN    NaN   \n",
       "\n",
       "     누적확진율  \n",
       "819    NaN  "
      ]
     },
     "execution_count": 154,
     "metadata": {},
     "output_type": "execute_result"
    }
   ],
   "source": [
    "corona.tail(1)"
   ]
  },
  {
   "cell_type": "code",
   "execution_count": 158,
   "metadata": {},
   "outputs": [
    {
     "name": "stdout",
     "output_type": "stream",
     "text": [
      "[0, np.int64(6), np.int64(6), np.int64(1), np.int64(5), np.int64(3), np.int64(0), np.int64(6), np.int64(3), np.int64(7), np.int64(3), np.int64(8), np.int64(2), np.int64(7), np.int64(9), np.int64(6), np.int64(5), np.int64(8), np.int64(5), np.int64(8), np.int64(6), np.int64(4), np.int64(3), np.int64(4), np.int64(5), np.int64(3), np.int64(6), np.int64(3), np.int64(6), np.int64(8), np.int64(4), np.int64(4), np.int64(3), np.int64(3), np.int64(3), np.int64(5), np.int64(3), np.int64(4), np.int64(1), np.int64(2), np.int64(2), np.int64(2), np.int64(1), np.int64(1), np.int64(2), np.int64(0), np.int64(0), np.int64(2), np.int64(1), np.int64(1), np.int64(2), np.int64(1), np.int64(1), np.int64(2), np.int64(0), np.int64(2), np.int64(2), np.int64(1), np.int64(1), np.int64(0), np.int64(0), np.int64(0), np.int64(0), np.int64(2), np.int64(1), np.int64(1), np.int64(2), np.int64(0), np.int64(1), np.int64(0), np.int64(0), np.int64(1), np.int64(0), np.int64(2), np.int64(0), np.int64(1), np.int64(2), np.int64(0), np.int64(0), np.int64(0), np.int64(0), np.int64(1), np.int64(1), np.int64(1), np.int64(1), np.int64(0), np.int64(0), np.int64(0), np.int64(0), np.int64(0), np.int64(1), np.int64(2), np.int64(0), np.int64(1), np.int64(0), np.int64(0), np.int64(0), np.int64(1), np.int64(1), np.int64(1), np.int64(0), np.int64(0), np.int64(0), np.int64(0), np.int64(1), np.int64(0), np.int64(1), np.int64(0), np.int64(0), np.int64(0), np.int64(0), np.int64(0), np.int64(0), np.int64(0), np.int64(0), np.int64(1), np.int64(0), np.int64(1), np.int64(1), np.int64(0), np.int64(2), np.int64(1), np.int64(0), np.int64(1), np.int64(0), np.int64(0), np.int64(0), np.int64(2), np.int64(2), np.int64(1), np.int64(1), np.int64(1), np.int64(0), np.int64(1), np.int64(0), np.int64(1), np.int64(0), np.int64(0), np.int64(1), np.int64(1), np.int64(0), np.int64(0), np.int64(1), np.int64(0), np.int64(0), np.int64(0), np.int64(0), np.int64(1), np.int64(0), np.int64(1), np.int64(1), np.int64(1), np.int64(0), np.int64(0), np.int64(0), np.int64(0), np.int64(0), np.int64(0), np.int64(0), np.int64(0), np.int64(1), np.int64(0), np.int64(1), np.int64(2), np.int64(0), np.int64(0), np.int64(0), np.int64(1), np.int64(2), np.int64(1), np.int64(3), np.int64(5), np.int64(2), np.int64(1), np.int64(0), np.int64(2), np.int64(3), np.int64(2), np.int64(2), np.int64(1), np.int64(2), np.int64(5), np.int64(3), np.int64(2), np.int64(4), np.int64(5), np.int64(3), np.int64(5), np.int64(4), np.int64(0), np.int64(5), np.int64(5), np.int64(1), np.int64(5), np.int64(2), np.int64(3), np.int64(0), np.int64(5), np.int64(2), np.int64(4), np.int64(2), np.int64(5), np.int64(1), np.int64(6), np.int64(2), np.int64(1), np.int64(4), np.int64(1), np.int64(1), np.int64(0), np.int64(3), np.int64(2), np.int64(1), np.int64(2), np.int64(2), np.int64(1), np.int64(1), np.int64(4), np.int64(1), np.int64(2), np.int64(2), np.int64(1), np.int64(0), np.int64(3), np.int64(3), np.int64(3), np.int64(2), np.int64(2), np.int64(0), np.int64(0), np.int64(3), np.int64(1), np.int64(1), np.int64(1), np.int64(1), np.int64(2), np.int64(2), np.int64(4), np.int64(2), np.int64(1), np.int64(1), np.int64(1), np.int64(1), np.int64(2), np.int64(5), np.int64(2), np.int64(0), np.int64(1), np.int64(4), np.int64(1), np.int64(1), np.int64(0), np.int64(2), np.int64(2), np.int64(3), np.int64(2), np.int64(2), np.int64(4), np.int64(1), np.int64(3), np.int64(2), np.int64(1), np.int64(6), np.int64(1), np.int64(3), np.int64(0), np.int64(0), np.int64(3), np.int64(7), np.int64(4), np.int64(5), np.int64(4), np.int64(3), np.int64(4), np.int64(8), np.int64(8), np.int64(6), np.int64(2), np.int64(7), np.int64(13), np.int64(12), np.int64(22), np.int64(11), np.int64(14), np.int64(15), np.int64(24), np.int64(24), np.int64(17), np.int64(17), np.int64(17), np.int64(20), np.int64(15), np.int64(11), np.int64(40), np.int64(20), np.int64(21), np.int64(17), np.int64(25), np.int64(20), np.int64(19), np.int64(26), np.int64(20), np.int64(19), np.int64(35), np.int64(19), np.int64(25), np.int64(15), np.int64(25), np.int64(20), np.int64(10), np.int64(22), np.int64(19), np.int64(13), np.int64(15), np.int64(19), np.int64(17), np.int64(16), np.int64(12), np.int64(9), np.int64(12), np.int64(11), np.int64(11), np.int64(7), np.int64(8), np.int64(13), np.int64(15), np.int64(6), np.int64(5), np.int64(10), np.int64(6), np.int64(7), np.int64(11), np.int64(5), np.int64(7), np.int64(3), np.int64(8), np.int64(4), np.int64(10), np.int64(11), np.int64(7), np.int64(8), np.int64(5), np.int64(7), np.int64(4), np.int64(6), np.int64(6), np.int64(3), np.int64(4), np.int64(5), np.int64(11), np.int64(3), np.int64(5), np.int64(4), np.int64(10), np.int64(8), np.int64(2), np.int64(1), np.int64(6), np.int64(7), np.int64(8), np.int64(5), np.int64(2), np.int64(8), np.int64(3), np.int64(3), np.int64(4), np.int64(10), np.int64(5), np.int64(2), np.int64(6), np.int64(3), np.int64(8), np.int64(2), np.int64(2), np.int64(3), np.int64(3), np.int64(1), np.int64(7), np.int64(3), np.int64(2), np.int64(7), np.int64(5), np.int64(1), np.int64(4), np.int64(3), np.int64(2), np.int64(4), np.int64(2), np.int64(3), np.int64(4), np.int64(4), np.int64(4), np.int64(4), np.int64(2), np.int64(6), np.int64(1), np.int64(3), np.int64(2), np.int64(5), np.int64(7), np.int64(6), np.int64(2), np.int64(4), np.int64(3), np.int64(4), np.int64(1), np.int64(4), np.int64(2), np.int64(3), np.int64(1), np.int64(1), np.int64(4), np.int64(3), np.int64(1), np.int64(4), np.int64(3), np.int64(3), np.int64(2), np.int64(1), np.int64(6), np.int64(7), np.int64(4), np.int64(9), np.int64(5), np.int64(9), np.int64(1), np.int64(4), np.int64(5), np.int64(7), np.int64(2), np.int64(3), np.int64(4), np.int64(3), np.int64(1), np.int64(8), np.int64(4), np.int64(6), np.int64(4), np.int64(5), np.int64(3), np.int64(4), np.int64(2), np.int64(3), np.int64(3), np.int64(5), np.int64(8), np.int64(-2), np.int64(6), np.int64(2), np.int64(3), np.int64(1), np.int64(2), np.int64(2), np.int64(1), np.int64(1), np.int64(2), np.int64(2), np.int64(2), np.int64(1), np.int64(3), np.int64(3), np.int64(4), np.int64(1), np.int64(1), np.int64(2), np.int64(1), np.int64(5), np.int64(2), np.int64(2), np.int64(1), np.int64(1), np.int64(1), np.int64(3), np.int64(1), np.int64(2), np.int64(2), np.int64(1), np.int64(3), np.int64(3), np.int64(1), np.int64(1), np.int64(2), np.int64(4), np.int64(1), np.int64(1), np.int64(2), np.int64(2), np.int64(5), np.int64(1), np.int64(2), np.int64(2), np.int64(2), np.int64(1), np.int64(4), np.int64(2), np.int64(1), np.int64(1), np.int64(1), np.int64(3), np.int64(3), np.int64(2), np.int64(5), np.int64(4), np.int64(2), np.int64(4), np.int64(2), np.int64(4), np.int64(6), np.int64(3), np.int64(1), np.int64(5), np.int64(2), np.int64(3), np.int64(4), np.int64(3), np.int64(5), np.int64(4), np.int64(9), np.int64(1), np.int64(3), np.int64(6), np.int64(4), np.int64(8), np.int64(11), np.int64(6), np.int64(5), np.int64(13), np.int64(6), np.int64(5), np.int64(13), np.int64(7), np.int64(6), np.int64(9), np.int64(20), np.int64(8), np.int64(11), np.int64(3), np.int64(5), np.int64(1), np.int64(7), np.int64(11), np.int64(5), np.int64(7), np.int64(6), np.int64(6), np.int64(3), np.int64(4), np.int64(9), np.int64(5), np.int64(10), np.int64(1), np.int64(1), np.int64(7), np.int64(13), np.int64(6), np.int64(3), np.int64(5), np.int64(9), np.int64(6), np.int64(4), np.int64(6), np.int64(8), np.int64(7), np.int64(7), np.int64(9), np.int64(6), np.int64(8), np.int64(10), np.int64(7), np.int64(16), np.int64(7), np.int64(3), np.int64(6), np.int64(11), np.int64(12), np.int64(8), np.int64(10), np.int64(6), np.int64(15), np.int64(8), np.int64(11), np.int64(11), np.int64(13), np.int64(8), np.int64(18), np.int64(16), np.int64(8), np.int64(21), np.int64(9), np.int64(11), np.int64(16), np.int64(20), np.int64(21), np.int64(7), np.int64(15), np.int64(9), np.int64(11), np.int64(9), np.int64(13), np.int64(19), np.int64(9), np.int64(16), np.int64(18), np.int64(24), np.int64(20), np.int64(20), np.int64(11), np.int64(13), np.int64(18), np.int64(14), np.int64(21), np.int64(18), np.int64(32), np.int64(20), np.int64(12), np.int64(22), np.int64(21), np.int64(29), np.int64(28), np.int64(29), np.int64(30), np.int64(24), np.int64(30), np.int64(34), np.int64(39), np.int64(39), np.int64(52), np.int64(56), np.int64(32), np.int64(44), np.int64(34), np.int64(47), np.int64(34), np.int64(70), np.int64(43), np.int64(41), np.int64(64), np.int64(63), np.int64(57), np.int64(53), np.int64(80), np.int64(42), np.int64(40), np.int64(94), np.int64(70), np.int64(62), np.int64(73), np.int64(53), np.int64(78), np.int64(54), np.int64(52), np.int64(78), np.int64(109), np.int64(56), np.int64(105), np.int64(69), np.int64(55), np.int64(46), np.int64(36), np.int64(73), np.int64(108), np.int64(62), np.int64(69), np.int64(36), np.int64(51), np.int64(57), np.int64(49), np.int64(45), np.int64(54), np.int64(51), np.int64(34), np.int64(43), np.int64(52), np.int64(44), np.int64(49), np.int64(22), np.int64(29), np.int64(23), np.int64(45), np.int64(74), np.int64(28), np.int64(21), np.int64(28), np.int64(11), np.int64(25), np.int64(23), np.int64(32), np.int64(34), np.int64(24), np.int64(34), np.int64(20), np.int64(23), np.int64(17), np.int64(15), np.int64(25), np.int64(24), np.int64(22), np.int64(15), np.int64(13), np.int64(36), np.int64(21), np.int64(20), np.int64(49), np.int64(33), np.int64(36), np.int64(21), np.int64(61), np.int64(39), np.int64(36), np.int64(45), np.int64(71), np.int64(51), np.int64(45), np.int64(58), np.int64(99), np.int64(82), np.int64(94), np.int64(112), np.int64(49), np.int64(114), np.int64(112), np.int64(96), np.int64(128), np.int64(186), np.int64(216), np.int64(161), np.int64(139), np.int64(186), np.int64(158), np.int64(206), np.int64(229), np.int64(269), np.int64(251), np.int64(200), np.int64(293), np.int64(164), np.int64(429), np.int64(301), np.int64(319), np.int64(327), np.int64(329), np.int64(384), np.int64(291), np.int64(469), np.int64(393), np.int64(323), np.int64(282), np.int64(287), np.int64(237), np.int64(432), np.int64(375), np.int64(360), np.int64(339), np.int64(306), np.int64(218), np.int64(209), np.int64(371), np.int64(348), np.int64(373), np.int64(338), np.int64(329), np.int64(258), np.int64(171), np.int64(184), np.int64(318), np.int64(264), np.int64(273), np.int64(203), np.int64(132), np.int64(130), np.int64(166), np.int64(147), np.int64(206), np.int64(151), np.int64(109), np.int64(110), np.int64(82), np.int64(141), np.int64(122), np.int64(136), np.int64(70), np.int64(81), np.int64(83), np.int64(49), np.int64(72), np.int64(79), np.int64(48), np.int64(83), np.int64(71), np.int64(40), np.int64(62), np.int64(29), np.int64(63), np.int64(52), np.int64(55), np.int64(48), np.int64(35), np.int64(27), np.int64(31), np.int64(40), np.int64(43), np.int64(26), np.int64(54), np.int64(22), np.int64(19), np.int64(23), np.int64(34), np.int64(40), np.int64(36), np.int64(19), np.int64(9), np.int64(9), np.int64(21), np.int64(15), np.int64(17), np.int64(9), np.int64(20), np.int64(21), np.int64(20), np.int64(6)]\n"
     ]
    }
   ],
   "source": [
    "# 일일사망자 확인하기: 위 코드를 819번 반복실행하기 위해서 for문 이용\n",
    "# for문을 이용하여 나온 결과 값을 1차원 데이터(list)에 저장 -> 딕셔너리도 가능, 튜플 불가(수정x)\n",
    "# daily=[] 리스트를 생성, 3월 10일 값 0을 임의로 넣고, 이후 값을 추가한다.\n",
    "daily=[0]\n",
    "\n",
    "for i in range(1,len(corona)):\n",
    "    result=corona.loc[i,\"총사망자\"]-corona.loc[i-1,\"총사망자\"]\n",
    "    daily.append(result)\n",
    "\n",
    "print(daily)"
   ]
  },
  {
   "cell_type": "code",
   "execution_count": 159,
   "metadata": {},
   "outputs": [],
   "source": [
    "# 1차원 리스트 데이터를 데이터프레임에 대입\n",
    "# 파생변수를 생성 -> 새로운 컬럼 추가\n",
    "corona[\"일일사망자\"]=daily"
   ]
  },
  {
   "cell_type": "code",
   "execution_count": 161,
   "metadata": {},
   "outputs": [
    {
     "data": {
      "text/html": [
       "<div>\n",
       "<style scoped>\n",
       "    .dataframe tbody tr th:only-of-type {\n",
       "        vertical-align: middle;\n",
       "    }\n",
       "\n",
       "    .dataframe tbody tr th {\n",
       "        vertical-align: top;\n",
       "    }\n",
       "\n",
       "    .dataframe thead th {\n",
       "        text-align: right;\n",
       "    }\n",
       "</style>\n",
       "<table border=\"1\" class=\"dataframe\">\n",
       "  <thead>\n",
       "    <tr style=\"text-align: right;\">\n",
       "      <th></th>\n",
       "      <th>등록일시</th>\n",
       "      <th>총사망자</th>\n",
       "      <th>총확진자</th>\n",
       "      <th>기준일</th>\n",
       "      <th>기준시간</th>\n",
       "      <th>수정일시</th>\n",
       "      <th>누적의심자</th>\n",
       "      <th>누적확진율</th>\n",
       "      <th>일일사망자</th>\n",
       "    </tr>\n",
       "  </thead>\n",
       "  <tbody>\n",
       "    <tr>\n",
       "      <th>0</th>\n",
       "      <td>2020-03-10 00:00:00.000</td>\n",
       "      <td>54</td>\n",
       "      <td>7513</td>\n",
       "      <td>20200310</td>\n",
       "      <td>00:00</td>\n",
       "      <td>2021-10-07 10:30:51.51</td>\n",
       "      <td>210144.0</td>\n",
       "      <td>3.919308</td>\n",
       "      <td>0</td>\n",
       "    </tr>\n",
       "    <tr>\n",
       "      <th>1</th>\n",
       "      <td>2020-03-11 00:00:00.000</td>\n",
       "      <td>60</td>\n",
       "      <td>7755</td>\n",
       "      <td>20200311</td>\n",
       "      <td>00:00</td>\n",
       "      <td>2021-10-07 10:30:51.51</td>\n",
       "      <td>222395.0</td>\n",
       "      <td>3.804175</td>\n",
       "      <td>6</td>\n",
       "    </tr>\n",
       "    <tr>\n",
       "      <th>2</th>\n",
       "      <td>2020-03-12 00:00:00.000</td>\n",
       "      <td>66</td>\n",
       "      <td>7869</td>\n",
       "      <td>20200312</td>\n",
       "      <td>00:00</td>\n",
       "      <td>2021-10-07 10:30:51.51</td>\n",
       "      <td>234998.0</td>\n",
       "      <td>3.621744</td>\n",
       "      <td>6</td>\n",
       "    </tr>\n",
       "    <tr>\n",
       "      <th>3</th>\n",
       "      <td>2020-03-13 00:00:00.000</td>\n",
       "      <td>67</td>\n",
       "      <td>7979</td>\n",
       "      <td>20200313</td>\n",
       "      <td>00:00</td>\n",
       "      <td>2021-10-07 10:30:51.51</td>\n",
       "      <td>248647.0</td>\n",
       "      <td>3.458499</td>\n",
       "      <td>1</td>\n",
       "    </tr>\n",
       "    <tr>\n",
       "      <th>4</th>\n",
       "      <td>2020-03-14 00:00:00.000</td>\n",
       "      <td>72</td>\n",
       "      <td>8086</td>\n",
       "      <td>20200314</td>\n",
       "      <td>00:00</td>\n",
       "      <td>2021-10-07 10:30:51.51</td>\n",
       "      <td>261335.0</td>\n",
       "      <td>3.318000</td>\n",
       "      <td>5</td>\n",
       "    </tr>\n",
       "  </tbody>\n",
       "</table>\n",
       "</div>"
      ],
      "text/plain": [
       "                      등록일시  총사망자  총확진자       기준일   기준시간  \\\n",
       "0  2020-03-10 00:00:00.000    54  7513  20200310  00:00   \n",
       "1  2020-03-11 00:00:00.000    60  7755  20200311  00:00   \n",
       "2  2020-03-12 00:00:00.000    66  7869  20200312  00:00   \n",
       "3  2020-03-13 00:00:00.000    67  7979  20200313  00:00   \n",
       "4  2020-03-14 00:00:00.000    72  8086  20200314  00:00   \n",
       "\n",
       "                     수정일시     누적의심자     누적확진율  일일사망자  \n",
       "0  2021-10-07 10:30:51.51  210144.0  3.919308      0  \n",
       "1  2021-10-07 10:30:51.51  222395.0  3.804175      6  \n",
       "2  2021-10-07 10:30:51.51  234998.0  3.621744      6  \n",
       "3  2021-10-07 10:30:51.51  248647.0  3.458499      1  \n",
       "4  2021-10-07 10:30:51.51  261335.0  3.318000      5  "
      ]
     },
     "execution_count": 161,
     "metadata": {},
     "output_type": "execute_result"
    }
   ],
   "source": [
    "corona.head()"
   ]
  },
  {
   "cell_type": "code",
   "execution_count": 163,
   "metadata": {},
   "outputs": [
    {
     "data": {
      "text/html": [
       "<div>\n",
       "<style scoped>\n",
       "    .dataframe tbody tr th:only-of-type {\n",
       "        vertical-align: middle;\n",
       "    }\n",
       "\n",
       "    .dataframe tbody tr th {\n",
       "        vertical-align: top;\n",
       "    }\n",
       "\n",
       "    .dataframe thead th {\n",
       "        text-align: right;\n",
       "    }\n",
       "</style>\n",
       "<table border=\"1\" class=\"dataframe\">\n",
       "  <thead>\n",
       "    <tr style=\"text-align: right;\">\n",
       "      <th></th>\n",
       "      <th>등록일시</th>\n",
       "      <th>총사망자</th>\n",
       "      <th>총확진자</th>\n",
       "      <th>기준일</th>\n",
       "      <th>기준시간</th>\n",
       "      <th>수정일시</th>\n",
       "      <th>누적의심자</th>\n",
       "      <th>누적확진율</th>\n",
       "      <th>일일사망자</th>\n",
       "    </tr>\n",
       "  </thead>\n",
       "  <tbody>\n",
       "    <tr>\n",
       "      <th>815</th>\n",
       "      <td>2022-06-04 08:56:49.219</td>\n",
       "      <td>24238</td>\n",
       "      <td>18153814</td>\n",
       "      <td>20220604</td>\n",
       "      <td>00:00</td>\n",
       "      <td>2022-06-08 09:11:26.303</td>\n",
       "      <td>NaN</td>\n",
       "      <td>NaN</td>\n",
       "      <td>9</td>\n",
       "    </tr>\n",
       "    <tr>\n",
       "      <th>816</th>\n",
       "      <td>2022-06-05 08:53:19.426</td>\n",
       "      <td>24258</td>\n",
       "      <td>18163648</td>\n",
       "      <td>20220605</td>\n",
       "      <td>00:00</td>\n",
       "      <td>2022-06-08 09:11:04.758</td>\n",
       "      <td>NaN</td>\n",
       "      <td>NaN</td>\n",
       "      <td>20</td>\n",
       "    </tr>\n",
       "    <tr>\n",
       "      <th>817</th>\n",
       "      <td>2022-06-06 09:00:06.734</td>\n",
       "      <td>24279</td>\n",
       "      <td>18168670</td>\n",
       "      <td>20220606</td>\n",
       "      <td>00:00</td>\n",
       "      <td>2022-06-08 09:10:50.441</td>\n",
       "      <td>NaN</td>\n",
       "      <td>NaN</td>\n",
       "      <td>21</td>\n",
       "    </tr>\n",
       "    <tr>\n",
       "      <th>818</th>\n",
       "      <td>2022-06-07 09:09:00.897</td>\n",
       "      <td>24299</td>\n",
       "      <td>18174842</td>\n",
       "      <td>20220607</td>\n",
       "      <td>00:00</td>\n",
       "      <td>2022-06-08 09:10:36.846</td>\n",
       "      <td>NaN</td>\n",
       "      <td>NaN</td>\n",
       "      <td>20</td>\n",
       "    </tr>\n",
       "    <tr>\n",
       "      <th>819</th>\n",
       "      <td>2022-06-08 09:09:05.982</td>\n",
       "      <td>24305</td>\n",
       "      <td>18188200</td>\n",
       "      <td>20220608</td>\n",
       "      <td>00:00</td>\n",
       "      <td>NaN</td>\n",
       "      <td>NaN</td>\n",
       "      <td>NaN</td>\n",
       "      <td>6</td>\n",
       "    </tr>\n",
       "  </tbody>\n",
       "</table>\n",
       "</div>"
      ],
      "text/plain": [
       "                        등록일시   총사망자      총확진자       기준일   기준시간  \\\n",
       "815  2022-06-04 08:56:49.219  24238  18153814  20220604  00:00   \n",
       "816  2022-06-05 08:53:19.426  24258  18163648  20220605  00:00   \n",
       "817  2022-06-06 09:00:06.734  24279  18168670  20220606  00:00   \n",
       "818  2022-06-07 09:09:00.897  24299  18174842  20220607  00:00   \n",
       "819  2022-06-08 09:09:05.982  24305  18188200  20220608  00:00   \n",
       "\n",
       "                        수정일시  누적의심자  누적확진율  일일사망자  \n",
       "815  2022-06-08 09:11:26.303    NaN    NaN      9  \n",
       "816  2022-06-08 09:11:04.758    NaN    NaN     20  \n",
       "817  2022-06-08 09:10:50.441    NaN    NaN     21  \n",
       "818  2022-06-08 09:10:36.846    NaN    NaN     20  \n",
       "819                      NaN    NaN    NaN      6  "
      ]
     },
     "execution_count": 163,
     "metadata": {},
     "output_type": "execute_result"
    }
   ],
   "source": [
    "corona.tail()"
   ]
  },
  {
   "cell_type": "code",
   "execution_count": 164,
   "metadata": {},
   "outputs": [
    {
     "data": {
      "text/plain": [
       "0       NaN\n",
       "1       6.0\n",
       "2       6.0\n",
       "3       1.0\n",
       "4       5.0\n",
       "       ... \n",
       "815     9.0\n",
       "816    20.0\n",
       "817    21.0\n",
       "818    20.0\n",
       "819     6.0\n",
       "Name: 총사망자, Length: 820, dtype: float64"
      ]
     },
     "execution_count": 164,
     "metadata": {},
     "output_type": "execute_result"
    }
   ],
   "source": [
    "# shift() 함수를 이용하여 일일사망자 구하기\n",
    "# shift(n): n만큼 인덱스를 이동시키는 함수 -> 전 행의 데이터 사이 차이값\n",
    "\n",
    "corona[\"총사망자\"]-corona[\"총사망자\"].shift(1)"
   ]
  },
  {
   "cell_type": "code",
   "execution_count": 165,
   "metadata": {},
   "outputs": [],
   "source": [
    "corona[\"일일사망자2\"]=(corona[\"총사망자\"]-corona[\"총사망자\"].shift(1)).fillna(0)\n",
    "# shift()를 이용한 값을 2에 넣어주고, 첫번째 결측치는 0으로 채운다.\n",
    "# shift를 먼저 실행한 후 결측치를 채우기 위하여 ()로 묶어준 뒤 fillna(0) 표기"
   ]
  },
  {
   "cell_type": "code",
   "execution_count": 166,
   "metadata": {},
   "outputs": [
    {
     "data": {
      "text/html": [
       "<div>\n",
       "<style scoped>\n",
       "    .dataframe tbody tr th:only-of-type {\n",
       "        vertical-align: middle;\n",
       "    }\n",
       "\n",
       "    .dataframe tbody tr th {\n",
       "        vertical-align: top;\n",
       "    }\n",
       "\n",
       "    .dataframe thead th {\n",
       "        text-align: right;\n",
       "    }\n",
       "</style>\n",
       "<table border=\"1\" class=\"dataframe\">\n",
       "  <thead>\n",
       "    <tr style=\"text-align: right;\">\n",
       "      <th></th>\n",
       "      <th>등록일시</th>\n",
       "      <th>총사망자</th>\n",
       "      <th>총확진자</th>\n",
       "      <th>기준일</th>\n",
       "      <th>기준시간</th>\n",
       "      <th>수정일시</th>\n",
       "      <th>누적의심자</th>\n",
       "      <th>누적확진율</th>\n",
       "      <th>일일사망자</th>\n",
       "      <th>일일사망자2</th>\n",
       "    </tr>\n",
       "  </thead>\n",
       "  <tbody>\n",
       "    <tr>\n",
       "      <th>0</th>\n",
       "      <td>2020-03-10 00:00:00.000</td>\n",
       "      <td>54</td>\n",
       "      <td>7513</td>\n",
       "      <td>20200310</td>\n",
       "      <td>00:00</td>\n",
       "      <td>2021-10-07 10:30:51.51</td>\n",
       "      <td>210144.0</td>\n",
       "      <td>3.919308</td>\n",
       "      <td>0</td>\n",
       "      <td>0.0</td>\n",
       "    </tr>\n",
       "    <tr>\n",
       "      <th>1</th>\n",
       "      <td>2020-03-11 00:00:00.000</td>\n",
       "      <td>60</td>\n",
       "      <td>7755</td>\n",
       "      <td>20200311</td>\n",
       "      <td>00:00</td>\n",
       "      <td>2021-10-07 10:30:51.51</td>\n",
       "      <td>222395.0</td>\n",
       "      <td>3.804175</td>\n",
       "      <td>6</td>\n",
       "      <td>6.0</td>\n",
       "    </tr>\n",
       "    <tr>\n",
       "      <th>2</th>\n",
       "      <td>2020-03-12 00:00:00.000</td>\n",
       "      <td>66</td>\n",
       "      <td>7869</td>\n",
       "      <td>20200312</td>\n",
       "      <td>00:00</td>\n",
       "      <td>2021-10-07 10:30:51.51</td>\n",
       "      <td>234998.0</td>\n",
       "      <td>3.621744</td>\n",
       "      <td>6</td>\n",
       "      <td>6.0</td>\n",
       "    </tr>\n",
       "    <tr>\n",
       "      <th>3</th>\n",
       "      <td>2020-03-13 00:00:00.000</td>\n",
       "      <td>67</td>\n",
       "      <td>7979</td>\n",
       "      <td>20200313</td>\n",
       "      <td>00:00</td>\n",
       "      <td>2021-10-07 10:30:51.51</td>\n",
       "      <td>248647.0</td>\n",
       "      <td>3.458499</td>\n",
       "      <td>1</td>\n",
       "      <td>1.0</td>\n",
       "    </tr>\n",
       "    <tr>\n",
       "      <th>4</th>\n",
       "      <td>2020-03-14 00:00:00.000</td>\n",
       "      <td>72</td>\n",
       "      <td>8086</td>\n",
       "      <td>20200314</td>\n",
       "      <td>00:00</td>\n",
       "      <td>2021-10-07 10:30:51.51</td>\n",
       "      <td>261335.0</td>\n",
       "      <td>3.318000</td>\n",
       "      <td>5</td>\n",
       "      <td>5.0</td>\n",
       "    </tr>\n",
       "  </tbody>\n",
       "</table>\n",
       "</div>"
      ],
      "text/plain": [
       "                      등록일시  총사망자  총확진자       기준일   기준시간  \\\n",
       "0  2020-03-10 00:00:00.000    54  7513  20200310  00:00   \n",
       "1  2020-03-11 00:00:00.000    60  7755  20200311  00:00   \n",
       "2  2020-03-12 00:00:00.000    66  7869  20200312  00:00   \n",
       "3  2020-03-13 00:00:00.000    67  7979  20200313  00:00   \n",
       "4  2020-03-14 00:00:00.000    72  8086  20200314  00:00   \n",
       "\n",
       "                     수정일시     누적의심자     누적확진율  일일사망자  일일사망자2  \n",
       "0  2021-10-07 10:30:51.51  210144.0  3.919308      0     0.0  \n",
       "1  2021-10-07 10:30:51.51  222395.0  3.804175      6     6.0  \n",
       "2  2021-10-07 10:30:51.51  234998.0  3.621744      6     6.0  \n",
       "3  2021-10-07 10:30:51.51  248647.0  3.458499      1     1.0  \n",
       "4  2021-10-07 10:30:51.51  261335.0  3.318000      5     5.0  "
      ]
     },
     "execution_count": 166,
     "metadata": {},
     "output_type": "execute_result"
    }
   ],
   "source": [
    "corona.head()"
   ]
  },
  {
   "cell_type": "code",
   "execution_count": 167,
   "metadata": {},
   "outputs": [],
   "source": [
    "corona[\"일일사망자3\"]=corona[\"총사망자\"].diff(1).fillna(0)\n",
    "# diff() 전 행의 데이터 사이 차이값"
   ]
  },
  {
   "cell_type": "code",
   "execution_count": 168,
   "metadata": {},
   "outputs": [
    {
     "data": {
      "text/html": [
       "<div>\n",
       "<style scoped>\n",
       "    .dataframe tbody tr th:only-of-type {\n",
       "        vertical-align: middle;\n",
       "    }\n",
       "\n",
       "    .dataframe tbody tr th {\n",
       "        vertical-align: top;\n",
       "    }\n",
       "\n",
       "    .dataframe thead th {\n",
       "        text-align: right;\n",
       "    }\n",
       "</style>\n",
       "<table border=\"1\" class=\"dataframe\">\n",
       "  <thead>\n",
       "    <tr style=\"text-align: right;\">\n",
       "      <th></th>\n",
       "      <th>등록일시</th>\n",
       "      <th>총사망자</th>\n",
       "      <th>총확진자</th>\n",
       "      <th>기준일</th>\n",
       "      <th>기준시간</th>\n",
       "      <th>수정일시</th>\n",
       "      <th>누적의심자</th>\n",
       "      <th>누적확진율</th>\n",
       "      <th>일일사망자</th>\n",
       "      <th>일일사망자2</th>\n",
       "      <th>일일사망자3</th>\n",
       "    </tr>\n",
       "  </thead>\n",
       "  <tbody>\n",
       "    <tr>\n",
       "      <th>0</th>\n",
       "      <td>2020-03-10 00:00:00.000</td>\n",
       "      <td>54</td>\n",
       "      <td>7513</td>\n",
       "      <td>20200310</td>\n",
       "      <td>00:00</td>\n",
       "      <td>2021-10-07 10:30:51.51</td>\n",
       "      <td>210144.0</td>\n",
       "      <td>3.919308</td>\n",
       "      <td>0</td>\n",
       "      <td>0.0</td>\n",
       "      <td>0.0</td>\n",
       "    </tr>\n",
       "    <tr>\n",
       "      <th>1</th>\n",
       "      <td>2020-03-11 00:00:00.000</td>\n",
       "      <td>60</td>\n",
       "      <td>7755</td>\n",
       "      <td>20200311</td>\n",
       "      <td>00:00</td>\n",
       "      <td>2021-10-07 10:30:51.51</td>\n",
       "      <td>222395.0</td>\n",
       "      <td>3.804175</td>\n",
       "      <td>6</td>\n",
       "      <td>6.0</td>\n",
       "      <td>6.0</td>\n",
       "    </tr>\n",
       "    <tr>\n",
       "      <th>2</th>\n",
       "      <td>2020-03-12 00:00:00.000</td>\n",
       "      <td>66</td>\n",
       "      <td>7869</td>\n",
       "      <td>20200312</td>\n",
       "      <td>00:00</td>\n",
       "      <td>2021-10-07 10:30:51.51</td>\n",
       "      <td>234998.0</td>\n",
       "      <td>3.621744</td>\n",
       "      <td>6</td>\n",
       "      <td>6.0</td>\n",
       "      <td>6.0</td>\n",
       "    </tr>\n",
       "    <tr>\n",
       "      <th>3</th>\n",
       "      <td>2020-03-13 00:00:00.000</td>\n",
       "      <td>67</td>\n",
       "      <td>7979</td>\n",
       "      <td>20200313</td>\n",
       "      <td>00:00</td>\n",
       "      <td>2021-10-07 10:30:51.51</td>\n",
       "      <td>248647.0</td>\n",
       "      <td>3.458499</td>\n",
       "      <td>1</td>\n",
       "      <td>1.0</td>\n",
       "      <td>1.0</td>\n",
       "    </tr>\n",
       "    <tr>\n",
       "      <th>4</th>\n",
       "      <td>2020-03-14 00:00:00.000</td>\n",
       "      <td>72</td>\n",
       "      <td>8086</td>\n",
       "      <td>20200314</td>\n",
       "      <td>00:00</td>\n",
       "      <td>2021-10-07 10:30:51.51</td>\n",
       "      <td>261335.0</td>\n",
       "      <td>3.318000</td>\n",
       "      <td>5</td>\n",
       "      <td>5.0</td>\n",
       "      <td>5.0</td>\n",
       "    </tr>\n",
       "  </tbody>\n",
       "</table>\n",
       "</div>"
      ],
      "text/plain": [
       "                      등록일시  총사망자  총확진자       기준일   기준시간  \\\n",
       "0  2020-03-10 00:00:00.000    54  7513  20200310  00:00   \n",
       "1  2020-03-11 00:00:00.000    60  7755  20200311  00:00   \n",
       "2  2020-03-12 00:00:00.000    66  7869  20200312  00:00   \n",
       "3  2020-03-13 00:00:00.000    67  7979  20200313  00:00   \n",
       "4  2020-03-14 00:00:00.000    72  8086  20200314  00:00   \n",
       "\n",
       "                     수정일시     누적의심자     누적확진율  일일사망자  일일사망자2  일일사망자3  \n",
       "0  2021-10-07 10:30:51.51  210144.0  3.919308      0     0.0     0.0  \n",
       "1  2021-10-07 10:30:51.51  222395.0  3.804175      6     6.0     6.0  \n",
       "2  2021-10-07 10:30:51.51  234998.0  3.621744      6     6.0     6.0  \n",
       "3  2021-10-07 10:30:51.51  248647.0  3.458499      1     1.0     1.0  \n",
       "4  2021-10-07 10:30:51.51  261335.0  3.318000      5     5.0     5.0  "
      ]
     },
     "execution_count": 168,
     "metadata": {},
     "output_type": "execute_result"
    }
   ],
   "source": [
    "corona.head()"
   ]
  },
  {
   "cell_type": "code",
   "execution_count": 169,
   "metadata": {},
   "outputs": [
    {
     "data": {
      "text/html": [
       "<div>\n",
       "<style scoped>\n",
       "    .dataframe tbody tr th:only-of-type {\n",
       "        vertical-align: middle;\n",
       "    }\n",
       "\n",
       "    .dataframe tbody tr th {\n",
       "        vertical-align: top;\n",
       "    }\n",
       "\n",
       "    .dataframe thead th {\n",
       "        text-align: right;\n",
       "    }\n",
       "</style>\n",
       "<table border=\"1\" class=\"dataframe\">\n",
       "  <thead>\n",
       "    <tr style=\"text-align: right;\">\n",
       "      <th></th>\n",
       "      <th>총사망자</th>\n",
       "      <th>총확진자</th>\n",
       "      <th>기준일</th>\n",
       "      <th>누적의심자</th>\n",
       "      <th>누적확진율</th>\n",
       "      <th>일일사망자</th>\n",
       "      <th>일일사망자2</th>\n",
       "      <th>일일사망자3</th>\n",
       "    </tr>\n",
       "  </thead>\n",
       "  <tbody>\n",
       "    <tr>\n",
       "      <th>count</th>\n",
       "      <td>820.000000</td>\n",
       "      <td>8.200000e+02</td>\n",
       "      <td>8.200000e+02</td>\n",
       "      <td>6.920000e+02</td>\n",
       "      <td>623.000000</td>\n",
       "      <td>820.000000</td>\n",
       "      <td>820.000000</td>\n",
       "      <td>820.000000</td>\n",
       "    </tr>\n",
       "    <tr>\n",
       "      <th>mean</th>\n",
       "      <td>3927.832927</td>\n",
       "      <td>1.913097e+06</td>\n",
       "      <td>2.020897e+07</td>\n",
       "      <td>7.545057e+06</td>\n",
       "      <td>1.556435</td>\n",
       "      <td>29.574390</td>\n",
       "      <td>29.574390</td>\n",
       "      <td>29.574390</td>\n",
       "    </tr>\n",
       "    <tr>\n",
       "      <th>std</th>\n",
       "      <td>6164.310693</td>\n",
       "      <td>4.857030e+06</td>\n",
       "      <td>7.118265e+03</td>\n",
       "      <td>6.172020e+06</td>\n",
       "      <td>0.543014</td>\n",
       "      <td>68.530863</td>\n",
       "      <td>68.530863</td>\n",
       "      <td>68.530863</td>\n",
       "    </tr>\n",
       "    <tr>\n",
       "      <th>min</th>\n",
       "      <td>54.000000</td>\n",
       "      <td>7.513000e+03</td>\n",
       "      <td>2.020031e+07</td>\n",
       "      <td>2.101440e+05</td>\n",
       "      <td>0.902205</td>\n",
       "      <td>-2.000000</td>\n",
       "      <td>-2.000000</td>\n",
       "      <td>-2.000000</td>\n",
       "    </tr>\n",
       "    <tr>\n",
       "      <th>25%</th>\n",
       "      <td>415.750000</td>\n",
       "      <td>2.393525e+04</td>\n",
       "      <td>2.020100e+07</td>\n",
       "      <td>1.934309e+06</td>\n",
       "      <td>1.078089</td>\n",
       "      <td>2.000000</td>\n",
       "      <td>2.000000</td>\n",
       "      <td>2.000000</td>\n",
       "    </tr>\n",
       "    <tr>\n",
       "      <th>50%</th>\n",
       "      <td>1812.500000</td>\n",
       "      <td>1.185640e+05</td>\n",
       "      <td>2.021042e+07</td>\n",
       "      <td>6.368310e+06</td>\n",
       "      <td>1.416159</td>\n",
       "      <td>5.000000</td>\n",
       "      <td>5.000000</td>\n",
       "      <td>5.000000</td>\n",
       "    </tr>\n",
       "    <tr>\n",
       "      <th>75%</th>\n",
       "      <td>3120.500000</td>\n",
       "      <td>3.979915e+05</td>\n",
       "      <td>2.021112e+07</td>\n",
       "      <td>1.216890e+07</td>\n",
       "      <td>1.816009</td>\n",
       "      <td>20.000000</td>\n",
       "      <td>20.000000</td>\n",
       "      <td>20.000000</td>\n",
       "    </tr>\n",
       "    <tr>\n",
       "      <th>max</th>\n",
       "      <td>24305.000000</td>\n",
       "      <td>1.818820e+07</td>\n",
       "      <td>2.022061e+07</td>\n",
       "      <td>2.151807e+07</td>\n",
       "      <td>3.919308</td>\n",
       "      <td>469.000000</td>\n",
       "      <td>469.000000</td>\n",
       "      <td>469.000000</td>\n",
       "    </tr>\n",
       "  </tbody>\n",
       "</table>\n",
       "</div>"
      ],
      "text/plain": [
       "               총사망자          총확진자           기준일         누적의심자       누적확진율  \\\n",
       "count    820.000000  8.200000e+02  8.200000e+02  6.920000e+02  623.000000   \n",
       "mean    3927.832927  1.913097e+06  2.020897e+07  7.545057e+06    1.556435   \n",
       "std     6164.310693  4.857030e+06  7.118265e+03  6.172020e+06    0.543014   \n",
       "min       54.000000  7.513000e+03  2.020031e+07  2.101440e+05    0.902205   \n",
       "25%      415.750000  2.393525e+04  2.020100e+07  1.934309e+06    1.078089   \n",
       "50%     1812.500000  1.185640e+05  2.021042e+07  6.368310e+06    1.416159   \n",
       "75%     3120.500000  3.979915e+05  2.021112e+07  1.216890e+07    1.816009   \n",
       "max    24305.000000  1.818820e+07  2.022061e+07  2.151807e+07    3.919308   \n",
       "\n",
       "            일일사망자      일일사망자2      일일사망자3  \n",
       "count  820.000000  820.000000  820.000000  \n",
       "mean    29.574390   29.574390   29.574390  \n",
       "std     68.530863   68.530863   68.530863  \n",
       "min     -2.000000   -2.000000   -2.000000  \n",
       "25%      2.000000    2.000000    2.000000  \n",
       "50%      5.000000    5.000000    5.000000  \n",
       "75%     20.000000   20.000000   20.000000  \n",
       "max    469.000000  469.000000  469.000000  "
      ]
     },
     "execution_count": 169,
     "metadata": {},
     "output_type": "execute_result"
    }
   ],
   "source": [
    "corona.describe()"
   ]
  },
  {
   "cell_type": "code",
   "execution_count": 170,
   "metadata": {},
   "outputs": [
    {
     "data": {
      "text/html": [
       "<div>\n",
       "<style scoped>\n",
       "    .dataframe tbody tr th:only-of-type {\n",
       "        vertical-align: middle;\n",
       "    }\n",
       "\n",
       "    .dataframe tbody tr th {\n",
       "        vertical-align: top;\n",
       "    }\n",
       "\n",
       "    .dataframe thead th {\n",
       "        text-align: right;\n",
       "    }\n",
       "</style>\n",
       "<table border=\"1\" class=\"dataframe\">\n",
       "  <thead>\n",
       "    <tr style=\"text-align: right;\">\n",
       "      <th></th>\n",
       "      <th>등록일시</th>\n",
       "      <th>총사망자</th>\n",
       "      <th>총확진자</th>\n",
       "      <th>기준일</th>\n",
       "      <th>기준시간</th>\n",
       "      <th>수정일시</th>\n",
       "      <th>누적의심자</th>\n",
       "      <th>누적확진율</th>\n",
       "      <th>일일사망자</th>\n",
       "      <th>일일사망자2</th>\n",
       "      <th>일일사망자3</th>\n",
       "    </tr>\n",
       "  </thead>\n",
       "  <tbody>\n",
       "    <tr>\n",
       "      <th>446</th>\n",
       "      <td>2021-05-30 00:00:00.000</td>\n",
       "      <td>1957</td>\n",
       "      <td>139907</td>\n",
       "      <td>20210530</td>\n",
       "      <td>00:00</td>\n",
       "      <td>2021-10-07 10:30:51.51</td>\n",
       "      <td>9747612.0</td>\n",
       "      <td>1.454166</td>\n",
       "      <td>-2</td>\n",
       "      <td>-2.0</td>\n",
       "      <td>-2.0</td>\n",
       "    </tr>\n",
       "  </tbody>\n",
       "</table>\n",
       "</div>"
      ],
      "text/plain": [
       "                        등록일시  총사망자    총확진자       기준일   기준시간  \\\n",
       "446  2021-05-30 00:00:00.000  1957  139907  20210530  00:00   \n",
       "\n",
       "                       수정일시      누적의심자     누적확진율  일일사망자  일일사망자2  일일사망자3  \n",
       "446  2021-10-07 10:30:51.51  9747612.0  1.454166     -2    -2.0    -2.0  "
      ]
     },
     "execution_count": 170,
     "metadata": {},
     "output_type": "execute_result"
    }
   ],
   "source": [
    "# 일일사망자에 음수 데이터가 존재한다?\n",
    "# 일일사망자가 음수인 데이터 확인\n",
    "# 인덱스 조건: 일일사망자가 음수인\n",
    "flag=corona[\"일일사망자\"] < 0\n",
    "corona.loc[flag]"
   ]
  },
  {
   "cell_type": "code",
   "execution_count": 172,
   "metadata": {},
   "outputs": [
    {
     "data": {
      "text/html": [
       "<div>\n",
       "<style scoped>\n",
       "    .dataframe tbody tr th:only-of-type {\n",
       "        vertical-align: middle;\n",
       "    }\n",
       "\n",
       "    .dataframe tbody tr th {\n",
       "        vertical-align: top;\n",
       "    }\n",
       "\n",
       "    .dataframe thead th {\n",
       "        text-align: right;\n",
       "    }\n",
       "</style>\n",
       "<table border=\"1\" class=\"dataframe\">\n",
       "  <thead>\n",
       "    <tr style=\"text-align: right;\">\n",
       "      <th></th>\n",
       "      <th>등록일시</th>\n",
       "      <th>총사망자</th>\n",
       "      <th>총확진자</th>\n",
       "      <th>기준일</th>\n",
       "      <th>기준시간</th>\n",
       "      <th>수정일시</th>\n",
       "      <th>누적의심자</th>\n",
       "      <th>누적확진율</th>\n",
       "      <th>일일사망자</th>\n",
       "      <th>일일사망자2</th>\n",
       "      <th>일일사망자3</th>\n",
       "    </tr>\n",
       "  </thead>\n",
       "  <tbody>\n",
       "    <tr>\n",
       "      <th>444</th>\n",
       "      <td>2021-05-29 00:00:00.000</td>\n",
       "      <td>1951</td>\n",
       "      <td>139427</td>\n",
       "      <td>20210529</td>\n",
       "      <td>00:00</td>\n",
       "      <td>2021-10-07 10:30:51.51</td>\n",
       "      <td>9733588.0</td>\n",
       "      <td>1.450884</td>\n",
       "      <td>5</td>\n",
       "      <td>5.0</td>\n",
       "      <td>5.0</td>\n",
       "    </tr>\n",
       "    <tr>\n",
       "      <th>445</th>\n",
       "      <td>2021-05-30 00:00:00.0</td>\n",
       "      <td>1959</td>\n",
       "      <td>140337</td>\n",
       "      <td>20210531</td>\n",
       "      <td>00:00</td>\n",
       "      <td>2021-10-14 13:48:56.821</td>\n",
       "      <td>9761156.0</td>\n",
       "      <td>1.456805</td>\n",
       "      <td>8</td>\n",
       "      <td>8.0</td>\n",
       "      <td>8.0</td>\n",
       "    </tr>\n",
       "    <tr>\n",
       "      <th>446</th>\n",
       "      <td>2021-05-30 00:00:00.000</td>\n",
       "      <td>1957</td>\n",
       "      <td>139907</td>\n",
       "      <td>20210530</td>\n",
       "      <td>00:00</td>\n",
       "      <td>2021-10-07 10:30:51.51</td>\n",
       "      <td>9747612.0</td>\n",
       "      <td>1.454166</td>\n",
       "      <td>-2</td>\n",
       "      <td>-2.0</td>\n",
       "      <td>-2.0</td>\n",
       "    </tr>\n",
       "    <tr>\n",
       "      <th>447</th>\n",
       "      <td>2021-06-01 00:00:00.000</td>\n",
       "      <td>1963</td>\n",
       "      <td>140796</td>\n",
       "      <td>20210601</td>\n",
       "      <td>00:00</td>\n",
       "      <td>2021-10-07 10:30:51.51</td>\n",
       "      <td>9798400.0</td>\n",
       "      <td>1.455890</td>\n",
       "      <td>6</td>\n",
       "      <td>6.0</td>\n",
       "      <td>6.0</td>\n",
       "    </tr>\n",
       "    <tr>\n",
       "      <th>448</th>\n",
       "      <td>2021-06-02 00:00:00.000</td>\n",
       "      <td>1965</td>\n",
       "      <td>141473</td>\n",
       "      <td>20210602</td>\n",
       "      <td>00:00</td>\n",
       "      <td>2021-10-07 10:30:51.51</td>\n",
       "      <td>9834348.0</td>\n",
       "      <td>1.457668</td>\n",
       "      <td>2</td>\n",
       "      <td>2.0</td>\n",
       "      <td>2.0</td>\n",
       "    </tr>\n",
       "  </tbody>\n",
       "</table>\n",
       "</div>"
      ],
      "text/plain": [
       "                        등록일시  총사망자    총확진자       기준일   기준시간  \\\n",
       "444  2021-05-29 00:00:00.000  1951  139427  20210529  00:00   \n",
       "445    2021-05-30 00:00:00.0  1959  140337  20210531  00:00   \n",
       "446  2021-05-30 00:00:00.000  1957  139907  20210530  00:00   \n",
       "447  2021-06-01 00:00:00.000  1963  140796  20210601  00:00   \n",
       "448  2021-06-02 00:00:00.000  1965  141473  20210602  00:00   \n",
       "\n",
       "                        수정일시      누적의심자     누적확진율  일일사망자  일일사망자2  일일사망자3  \n",
       "444   2021-10-07 10:30:51.51  9733588.0  1.450884      5     5.0     5.0  \n",
       "445  2021-10-14 13:48:56.821  9761156.0  1.456805      8     8.0     8.0  \n",
       "446   2021-10-07 10:30:51.51  9747612.0  1.454166     -2    -2.0    -2.0  \n",
       "447   2021-10-07 10:30:51.51  9798400.0  1.455890      6     6.0     6.0  \n",
       "448   2021-10-07 10:30:51.51  9834348.0  1.457668      2     2.0     2.0  "
      ]
     },
     "execution_count": 172,
     "metadata": {},
     "output_type": "execute_result"
    }
   ],
   "source": [
    "# 음수인 데이터는 인덱스가 446번임을 확인\n",
    "# 인덱스 444부터 448까지의 데이터를 출력\n",
    "corona.loc[444:448]"
   ]
  },
  {
   "cell_type": "code",
   "execution_count": 173,
   "metadata": {},
   "outputs": [],
   "source": [
    "# 인덱스 445의 등록일시가 잘못되어 있다.\n",
    "# 2021-05-30 00:00:00.0 데이터를 2021-05-31 00:00:00.000으로 변경\n",
    "corona.loc[445, \"등록일시\"]=\"2021-05-31 00:00:00.000\""
   ]
  },
  {
   "cell_type": "code",
   "execution_count": 174,
   "metadata": {},
   "outputs": [
    {
     "data": {
      "text/html": [
       "<div>\n",
       "<style scoped>\n",
       "    .dataframe tbody tr th:only-of-type {\n",
       "        vertical-align: middle;\n",
       "    }\n",
       "\n",
       "    .dataframe tbody tr th {\n",
       "        vertical-align: top;\n",
       "    }\n",
       "\n",
       "    .dataframe thead th {\n",
       "        text-align: right;\n",
       "    }\n",
       "</style>\n",
       "<table border=\"1\" class=\"dataframe\">\n",
       "  <thead>\n",
       "    <tr style=\"text-align: right;\">\n",
       "      <th></th>\n",
       "      <th>등록일시</th>\n",
       "      <th>총사망자</th>\n",
       "      <th>총확진자</th>\n",
       "      <th>기준일</th>\n",
       "      <th>기준시간</th>\n",
       "      <th>수정일시</th>\n",
       "      <th>누적의심자</th>\n",
       "      <th>누적확진율</th>\n",
       "      <th>일일사망자</th>\n",
       "      <th>일일사망자2</th>\n",
       "      <th>일일사망자3</th>\n",
       "    </tr>\n",
       "  </thead>\n",
       "  <tbody>\n",
       "    <tr>\n",
       "      <th>444</th>\n",
       "      <td>2021-05-29 00:00:00.000</td>\n",
       "      <td>1951</td>\n",
       "      <td>139427</td>\n",
       "      <td>20210529</td>\n",
       "      <td>00:00</td>\n",
       "      <td>2021-10-07 10:30:51.51</td>\n",
       "      <td>9733588.0</td>\n",
       "      <td>1.450884</td>\n",
       "      <td>5</td>\n",
       "      <td>5.0</td>\n",
       "      <td>5.0</td>\n",
       "    </tr>\n",
       "    <tr>\n",
       "      <th>445</th>\n",
       "      <td>2021-05-31 00:00:00.000</td>\n",
       "      <td>1959</td>\n",
       "      <td>140337</td>\n",
       "      <td>20210531</td>\n",
       "      <td>00:00</td>\n",
       "      <td>2021-10-14 13:48:56.821</td>\n",
       "      <td>9761156.0</td>\n",
       "      <td>1.456805</td>\n",
       "      <td>8</td>\n",
       "      <td>8.0</td>\n",
       "      <td>8.0</td>\n",
       "    </tr>\n",
       "    <tr>\n",
       "      <th>446</th>\n",
       "      <td>2021-05-30 00:00:00.000</td>\n",
       "      <td>1957</td>\n",
       "      <td>139907</td>\n",
       "      <td>20210530</td>\n",
       "      <td>00:00</td>\n",
       "      <td>2021-10-07 10:30:51.51</td>\n",
       "      <td>9747612.0</td>\n",
       "      <td>1.454166</td>\n",
       "      <td>-2</td>\n",
       "      <td>-2.0</td>\n",
       "      <td>-2.0</td>\n",
       "    </tr>\n",
       "    <tr>\n",
       "      <th>447</th>\n",
       "      <td>2021-06-01 00:00:00.000</td>\n",
       "      <td>1963</td>\n",
       "      <td>140796</td>\n",
       "      <td>20210601</td>\n",
       "      <td>00:00</td>\n",
       "      <td>2021-10-07 10:30:51.51</td>\n",
       "      <td>9798400.0</td>\n",
       "      <td>1.455890</td>\n",
       "      <td>6</td>\n",
       "      <td>6.0</td>\n",
       "      <td>6.0</td>\n",
       "    </tr>\n",
       "    <tr>\n",
       "      <th>448</th>\n",
       "      <td>2021-06-02 00:00:00.000</td>\n",
       "      <td>1965</td>\n",
       "      <td>141473</td>\n",
       "      <td>20210602</td>\n",
       "      <td>00:00</td>\n",
       "      <td>2021-10-07 10:30:51.51</td>\n",
       "      <td>9834348.0</td>\n",
       "      <td>1.457668</td>\n",
       "      <td>2</td>\n",
       "      <td>2.0</td>\n",
       "      <td>2.0</td>\n",
       "    </tr>\n",
       "  </tbody>\n",
       "</table>\n",
       "</div>"
      ],
      "text/plain": [
       "                        등록일시  총사망자    총확진자       기준일   기준시간  \\\n",
       "444  2021-05-29 00:00:00.000  1951  139427  20210529  00:00   \n",
       "445  2021-05-31 00:00:00.000  1959  140337  20210531  00:00   \n",
       "446  2021-05-30 00:00:00.000  1957  139907  20210530  00:00   \n",
       "447  2021-06-01 00:00:00.000  1963  140796  20210601  00:00   \n",
       "448  2021-06-02 00:00:00.000  1965  141473  20210602  00:00   \n",
       "\n",
       "                        수정일시      누적의심자     누적확진율  일일사망자  일일사망자2  일일사망자3  \n",
       "444   2021-10-07 10:30:51.51  9733588.0  1.450884      5     5.0     5.0  \n",
       "445  2021-10-14 13:48:56.821  9761156.0  1.456805      8     8.0     8.0  \n",
       "446   2021-10-07 10:30:51.51  9747612.0  1.454166     -2    -2.0    -2.0  \n",
       "447   2021-10-07 10:30:51.51  9798400.0  1.455890      6     6.0     6.0  \n",
       "448   2021-10-07 10:30:51.51  9834348.0  1.457668      2     2.0     2.0  "
      ]
     },
     "execution_count": 174,
     "metadata": {},
     "output_type": "execute_result"
    }
   ],
   "source": [
    "corona.loc[444:448]"
   ]
  },
  {
   "cell_type": "markdown",
   "metadata": {},
   "source": [
    "#### 복습\n",
    "1. 등록일시를 기준으로 오름차순 정렬\n",
    "2. 인덱스를 초기화하고 기존의 인덱스는 제거\n",
    "3. 일일사망자, 일일사망자2, 일일사망자3 컬럼을 제거\n",
    "4. 일일사망자 컬럼을 새로 생성하고 shift() 함수를 이용하여 총사망자 데이터 전 행의 데이터와 차이값을 대입 (결측치는 0으로 대체)\n",
    "5. 일일확진자 컬럼을 새로 생성하고 diff() 함수를 이용하여 총확진자 데이터 전 행의 데이터와 차이값을 대입 (결측치는 0으로 대체)\n",
    "6. 일일사망자와 일일확진자에 음수의 데이터가 존재하는가 확인"
   ]
  },
  {
   "cell_type": "code",
   "execution_count": 178,
   "metadata": {},
   "outputs": [],
   "source": [
    "corona.sort_values([\"등록일시\"], inplace=True)"
   ]
  },
  {
   "cell_type": "code",
   "execution_count": 181,
   "metadata": {},
   "outputs": [],
   "source": [
    "corona.reset_index(drop=True, inplace=True)"
   ]
  },
  {
   "cell_type": "code",
   "execution_count": 185,
   "metadata": {},
   "outputs": [],
   "source": [
    "corona.drop([\"일일사망자\", \"일일사망자2\", \"일일사망자3\"], axis=1, inplace=True)"
   ]
  },
  {
   "cell_type": "code",
   "execution_count": 186,
   "metadata": {},
   "outputs": [
    {
     "data": {
      "text/html": [
       "<div>\n",
       "<style scoped>\n",
       "    .dataframe tbody tr th:only-of-type {\n",
       "        vertical-align: middle;\n",
       "    }\n",
       "\n",
       "    .dataframe tbody tr th {\n",
       "        vertical-align: top;\n",
       "    }\n",
       "\n",
       "    .dataframe thead th {\n",
       "        text-align: right;\n",
       "    }\n",
       "</style>\n",
       "<table border=\"1\" class=\"dataframe\">\n",
       "  <thead>\n",
       "    <tr style=\"text-align: right;\">\n",
       "      <th></th>\n",
       "      <th>등록일시</th>\n",
       "      <th>총사망자</th>\n",
       "      <th>총확진자</th>\n",
       "      <th>기준일</th>\n",
       "      <th>기준시간</th>\n",
       "      <th>수정일시</th>\n",
       "      <th>누적의심자</th>\n",
       "      <th>누적확진율</th>\n",
       "    </tr>\n",
       "  </thead>\n",
       "  <tbody>\n",
       "    <tr>\n",
       "      <th>0</th>\n",
       "      <td>2020-03-10 00:00:00.000</td>\n",
       "      <td>54</td>\n",
       "      <td>7513</td>\n",
       "      <td>20200310</td>\n",
       "      <td>00:00</td>\n",
       "      <td>2021-10-07 10:30:51.51</td>\n",
       "      <td>210144.0</td>\n",
       "      <td>3.919308</td>\n",
       "    </tr>\n",
       "    <tr>\n",
       "      <th>1</th>\n",
       "      <td>2020-03-11 00:00:00.000</td>\n",
       "      <td>60</td>\n",
       "      <td>7755</td>\n",
       "      <td>20200311</td>\n",
       "      <td>00:00</td>\n",
       "      <td>2021-10-07 10:30:51.51</td>\n",
       "      <td>222395.0</td>\n",
       "      <td>3.804175</td>\n",
       "    </tr>\n",
       "    <tr>\n",
       "      <th>2</th>\n",
       "      <td>2020-03-12 00:00:00.000</td>\n",
       "      <td>66</td>\n",
       "      <td>7869</td>\n",
       "      <td>20200312</td>\n",
       "      <td>00:00</td>\n",
       "      <td>2021-10-07 10:30:51.51</td>\n",
       "      <td>234998.0</td>\n",
       "      <td>3.621744</td>\n",
       "    </tr>\n",
       "    <tr>\n",
       "      <th>3</th>\n",
       "      <td>2020-03-13 00:00:00.000</td>\n",
       "      <td>67</td>\n",
       "      <td>7979</td>\n",
       "      <td>20200313</td>\n",
       "      <td>00:00</td>\n",
       "      <td>2021-10-07 10:30:51.51</td>\n",
       "      <td>248647.0</td>\n",
       "      <td>3.458499</td>\n",
       "    </tr>\n",
       "    <tr>\n",
       "      <th>4</th>\n",
       "      <td>2020-03-14 00:00:00.000</td>\n",
       "      <td>72</td>\n",
       "      <td>8086</td>\n",
       "      <td>20200314</td>\n",
       "      <td>00:00</td>\n",
       "      <td>2021-10-07 10:30:51.51</td>\n",
       "      <td>261335.0</td>\n",
       "      <td>3.318000</td>\n",
       "    </tr>\n",
       "  </tbody>\n",
       "</table>\n",
       "</div>"
      ],
      "text/plain": [
       "                      등록일시  총사망자  총확진자       기준일   기준시간  \\\n",
       "0  2020-03-10 00:00:00.000    54  7513  20200310  00:00   \n",
       "1  2020-03-11 00:00:00.000    60  7755  20200311  00:00   \n",
       "2  2020-03-12 00:00:00.000    66  7869  20200312  00:00   \n",
       "3  2020-03-13 00:00:00.000    67  7979  20200313  00:00   \n",
       "4  2020-03-14 00:00:00.000    72  8086  20200314  00:00   \n",
       "\n",
       "                     수정일시     누적의심자     누적확진율  \n",
       "0  2021-10-07 10:30:51.51  210144.0  3.919308  \n",
       "1  2021-10-07 10:30:51.51  222395.0  3.804175  \n",
       "2  2021-10-07 10:30:51.51  234998.0  3.621744  \n",
       "3  2021-10-07 10:30:51.51  248647.0  3.458499  \n",
       "4  2021-10-07 10:30:51.51  261335.0  3.318000  "
      ]
     },
     "execution_count": 186,
     "metadata": {},
     "output_type": "execute_result"
    }
   ],
   "source": [
    "corona.head()"
   ]
  },
  {
   "cell_type": "code",
   "execution_count": 187,
   "metadata": {},
   "outputs": [],
   "source": [
    "corona[\"일일사망자\"]=(corona[\"총사망자\"]-corona[\"총사망자\"].shift(1)).fillna(0)"
   ]
  },
  {
   "cell_type": "code",
   "execution_count": 202,
   "metadata": {},
   "outputs": [],
   "source": [
    "corona[\"일일확진자\"]=(corona[\"총확진자\"].diff(1)).fillna(0)"
   ]
  },
  {
   "cell_type": "code",
   "execution_count": 203,
   "metadata": {},
   "outputs": [],
   "source": [
    "flag=corona[\"일일사망자\"] <0\n",
    "flag2=corona[\"일일확진자\"] <0"
   ]
  },
  {
   "cell_type": "code",
   "execution_count": 204,
   "metadata": {},
   "outputs": [
    {
     "data": {
      "text/html": [
       "<div>\n",
       "<style scoped>\n",
       "    .dataframe tbody tr th:only-of-type {\n",
       "        vertical-align: middle;\n",
       "    }\n",
       "\n",
       "    .dataframe tbody tr th {\n",
       "        vertical-align: top;\n",
       "    }\n",
       "\n",
       "    .dataframe thead th {\n",
       "        text-align: right;\n",
       "    }\n",
       "</style>\n",
       "<table border=\"1\" class=\"dataframe\">\n",
       "  <thead>\n",
       "    <tr style=\"text-align: right;\">\n",
       "      <th></th>\n",
       "      <th>등록일시</th>\n",
       "      <th>총사망자</th>\n",
       "      <th>총확진자</th>\n",
       "      <th>기준일</th>\n",
       "      <th>기준시간</th>\n",
       "      <th>수정일시</th>\n",
       "      <th>누적의심자</th>\n",
       "      <th>누적확진율</th>\n",
       "      <th>일일사망자</th>\n",
       "      <th>일일확진자</th>\n",
       "    </tr>\n",
       "  </thead>\n",
       "  <tbody>\n",
       "  </tbody>\n",
       "</table>\n",
       "</div>"
      ],
      "text/plain": [
       "Empty DataFrame\n",
       "Columns: [등록일시, 총사망자, 총확진자, 기준일, 기준시간, 수정일시, 누적의심자, 누적확진율, 일일사망자, 일일확진자]\n",
       "Index: []"
      ]
     },
     "execution_count": 204,
     "metadata": {},
     "output_type": "execute_result"
    }
   ],
   "source": [
    "corona.loc[flag2]"
   ]
  },
  {
   "cell_type": "code",
   "execution_count": 205,
   "metadata": {},
   "outputs": [
    {
     "data": {
      "text/html": [
       "<div>\n",
       "<style scoped>\n",
       "    .dataframe tbody tr th:only-of-type {\n",
       "        vertical-align: middle;\n",
       "    }\n",
       "\n",
       "    .dataframe tbody tr th {\n",
       "        vertical-align: top;\n",
       "    }\n",
       "\n",
       "    .dataframe thead th {\n",
       "        text-align: right;\n",
       "    }\n",
       "</style>\n",
       "<table border=\"1\" class=\"dataframe\">\n",
       "  <thead>\n",
       "    <tr style=\"text-align: right;\">\n",
       "      <th></th>\n",
       "      <th>총사망자</th>\n",
       "      <th>총확진자</th>\n",
       "      <th>기준일</th>\n",
       "      <th>누적의심자</th>\n",
       "      <th>누적확진율</th>\n",
       "      <th>일일사망자</th>\n",
       "      <th>일일확진자</th>\n",
       "    </tr>\n",
       "  </thead>\n",
       "  <tbody>\n",
       "    <tr>\n",
       "      <th>count</th>\n",
       "      <td>820.000000</td>\n",
       "      <td>8.200000e+02</td>\n",
       "      <td>8.200000e+02</td>\n",
       "      <td>6.920000e+02</td>\n",
       "      <td>623.000000</td>\n",
       "      <td>820.000000</td>\n",
       "      <td>820.000000</td>\n",
       "    </tr>\n",
       "    <tr>\n",
       "      <th>mean</th>\n",
       "      <td>3927.832927</td>\n",
       "      <td>1.913097e+06</td>\n",
       "      <td>2.020897e+07</td>\n",
       "      <td>7.545057e+06</td>\n",
       "      <td>1.556435</td>\n",
       "      <td>29.574390</td>\n",
       "      <td>22171.569512</td>\n",
       "    </tr>\n",
       "    <tr>\n",
       "      <th>std</th>\n",
       "      <td>6164.310693</td>\n",
       "      <td>4.857030e+06</td>\n",
       "      <td>7.118265e+03</td>\n",
       "      <td>6.172020e+06</td>\n",
       "      <td>0.543014</td>\n",
       "      <td>68.530435</td>\n",
       "      <td>71013.844067</td>\n",
       "    </tr>\n",
       "    <tr>\n",
       "      <th>min</th>\n",
       "      <td>54.000000</td>\n",
       "      <td>7.513000e+03</td>\n",
       "      <td>2.020031e+07</td>\n",
       "      <td>2.101440e+05</td>\n",
       "      <td>0.902205</td>\n",
       "      <td>0.000000</td>\n",
       "      <td>0.000000</td>\n",
       "    </tr>\n",
       "    <tr>\n",
       "      <th>25%</th>\n",
       "      <td>415.750000</td>\n",
       "      <td>2.393525e+04</td>\n",
       "      <td>2.020100e+07</td>\n",
       "      <td>1.934309e+06</td>\n",
       "      <td>1.078089</td>\n",
       "      <td>2.000000</td>\n",
       "      <td>125.000000</td>\n",
       "    </tr>\n",
       "    <tr>\n",
       "      <th>50%</th>\n",
       "      <td>1812.500000</td>\n",
       "      <td>1.185640e+05</td>\n",
       "      <td>2.021042e+07</td>\n",
       "      <td>6.368310e+06</td>\n",
       "      <td>1.416159</td>\n",
       "      <td>5.000000</td>\n",
       "      <td>634.000000</td>\n",
       "    </tr>\n",
       "    <tr>\n",
       "      <th>75%</th>\n",
       "      <td>3120.500000</td>\n",
       "      <td>3.979915e+05</td>\n",
       "      <td>2.021112e+07</td>\n",
       "      <td>1.216890e+07</td>\n",
       "      <td>1.816009</td>\n",
       "      <td>20.000000</td>\n",
       "      <td>2782.750000</td>\n",
       "    </tr>\n",
       "    <tr>\n",
       "      <th>max</th>\n",
       "      <td>24305.000000</td>\n",
       "      <td>1.818820e+07</td>\n",
       "      <td>2.022061e+07</td>\n",
       "      <td>2.151807e+07</td>\n",
       "      <td>3.919308</td>\n",
       "      <td>469.000000</td>\n",
       "      <td>621204.000000</td>\n",
       "    </tr>\n",
       "  </tbody>\n",
       "</table>\n",
       "</div>"
      ],
      "text/plain": [
       "               총사망자          총확진자           기준일         누적의심자       누적확진율  \\\n",
       "count    820.000000  8.200000e+02  8.200000e+02  6.920000e+02  623.000000   \n",
       "mean    3927.832927  1.913097e+06  2.020897e+07  7.545057e+06    1.556435   \n",
       "std     6164.310693  4.857030e+06  7.118265e+03  6.172020e+06    0.543014   \n",
       "min       54.000000  7.513000e+03  2.020031e+07  2.101440e+05    0.902205   \n",
       "25%      415.750000  2.393525e+04  2.020100e+07  1.934309e+06    1.078089   \n",
       "50%     1812.500000  1.185640e+05  2.021042e+07  6.368310e+06    1.416159   \n",
       "75%     3120.500000  3.979915e+05  2.021112e+07  1.216890e+07    1.816009   \n",
       "max    24305.000000  1.818820e+07  2.022061e+07  2.151807e+07    3.919308   \n",
       "\n",
       "            일일사망자          일일확진자  \n",
       "count  820.000000     820.000000  \n",
       "mean    29.574390   22171.569512  \n",
       "std     68.530435   71013.844067  \n",
       "min      0.000000       0.000000  \n",
       "25%      2.000000     125.000000  \n",
       "50%      5.000000     634.000000  \n",
       "75%     20.000000    2782.750000  \n",
       "max    469.000000  621204.000000  "
      ]
     },
     "execution_count": 205,
     "metadata": {},
     "output_type": "execute_result"
    }
   ],
   "source": [
    "corona.describe()"
   ]
  },
  {
   "cell_type": "code",
   "execution_count": 206,
   "metadata": {},
   "outputs": [
    {
     "data": {
      "text/html": [
       "<div>\n",
       "<style scoped>\n",
       "    .dataframe tbody tr th:only-of-type {\n",
       "        vertical-align: middle;\n",
       "    }\n",
       "\n",
       "    .dataframe tbody tr th {\n",
       "        vertical-align: top;\n",
       "    }\n",
       "\n",
       "    .dataframe thead th {\n",
       "        text-align: right;\n",
       "    }\n",
       "</style>\n",
       "<table border=\"1\" class=\"dataframe\">\n",
       "  <thead>\n",
       "    <tr style=\"text-align: right;\">\n",
       "      <th></th>\n",
       "      <th>등록일시</th>\n",
       "      <th>총사망자</th>\n",
       "      <th>총확진자</th>\n",
       "      <th>기준일</th>\n",
       "      <th>기준시간</th>\n",
       "      <th>수정일시</th>\n",
       "      <th>누적의심자</th>\n",
       "      <th>누적확진율</th>\n",
       "      <th>일일사망자</th>\n",
       "      <th>일일확진자</th>\n",
       "    </tr>\n",
       "  </thead>\n",
       "  <tbody>\n",
       "    <tr>\n",
       "      <th>0</th>\n",
       "      <td>2020-03-10 00:00:00.000</td>\n",
       "      <td>54</td>\n",
       "      <td>7513</td>\n",
       "      <td>20200310</td>\n",
       "      <td>00:00</td>\n",
       "      <td>2021-10-07 10:30:51.51</td>\n",
       "      <td>210144.0</td>\n",
       "      <td>3.919308</td>\n",
       "      <td>0.0</td>\n",
       "      <td>0.0</td>\n",
       "    </tr>\n",
       "    <tr>\n",
       "      <th>1</th>\n",
       "      <td>2020-03-11 00:00:00.000</td>\n",
       "      <td>60</td>\n",
       "      <td>7755</td>\n",
       "      <td>20200311</td>\n",
       "      <td>00:00</td>\n",
       "      <td>2021-10-07 10:30:51.51</td>\n",
       "      <td>222395.0</td>\n",
       "      <td>3.804175</td>\n",
       "      <td>6.0</td>\n",
       "      <td>242.0</td>\n",
       "    </tr>\n",
       "    <tr>\n",
       "      <th>2</th>\n",
       "      <td>2020-03-12 00:00:00.000</td>\n",
       "      <td>66</td>\n",
       "      <td>7869</td>\n",
       "      <td>20200312</td>\n",
       "      <td>00:00</td>\n",
       "      <td>2021-10-07 10:30:51.51</td>\n",
       "      <td>234998.0</td>\n",
       "      <td>3.621744</td>\n",
       "      <td>6.0</td>\n",
       "      <td>114.0</td>\n",
       "    </tr>\n",
       "    <tr>\n",
       "      <th>3</th>\n",
       "      <td>2020-03-13 00:00:00.000</td>\n",
       "      <td>67</td>\n",
       "      <td>7979</td>\n",
       "      <td>20200313</td>\n",
       "      <td>00:00</td>\n",
       "      <td>2021-10-07 10:30:51.51</td>\n",
       "      <td>248647.0</td>\n",
       "      <td>3.458499</td>\n",
       "      <td>1.0</td>\n",
       "      <td>110.0</td>\n",
       "    </tr>\n",
       "    <tr>\n",
       "      <th>4</th>\n",
       "      <td>2020-03-14 00:00:00.000</td>\n",
       "      <td>72</td>\n",
       "      <td>8086</td>\n",
       "      <td>20200314</td>\n",
       "      <td>00:00</td>\n",
       "      <td>2021-10-07 10:30:51.51</td>\n",
       "      <td>261335.0</td>\n",
       "      <td>3.318000</td>\n",
       "      <td>5.0</td>\n",
       "      <td>107.0</td>\n",
       "    </tr>\n",
       "  </tbody>\n",
       "</table>\n",
       "</div>"
      ],
      "text/plain": [
       "                      등록일시  총사망자  총확진자       기준일   기준시간  \\\n",
       "0  2020-03-10 00:00:00.000    54  7513  20200310  00:00   \n",
       "1  2020-03-11 00:00:00.000    60  7755  20200311  00:00   \n",
       "2  2020-03-12 00:00:00.000    66  7869  20200312  00:00   \n",
       "3  2020-03-13 00:00:00.000    67  7979  20200313  00:00   \n",
       "4  2020-03-14 00:00:00.000    72  8086  20200314  00:00   \n",
       "\n",
       "                     수정일시     누적의심자     누적확진율  일일사망자  일일확진자  \n",
       "0  2021-10-07 10:30:51.51  210144.0  3.919308    0.0    0.0  \n",
       "1  2021-10-07 10:30:51.51  222395.0  3.804175    6.0  242.0  \n",
       "2  2021-10-07 10:30:51.51  234998.0  3.621744    6.0  114.0  \n",
       "3  2021-10-07 10:30:51.51  248647.0  3.458499    1.0  110.0  \n",
       "4  2021-10-07 10:30:51.51  261335.0  3.318000    5.0  107.0  "
      ]
     },
     "execution_count": 206,
     "metadata": {},
     "output_type": "execute_result"
    }
   ],
   "source": [
    "corona.head()"
   ]
  },
  {
   "cell_type": "markdown",
   "metadata": {},
   "source": [
    "#### 특수함수\n",
    "- map()\n",
    "    - 1차원 데이터 각 원소들의 변환 사용\n",
    "    - python 기본 함수\n",
    "        - list( map(함수명, 1차원리스트) )\n",
    "    - Series 내장 함수\n",
    "        - Series명.map(함수명)\n",
    "- lambda 함수\n",
    "    - 일반적인 함수는 함수를 선언, 함수를 호출하는 작업이 나눠져 있다.\n",
    "    - 함수를 선언함과 동시에 호출"
   ]
  },
  {
   "cell_type": "code",
   "execution_count": 207,
   "metadata": {},
   "outputs": [
    {
     "data": {
      "text/plain": [
       "<map at 0x27806e6b6a0>"
      ]
     },
     "execution_count": 207,
     "metadata": {},
     "output_type": "execute_result"
    }
   ],
   "source": [
    "# python 기본 함수 map\n",
    "# 일반함수 선언\n",
    "def change(x):\n",
    "    result=x**2\n",
    "    return result\n",
    "\n",
    "# 1차원 리스트 생성\n",
    "list1=[1,2,3,4,5]\n",
    "\n",
    "# map 함수\n",
    "map(\n",
    "    change,\n",
    "    list1\n",
    ")"
   ]
  },
  {
   "cell_type": "code",
   "execution_count": 208,
   "metadata": {},
   "outputs": [
    {
     "data": {
      "text/plain": [
       "[1, 4, 9, 16, 25]"
      ]
     },
     "execution_count": 208,
     "metadata": {},
     "output_type": "execute_result"
    }
   ],
   "source": [
    "list(\n",
    "    map(\n",
    "        change, list1\n",
    "    )\n",
    ")"
   ]
  },
  {
   "cell_type": "code",
   "execution_count": 212,
   "metadata": {},
   "outputs": [
    {
     "data": {
      "text/plain": [
       "[1, 4, 9, 16, 25]"
      ]
     },
     "execution_count": 212,
     "metadata": {},
     "output_type": "execute_result"
    }
   ],
   "source": [
    "list2=[1,2,3,4,5]\n",
    "\n",
    "list(\n",
    "    map(\n",
    "        lambda x: x**2,\n",
    "        list2\n",
    "    )\n",
    ")"
   ]
  },
  {
   "cell_type": "code",
   "execution_count": 214,
   "metadata": {},
   "outputs": [],
   "source": [
    "# series에 내장된 map()함수\n",
    "corona3=corona.tail(15)"
   ]
  },
  {
   "cell_type": "code",
   "execution_count": 215,
   "metadata": {},
   "outputs": [
    {
     "data": {
      "text/plain": [
       "805     low\n",
       "806    high\n",
       "807    high\n",
       "808    high\n",
       "809     low\n",
       "810     low\n",
       "811     low\n",
       "812     low\n",
       "813     low\n",
       "814     low\n",
       "815     low\n",
       "816     low\n",
       "817     low\n",
       "818     low\n",
       "819     low\n",
       "Name: 일일사망자, dtype: object"
      ]
     },
     "execution_count": 215,
     "metadata": {},
     "output_type": "execute_result"
    }
   ],
   "source": [
    "# 일일사망자가 25명 미만이면 low, 25명 이상이면 high\n",
    "# map + 일반함수\n",
    "\n",
    "def check(x):\n",
    "    if x >=25:\n",
    "        result=\"high\"\n",
    "    else:\n",
    "        result=\"low\"\n",
    "    return result\n",
    "\n",
    "corona3[\"일일사망자\"].map(check)"
   ]
  },
  {
   "cell_type": "code",
   "execution_count": 217,
   "metadata": {},
   "outputs": [
    {
     "data": {
      "text/plain": [
       "805     low\n",
       "806    high\n",
       "807    high\n",
       "808    high\n",
       "809     low\n",
       "810     low\n",
       "811     low\n",
       "812     low\n",
       "813     low\n",
       "814     low\n",
       "815     low\n",
       "816     low\n",
       "817     low\n",
       "818     low\n",
       "819     low\n",
       "Name: 일일사망자, dtype: object"
      ]
     },
     "execution_count": 217,
     "metadata": {},
     "output_type": "execute_result"
    }
   ],
   "source": [
    "# map + labda\n",
    "# if문을 한줄로 작성하는 방법: \"참인 경우 데이터\" if 조건식 else \"거짓인 경우 데이터\"\n",
    "corona3[\"일일사망자\"].map(\n",
    "    lambda x: \"high\" if x>=25 else \"low\"\n",
    ")"
   ]
  },
  {
   "cell_type": "code",
   "execution_count": null,
   "metadata": {},
   "outputs": [],
   "source": []
  }
 ],
 "metadata": {
  "kernelspec": {
   "display_name": "Python 3",
   "language": "python",
   "name": "python3"
  },
  "language_info": {
   "codemirror_mode": {
    "name": "ipython",
    "version": 3
   },
   "file_extension": ".py",
   "mimetype": "text/x-python",
   "name": "python",
   "nbconvert_exporter": "python",
   "pygments_lexer": "ipython3",
   "version": "3.12.4"
  }
 },
 "nbformat": 4,
 "nbformat_minor": 2
}
